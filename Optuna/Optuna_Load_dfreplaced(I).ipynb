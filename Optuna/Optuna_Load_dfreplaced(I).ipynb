{
  "nbformat": 4,
  "nbformat_minor": 0,
  "metadata": {
    "colab": {
      "provenance": []
    },
    "kernelspec": {
      "name": "python3",
      "display_name": "Python 3"
    },
    "language_info": {
      "name": "python"
    }
  },
  "cells": [
    {
      "cell_type": "code",
      "execution_count": 1,
      "metadata": {
        "id": "9zf25kvDtfb_",
        "colab": {
          "base_uri": "https://localhost:8080/",
          "height": 424
        },
        "outputId": "38921f08-cf08-4565-fc9b-6365dc5ae3f2"
      },
      "outputs": [
        {
          "output_type": "execute_result",
          "data": {
            "text/plain": [
              "                  datetime        Load\n",
              "0      2019-03-21 00:00:00  352.862799\n",
              "1      2019-03-21 01:00:00  330.444853\n",
              "2      2019-03-21 02:00:00  287.419792\n",
              "3      2019-03-21 03:00:00  258.110368\n",
              "4      2019-03-21 04:00:00  247.745866\n",
              "...                    ...         ...\n",
              "22003  2021-09-22 19:00:00  632.235500\n",
              "22004  2021-09-22 20:00:00  612.703162\n",
              "22005  2021-09-22 21:00:00  589.574385\n",
              "22006  2021-09-22 22:00:00  561.323968\n",
              "22007  2021-09-22 23:00:00  522.105758\n",
              "\n",
              "[22008 rows x 2 columns]"
            ],
            "text/html": [
              "\n",
              "  <div id=\"df-e6e54b01-f4f2-43d7-b2b8-6ce0c2f08879\" class=\"colab-df-container\">\n",
              "    <div>\n",
              "<style scoped>\n",
              "    .dataframe tbody tr th:only-of-type {\n",
              "        vertical-align: middle;\n",
              "    }\n",
              "\n",
              "    .dataframe tbody tr th {\n",
              "        vertical-align: top;\n",
              "    }\n",
              "\n",
              "    .dataframe thead th {\n",
              "        text-align: right;\n",
              "    }\n",
              "</style>\n",
              "<table border=\"1\" class=\"dataframe\">\n",
              "  <thead>\n",
              "    <tr style=\"text-align: right;\">\n",
              "      <th></th>\n",
              "      <th>datetime</th>\n",
              "      <th>Load</th>\n",
              "    </tr>\n",
              "  </thead>\n",
              "  <tbody>\n",
              "    <tr>\n",
              "      <th>0</th>\n",
              "      <td>2019-03-21 00:00:00</td>\n",
              "      <td>352.862799</td>\n",
              "    </tr>\n",
              "    <tr>\n",
              "      <th>1</th>\n",
              "      <td>2019-03-21 01:00:00</td>\n",
              "      <td>330.444853</td>\n",
              "    </tr>\n",
              "    <tr>\n",
              "      <th>2</th>\n",
              "      <td>2019-03-21 02:00:00</td>\n",
              "      <td>287.419792</td>\n",
              "    </tr>\n",
              "    <tr>\n",
              "      <th>3</th>\n",
              "      <td>2019-03-21 03:00:00</td>\n",
              "      <td>258.110368</td>\n",
              "    </tr>\n",
              "    <tr>\n",
              "      <th>4</th>\n",
              "      <td>2019-03-21 04:00:00</td>\n",
              "      <td>247.745866</td>\n",
              "    </tr>\n",
              "    <tr>\n",
              "      <th>...</th>\n",
              "      <td>...</td>\n",
              "      <td>...</td>\n",
              "    </tr>\n",
              "    <tr>\n",
              "      <th>22003</th>\n",
              "      <td>2021-09-22 19:00:00</td>\n",
              "      <td>632.235500</td>\n",
              "    </tr>\n",
              "    <tr>\n",
              "      <th>22004</th>\n",
              "      <td>2021-09-22 20:00:00</td>\n",
              "      <td>612.703162</td>\n",
              "    </tr>\n",
              "    <tr>\n",
              "      <th>22005</th>\n",
              "      <td>2021-09-22 21:00:00</td>\n",
              "      <td>589.574385</td>\n",
              "    </tr>\n",
              "    <tr>\n",
              "      <th>22006</th>\n",
              "      <td>2021-09-22 22:00:00</td>\n",
              "      <td>561.323968</td>\n",
              "    </tr>\n",
              "    <tr>\n",
              "      <th>22007</th>\n",
              "      <td>2021-09-22 23:00:00</td>\n",
              "      <td>522.105758</td>\n",
              "    </tr>\n",
              "  </tbody>\n",
              "</table>\n",
              "<p>22008 rows × 2 columns</p>\n",
              "</div>\n",
              "    <div class=\"colab-df-buttons\">\n",
              "\n",
              "  <div class=\"colab-df-container\">\n",
              "    <button class=\"colab-df-convert\" onclick=\"convertToInteractive('df-e6e54b01-f4f2-43d7-b2b8-6ce0c2f08879')\"\n",
              "            title=\"Convert this dataframe to an interactive table.\"\n",
              "            style=\"display:none;\">\n",
              "\n",
              "  <svg xmlns=\"http://www.w3.org/2000/svg\" height=\"24px\" viewBox=\"0 -960 960 960\">\n",
              "    <path d=\"M120-120v-720h720v720H120Zm60-500h600v-160H180v160Zm220 220h160v-160H400v160Zm0 220h160v-160H400v160ZM180-400h160v-160H180v160Zm440 0h160v-160H620v160ZM180-180h160v-160H180v160Zm440 0h160v-160H620v160Z\"/>\n",
              "  </svg>\n",
              "    </button>\n",
              "\n",
              "  <style>\n",
              "    .colab-df-container {\n",
              "      display:flex;\n",
              "      gap: 12px;\n",
              "    }\n",
              "\n",
              "    .colab-df-convert {\n",
              "      background-color: #E8F0FE;\n",
              "      border: none;\n",
              "      border-radius: 50%;\n",
              "      cursor: pointer;\n",
              "      display: none;\n",
              "      fill: #1967D2;\n",
              "      height: 32px;\n",
              "      padding: 0 0 0 0;\n",
              "      width: 32px;\n",
              "    }\n",
              "\n",
              "    .colab-df-convert:hover {\n",
              "      background-color: #E2EBFA;\n",
              "      box-shadow: 0px 1px 2px rgba(60, 64, 67, 0.3), 0px 1px 3px 1px rgba(60, 64, 67, 0.15);\n",
              "      fill: #174EA6;\n",
              "    }\n",
              "\n",
              "    .colab-df-buttons div {\n",
              "      margin-bottom: 4px;\n",
              "    }\n",
              "\n",
              "    [theme=dark] .colab-df-convert {\n",
              "      background-color: #3B4455;\n",
              "      fill: #D2E3FC;\n",
              "    }\n",
              "\n",
              "    [theme=dark] .colab-df-convert:hover {\n",
              "      background-color: #434B5C;\n",
              "      box-shadow: 0px 1px 3px 1px rgba(0, 0, 0, 0.15);\n",
              "      filter: drop-shadow(0px 1px 2px rgba(0, 0, 0, 0.3));\n",
              "      fill: #FFFFFF;\n",
              "    }\n",
              "  </style>\n",
              "\n",
              "    <script>\n",
              "      const buttonEl =\n",
              "        document.querySelector('#df-e6e54b01-f4f2-43d7-b2b8-6ce0c2f08879 button.colab-df-convert');\n",
              "      buttonEl.style.display =\n",
              "        google.colab.kernel.accessAllowed ? 'block' : 'none';\n",
              "\n",
              "      async function convertToInteractive(key) {\n",
              "        const element = document.querySelector('#df-e6e54b01-f4f2-43d7-b2b8-6ce0c2f08879');\n",
              "        const dataTable =\n",
              "          await google.colab.kernel.invokeFunction('convertToInteractive',\n",
              "                                                    [key], {});\n",
              "        if (!dataTable) return;\n",
              "\n",
              "        const docLinkHtml = 'Like what you see? Visit the ' +\n",
              "          '<a target=\"_blank\" href=https://colab.research.google.com/notebooks/data_table.ipynb>data table notebook</a>'\n",
              "          + ' to learn more about interactive tables.';\n",
              "        element.innerHTML = '';\n",
              "        dataTable['output_type'] = 'display_data';\n",
              "        await google.colab.output.renderOutput(dataTable, element);\n",
              "        const docLink = document.createElement('div');\n",
              "        docLink.innerHTML = docLinkHtml;\n",
              "        element.appendChild(docLink);\n",
              "      }\n",
              "    </script>\n",
              "  </div>\n",
              "\n",
              "\n",
              "<div id=\"df-8327281b-1007-4094-a314-965ad3e29219\">\n",
              "  <button class=\"colab-df-quickchart\" onclick=\"quickchart('df-8327281b-1007-4094-a314-965ad3e29219')\"\n",
              "            title=\"Suggest charts\"\n",
              "            style=\"display:none;\">\n",
              "\n",
              "<svg xmlns=\"http://www.w3.org/2000/svg\" height=\"24px\"viewBox=\"0 0 24 24\"\n",
              "     width=\"24px\">\n",
              "    <g>\n",
              "        <path d=\"M19 3H5c-1.1 0-2 .9-2 2v14c0 1.1.9 2 2 2h14c1.1 0 2-.9 2-2V5c0-1.1-.9-2-2-2zM9 17H7v-7h2v7zm4 0h-2V7h2v10zm4 0h-2v-4h2v4z\"/>\n",
              "    </g>\n",
              "</svg>\n",
              "  </button>\n",
              "\n",
              "<style>\n",
              "  .colab-df-quickchart {\n",
              "      --bg-color: #E8F0FE;\n",
              "      --fill-color: #1967D2;\n",
              "      --hover-bg-color: #E2EBFA;\n",
              "      --hover-fill-color: #174EA6;\n",
              "      --disabled-fill-color: #AAA;\n",
              "      --disabled-bg-color: #DDD;\n",
              "  }\n",
              "\n",
              "  [theme=dark] .colab-df-quickchart {\n",
              "      --bg-color: #3B4455;\n",
              "      --fill-color: #D2E3FC;\n",
              "      --hover-bg-color: #434B5C;\n",
              "      --hover-fill-color: #FFFFFF;\n",
              "      --disabled-bg-color: #3B4455;\n",
              "      --disabled-fill-color: #666;\n",
              "  }\n",
              "\n",
              "  .colab-df-quickchart {\n",
              "    background-color: var(--bg-color);\n",
              "    border: none;\n",
              "    border-radius: 50%;\n",
              "    cursor: pointer;\n",
              "    display: none;\n",
              "    fill: var(--fill-color);\n",
              "    height: 32px;\n",
              "    padding: 0;\n",
              "    width: 32px;\n",
              "  }\n",
              "\n",
              "  .colab-df-quickchart:hover {\n",
              "    background-color: var(--hover-bg-color);\n",
              "    box-shadow: 0 1px 2px rgba(60, 64, 67, 0.3), 0 1px 3px 1px rgba(60, 64, 67, 0.15);\n",
              "    fill: var(--button-hover-fill-color);\n",
              "  }\n",
              "\n",
              "  .colab-df-quickchart-complete:disabled,\n",
              "  .colab-df-quickchart-complete:disabled:hover {\n",
              "    background-color: var(--disabled-bg-color);\n",
              "    fill: var(--disabled-fill-color);\n",
              "    box-shadow: none;\n",
              "  }\n",
              "\n",
              "  .colab-df-spinner {\n",
              "    border: 2px solid var(--fill-color);\n",
              "    border-color: transparent;\n",
              "    border-bottom-color: var(--fill-color);\n",
              "    animation:\n",
              "      spin 1s steps(1) infinite;\n",
              "  }\n",
              "\n",
              "  @keyframes spin {\n",
              "    0% {\n",
              "      border-color: transparent;\n",
              "      border-bottom-color: var(--fill-color);\n",
              "      border-left-color: var(--fill-color);\n",
              "    }\n",
              "    20% {\n",
              "      border-color: transparent;\n",
              "      border-left-color: var(--fill-color);\n",
              "      border-top-color: var(--fill-color);\n",
              "    }\n",
              "    30% {\n",
              "      border-color: transparent;\n",
              "      border-left-color: var(--fill-color);\n",
              "      border-top-color: var(--fill-color);\n",
              "      border-right-color: var(--fill-color);\n",
              "    }\n",
              "    40% {\n",
              "      border-color: transparent;\n",
              "      border-right-color: var(--fill-color);\n",
              "      border-top-color: var(--fill-color);\n",
              "    }\n",
              "    60% {\n",
              "      border-color: transparent;\n",
              "      border-right-color: var(--fill-color);\n",
              "    }\n",
              "    80% {\n",
              "      border-color: transparent;\n",
              "      border-right-color: var(--fill-color);\n",
              "      border-bottom-color: var(--fill-color);\n",
              "    }\n",
              "    90% {\n",
              "      border-color: transparent;\n",
              "      border-bottom-color: var(--fill-color);\n",
              "    }\n",
              "  }\n",
              "</style>\n",
              "\n",
              "  <script>\n",
              "    async function quickchart(key) {\n",
              "      const quickchartButtonEl =\n",
              "        document.querySelector('#' + key + ' button');\n",
              "      quickchartButtonEl.disabled = true;  // To prevent multiple clicks.\n",
              "      quickchartButtonEl.classList.add('colab-df-spinner');\n",
              "      try {\n",
              "        const charts = await google.colab.kernel.invokeFunction(\n",
              "            'suggestCharts', [key], {});\n",
              "      } catch (error) {\n",
              "        console.error('Error during call to suggestCharts:', error);\n",
              "      }\n",
              "      quickchartButtonEl.classList.remove('colab-df-spinner');\n",
              "      quickchartButtonEl.classList.add('colab-df-quickchart-complete');\n",
              "    }\n",
              "    (() => {\n",
              "      let quickchartButtonEl =\n",
              "        document.querySelector('#df-8327281b-1007-4094-a314-965ad3e29219 button');\n",
              "      quickchartButtonEl.style.display =\n",
              "        google.colab.kernel.accessAllowed ? 'block' : 'none';\n",
              "    })();\n",
              "  </script>\n",
              "</div>\n",
              "    </div>\n",
              "  </div>\n"
            ],
            "application/vnd.google.colaboratory.intrinsic+json": {
              "type": "dataframe",
              "variable_name": "data",
              "summary": "{\n  \"name\": \"data\",\n  \"rows\": 22008,\n  \"fields\": [\n    {\n      \"column\": \"datetime\",\n      \"properties\": {\n        \"dtype\": \"object\",\n        \"num_unique_values\": 22008,\n        \"samples\": [\n          \"2020-06-26 05:00:00\",\n          \"2021-05-12 22:00:00\",\n          \"2021-01-18 01:00:00\"\n        ],\n        \"semantic_type\": \"\",\n        \"description\": \"\"\n      }\n    },\n    {\n      \"column\": \"Load\",\n      \"properties\": {\n        \"dtype\": \"number\",\n        \"std\": 126.07801069179499,\n        \"min\": 212.709756,\n        \"max\": 748.868203,\n        \"num_unique_values\": 22004,\n        \"samples\": [\n          322.066013,\n          363.960316,\n          600.210607\n        ],\n        \"semantic_type\": \"\",\n        \"description\": \"\"\n      }\n    }\n  ]\n}"
            }
          },
          "metadata": {},
          "execution_count": 1
        }
      ],
      "source": [
        "import pandas as pd\n",
        "\n",
        "data=pd.read_csv(\"df_replaced.csv\" )\n",
        "\n",
        "#data\n",
        "\n",
        "\n",
        "# Specify the columns you want to keep\n",
        "#columns_to_keep = ['datetime','Load']\n",
        "\n",
        "# Use indexing to select the desired columns\n",
        "#df = data[columns_to_keep]\n",
        "# set the 'datetime_column' as the index\n",
        "#df.set_index('datetime', inplace=True)\n",
        "data"
      ]
    },
    {
      "cell_type": "code",
      "source": [
        "data['datetime'] = pd.to_datetime(data['datetime'])"
      ],
      "metadata": {
        "id": "aoHc-vfvRy5L"
      },
      "execution_count": 2,
      "outputs": []
    },
    {
      "cell_type": "code",
      "source": [
        "df=data"
      ],
      "metadata": {
        "id": "5Nt9CZUoSHMa"
      },
      "execution_count": 3,
      "outputs": []
    },
    {
      "cell_type": "code",
      "source": [
        "df.dtypes"
      ],
      "metadata": {
        "colab": {
          "base_uri": "https://localhost:8080/"
        },
        "id": "HA5N_BcEvlYX",
        "outputId": "f6fb72f8-07b8-4c58-d961-97333646f310"
      },
      "execution_count": 4,
      "outputs": [
        {
          "output_type": "execute_result",
          "data": {
            "text/plain": [
              "datetime    datetime64[ns]\n",
              "Load               float64\n",
              "dtype: object"
            ]
          },
          "metadata": {},
          "execution_count": 4
        }
      ]
    },
    {
      "cell_type": "code",
      "source": [
        "from sklearn.model_selection import TimeSeriesSplit\n",
        "\n",
        "tss = TimeSeriesSplit(n_splits = 4)"
      ],
      "metadata": {
        "id": "tmM6aAsWwJud"
      },
      "execution_count": 5,
      "outputs": []
    },
    {
      "cell_type": "code",
      "source": [
        "df.set_index('datetime', inplace=True)\n",
        "df.sort_index(inplace=True)\n",
        "X = df.drop(labels=[], axis=1)\n",
        "y = df['Load']"
      ],
      "metadata": {
        "id": "EhfX0gyewMUr"
      },
      "execution_count": 6,
      "outputs": []
    },
    {
      "cell_type": "code",
      "source": [
        "y"
      ],
      "metadata": {
        "colab": {
          "base_uri": "https://localhost:8080/"
        },
        "id": "sA08jsd3waEq",
        "outputId": "b42eefb0-cc63-40e1-a104-3e3d157ce2e7"
      },
      "execution_count": 7,
      "outputs": [
        {
          "output_type": "execute_result",
          "data": {
            "text/plain": [
              "datetime\n",
              "2019-03-21 00:00:00    352.862799\n",
              "2019-03-21 01:00:00    330.444853\n",
              "2019-03-21 02:00:00    287.419792\n",
              "2019-03-21 03:00:00    258.110368\n",
              "2019-03-21 04:00:00    247.745866\n",
              "                          ...    \n",
              "2021-09-22 19:00:00    632.235500\n",
              "2021-09-22 20:00:00    612.703162\n",
              "2021-09-22 21:00:00    589.574385\n",
              "2021-09-22 22:00:00    561.323968\n",
              "2021-09-22 23:00:00    522.105758\n",
              "Name: Load, Length: 22008, dtype: float64"
            ]
          },
          "metadata": {},
          "execution_count": 7
        }
      ]
    },
    {
      "cell_type": "code",
      "source": [
        "X"
      ],
      "metadata": {
        "colab": {
          "base_uri": "https://localhost:8080/",
          "height": 455
        },
        "id": "qpYFjIm3wXCY",
        "outputId": "46d8de9b-bdc9-471c-dc1e-4ce0482d38f0"
      },
      "execution_count": 8,
      "outputs": [
        {
          "output_type": "execute_result",
          "data": {
            "text/plain": [
              "                           Load\n",
              "datetime                       \n",
              "2019-03-21 00:00:00  352.862799\n",
              "2019-03-21 01:00:00  330.444853\n",
              "2019-03-21 02:00:00  287.419792\n",
              "2019-03-21 03:00:00  258.110368\n",
              "2019-03-21 04:00:00  247.745866\n",
              "...                         ...\n",
              "2021-09-22 19:00:00  632.235500\n",
              "2021-09-22 20:00:00  612.703162\n",
              "2021-09-22 21:00:00  589.574385\n",
              "2021-09-22 22:00:00  561.323968\n",
              "2021-09-22 23:00:00  522.105758\n",
              "\n",
              "[22008 rows x 1 columns]"
            ],
            "text/html": [
              "\n",
              "  <div id=\"df-ddfa4644-a13f-403e-bcc0-23878ffba060\" class=\"colab-df-container\">\n",
              "    <div>\n",
              "<style scoped>\n",
              "    .dataframe tbody tr th:only-of-type {\n",
              "        vertical-align: middle;\n",
              "    }\n",
              "\n",
              "    .dataframe tbody tr th {\n",
              "        vertical-align: top;\n",
              "    }\n",
              "\n",
              "    .dataframe thead th {\n",
              "        text-align: right;\n",
              "    }\n",
              "</style>\n",
              "<table border=\"1\" class=\"dataframe\">\n",
              "  <thead>\n",
              "    <tr style=\"text-align: right;\">\n",
              "      <th></th>\n",
              "      <th>Load</th>\n",
              "    </tr>\n",
              "    <tr>\n",
              "      <th>datetime</th>\n",
              "      <th></th>\n",
              "    </tr>\n",
              "  </thead>\n",
              "  <tbody>\n",
              "    <tr>\n",
              "      <th>2019-03-21 00:00:00</th>\n",
              "      <td>352.862799</td>\n",
              "    </tr>\n",
              "    <tr>\n",
              "      <th>2019-03-21 01:00:00</th>\n",
              "      <td>330.444853</td>\n",
              "    </tr>\n",
              "    <tr>\n",
              "      <th>2019-03-21 02:00:00</th>\n",
              "      <td>287.419792</td>\n",
              "    </tr>\n",
              "    <tr>\n",
              "      <th>2019-03-21 03:00:00</th>\n",
              "      <td>258.110368</td>\n",
              "    </tr>\n",
              "    <tr>\n",
              "      <th>2019-03-21 04:00:00</th>\n",
              "      <td>247.745866</td>\n",
              "    </tr>\n",
              "    <tr>\n",
              "      <th>...</th>\n",
              "      <td>...</td>\n",
              "    </tr>\n",
              "    <tr>\n",
              "      <th>2021-09-22 19:00:00</th>\n",
              "      <td>632.235500</td>\n",
              "    </tr>\n",
              "    <tr>\n",
              "      <th>2021-09-22 20:00:00</th>\n",
              "      <td>612.703162</td>\n",
              "    </tr>\n",
              "    <tr>\n",
              "      <th>2021-09-22 21:00:00</th>\n",
              "      <td>589.574385</td>\n",
              "    </tr>\n",
              "    <tr>\n",
              "      <th>2021-09-22 22:00:00</th>\n",
              "      <td>561.323968</td>\n",
              "    </tr>\n",
              "    <tr>\n",
              "      <th>2021-09-22 23:00:00</th>\n",
              "      <td>522.105758</td>\n",
              "    </tr>\n",
              "  </tbody>\n",
              "</table>\n",
              "<p>22008 rows × 1 columns</p>\n",
              "</div>\n",
              "    <div class=\"colab-df-buttons\">\n",
              "\n",
              "  <div class=\"colab-df-container\">\n",
              "    <button class=\"colab-df-convert\" onclick=\"convertToInteractive('df-ddfa4644-a13f-403e-bcc0-23878ffba060')\"\n",
              "            title=\"Convert this dataframe to an interactive table.\"\n",
              "            style=\"display:none;\">\n",
              "\n",
              "  <svg xmlns=\"http://www.w3.org/2000/svg\" height=\"24px\" viewBox=\"0 -960 960 960\">\n",
              "    <path d=\"M120-120v-720h720v720H120Zm60-500h600v-160H180v160Zm220 220h160v-160H400v160Zm0 220h160v-160H400v160ZM180-400h160v-160H180v160Zm440 0h160v-160H620v160ZM180-180h160v-160H180v160Zm440 0h160v-160H620v160Z\"/>\n",
              "  </svg>\n",
              "    </button>\n",
              "\n",
              "  <style>\n",
              "    .colab-df-container {\n",
              "      display:flex;\n",
              "      gap: 12px;\n",
              "    }\n",
              "\n",
              "    .colab-df-convert {\n",
              "      background-color: #E8F0FE;\n",
              "      border: none;\n",
              "      border-radius: 50%;\n",
              "      cursor: pointer;\n",
              "      display: none;\n",
              "      fill: #1967D2;\n",
              "      height: 32px;\n",
              "      padding: 0 0 0 0;\n",
              "      width: 32px;\n",
              "    }\n",
              "\n",
              "    .colab-df-convert:hover {\n",
              "      background-color: #E2EBFA;\n",
              "      box-shadow: 0px 1px 2px rgba(60, 64, 67, 0.3), 0px 1px 3px 1px rgba(60, 64, 67, 0.15);\n",
              "      fill: #174EA6;\n",
              "    }\n",
              "\n",
              "    .colab-df-buttons div {\n",
              "      margin-bottom: 4px;\n",
              "    }\n",
              "\n",
              "    [theme=dark] .colab-df-convert {\n",
              "      background-color: #3B4455;\n",
              "      fill: #D2E3FC;\n",
              "    }\n",
              "\n",
              "    [theme=dark] .colab-df-convert:hover {\n",
              "      background-color: #434B5C;\n",
              "      box-shadow: 0px 1px 3px 1px rgba(0, 0, 0, 0.15);\n",
              "      filter: drop-shadow(0px 1px 2px rgba(0, 0, 0, 0.3));\n",
              "      fill: #FFFFFF;\n",
              "    }\n",
              "  </style>\n",
              "\n",
              "    <script>\n",
              "      const buttonEl =\n",
              "        document.querySelector('#df-ddfa4644-a13f-403e-bcc0-23878ffba060 button.colab-df-convert');\n",
              "      buttonEl.style.display =\n",
              "        google.colab.kernel.accessAllowed ? 'block' : 'none';\n",
              "\n",
              "      async function convertToInteractive(key) {\n",
              "        const element = document.querySelector('#df-ddfa4644-a13f-403e-bcc0-23878ffba060');\n",
              "        const dataTable =\n",
              "          await google.colab.kernel.invokeFunction('convertToInteractive',\n",
              "                                                    [key], {});\n",
              "        if (!dataTable) return;\n",
              "\n",
              "        const docLinkHtml = 'Like what you see? Visit the ' +\n",
              "          '<a target=\"_blank\" href=https://colab.research.google.com/notebooks/data_table.ipynb>data table notebook</a>'\n",
              "          + ' to learn more about interactive tables.';\n",
              "        element.innerHTML = '';\n",
              "        dataTable['output_type'] = 'display_data';\n",
              "        await google.colab.output.renderOutput(dataTable, element);\n",
              "        const docLink = document.createElement('div');\n",
              "        docLink.innerHTML = docLinkHtml;\n",
              "        element.appendChild(docLink);\n",
              "      }\n",
              "    </script>\n",
              "  </div>\n",
              "\n",
              "\n",
              "<div id=\"df-0eb82e66-95f4-477e-93f0-d760a54922cc\">\n",
              "  <button class=\"colab-df-quickchart\" onclick=\"quickchart('df-0eb82e66-95f4-477e-93f0-d760a54922cc')\"\n",
              "            title=\"Suggest charts\"\n",
              "            style=\"display:none;\">\n",
              "\n",
              "<svg xmlns=\"http://www.w3.org/2000/svg\" height=\"24px\"viewBox=\"0 0 24 24\"\n",
              "     width=\"24px\">\n",
              "    <g>\n",
              "        <path d=\"M19 3H5c-1.1 0-2 .9-2 2v14c0 1.1.9 2 2 2h14c1.1 0 2-.9 2-2V5c0-1.1-.9-2-2-2zM9 17H7v-7h2v7zm4 0h-2V7h2v10zm4 0h-2v-4h2v4z\"/>\n",
              "    </g>\n",
              "</svg>\n",
              "  </button>\n",
              "\n",
              "<style>\n",
              "  .colab-df-quickchart {\n",
              "      --bg-color: #E8F0FE;\n",
              "      --fill-color: #1967D2;\n",
              "      --hover-bg-color: #E2EBFA;\n",
              "      --hover-fill-color: #174EA6;\n",
              "      --disabled-fill-color: #AAA;\n",
              "      --disabled-bg-color: #DDD;\n",
              "  }\n",
              "\n",
              "  [theme=dark] .colab-df-quickchart {\n",
              "      --bg-color: #3B4455;\n",
              "      --fill-color: #D2E3FC;\n",
              "      --hover-bg-color: #434B5C;\n",
              "      --hover-fill-color: #FFFFFF;\n",
              "      --disabled-bg-color: #3B4455;\n",
              "      --disabled-fill-color: #666;\n",
              "  }\n",
              "\n",
              "  .colab-df-quickchart {\n",
              "    background-color: var(--bg-color);\n",
              "    border: none;\n",
              "    border-radius: 50%;\n",
              "    cursor: pointer;\n",
              "    display: none;\n",
              "    fill: var(--fill-color);\n",
              "    height: 32px;\n",
              "    padding: 0;\n",
              "    width: 32px;\n",
              "  }\n",
              "\n",
              "  .colab-df-quickchart:hover {\n",
              "    background-color: var(--hover-bg-color);\n",
              "    box-shadow: 0 1px 2px rgba(60, 64, 67, 0.3), 0 1px 3px 1px rgba(60, 64, 67, 0.15);\n",
              "    fill: var(--button-hover-fill-color);\n",
              "  }\n",
              "\n",
              "  .colab-df-quickchart-complete:disabled,\n",
              "  .colab-df-quickchart-complete:disabled:hover {\n",
              "    background-color: var(--disabled-bg-color);\n",
              "    fill: var(--disabled-fill-color);\n",
              "    box-shadow: none;\n",
              "  }\n",
              "\n",
              "  .colab-df-spinner {\n",
              "    border: 2px solid var(--fill-color);\n",
              "    border-color: transparent;\n",
              "    border-bottom-color: var(--fill-color);\n",
              "    animation:\n",
              "      spin 1s steps(1) infinite;\n",
              "  }\n",
              "\n",
              "  @keyframes spin {\n",
              "    0% {\n",
              "      border-color: transparent;\n",
              "      border-bottom-color: var(--fill-color);\n",
              "      border-left-color: var(--fill-color);\n",
              "    }\n",
              "    20% {\n",
              "      border-color: transparent;\n",
              "      border-left-color: var(--fill-color);\n",
              "      border-top-color: var(--fill-color);\n",
              "    }\n",
              "    30% {\n",
              "      border-color: transparent;\n",
              "      border-left-color: var(--fill-color);\n",
              "      border-top-color: var(--fill-color);\n",
              "      border-right-color: var(--fill-color);\n",
              "    }\n",
              "    40% {\n",
              "      border-color: transparent;\n",
              "      border-right-color: var(--fill-color);\n",
              "      border-top-color: var(--fill-color);\n",
              "    }\n",
              "    60% {\n",
              "      border-color: transparent;\n",
              "      border-right-color: var(--fill-color);\n",
              "    }\n",
              "    80% {\n",
              "      border-color: transparent;\n",
              "      border-right-color: var(--fill-color);\n",
              "      border-bottom-color: var(--fill-color);\n",
              "    }\n",
              "    90% {\n",
              "      border-color: transparent;\n",
              "      border-bottom-color: var(--fill-color);\n",
              "    }\n",
              "  }\n",
              "</style>\n",
              "\n",
              "  <script>\n",
              "    async function quickchart(key) {\n",
              "      const quickchartButtonEl =\n",
              "        document.querySelector('#' + key + ' button');\n",
              "      quickchartButtonEl.disabled = true;  // To prevent multiple clicks.\n",
              "      quickchartButtonEl.classList.add('colab-df-spinner');\n",
              "      try {\n",
              "        const charts = await google.colab.kernel.invokeFunction(\n",
              "            'suggestCharts', [key], {});\n",
              "      } catch (error) {\n",
              "        console.error('Error during call to suggestCharts:', error);\n",
              "      }\n",
              "      quickchartButtonEl.classList.remove('colab-df-spinner');\n",
              "      quickchartButtonEl.classList.add('colab-df-quickchart-complete');\n",
              "    }\n",
              "    (() => {\n",
              "      let quickchartButtonEl =\n",
              "        document.querySelector('#df-0eb82e66-95f4-477e-93f0-d760a54922cc button');\n",
              "      quickchartButtonEl.style.display =\n",
              "        google.colab.kernel.accessAllowed ? 'block' : 'none';\n",
              "    })();\n",
              "  </script>\n",
              "</div>\n",
              "    </div>\n",
              "  </div>\n"
            ],
            "application/vnd.google.colaboratory.intrinsic+json": {
              "type": "dataframe",
              "variable_name": "X",
              "summary": "{\n  \"name\": \"X\",\n  \"rows\": 22008,\n  \"fields\": [\n    {\n      \"column\": \"datetime\",\n      \"properties\": {\n        \"dtype\": \"date\",\n        \"min\": \"2019-03-21 00:00:00\",\n        \"max\": \"2021-09-22 23:00:00\",\n        \"num_unique_values\": 22008,\n        \"samples\": [\n          \"2020-06-26 05:00:00\",\n          \"2021-05-12 22:00:00\",\n          \"2021-01-18 01:00:00\"\n        ],\n        \"semantic_type\": \"\",\n        \"description\": \"\"\n      }\n    },\n    {\n      \"column\": \"Load\",\n      \"properties\": {\n        \"dtype\": \"number\",\n        \"std\": 126.07801069179499,\n        \"min\": 212.709756,\n        \"max\": 748.868203,\n        \"num_unique_values\": 22004,\n        \"samples\": [\n          322.066013,\n          363.960316,\n          600.210607\n        ],\n        \"semantic_type\": \"\",\n        \"description\": \"\"\n      }\n    }\n  ]\n}"
            }
          },
          "metadata": {},
          "execution_count": 8
        }
      ]
    },
    {
      "cell_type": "code",
      "source": [
        "for train_index, test_index in tss.split(X):\n",
        "    X_train, X_test = X.iloc[train_index, :], X.iloc[test_index,:]\n",
        "    y_train, y_test = y.iloc[train_index], y.iloc[test_index]"
      ],
      "metadata": {
        "id": "2Rvt2jVEwfp1"
      },
      "execution_count": 9,
      "outputs": []
    },
    {
      "cell_type": "code",
      "source": [
        "X_train.index"
      ],
      "metadata": {
        "colab": {
          "base_uri": "https://localhost:8080/"
        },
        "id": "_gpB-GLbwpSb",
        "outputId": "6f4e5bca-e3b7-475b-dac5-754b1ce70d69"
      },
      "execution_count": 10,
      "outputs": [
        {
          "output_type": "execute_result",
          "data": {
            "text/plain": [
              "DatetimeIndex(['2019-03-21 00:00:00', '2019-03-21 01:00:00',\n",
              "               '2019-03-21 02:00:00', '2019-03-21 03:00:00',\n",
              "               '2019-03-21 04:00:00', '2019-03-21 05:00:00',\n",
              "               '2019-03-21 06:00:00', '2019-03-21 07:00:00',\n",
              "               '2019-03-21 08:00:00', '2019-03-21 09:00:00',\n",
              "               ...\n",
              "               '2021-03-23 05:00:00', '2021-03-23 06:00:00',\n",
              "               '2021-03-23 07:00:00', '2021-03-23 08:00:00',\n",
              "               '2021-03-23 09:00:00', '2021-03-23 10:00:00',\n",
              "               '2021-03-23 11:00:00', '2021-03-23 12:00:00',\n",
              "               '2021-03-23 13:00:00', '2021-03-23 14:00:00'],\n",
              "              dtype='datetime64[ns]', name='datetime', length=17607, freq=None)"
            ]
          },
          "metadata": {},
          "execution_count": 10
        }
      ]
    },
    {
      "cell_type": "code",
      "source": [
        "X_test.index"
      ],
      "metadata": {
        "colab": {
          "base_uri": "https://localhost:8080/"
        },
        "id": "VtzeLr5HwzIn",
        "outputId": "f8caf8bc-f267-4bcb-8e29-a873daf60a78"
      },
      "execution_count": 11,
      "outputs": [
        {
          "output_type": "execute_result",
          "data": {
            "text/plain": [
              "DatetimeIndex(['2021-03-23 15:00:00', '2021-03-23 16:00:00',\n",
              "               '2021-03-23 17:00:00', '2021-03-23 18:00:00',\n",
              "               '2021-03-23 19:00:00', '2021-03-23 20:00:00',\n",
              "               '2021-03-23 21:00:00', '2021-03-23 22:00:00',\n",
              "               '2021-03-23 23:00:00', '2021-03-24 00:00:00',\n",
              "               ...\n",
              "               '2021-09-22 14:00:00', '2021-09-22 15:00:00',\n",
              "               '2021-09-22 16:00:00', '2021-09-22 17:00:00',\n",
              "               '2021-09-22 18:00:00', '2021-09-22 19:00:00',\n",
              "               '2021-09-22 20:00:00', '2021-09-22 21:00:00',\n",
              "               '2021-09-22 22:00:00', '2021-09-22 23:00:00'],\n",
              "              dtype='datetime64[ns]', name='datetime', length=4401, freq=None)"
            ]
          },
          "metadata": {},
          "execution_count": 11
        }
      ]
    },
    {
      "cell_type": "code",
      "source": [
        "def price2num(x):\n",
        "    if type(x) == str:\n",
        "        x = x.strip('$').replace(',', '')\n",
        "    return float(x)\n",
        "\n",
        "\n",
        "#function to convert price from string to floats\n",
        "y_train=y_train.apply(price2num)\n",
        "y_train.groupby('datetime').mean().plot()\n",
        "y_test=y_test.apply(price2num)\n",
        "y_test.groupby('datetime').mean().plot()"
      ],
      "metadata": {
        "colab": {
          "base_uri": "https://localhost:8080/",
          "height": 484
        },
        "id": "C9O_Cj4Pw59s",
        "outputId": "59d1b1f2-8ecf-4de1-a8cc-ab8deff35ca5"
      },
      "execution_count": 12,
      "outputs": [
        {
          "output_type": "execute_result",
          "data": {
            "text/plain": [
              "<Axes: xlabel='datetime'>"
            ]
          },
          "metadata": {},
          "execution_count": 12
        },
        {
          "output_type": "display_data",
          "data": {
            "text/plain": [
              "<Figure size 640x480 with 1 Axes>"
            ],
            "image/png": "[encoded data removed]"
          },
          "metadata": {}
        }
      ]
    },
    {
      "cell_type": "code",
      "source": [
        "print(X_train.shape, X_test.shape)"
      ],
      "metadata": {
        "colab": {
          "base_uri": "https://localhost:8080/"
        },
        "id": "tElHxitz4gNf",
        "outputId": "02739592-1559-4957-8284-786f5eee5b82"
      },
      "execution_count": 13,
      "outputs": [
        {
          "output_type": "stream",
          "name": "stdout",
          "text": [
            "(17607, 1) (4401, 1)\n"
          ]
        }
      ]
    },
    {
      "cell_type": "code",
      "source": [
        "y_train.shape"
      ],
      "metadata": {
        "colab": {
          "base_uri": "https://localhost:8080/"
        },
        "id": "5YrhK7J34ZY8",
        "outputId": "ede0efb9-9129-464f-c415-e4acf9427e35"
      },
      "execution_count": 14,
      "outputs": [
        {
          "output_type": "execute_result",
          "data": {
            "text/plain": [
              "(17607,)"
            ]
          },
          "metadata": {},
          "execution_count": 14
        }
      ]
    },
    {
      "cell_type": "code",
      "source": [
        "from sklearn.preprocessing import MinMaxScaler\n",
        "\n",
        "f_columns = ['Load']  # Define a list of column names to be transformed\n",
        "\n",
        "f_transformer = MinMaxScaler()  # Create an instance of MinMaxScaler for feature transformation\n",
        "t_transformer = MinMaxScaler()  # Create an instance of MinMaxScaler for target transformation\n",
        "\n",
        "f_transformer = f_transformer.fit(X_train[f_columns].to_numpy())  # Fit the feature transformer to the training data\n",
        "t_transformer = t_transformer.fit(y_train.to_numpy().reshape(-1, 1))  # Fit the target transformer to the training data\n",
        "\n",
        "X_train.loc[:, f_columns] = f_transformer.transform(X_train[f_columns].to_numpy())  # Apply feature transformation to the training data\n",
        "y_train = t_transformer.transform(y_train.to_numpy().reshape(-1, 1))  # Apply target transformation to the training data\n",
        "\n",
        "X_test.loc[:, f_columns] = f_transformer.transform(X_test[f_columns].to_numpy())  # Apply feature transformation to the test data\n",
        "y_test = t_transformer.transform(y_test.to_numpy().reshape(-1, 1))  # Apply target transformation to the test data"
      ],
      "metadata": {
        "colab": {
          "base_uri": "https://localhost:8080/"
        },
        "id": "XqWPuUFX4Wvs",
        "outputId": "f462d4bc-6448-4409-c169-05d97a0af1f9"
      },
      "execution_count": 15,
      "outputs": [
        {
          "output_type": "stream",
          "name": "stderr",
          "text": [
            "<ipython-input-15-4d9097f2dad2>:11: SettingWithCopyWarning: \n",
            "A value is trying to be set on a copy of a slice from a DataFrame\n",
            "\n",
            "See the caveats in the documentation: https://pandas.pydata.org/pandas-docs/stable/user_guide/indexing.html#returning-a-view-versus-a-copy\n",
            "  X_train.loc[:, f_columns] = f_transformer.transform(X_train[f_columns].to_numpy())  # Apply feature transformation to the training data\n",
            "<ipython-input-15-4d9097f2dad2>:14: SettingWithCopyWarning: \n",
            "A value is trying to be set on a copy of a slice from a DataFrame\n",
            "\n",
            "See the caveats in the documentation: https://pandas.pydata.org/pandas-docs/stable/user_guide/indexing.html#returning-a-view-versus-a-copy\n",
            "  X_test.loc[:, f_columns] = f_transformer.transform(X_test[f_columns].to_numpy())  # Apply feature transformation to the test data\n"
          ]
        }
      ]
    },
    {
      "cell_type": "code",
      "source": [
        "import numpy as np\n",
        "\n",
        "def create_dataset(X, y, time_steps=1):\n",
        "    Xs, ys = [], []\n",
        "    for i in range(len(X) - time_steps):\n",
        "        v = X[i:(i + time_steps)]\n",
        "        Xs.append(v)\n",
        "        ys.append(y[i + time_steps])\n",
        "    return np.array(Xs), np.array(ys)"
      ],
      "metadata": {
        "id": "a1aIYIiU6oHq"
      },
      "execution_count": 16,
      "outputs": []
    },
    {
      "cell_type": "code",
      "source": [
        "time_steps = 24  # Set the number of time steps to 24\n",
        "\n",
        "X_train, y_train = create_dataset(X_train, y_train, time_steps)  # Create the training dataset using the 'create_dataset' function\n",
        "\n",
        "X_test, y_test = create_dataset(X_test, y_test, time_steps)  # Create the test dataset using the 'create_dataset' function\n",
        "\n",
        "\n",
        "\n",
        "print(X_train.shape,y_train.shape,X_test.shape,  y_test.shape)"
      ],
      "metadata": {
        "colab": {
          "base_uri": "https://localhost:8080/"
        },
        "id": "PXmAzLrL5mWG",
        "outputId": "8a9e572e-5a9a-425a-e8a3-69a8a434d394"
      },
      "execution_count": 17,
      "outputs": [
        {
          "output_type": "stream",
          "name": "stdout",
          "text": [
            "(17583, 24, 1) (17583, 1) (4377, 24, 1) (4377, 1)\n"
          ]
        }
      ]
    },
    {
      "cell_type": "code",
      "source": [],
      "metadata": {
        "id": "cyP7O4D56woh"
      },
      "execution_count": 17,
      "outputs": []
    },
    {
      "cell_type": "code",
      "source": [
        "!pip install optuna"
      ],
      "metadata": {
        "colab": {
          "base_uri": "https://localhost:8080/"
        },
        "id": "78x43eO9f-PO",
        "outputId": "4ebb609c-f14c-4afb-b24a-7cdb2963ac8c"
      },
      "execution_count": 18,
      "outputs": [
        {
          "output_type": "stream",
          "name": "stdout",
          "text": [
            "Collecting optuna\n",
            "  Downloading optuna-3.6.1-py3-none-any.whl (380 kB)\n",
            "\u001b[2K     \u001b[90m━━━━━━━━━━━━━━━━━━━━━━━━━━━━━━━━━━━━━━━━\u001b[0m \u001b[32m380.1/380.1 kB\u001b[0m \u001b[31m7.3 MB/s\u001b[0m eta \u001b[36m0:00:00\u001b[0m\n",
            "\u001b[?25hCollecting alembic>=1.5.0 (from optuna)\n",
            "  Downloading alembic-1.13.1-py3-none-any.whl (233 kB)\n",
            "\u001b[2K     \u001b[90m━━━━━━━━━━━━━━━━━━━━━━━━━━━━━━━━━━━━━━━━\u001b[0m \u001b[32m233.4/233.4 kB\u001b[0m \u001b[31m25.4 MB/s\u001b[0m eta \u001b[36m0:00:00\u001b[0m\n",
            "\u001b[?25hCollecting colorlog (from optuna)\n",
            "  Downloading colorlog-6.8.2-py3-none-any.whl (11 kB)\n",
            "Requirement already satisfied: numpy in /usr/local/lib/python3.10/dist-packages (from optuna) (1.25.2)\n",
            "Requirement already satisfied: packaging>=20.0 in /usr/local/lib/python3.10/dist-packages (from optuna) (24.0)\n",
            "Requirement already satisfied: sqlalchemy>=1.3.0 in /usr/local/lib/python3.10/dist-packages (from optuna) (2.0.29)\n",
            "Requirement already satisfied: tqdm in /usr/local/lib/python3.10/dist-packages (from optuna) (4.66.2)\n",
            "Requirement already satisfied: PyYAML in /usr/local/lib/python3.10/dist-packages (from optuna) (6.0.1)\n",
            "Collecting Mako (from alembic>=1.5.0->optuna)\n",
            "  Downloading Mako-1.3.2-py3-none-any.whl (78 kB)\n",
            "\u001b[2K     \u001b[90m━━━━━━━━━━━━━━━━━━━━━━━━━━━━━━━━━━━━━━━━\u001b[0m \u001b[32m78.7/78.7 kB\u001b[0m \u001b[31m8.1 MB/s\u001b[0m eta \u001b[36m0:00:00\u001b[0m\n",
            "\u001b[?25hRequirement already satisfied: typing-extensions>=4 in /usr/local/lib/python3.10/dist-packages (from alembic>=1.5.0->optuna) (4.10.0)\n",
            "Requirement already satisfied: greenlet!=0.4.17 in /usr/local/lib/python3.10/dist-packages (from sqlalchemy>=1.3.0->optuna) (3.0.3)\n",
            "Requirement already satisfied: MarkupSafe>=0.9.2 in /usr/local/lib/python3.10/dist-packages (from Mako->alembic>=1.5.0->optuna) (2.1.5)\n",
            "Installing collected packages: Mako, colorlog, alembic, optuna\n",
            "Successfully installed Mako-1.3.2 alembic-1.13.1 colorlog-6.8.2 optuna-3.6.1\n"
          ]
        }
      ]
    },
    {
      "cell_type": "code",
      "source": [
        "import optuna"
      ],
      "metadata": {
        "id": "TZlySQgOgCMT"
      },
      "execution_count": 19,
      "outputs": []
    },
    {
      "cell_type": "code",
      "source": [
        "import math\n",
        "from tensorflow import keras\n",
        "from keras import layers\n",
        "from keras.models import Sequential\n",
        "from keras.layers import Dense, LSTM, Dropout\n",
        "from keras.optimizers import Adam\n",
        "\n",
        "import tensorflow as tf\n",
        "from keras.callbacks import EarlyStopping\n"
      ],
      "metadata": {
        "id": "wRZm1QOWOJMa"
      },
      "execution_count": 20,
      "outputs": []
    },
    {
      "cell_type": "code",
      "source": [
        "\n",
        "def build_model(num_layers, units, dropout_rates, learning_rate):\n",
        "    model = keras.Sequential()\n",
        "\n",
        "    for i in range(num_layers):\n",
        "        return_sequences = (i != num_layers - 1)  # Set return_sequences=True for all but the last layer\n",
        "\n",
        "        model.add(layers.LSTM(units=units[i], input_shape=(X_train.shape[1], X_train.shape[2]), return_sequences=return_sequences))\n",
        "        model.add(layers.Dropout(dropout_rates[i]))\n",
        "\n",
        "    model.add(layers.Dense(1))\n",
        "\n",
        "    optimizer = Adam(learning_rate=learning_rate)\n",
        "    model.compile(\n",
        "        optimizer=optimizer,\n",
        "        loss='mean_squared_error'\n",
        "      # , metrics=['mae','mape']\n",
        "        )\n",
        "    return model"
      ],
      "metadata": {
        "id": "O7VGPb6UggYg"
      },
      "execution_count": 21,
      "outputs": []
    },
    {
      "cell_type": "code",
      "source": [
        "# Define the objective function for optimization\n",
        "def objective(trial):\n",
        "    # Define the hyperparameters to be optimized\n",
        "    num_layers = trial.suggest_int(\"num_layers\", 1, 2)\n",
        "    units = [trial.suggest_int(f\"units_{i}\", 150, 250) for i in range(num_layers)]\n",
        "    dropout_rates = [trial.suggest_uniform(f\"dropout_{i}\", 0.0, 0.5) for i in range(num_layers)]\n",
        "    learning_rate = trial.suggest_loguniform(\"learning_rate\", 1e-5, 1e-1)\n",
        "    batch_size = trial.suggest_categorical(\"batch_size\", [16, 32, 64, 128])\n",
        "\n",
        "    # Build the model based on the suggested hyperparameters\n",
        "    model = build_model(num_layers, units, dropout_rates, learning_rate)\n",
        "\n",
        "\n",
        "\n",
        "    # Define the early stopping callback\n",
        "    early_stopping = EarlyStopping(\n",
        "        monitor='val_loss',\n",
        "       patience=2,\n",
        "        restore_best_weights=True\n",
        "    )\n",
        "\n",
        "\n",
        "\n",
        "    # Train the model\n",
        "    history = model.fit(\n",
        "        X_train,\n",
        "        y_train,\n",
        "        epochs=50,\n",
        "        batch_size = batch_size,\n",
        "        validation_split=0.2,\n",
        "        callbacks=[early_stopping]\n",
        "        )\n",
        "\n",
        "    # Return the validation loss as the objective value to minimize\n",
        "    return np.min(history.history[\"val_loss\"])\n",
        "\n",
        "\n",
        "pruner = optuna.pruners.PercentilePruner(percentile=70)  # Adjust the percentile value as needed\n",
        "#pruner = optuna.pruners.MedianPruner()\n",
        "# Optimize the hyperparameters using Bayesian optimization\n",
        "study = optuna.create_study( sampler=optuna.samplers.TPESampler(), direction=\"minimize\" , pruner=pruner)\n",
        "study.optimize(objective, n_trials=20)\n",
        "\n",
        "# Get the best hyperparameters and the corresponding objective value\n",
        "best_params = study.best_params\n",
        "best_value = study.best_value\n",
        "\n",
        "print(\"Best Hyperparameters:\", best_params)\n",
        "print(\"Best Objective Value:\", best_value)\n",
        "\n",
        "# Build the final model with the best hyperparameters\n",
        "#best_model = build_model(best_params[\"num_layers\"],\n",
        "  #                       [best_params[f\"units_{i}\"] for i in range(best_params[\"num_layers\"])],\n",
        "          #               [best_params[f\"dropout_{i}\"] for i in range(best_params[\"num_layers\"])])"
      ],
      "metadata": {
        "colab": {
          "base_uri": "https://localhost:8080/"
        },
        "id": "gP0EXmZTgFRu",
        "outputId": "eda118f6-d87c-4a31-e8a7-f8c4105f2066"
      },
      "execution_count": null,
      "outputs": [
        {
          "metadata": {
            "tags": null
          },
          "name": "stderr",
          "output_type": "stream",
          "text": [
            "[I 2024-04-04 14:28:06,828] A new study created in memory with name: no-name-ec0d03c7-f5f7-4e18-bf4b-0806c8dc5a8c\n",
            "<ipython-input-22-57e2ce41b221>:6: FutureWarning: suggest_uniform has been deprecated in v3.0.0. This feature will be removed in v6.0.0. See https://github.com/optuna/optuna/releases/tag/v3.0.0. Use suggest_float instead.\n",
            "  dropout_rates = [trial.suggest_uniform(f\"dropout_{i}\", 0.0, 0.5) for i in range(num_layers)]\n",
            "<ipython-input-22-57e2ce41b221>:7: FutureWarning: suggest_loguniform has been deprecated in v3.0.0. This feature will be removed in v6.0.0. See https://github.com/optuna/optuna/releases/tag/v3.0.0. Use suggest_float(..., log=True) instead.\n",
            "  learning_rate = trial.suggest_loguniform(\"learning_rate\", 1e-5, 1e-1)\n"
          ]
        },
        {
          "metadata": {
            "tags": null
          },
          "name": "stdout",
          "output_type": "stream",
          "text": [
            "Epoch 1/50\n",
            "220/220 [==============================] - 67s 272ms/step - loss: 0.0486 - val_loss: 0.0064\n",
            "Epoch 2/50\n",
            "220/220 [==============================] - 59s 267ms/step - loss: 0.0080 - val_loss: 0.0022\n",
            "Epoch 3/50\n",
            "220/220 [==============================] - 61s 277ms/step - loss: 0.0052 - val_loss: 0.0012\n",
            "Epoch 4/50\n",
            "220/220 [==============================] - 59s 268ms/step - loss: 0.0038 - val_loss: 0.0014\n",
            "Epoch 5/50\n",
            "220/220 [==============================] - 58s 266ms/step - loss: 0.0031 - val_loss: 0.0017\n",
            "Epoch 6/50\n",
            "220/220 [==============================] - 58s 265ms/step - loss: 0.0026 - val_loss: 0.0016\n"
          ]
        },
        {
          "metadata": {
            "tags": null
          },
          "name": "stderr",
          "output_type": "stream",
          "text": [
            "[I 2024-04-04 14:34:12,787] Trial 0 finished with value: 0.0012326569994911551 and parameters: {'num_layers': 3, 'units_0': 97, 'units_1': 209, 'units_2': 196, 'dropout_0': 0.3831416514692201, 'dropout_1': 0.4063574557107873, 'dropout_2': 0.49569315490721866, 'learning_rate': 0.008206903008998827, 'batch_size': 64}. Best is trial 0 with value: 0.0012326569994911551.\n"
          ]
        },
        {
          "metadata": {
            "tags": null
          },
          "name": "stdout",
          "output_type": "stream",
          "text": [
            "Epoch 1/50\n",
            "220/220 [==============================] - 78s 316ms/step - loss: 0.0168 - val_loss: 0.0047\n",
            "Epoch 2/50\n",
            "220/220 [==============================] - 73s 333ms/step - loss: 0.0053 - val_loss: 0.0039\n",
            "Epoch 3/50\n",
            "220/220 [==============================] - 71s 322ms/step - loss: 0.0050 - val_loss: 0.0024\n",
            "Epoch 4/50\n",
            "220/220 [==============================] - 72s 325ms/step - loss: 0.0041 - val_loss: 0.0016\n",
            "Epoch 5/50\n",
            "220/220 [==============================] - 67s 305ms/step - loss: 0.0029 - val_loss: 9.5527e-04\n",
            "Epoch 6/50\n",
            "220/220 [==============================] - 67s 304ms/step - loss: 0.0021 - val_loss: 7.1694e-04\n",
            "Epoch 7/50\n",
            "220/220 [==============================] - 72s 325ms/step - loss: 0.0019 - val_loss: 7.8539e-04\n",
            "Epoch 8/50\n",
            "220/220 [==============================] - 66s 302ms/step - loss: 0.0016 - val_loss: 0.0017\n",
            "Epoch 9/50\n",
            "220/220 [==============================] - 73s 332ms/step - loss: 0.0015 - val_loss: 7.4122e-04\n"
          ]
        },
        {
          "metadata": {
            "tags": null
          },
          "name": "stderr",
          "output_type": "stream",
          "text": [
            "[I 2024-04-04 14:45:18,225] Trial 1 finished with value: 0.0007169367163442075 and parameters: {'num_layers': 4, 'units_0': 179, 'units_1': 201, 'units_2': 82, 'units_3': 128, 'dropout_0': 0.14302786963465058, 'dropout_1': 0.4649415119222818, 'dropout_2': 0.2569998220501361, 'dropout_3': 0.05066640939998629, 'learning_rate': 0.001473334645631859, 'batch_size': 64}. Best is trial 1 with value: 0.0007169367163442075.\n"
          ]
        },
        {
          "metadata": {
            "tags": null
          },
          "name": "stdout",
          "output_type": "stream",
          "text": [
            "Epoch 1/50\n",
            "440/440 [==============================] - 29s 61ms/step - loss: 0.0219 - val_loss: 0.0020\n",
            "Epoch 2/50\n",
            "440/440 [==============================] - 26s 60ms/step - loss: 0.0032 - val_loss: 9.3828e-04\n",
            "Epoch 3/50\n",
            "440/440 [==============================] - 25s 56ms/step - loss: 0.0019 - val_loss: 6.3991e-04\n",
            "Epoch 4/50\n",
            "440/440 [==============================] - 27s 61ms/step - loss: 0.0016 - val_loss: 6.0861e-04\n",
            "Epoch 5/50\n",
            "440/440 [==============================] - 26s 60ms/step - loss: 0.0013 - val_loss: 6.0303e-04\n",
            "Epoch 6/50\n",
            "440/440 [==============================] - 26s 59ms/step - loss: 0.0013 - val_loss: 4.5972e-04\n",
            "Epoch 7/50\n",
            "440/440 [==============================] - 26s 59ms/step - loss: 0.0011 - val_loss: 5.6208e-04\n",
            "Epoch 8/50\n",
            "440/440 [==============================] - 24s 55ms/step - loss: 0.0011 - val_loss: 6.3835e-04\n",
            "Epoch 9/50\n",
            "440/440 [==============================] - 25s 57ms/step - loss: 0.0010 - val_loss: 4.5060e-04\n",
            "Epoch 10/50\n",
            "440/440 [==============================] - 25s 56ms/step - loss: 0.0011 - val_loss: 5.5352e-04\n",
            "Epoch 11/50\n",
            "440/440 [==============================] - 26s 59ms/step - loss: 0.0011 - val_loss: 3.6173e-04\n",
            "Epoch 12/50\n",
            "440/440 [==============================] - 25s 58ms/step - loss: 0.0010 - val_loss: 3.8555e-04\n",
            "Epoch 13/50\n",
            "440/440 [==============================] - 26s 59ms/step - loss: 9.7946e-04 - val_loss: 3.4851e-04\n",
            "Epoch 14/50\n",
            "440/440 [==============================] - 25s 57ms/step - loss: 9.6507e-04 - val_loss: 7.5293e-04\n",
            "Epoch 15/50\n",
            "440/440 [==============================] - 25s 57ms/step - loss: 9.9080e-04 - val_loss: 3.2766e-04\n",
            "Epoch 16/50\n",
            "440/440 [==============================] - 25s 56ms/step - loss: 9.4801e-04 - val_loss: 3.6788e-04\n",
            "Epoch 17/50\n",
            "440/440 [==============================] - 25s 57ms/step - loss: 9.0981e-04 - val_loss: 5.8554e-04\n",
            "Epoch 18/50\n",
            "440/440 [==============================] - 27s 62ms/step - loss: 9.7165e-04 - val_loss: 3.4612e-04\n"
          ]
        },
        {
          "metadata": {
            "tags": null
          },
          "name": "stderr",
          "output_type": "stream",
          "text": [
            "[I 2024-04-04 14:53:02,644] Trial 2 finished with value: 0.00032765869400464 and parameters: {'num_layers': 1, 'units_0': 186, 'dropout_0': 0.3265446238324807, 'learning_rate': 0.012101255802657094, 'batch_size': 32}. Best is trial 2 with value: 0.00032765869400464.\n"
          ]
        },
        {
          "metadata": {
            "tags": null
          },
          "name": "stdout",
          "output_type": "stream",
          "text": [
            "Epoch 1/50\n",
            "110/110 [==============================] - 54s 415ms/step - loss: 0.0432 - val_loss: 0.0132\n",
            "Epoch 2/50\n",
            "110/110 [==============================] - 45s 411ms/step - loss: 0.0192 - val_loss: 0.0113\n",
            "Epoch 3/50\n",
            "110/110 [==============================] - 43s 388ms/step - loss: 0.0163 - val_loss: 0.0090\n",
            "Epoch 4/50\n",
            "110/110 [==============================] - 44s 400ms/step - loss: 0.0129 - val_loss: 0.0061\n",
            "Epoch 5/50\n",
            "110/110 [==============================] - 44s 399ms/step - loss: 0.0109 - val_loss: 0.0055\n",
            "Epoch 6/50\n",
            "110/110 [==============================] - 44s 399ms/step - loss: 0.0100 - val_loss: 0.0038\n",
            "Epoch 7/50\n",
            "110/110 [==============================] - 42s 384ms/step - loss: 0.0091 - val_loss: 0.0045\n",
            "Epoch 8/50\n",
            "110/110 [==============================] - 43s 390ms/step - loss: 0.0085 - val_loss: 0.0029\n",
            "Epoch 9/50\n",
            "110/110 [==============================] - 44s 403ms/step - loss: 0.0081 - val_loss: 0.0028\n",
            "Epoch 10/50\n",
            "110/110 [==============================] - 44s 402ms/step - loss: 0.0078 - val_loss: 0.0026\n",
            "Epoch 11/50\n",
            "110/110 [==============================] - 44s 403ms/step - loss: 0.0077 - val_loss: 0.0026\n",
            "Epoch 12/50\n",
            "110/110 [==============================] - 43s 390ms/step - loss: 0.0076 - val_loss: 0.0030\n",
            "Epoch 13/50\n",
            "110/110 [==============================] - 44s 403ms/step - loss: 0.0073 - val_loss: 0.0025\n",
            "Epoch 14/50\n",
            "110/110 [==============================] - 45s 406ms/step - loss: 0.0068 - val_loss: 0.0022\n",
            "Epoch 15/50\n",
            "110/110 [==============================] - 44s 396ms/step - loss: 0.0068 - val_loss: 0.0022\n",
            "Epoch 16/50\n",
            "110/110 [==============================] - 42s 381ms/step - loss: 0.0067 - val_loss: 0.0021\n",
            "Epoch 17/50\n",
            "110/110 [==============================] - 43s 389ms/step - loss: 0.0065 - val_loss: 0.0023\n",
            "Epoch 18/50\n",
            "110/110 [==============================] - 44s 404ms/step - loss: 0.0066 - val_loss: 0.0029\n",
            "Epoch 19/50\n",
            "110/110 [==============================] - 44s 396ms/step - loss: 0.0062 - val_loss: 0.0021\n"
          ]
        },
        {
          "metadata": {
            "tags": null
          },
          "name": "stderr",
          "output_type": "stream",
          "text": [
            "[I 2024-04-04 15:07:02,969] Trial 3 finished with value: 0.0020635786931961775 and parameters: {'num_layers': 4, 'units_0': 220, 'units_1': 83, 'units_2': 89, 'units_3': 123, 'dropout_0': 0.23527026517524108, 'dropout_1': 0.4674819315527402, 'dropout_2': 0.06698654164424889, 'dropout_3': 0.49179927045218963, 'learning_rate': 0.00016775176922939554, 'batch_size': 128}. Best is trial 2 with value: 0.00032765869400464.\n"
          ]
        },
        {
          "metadata": {
            "tags": null
          },
          "name": "stdout",
          "output_type": "stream",
          "text": [
            "Epoch 1/50\n",
            "110/110 [==============================] - 16s 130ms/step - loss: 1.7386 - val_loss: 0.0013\n",
            "Epoch 2/50\n",
            "110/110 [==============================] - 14s 130ms/step - loss: 0.0124 - val_loss: 0.0014\n",
            "Epoch 3/50\n",
            "110/110 [==============================] - 14s 128ms/step - loss: 0.0071 - val_loss: 9.4771e-04\n",
            "Epoch 4/50\n",
            "110/110 [==============================] - 15s 133ms/step - loss: 0.0055 - val_loss: 0.0014\n",
            "Epoch 5/50\n",
            "110/110 [==============================] - 14s 131ms/step - loss: 0.0047 - val_loss: 0.0011\n",
            "Epoch 6/50\n",
            "110/110 [==============================] - 14s 127ms/step - loss: 0.0040 - val_loss: 7.9175e-04\n",
            "Epoch 7/50\n",
            "110/110 [==============================] - 14s 131ms/step - loss: 0.0037 - val_loss: 7.8076e-04\n",
            "Epoch 8/50\n",
            "110/110 [==============================] - 14s 127ms/step - loss: 0.0035 - val_loss: 0.0012\n",
            "Epoch 9/50\n",
            "110/110 [==============================] - 14s 129ms/step - loss: 0.0028 - val_loss: 7.8997e-04\n",
            "Epoch 10/50\n",
            "110/110 [==============================] - 14s 130ms/step - loss: 0.0028 - val_loss: 7.3886e-04\n",
            "Epoch 11/50\n",
            "110/110 [==============================] - 14s 128ms/step - loss: 0.0026 - val_loss: 7.5145e-04\n",
            "Epoch 12/50\n",
            "110/110 [==============================] - 14s 126ms/step - loss: 0.0023 - val_loss: 5.7809e-04\n",
            "Epoch 13/50\n",
            "110/110 [==============================] - 14s 126ms/step - loss: 0.0021 - val_loss: 5.7188e-04\n",
            "Epoch 14/50\n",
            "110/110 [==============================] - 15s 136ms/step - loss: 0.0019 - val_loss: 4.1628e-04\n",
            "Epoch 15/50\n",
            "110/110 [==============================] - 14s 132ms/step - loss: 0.0018 - val_loss: 3.7373e-04\n",
            "Epoch 16/50\n",
            "110/110 [==============================] - 14s 130ms/step - loss: 0.0016 - val_loss: 4.7185e-04\n",
            "Epoch 17/50\n",
            "110/110 [==============================] - 14s 128ms/step - loss: 0.0015 - val_loss: 4.1528e-04\n",
            "Epoch 18/50\n",
            "110/110 [==============================] - 14s 126ms/step - loss: 0.0016 - val_loss: 4.5216e-04\n"
          ]
        },
        {
          "metadata": {
            "tags": null
          },
          "name": "stderr",
          "output_type": "stream",
          "text": [
            "[I 2024-04-04 15:11:52,102] Trial 4 finished with value: 0.0003737258957698941 and parameters: {'num_layers': 1, 'units_0': 201, 'dropout_0': 0.35397522987084373, 'learning_rate': 0.05583588559581306, 'batch_size': 128}. Best is trial 2 with value: 0.00032765869400464.\n"
          ]
        },
        {
          "metadata": {
            "tags": null
          },
          "name": "stdout",
          "output_type": "stream",
          "text": [
            "Epoch 1/50\n",
            "440/440 [==============================] - 154s 330ms/step - loss: 0.0194 - val_loss: 0.0071\n",
            "Epoch 2/50\n",
            "440/440 [==============================] - 139s 316ms/step - loss: 0.0086 - val_loss: 0.0034\n",
            "Epoch 3/50\n",
            "440/440 [==============================] - 141s 320ms/step - loss: 0.0066 - val_loss: 0.0023\n",
            "Epoch 4/50\n",
            "440/440 [==============================] - 140s 319ms/step - loss: 0.0059 - val_loss: 0.0021\n",
            "Epoch 5/50\n",
            "440/440 [==============================] - 140s 318ms/step - loss: 0.0058 - val_loss: 0.0047\n",
            "Epoch 6/50\n",
            "440/440 [==============================] - 142s 321ms/step - loss: 0.0054 - val_loss: 0.0026\n",
            "Epoch 7/50\n",
            "440/440 [==============================] - 142s 322ms/step - loss: 0.0052 - val_loss: 0.0020\n",
            "Epoch 8/50\n",
            "440/440 [==============================] - 152s 345ms/step - loss: 0.0050 - val_loss: 0.0018\n",
            "Epoch 9/50\n",
            "440/440 [==============================] - 150s 342ms/step - loss: 0.0050 - val_loss: 0.0018\n",
            "Epoch 10/50\n",
            "440/440 [==============================] - 140s 319ms/step - loss: 0.0047 - val_loss: 0.0021\n",
            "Epoch 11/50\n",
            "440/440 [==============================] - 154s 351ms/step - loss: 0.0046 - val_loss: 0.0019\n",
            "Epoch 12/50\n",
            "440/440 [==============================] - 147s 334ms/step - loss: 0.0045 - val_loss: 0.0019\n"
          ]
        },
        {
          "metadata": {
            "tags": null
          },
          "name": "stderr",
          "output_type": "stream",
          "text": [
            "[I 2024-04-04 15:41:00,220] Trial 5 finished with value: 0.0018011076608672738 and parameters: {'num_layers': 4, 'units_0': 242, 'units_1': 124, 'units_2': 247, 'units_3': 237, 'dropout_0': 0.3658880835986181, 'dropout_1': 0.38537173063452496, 'dropout_2': 0.09444875938901937, 'dropout_3': 0.3892603769316305, 'learning_rate': 0.00013883807914261189, 'batch_size': 32}. Best is trial 2 with value: 0.00032765869400464.\n"
          ]
        },
        {
          "metadata": {
            "tags": null
          },
          "name": "stdout",
          "output_type": "stream",
          "text": [
            "Epoch 1/50\n",
            "220/220 [==============================] - 66s 272ms/step - loss: 0.0766 - val_loss: 0.0144\n",
            "Epoch 2/50\n",
            "220/220 [==============================] - 60s 271ms/step - loss: 0.0183 - val_loss: 0.0141\n",
            "Epoch 3/50\n",
            "220/220 [==============================] - 58s 264ms/step - loss: 0.0179 - val_loss: 0.0135\n",
            "Epoch 4/50\n",
            "220/220 [==============================] - 59s 267ms/step - loss: 0.0175 - val_loss: 0.0130\n",
            "Epoch 5/50\n",
            "220/220 [==============================] - 66s 301ms/step - loss: 0.0168 - val_loss: 0.0128\n",
            "Epoch 6/50\n",
            "220/220 [==============================] - 59s 268ms/step - loss: 0.0162 - val_loss: 0.0119\n",
            "Epoch 7/50\n",
            "220/220 [==============================] - 58s 264ms/step - loss: 0.0154 - val_loss: 0.0110\n",
            "Epoch 8/50\n",
            "220/220 [==============================] - 60s 274ms/step - loss: 0.0144 - val_loss: 0.0100\n",
            "Epoch 9/50\n",
            "220/220 [==============================] - 64s 292ms/step - loss: 0.0129 - val_loss: 0.0090\n",
            "Epoch 10/50\n",
            "220/220 [==============================] - 61s 279ms/step - loss: 0.0121 - val_loss: 0.0077\n",
            "Epoch 11/50\n",
            "220/220 [==============================] - 60s 274ms/step - loss: 0.0109 - val_loss: 0.0069\n",
            "Epoch 12/50\n",
            "220/220 [==============================] - 59s 269ms/step - loss: 0.0102 - val_loss: 0.0064\n",
            "Epoch 13/50\n",
            "220/220 [==============================] - 59s 269ms/step - loss: 0.0096 - val_loss: 0.0058\n",
            "Epoch 14/50\n",
            "220/220 [==============================] - 61s 277ms/step - loss: 0.0090 - val_loss: 0.0053\n",
            "Epoch 15/50\n",
            "220/220 [==============================] - 71s 321ms/step - loss: 0.0086 - val_loss: 0.0050\n",
            "Epoch 16/50\n",
            "220/220 [==============================] - 64s 290ms/step - loss: 0.0081 - val_loss: 0.0045\n",
            "Epoch 17/50\n",
            "220/220 [==============================] - 60s 275ms/step - loss: 0.0076 - val_loss: 0.0045\n",
            "Epoch 18/50\n",
            "220/220 [==============================] - 64s 289ms/step - loss: 0.0074 - val_loss: 0.0040\n",
            "Epoch 19/50\n",
            "220/220 [==============================] - 62s 280ms/step - loss: 0.0071 - val_loss: 0.0038\n",
            "Epoch 20/50\n",
            "220/220 [==============================] - 63s 285ms/step - loss: 0.0069 - val_loss: 0.0037\n",
            "Epoch 21/50\n",
            "220/220 [==============================] - 63s 288ms/step - loss: 0.0066 - val_loss: 0.0034\n",
            "Epoch 22/50\n",
            "220/220 [==============================] - 64s 293ms/step - loss: 0.0066 - val_loss: 0.0033\n",
            "Epoch 23/50\n",
            "220/220 [==============================] - 67s 304ms/step - loss: 0.0064 - val_loss: 0.0032\n",
            "Epoch 24/50\n",
            "220/220 [==============================] - 83s 379ms/step - loss: 0.0063 - val_loss: 0.0031\n",
            "Epoch 25/50\n",
            "220/220 [==============================] - 80s 363ms/step - loss: 0.0061 - val_loss: 0.0030\n",
            "Epoch 26/50\n",
            "220/220 [==============================] - 78s 353ms/step - loss: 0.0059 - val_loss: 0.0029\n",
            "Epoch 27/50\n",
            "220/220 [==============================] - 62s 282ms/step - loss: 0.0058 - val_loss: 0.0028\n",
            "Epoch 28/50\n",
            "220/220 [==============================] - 62s 280ms/step - loss: 0.0058 - val_loss: 0.0028\n",
            "Epoch 29/50\n",
            "220/220 [==============================] - 64s 293ms/step - loss: 0.0057 - val_loss: 0.0027\n",
            "Epoch 30/50\n",
            "220/220 [==============================] - 59s 269ms/step - loss: 0.0056 - val_loss: 0.0026\n",
            "Epoch 31/50\n",
            "220/220 [==============================] - 64s 291ms/step - loss: 0.0055 - val_loss: 0.0028\n",
            "Epoch 32/50\n",
            "220/220 [==============================] - 64s 293ms/step - loss: 0.0055 - val_loss: 0.0025\n",
            "Epoch 33/50\n",
            "220/220 [==============================] - 64s 292ms/step - loss: 0.0054 - val_loss: 0.0025\n",
            "Epoch 34/50\n",
            "220/220 [==============================] - 59s 267ms/step - loss: 0.0052 - val_loss: 0.0025\n",
            "Epoch 35/50\n",
            "220/220 [==============================] - 57s 261ms/step - loss: 0.0052 - val_loss: 0.0024\n",
            "Epoch 36/50\n",
            "220/220 [==============================] - 58s 265ms/step - loss: 0.0052 - val_loss: 0.0024\n",
            "Epoch 37/50\n",
            "220/220 [==============================] - 60s 274ms/step - loss: 0.0051 - val_loss: 0.0024\n",
            "Epoch 38/50\n",
            "220/220 [==============================] - 56s 254ms/step - loss: 0.0052 - val_loss: 0.0024\n",
            "Epoch 39/50\n",
            "220/220 [==============================] - 56s 254ms/step - loss: 0.0050 - val_loss: 0.0023\n",
            "Epoch 40/50\n",
            "220/220 [==============================] - 56s 252ms/step - loss: 0.0050 - val_loss: 0.0024\n",
            "Epoch 41/50\n",
            "220/220 [==============================] - 57s 260ms/step - loss: 0.0049 - val_loss: 0.0022\n",
            "Epoch 42/50\n",
            "220/220 [==============================] - 56s 252ms/step - loss: 0.0049 - val_loss: 0.0022\n",
            "Epoch 43/50\n",
            "220/220 [==============================] - 58s 265ms/step - loss: 0.0049 - val_loss: 0.0022\n",
            "Epoch 44/50\n",
            "220/220 [==============================] - 57s 260ms/step - loss: 0.0048 - val_loss: 0.0022\n",
            "Epoch 45/50\n",
            "220/220 [==============================] - 62s 282ms/step - loss: 0.0048 - val_loss: 0.0022\n",
            "Epoch 46/50\n",
            "220/220 [==============================] - 62s 284ms/step - loss: 0.0047 - val_loss: 0.0022\n",
            "Epoch 47/50\n",
            "220/220 [==============================] - 58s 265ms/step - loss: 0.0048 - val_loss: 0.0022\n"
          ]
        },
        {
          "metadata": {
            "tags": null
          },
          "name": "stderr",
          "output_type": "stream",
          "text": [
            "[I 2024-04-04 16:29:42,908] Trial 6 finished with value: 0.0021899279672652483 and parameters: {'num_layers': 3, 'units_0': 170, 'units_1': 113, 'units_2': 239, 'dropout_0': 0.4650066932008885, 'dropout_1': 0.262004932883332, 'dropout_2': 0.23393442960905514, 'learning_rate': 1.3918460061940963e-05, 'batch_size': 64}. Best is trial 2 with value: 0.00032765869400464.\n"
          ]
        },
        {
          "metadata": {
            "tags": null
          },
          "name": "stdout",
          "output_type": "stream",
          "text": [
            "Epoch 1/50\n",
            "220/220 [==============================] - 97s 398ms/step - loss: 0.0327 - val_loss: 0.0128\n",
            "Epoch 2/50\n",
            "220/220 [==============================] - 82s 375ms/step - loss: 0.0155 - val_loss: 0.0101\n",
            "Epoch 3/50\n",
            "220/220 [==============================] - 88s 402ms/step - loss: 0.0110 - val_loss: 0.0062\n",
            "Epoch 4/50\n",
            "220/220 [==============================] - 89s 407ms/step - loss: 0.0085 - val_loss: 0.0043\n",
            "Epoch 5/50\n",
            "220/220 [==============================] - 91s 411ms/step - loss: 0.0076 - val_loss: 0.0039\n",
            "Epoch 6/50\n",
            "220/220 [==============================] - 86s 393ms/step - loss: 0.0071 - val_loss: 0.0033\n",
            "Epoch 7/50\n",
            "220/220 [==============================] - 82s 374ms/step - loss: 0.0065 - val_loss: 0.0029\n",
            "Epoch 8/50\n",
            "220/220 [==============================] - 86s 393ms/step - loss: 0.0062 - val_loss: 0.0026\n",
            "Epoch 9/50\n",
            "220/220 [==============================] - 88s 398ms/step - loss: 0.0060 - val_loss: 0.0025\n",
            "Epoch 10/50\n",
            "220/220 [==============================] - 87s 395ms/step - loss: 0.0058 - val_loss: 0.0027\n",
            "Epoch 11/50\n",
            "220/220 [==============================] - 88s 399ms/step - loss: 0.0056 - val_loss: 0.0022\n",
            "Epoch 12/50\n",
            "220/220 [==============================] - 86s 393ms/step - loss: 0.0055 - val_loss: 0.0022\n",
            "Epoch 13/50\n",
            "220/220 [==============================] - 83s 376ms/step - loss: 0.0054 - val_loss: 0.0022\n",
            "Epoch 14/50\n",
            "220/220 [==============================] - 82s 373ms/step - loss: 0.0053 - val_loss: 0.0021\n",
            "Epoch 15/50\n",
            "220/220 [==============================] - 89s 403ms/step - loss: 0.0053 - val_loss: 0.0025\n",
            "Epoch 16/50\n",
            "220/220 [==============================] - 90s 409ms/step - loss: 0.0052 - val_loss: 0.0023\n",
            "Epoch 17/50\n",
            "220/220 [==============================] - 89s 404ms/step - loss: 0.0052 - val_loss: 0.0021\n",
            "Epoch 18/50\n",
            "220/220 [==============================] - 84s 380ms/step - loss: 0.0049 - val_loss: 0.0020\n",
            "Epoch 19/50\n",
            "220/220 [==============================] - 89s 402ms/step - loss: 0.0051 - val_loss: 0.0023\n",
            "Epoch 20/50\n",
            "220/220 [==============================] - 84s 383ms/step - loss: 0.0049 - val_loss: 0.0019\n",
            "Epoch 21/50\n",
            "220/220 [==============================] - 83s 377ms/step - loss: 0.0048 - val_loss: 0.0020\n",
            "Epoch 22/50\n",
            "220/220 [==============================] - 87s 396ms/step - loss: 0.0048 - val_loss: 0.0021\n",
            "Epoch 23/50\n",
            "220/220 [==============================] - 91s 412ms/step - loss: 0.0046 - val_loss: 0.0018\n",
            "Epoch 24/50\n",
            "220/220 [==============================] - 87s 395ms/step - loss: 0.0046 - val_loss: 0.0020\n",
            "Epoch 25/50\n",
            "220/220 [==============================] - 89s 406ms/step - loss: 0.0045 - val_loss: 0.0018\n",
            "Epoch 26/50\n",
            "220/220 [==============================] - 87s 395ms/step - loss: 0.0046 - val_loss: 0.0018\n",
            "Epoch 27/50\n",
            "220/220 [==============================] - 88s 402ms/step - loss: 0.0046 - val_loss: 0.0022\n",
            "Epoch 28/50\n",
            "220/220 [==============================] - 84s 380ms/step - loss: 0.0045 - val_loss: 0.0019\n"
          ]
        },
        {
          "metadata": {
            "tags": null
          },
          "name": "stderr",
          "output_type": "stream",
          "text": [
            "[I 2024-04-04 17:10:20,259] Trial 7 finished with value: 0.00178173475433141 and parameters: {'num_layers': 4, 'units_0': 131, 'units_1': 206, 'units_2': 236, 'units_3': 101, 'dropout_0': 0.11174390776878529, 'dropout_1': 0.2507637133839949, 'dropout_2': 0.07937883940103413, 'dropout_3': 0.19852533369848896, 'learning_rate': 6.145282644476075e-05, 'batch_size': 64}. Best is trial 2 with value: 0.00032765869400464.\n"
          ]
        },
        {
          "metadata": {
            "tags": null
          },
          "name": "stdout",
          "output_type": "stream",
          "text": [
            "Epoch 1/50\n",
            "880/880 [==============================] - 92s 99ms/step - loss: 0.0103 - val_loss: 0.0026\n",
            "Epoch 2/50\n",
            "880/880 [==============================] - 87s 99ms/step - loss: 0.0042 - val_loss: 0.0021\n",
            "Epoch 3/50\n",
            "880/880 [==============================] - 86s 97ms/step - loss: 0.0033 - val_loss: 0.0015\n",
            "Epoch 4/50\n",
            "880/880 [==============================] - 98s 111ms/step - loss: 0.0024 - val_loss: 0.0011\n",
            "Epoch 5/50\n",
            "880/880 [==============================] - 91s 104ms/step - loss: 0.0019 - val_loss: 9.2332e-04\n",
            "Epoch 6/50\n",
            "880/880 [==============================] - 96s 109ms/step - loss: 0.0017 - val_loss: 7.6714e-04\n",
            "Epoch 7/50\n",
            "880/880 [==============================] - 106s 120ms/step - loss: 0.0015 - val_loss: 8.3585e-04\n",
            "Epoch 8/50\n",
            "880/880 [==============================] - 105s 119ms/step - loss: 0.0014 - val_loss: 5.5408e-04\n",
            "Epoch 9/50\n",
            "880/880 [==============================] - 105s 119ms/step - loss: 0.0012 - val_loss: 5.2571e-04\n",
            "Epoch 10/50\n",
            "880/880 [==============================] - 100s 114ms/step - loss: 0.0012 - val_loss: 4.4418e-04\n",
            "Epoch 11/50\n",
            "880/880 [==============================] - 95s 107ms/step - loss: 0.0011 - val_loss: 5.0270e-04\n",
            "Epoch 12/50\n",
            "880/880 [==============================] - 97s 110ms/step - loss: 9.9130e-04 - val_loss: 4.7784e-04\n",
            "Epoch 13/50\n",
            "880/880 [==============================] - 114s 129ms/step - loss: 9.2664e-04 - val_loss: 3.6591e-04\n",
            "Epoch 14/50\n",
            "880/880 [==============================] - 104s 119ms/step - loss: 8.8977e-04 - val_loss: 3.8966e-04\n",
            "Epoch 15/50\n",
            "880/880 [==============================] - 105s 119ms/step - loss: 8.5239e-04 - val_loss: 3.7324e-04\n",
            "Epoch 16/50\n",
            "880/880 [==============================] - 94s 106ms/step - loss: 8.4543e-04 - val_loss: 3.6645e-04\n"
          ]
        },
        {
          "metadata": {
            "tags": null
          },
          "name": "stderr",
          "output_type": "stream",
          "text": [
            "[I 2024-04-04 17:36:34,423] Trial 8 finished with value: 0.0003659132053144276 and parameters: {'num_layers': 2, 'units_0': 183, 'units_1': 202, 'dropout_0': 0.2859505541646955, 'dropout_1': 0.09162325074473754, 'learning_rate': 0.00021359370888781147, 'batch_size': 16}. Best is trial 2 with value: 0.00032765869400464.\n"
          ]
        },
        {
          "output_type": "stream",
          "name": "stdout",
          "text": [
            "Epoch 1/50\n",
            "440/440 [==============================] - 153s 327ms/step - loss: 0.0511 - val_loss: 0.0130\n",
            "Epoch 2/50\n",
            "440/440 [==============================] - 147s 334ms/step - loss: 0.0166 - val_loss: 0.0127\n",
            "Epoch 3/50\n",
            "440/440 [==============================] - 156s 354ms/step - loss: 0.0155 - val_loss: 0.0112\n",
            "Epoch 4/50\n",
            "440/440 [==============================] - 153s 347ms/step - loss: 0.0142 - val_loss: 0.0098\n",
            "Epoch 5/50\n",
            "440/440 [==============================] - 111s 253ms/step - loss: 0.0121 - val_loss: 0.0079\n",
            "Epoch 6/50\n",
            "440/440 [==============================] - 110s 250ms/step - loss: 0.0103 - val_loss: 0.0067\n",
            "Epoch 7/50\n",
            "440/440 [==============================] - 111s 252ms/step - loss: 0.0091 - val_loss: 0.0059\n",
            "Epoch 8/50\n",
            "440/440 [==============================] - 110s 251ms/step - loss: 0.0083 - val_loss: 0.0051\n",
            "Epoch 9/50\n",
            "440/440 [==============================] - 111s 253ms/step - loss: 0.0076 - val_loss: 0.0046\n",
            "Epoch 10/50\n",
            "440/440 [==============================] - 115s 262ms/step - loss: 0.0071 - val_loss: 0.0041\n",
            "Epoch 11/50\n",
            "440/440 [==============================] - 112s 255ms/step - loss: 0.0069 - val_loss: 0.0039\n",
            "Epoch 12/50\n",
            "440/440 [==============================] - 114s 259ms/step - loss: 0.0065 - val_loss: 0.0035\n",
            "Epoch 13/50\n",
            "440/440 [==============================] - 116s 265ms/step - loss: 0.0065 - val_loss: 0.0034\n",
            "Epoch 14/50\n",
            "440/440 [==============================] - 112s 255ms/step - loss: 0.0062 - val_loss: 0.0036\n",
            "Epoch 15/50\n",
            "440/440 [==============================] - 117s 267ms/step - loss: 0.0061 - val_loss: 0.0034\n",
            "Epoch 16/50\n",
            "440/440 [==============================] - 117s 265ms/step - loss: 0.0059 - val_loss: 0.0029\n",
            "Epoch 17/50\n",
            "440/440 [==============================] - 116s 263ms/step - loss: 0.0058 - val_loss: 0.0028\n",
            "Epoch 18/50\n",
            "440/440 [==============================] - 115s 262ms/step - loss: 0.0057 - val_loss: 0.0027\n",
            "Epoch 19/50\n",
            "440/440 [==============================] - 118s 268ms/step - loss: 0.0057 - val_loss: 0.0026\n",
            "Epoch 20/50\n",
            "440/440 [==============================] - 115s 261ms/step - loss: 0.0053 - val_loss: 0.0026\n",
            "Epoch 21/50\n",
            "440/440 [==============================] - 117s 265ms/step - loss: 0.0053 - val_loss: 0.0025\n",
            "Epoch 22/50\n",
            "440/440 [==============================] - 113s 257ms/step - loss: 0.0053 - val_loss: 0.0026\n",
            "Epoch 23/50\n",
            "440/440 [==============================] - 115s 261ms/step - loss: 0.0052 - val_loss: 0.0025\n",
            "Epoch 24/50\n",
            "440/440 [==============================] - 114s 258ms/step - loss: 0.0051 - val_loss: 0.0025\n"
          ]
        },
        {
          "output_type": "stream",
          "name": "stderr",
          "text": [
            "[I 2024-04-04 18:24:44,177] Trial 9 finished with value: 0.002473421161994338 and parameters: {'num_layers': 4, 'units_0': 207, 'units_1': 204, 'units_2': 145, 'units_3': 151, 'dropout_0': 0.08120091080486508, 'dropout_1': 0.0762974838377592, 'dropout_2': 0.3830083071018065, 'dropout_3': 0.10179973526244757, 'learning_rate': 1.0709958100680404e-05, 'batch_size': 32}. Best is trial 2 with value: 0.00032765869400464.\n"
          ]
        },
        {
          "output_type": "stream",
          "name": "stdout",
          "text": [
            "Best Hyperparameters: {'num_layers': 1, 'units_0': 186, 'dropout_0': 0.3265446238324807, 'learning_rate': 0.012101255802657094, 'batch_size': 32}\n",
            "Best Objective Value: 0.00032765869400464\n"
          ]
        }
      ]
    },
    {
      "cell_type": "code",
      "source": [
        "# Print the best hyperparameters and the corresponding objective value\n",
        "print(\"Best Hyperparameters:\", study.best_params)\n",
        "print(\"Best Objective Value:\", study.best_value)"
      ],
      "metadata": {
        "id": "uuRf7ALMgFO5",
        "colab": {
          "base_uri": "https://localhost:8080/"
        },
        "outputId": "a83c34e9-7e94-4737-e9d4-fc8706f259ae"
      },
      "execution_count": null,
      "outputs": [
        {
          "output_type": "stream",
          "name": "stdout",
          "text": [
            "Best Hyperparameters: {'num_layers': 1, 'units_0': 186, 'dropout_0': 0.3265446238324807, 'learning_rate': 0.012101255802657094, 'batch_size': 32}\n",
            "Best Objective Value: 0.00032765869400464\n"
          ]
        }
      ]
    },
    {
      "cell_type": "markdown",
      "source": [
        "# [**Plots**](https://medium.com/optuna/visualizing-hyperparameters-in-optuna-86c224bd255f)"
      ],
      "metadata": {
        "id": "E8UdBpGG8F3M"
      }
    },
    {
      "cell_type": "code",
      "source": [
        "# Generate Optuna optimization history plot\n",
        "fig = optuna.visualization.plot_optimization_history(study)\n",
        "fig.show()\n"
      ],
      "metadata": {
        "id": "PiicTdnyMyOa",
        "colab": {
          "base_uri": "https://localhost:8080/",
          "height": 542
        },
        "outputId": "95ecfe5f-f071-46d8-cf37-298f00f47088"
      },
      "execution_count": null,
      "outputs": [
        {
          "output_type": "display_data",
          "data": {
            "text/html": [
              "<html>\n",
              "<head><meta charset=\"utf-8\" /></head>\n",
              "<body>\n",
              "    <div>            <script src=\"https://cdnjs.cloudflare.com/ajax/libs/mathjax/2.7.5/MathJax.js?config=TeX-AMS-MML_SVG\"></script><script type=\"text/javascript\">if (window.MathJax && window.MathJax.Hub && window.MathJax.Hub.Config) {window.MathJax.Hub.Config({SVG: {font: \"STIX-Web\"}});}</script>                <script type=\"text/javascript\">window.PlotlyConfig = {MathJaxConfig: 'local'};</script>\n",
              "        <script charset=\"utf-8\" src=\"https://cdn.plot.ly/plotly-2.24.1.min.js\"></script>                <div id=\"7b1a5f52-3422-4e7a-84fb-5f5c8af6bbb5\" class=\"plotly-graph-div\" style=\"height:525px; width:100%;\"></div>            <script type=\"text/javascript\">                                    window.PLOTLYENV=window.PLOTLYENV || {};                                    if (document.getElementById(\"7b1a5f52-3422-4e7a-84fb-5f5c8af6bbb5\")) {                    Plotly.newPlot(                        \"7b1a5f52-3422-4e7a-84fb-5f5c8af6bbb5\",                        [{\"mode\":\"markers\",\"name\":\"Objective Value\",\"x\":[0,1,2,3,4,5,6,7,8,9],\"y\":[0.0012326569994911551,0.0007169367163442075,0.00032765869400464,0.0020635786931961775,0.0003737258957698941,0.0018011076608672738,0.0021899279672652483,0.00178173475433141,0.0003659132053144276,0.002473421161994338],\"type\":\"scatter\"},{\"mode\":\"lines\",\"name\":\"Best Value\",\"x\":[0,1,2,3,4,5,6,7,8,9],\"y\":[0.0012326569994911551,0.0007169367163442075,0.00032765869400464,0.00032765869400464,0.00032765869400464,0.00032765869400464,0.00032765869400464,0.00032765869400464,0.00032765869400464,0.00032765869400464],\"type\":\"scatter\"},{\"marker\":{\"color\":\"#cccccc\"},\"mode\":\"markers\",\"name\":\"Infeasible Trial\",\"showlegend\":false,\"x\":[],\"y\":[],\"type\":\"scatter\"}],                        {\"title\":{\"text\":\"Optimization History Plot\"},\"xaxis\":{\"title\":{\"text\":\"Trial\"}},\"yaxis\":{\"title\":{\"text\":\"Objective Value\"}},\"template\":{\"data\":{\"histogram2dcontour\":[{\"type\":\"histogram2dcontour\",\"colorbar\":{\"outlinewidth\":0,\"ticks\":\"\"},\"colorscale\":[[0.0,\"#0d0887\"],[0.1111111111111111,\"#46039f\"],[0.2222222222222222,\"#7201a8\"],[0.3333333333333333,\"#9c179e\"],[0.4444444444444444,\"#bd3786\"],[0.5555555555555556,\"#d8576b\"],[0.6666666666666666,\"#ed7953\"],[0.7777777777777778,\"#fb9f3a\"],[0.8888888888888888,\"#fdca26\"],[1.0,\"#f0f921\"]]}],\"choropleth\":[{\"type\":\"choropleth\",\"colorbar\":{\"outlinewidth\":0,\"ticks\":\"\"}}],\"histogram2d\":[{\"type\":\"histogram2d\",\"colorbar\":{\"outlinewidth\":0,\"ticks\":\"\"},\"colorscale\":[[0.0,\"#0d0887\"],[0.1111111111111111,\"#46039f\"],[0.2222222222222222,\"#7201a8\"],[0.3333333333333333,\"#9c179e\"],[0.4444444444444444,\"#bd3786\"],[0.5555555555555556,\"#d8576b\"],[0.6666666666666666,\"#ed7953\"],[0.7777777777777778,\"#fb9f3a\"],[0.8888888888888888,\"#fdca26\"],[1.0,\"#f0f921\"]]}],\"heatmap\":[{\"type\":\"heatmap\",\"colorbar\":{\"outlinewidth\":0,\"ticks\":\"\"},\"colorscale\":[[0.0,\"#0d0887\"],[0.1111111111111111,\"#46039f\"],[0.2222222222222222,\"#7201a8\"],[0.3333333333333333,\"#9c179e\"],[0.4444444444444444,\"#bd3786\"],[0.5555555555555556,\"#d8576b\"],[0.6666666666666666,\"#ed7953\"],[0.7777777777777778,\"#fb9f3a\"],[0.8888888888888888,\"#fdca26\"],[1.0,\"#f0f921\"]]}],\"heatmapgl\":[{\"type\":\"heatmapgl\",\"colorbar\":{\"outlinewidth\":0,\"ticks\":\"\"},\"colorscale\":[[0.0,\"#0d0887\"],[0.1111111111111111,\"#46039f\"],[0.2222222222222222,\"#7201a8\"],[0.3333333333333333,\"#9c179e\"],[0.4444444444444444,\"#bd3786\"],[0.5555555555555556,\"#d8576b\"],[0.6666666666666666,\"#ed7953\"],[0.7777777777777778,\"#fb9f3a\"],[0.8888888888888888,\"#fdca26\"],[1.0,\"#f0f921\"]]}],\"contourcarpet\":[{\"type\":\"contourcarpet\",\"colorbar\":{\"outlinewidth\":0,\"ticks\":\"\"}}],\"contour\":[{\"type\":\"contour\",\"colorbar\":{\"outlinewidth\":0,\"ticks\":\"\"},\"colorscale\":[[0.0,\"#0d0887\"],[0.1111111111111111,\"#46039f\"],[0.2222222222222222,\"#7201a8\"],[0.3333333333333333,\"#9c179e\"],[0.4444444444444444,\"#bd3786\"],[0.5555555555555556,\"#d8576b\"],[0.6666666666666666,\"#ed7953\"],[0.7777777777777778,\"#fb9f3a\"],[0.8888888888888888,\"#fdca26\"],[1.0,\"#f0f921\"]]}],\"surface\":[{\"type\":\"surface\",\"colorbar\":{\"outlinewidth\":0,\"ticks\":\"\"},\"colorscale\":[[0.0,\"#0d0887\"],[0.1111111111111111,\"#46039f\"],[0.2222222222222222,\"#7201a8\"],[0.3333333333333333,\"#9c179e\"],[0.4444444444444444,\"#bd3786\"],[0.5555555555555556,\"#d8576b\"],[0.6666666666666666,\"#ed7953\"],[0.7777777777777778,\"#fb9f3a\"],[0.8888888888888888,\"#fdca26\"],[1.0,\"#f0f921\"]]}],\"mesh3d\":[{\"type\":\"mesh3d\",\"colorbar\":{\"outlinewidth\":0,\"ticks\":\"\"}}],\"scatter\":[{\"fillpattern\":{\"fillmode\":\"overlay\",\"size\":10,\"solidity\":0.2},\"type\":\"scatter\"}],\"parcoords\":[{\"type\":\"parcoords\",\"line\":{\"colorbar\":{\"outlinewidth\":0,\"ticks\":\"\"}}}],\"scatterpolargl\":[{\"type\":\"scatterpolargl\",\"marker\":{\"colorbar\":{\"outlinewidth\":0,\"ticks\":\"\"}}}],\"bar\":[{\"error_x\":{\"color\":\"#2a3f5f\"},\"error_y\":{\"color\":\"#2a3f5f\"},\"marker\":{\"line\":{\"color\":\"#E5ECF6\",\"width\":0.5},\"pattern\":{\"fillmode\":\"overlay\",\"size\":10,\"solidity\":0.2}},\"type\":\"bar\"}],\"scattergeo\":[{\"type\":\"scattergeo\",\"marker\":{\"colorbar\":{\"outlinewidth\":0,\"ticks\":\"\"}}}],\"scatterpolar\":[{\"type\":\"scatterpolar\",\"marker\":{\"colorbar\":{\"outlinewidth\":0,\"ticks\":\"\"}}}],\"histogram\":[{\"marker\":{\"pattern\":{\"fillmode\":\"overlay\",\"size\":10,\"solidity\":0.2}},\"type\":\"histogram\"}],\"scattergl\":[{\"type\":\"scattergl\",\"marker\":{\"colorbar\":{\"outlinewidth\":0,\"ticks\":\"\"}}}],\"scatter3d\":[{\"type\":\"scatter3d\",\"line\":{\"colorbar\":{\"outlinewidth\":0,\"ticks\":\"\"}},\"marker\":{\"colorbar\":{\"outlinewidth\":0,\"ticks\":\"\"}}}],\"scattermapbox\":[{\"type\":\"scattermapbox\",\"marker\":{\"colorbar\":{\"outlinewidth\":0,\"ticks\":\"\"}}}],\"scatterternary\":[{\"type\":\"scatterternary\",\"marker\":{\"colorbar\":{\"outlinewidth\":0,\"ticks\":\"\"}}}],\"scattercarpet\":[{\"type\":\"scattercarpet\",\"marker\":{\"colorbar\":{\"outlinewidth\":0,\"ticks\":\"\"}}}],\"carpet\":[{\"aaxis\":{\"endlinecolor\":\"#2a3f5f\",\"gridcolor\":\"white\",\"linecolor\":\"white\",\"minorgridcolor\":\"white\",\"startlinecolor\":\"#2a3f5f\"},\"baxis\":{\"endlinecolor\":\"#2a3f5f\",\"gridcolor\":\"white\",\"linecolor\":\"white\",\"minorgridcolor\":\"white\",\"startlinecolor\":\"#2a3f5f\"},\"type\":\"carpet\"}],\"table\":[{\"cells\":{\"fill\":{\"color\":\"#EBF0F8\"},\"line\":{\"color\":\"white\"}},\"header\":{\"fill\":{\"color\":\"#C8D4E3\"},\"line\":{\"color\":\"white\"}},\"type\":\"table\"}],\"barpolar\":[{\"marker\":{\"line\":{\"color\":\"#E5ECF6\",\"width\":0.5},\"pattern\":{\"fillmode\":\"overlay\",\"size\":10,\"solidity\":0.2}},\"type\":\"barpolar\"}],\"pie\":[{\"automargin\":true,\"type\":\"pie\"}]},\"layout\":{\"autotypenumbers\":\"strict\",\"colorway\":[\"#636efa\",\"#EF553B\",\"#00cc96\",\"#ab63fa\",\"#FFA15A\",\"#19d3f3\",\"#FF6692\",\"#B6E880\",\"#FF97FF\",\"#FECB52\"],\"font\":{\"color\":\"#2a3f5f\"},\"hovermode\":\"closest\",\"hoverlabel\":{\"align\":\"left\"},\"paper_bgcolor\":\"white\",\"plot_bgcolor\":\"#E5ECF6\",\"polar\":{\"bgcolor\":\"#E5ECF6\",\"angularaxis\":{\"gridcolor\":\"white\",\"linecolor\":\"white\",\"ticks\":\"\"},\"radialaxis\":{\"gridcolor\":\"white\",\"linecolor\":\"white\",\"ticks\":\"\"}},\"ternary\":{\"bgcolor\":\"#E5ECF6\",\"aaxis\":{\"gridcolor\":\"white\",\"linecolor\":\"white\",\"ticks\":\"\"},\"baxis\":{\"gridcolor\":\"white\",\"linecolor\":\"white\",\"ticks\":\"\"},\"caxis\":{\"gridcolor\":\"white\",\"linecolor\":\"white\",\"ticks\":\"\"}},\"coloraxis\":{\"colorbar\":{\"outlinewidth\":0,\"ticks\":\"\"}},\"colorscale\":{\"sequential\":[[0.0,\"#0d0887\"],[0.1111111111111111,\"#46039f\"],[0.2222222222222222,\"#7201a8\"],[0.3333333333333333,\"#9c179e\"],[0.4444444444444444,\"#bd3786\"],[0.5555555555555556,\"#d8576b\"],[0.6666666666666666,\"#ed7953\"],[0.7777777777777778,\"#fb9f3a\"],[0.8888888888888888,\"#fdca26\"],[1.0,\"#f0f921\"]],\"sequentialminus\":[[0.0,\"#0d0887\"],[0.1111111111111111,\"#46039f\"],[0.2222222222222222,\"#7201a8\"],[0.3333333333333333,\"#9c179e\"],[0.4444444444444444,\"#bd3786\"],[0.5555555555555556,\"#d8576b\"],[0.6666666666666666,\"#ed7953\"],[0.7777777777777778,\"#fb9f3a\"],[0.8888888888888888,\"#fdca26\"],[1.0,\"#f0f921\"]],\"diverging\":[[0,\"#8e0152\"],[0.1,\"#c51b7d\"],[0.2,\"#de77ae\"],[0.3,\"#f1b6da\"],[0.4,\"#fde0ef\"],[0.5,\"#f7f7f7\"],[0.6,\"#e6f5d0\"],[0.7,\"#b8e186\"],[0.8,\"#7fbc41\"],[0.9,\"#4d9221\"],[1,\"#276419\"]]},\"xaxis\":{\"gridcolor\":\"white\",\"linecolor\":\"white\",\"ticks\":\"\",\"title\":{\"standoff\":15},\"zerolinecolor\":\"white\",\"automargin\":true,\"zerolinewidth\":2},\"yaxis\":{\"gridcolor\":\"white\",\"linecolor\":\"white\",\"ticks\":\"\",\"title\":{\"standoff\":15},\"zerolinecolor\":\"white\",\"automargin\":true,\"zerolinewidth\":2},\"scene\":{\"xaxis\":{\"backgroundcolor\":\"#E5ECF6\",\"gridcolor\":\"white\",\"linecolor\":\"white\",\"showbackground\":true,\"ticks\":\"\",\"zerolinecolor\":\"white\",\"gridwidth\":2},\"yaxis\":{\"backgroundcolor\":\"#E5ECF6\",\"gridcolor\":\"white\",\"linecolor\":\"white\",\"showbackground\":true,\"ticks\":\"\",\"zerolinecolor\":\"white\",\"gridwidth\":2},\"zaxis\":{\"backgroundcolor\":\"#E5ECF6\",\"gridcolor\":\"white\",\"linecolor\":\"white\",\"showbackground\":true,\"ticks\":\"\",\"zerolinecolor\":\"white\",\"gridwidth\":2}},\"shapedefaults\":{\"line\":{\"color\":\"#2a3f5f\"}},\"annotationdefaults\":{\"arrowcolor\":\"#2a3f5f\",\"arrowhead\":0,\"arrowwidth\":1},\"geo\":{\"bgcolor\":\"white\",\"landcolor\":\"#E5ECF6\",\"subunitcolor\":\"white\",\"showland\":true,\"showlakes\":true,\"lakecolor\":\"white\"},\"title\":{\"x\":0.05},\"mapbox\":{\"style\":\"light\"}}}},                        {\"responsive\": true}                    ).then(function(){\n",
              "                            \n",
              "var gd = document.getElementById('7b1a5f52-3422-4e7a-84fb-5f5c8af6bbb5');\n",
              "var x = new MutationObserver(function (mutations, observer) {{\n",
              "        var display = window.getComputedStyle(gd).display;\n",
              "        if (!display || display === 'none') {{\n",
              "            console.log([gd, 'removed!']);\n",
              "            Plotly.purge(gd);\n",
              "            observer.disconnect();\n",
              "        }}\n",
              "}});\n",
              "\n",
              "// Listen for the removal of the full notebook cells\n",
              "var notebookContainer = gd.closest('#notebook-container');\n",
              "if (notebookContainer) {{\n",
              "    x.observe(notebookContainer, {childList: true});\n",
              "}}\n",
              "\n",
              "// Listen for the clearing of the current output cell\n",
              "var outputEl = gd.closest('.output');\n",
              "if (outputEl) {{\n",
              "    x.observe(outputEl, {childList: true});\n",
              "}}\n",
              "\n",
              "                        })                };                            </script>        </div>\n",
              "</body>\n",
              "</html>"
            ]
          },
          "metadata": {}
        }
      ]
    },
    {
      "cell_type": "code",
      "source": [
        "# Generate Optuna slice plot\n",
        "fig = optuna.visualization.plot_slice(study)\n",
        "fig.show()"
      ],
      "metadata": {
        "id": "ijbPeIp9Mwyo",
        "colab": {
          "base_uri": "https://localhost:8080/",
          "height": 562
        },
        "outputId": "8a611f4b-5867-4686-e3a7-f74abbf44b8a"
      },
      "execution_count": null,
      "outputs": [
        {
          "output_type": "display_data",
          "data": {
            "text/html": [
              "<html>\n",
              "<head><meta charset=\"utf-8\" /></head>\n",
              "<body>\n",
              "    <div>            <script src=\"https://cdnjs.cloudflare.com/ajax/libs/mathjax/2.7.5/MathJax.js?config=TeX-AMS-MML_SVG\"></script><script type=\"text/javascript\">if (window.MathJax && window.MathJax.Hub && window.MathJax.Hub.Config) {window.MathJax.Hub.Config({SVG: {font: \"STIX-Web\"}});}</script>                <script type=\"text/javascript\">window.PlotlyConfig = {MathJaxConfig: 'local'};</script>\n",
              "        <script charset=\"utf-8\" src=\"https://cdn.plot.ly/plotly-2.24.1.min.js\"></script>                <div id=\"0113e82b-8ddd-433c-85fe-f60c6ccd93c9\" class=\"plotly-graph-div\" style=\"height:525px; width:3300px;\"></div>            <script type=\"text/javascript\">                                    window.PLOTLYENV=window.PLOTLYENV || {};                                    if (document.getElementById(\"0113e82b-8ddd-433c-85fe-f60c6ccd93c9\")) {                    Plotly.newPlot(                        \"0113e82b-8ddd-433c-85fe-f60c6ccd93c9\",                        [{\"marker\":{\"color\":[0,1,2,3,4,5,6,7,8,9],\"colorbar\":{\"title\":{\"text\":\"Trial\"},\"x\":1.0,\"xpad\":40},\"colorscale\":[[0.0,\"rgb(247,251,255)\"],[0.125,\"rgb(222,235,247)\"],[0.25,\"rgb(198,219,239)\"],[0.375,\"rgb(158,202,225)\"],[0.5,\"rgb(107,174,214)\"],[0.625,\"rgb(66,146,198)\"],[0.75,\"rgb(33,113,181)\"],[0.875,\"rgb(8,81,156)\"],[1.0,\"rgb(8,48,107)\"]],\"line\":{\"color\":\"Grey\",\"width\":0.5},\"showscale\":true},\"mode\":\"markers\",\"name\":\"Feasible Trial\",\"showlegend\":false,\"x\":[64,64,32,128,128,32,64,64,16,32],\"y\":[0.0012326569994911551,0.0007169367163442075,0.00032765869400464,0.0020635786931961775,0.0003737258957698941,0.0018011076608672738,0.0021899279672652483,0.00178173475433141,0.0003659132053144276,0.002473421161994338],\"type\":\"scatter\",\"xaxis\":\"x\",\"yaxis\":\"y\"},{\"marker\":{\"color\":[0,1,2,3,4,5,6,7,8,9],\"colorbar\":{\"title\":{\"text\":\"Trial\"},\"x\":1.0,\"xpad\":40},\"colorscale\":[[0.0,\"rgb(247,251,255)\"],[0.125,\"rgb(222,235,247)\"],[0.25,\"rgb(198,219,239)\"],[0.375,\"rgb(158,202,225)\"],[0.5,\"rgb(107,174,214)\"],[0.625,\"rgb(66,146,198)\"],[0.75,\"rgb(33,113,181)\"],[0.875,\"rgb(8,81,156)\"],[1.0,\"rgb(8,48,107)\"]],\"line\":{\"color\":\"Grey\",\"width\":0.5},\"showscale\":false},\"mode\":\"markers\",\"name\":\"Feasible Trial\",\"showlegend\":false,\"x\":[0.3831416514692201,0.14302786963465058,0.3265446238324807,0.23527026517524108,0.35397522987084373,0.3658880835986181,0.4650066932008885,0.11174390776878529,0.2859505541646955,0.08120091080486508],\"y\":[0.0012326569994911551,0.0007169367163442075,0.00032765869400464,0.0020635786931961775,0.0003737258957698941,0.0018011076608672738,0.0021899279672652483,0.00178173475433141,0.0003659132053144276,0.002473421161994338],\"type\":\"scatter\",\"xaxis\":\"x2\",\"yaxis\":\"y2\"},{\"marker\":{\"color\":[0,1,3,5,6,7,8,9],\"colorbar\":{\"title\":{\"text\":\"Trial\"},\"x\":1.0,\"xpad\":40},\"colorscale\":[[0.0,\"rgb(247,251,255)\"],[0.125,\"rgb(222,235,247)\"],[0.25,\"rgb(198,219,239)\"],[0.375,\"rgb(158,202,225)\"],[0.5,\"rgb(107,174,214)\"],[0.625,\"rgb(66,146,198)\"],[0.75,\"rgb(33,113,181)\"],[0.875,\"rgb(8,81,156)\"],[1.0,\"rgb(8,48,107)\"]],\"line\":{\"color\":\"Grey\",\"width\":0.5},\"showscale\":false},\"mode\":\"markers\",\"name\":\"Feasible Trial\",\"showlegend\":false,\"x\":[0.4063574557107873,0.4649415119222818,0.4674819315527402,0.38537173063452496,0.262004932883332,0.2507637133839949,0.09162325074473754,0.0762974838377592],\"y\":[0.0012326569994911551,0.0007169367163442075,0.0020635786931961775,0.0018011076608672738,0.0021899279672652483,0.00178173475433141,0.0003659132053144276,0.002473421161994338],\"type\":\"scatter\",\"xaxis\":\"x3\",\"yaxis\":\"y3\"},{\"marker\":{\"color\":[0,1,3,5,6,7,9],\"colorbar\":{\"title\":{\"text\":\"Trial\"},\"x\":1.0,\"xpad\":40},\"colorscale\":[[0.0,\"rgb(247,251,255)\"],[0.125,\"rgb(222,235,247)\"],[0.25,\"rgb(198,219,239)\"],[0.375,\"rgb(158,202,225)\"],[0.5,\"rgb(107,174,214)\"],[0.625,\"rgb(66,146,198)\"],[0.75,\"rgb(33,113,181)\"],[0.875,\"rgb(8,81,156)\"],[1.0,\"rgb(8,48,107)\"]],\"line\":{\"color\":\"Grey\",\"width\":0.5},\"showscale\":false},\"mode\":\"markers\",\"name\":\"Feasible Trial\",\"showlegend\":false,\"x\":[0.49569315490721866,0.2569998220501361,0.06698654164424889,0.09444875938901937,0.23393442960905514,0.07937883940103413,0.3830083071018065],\"y\":[0.0012326569994911551,0.0007169367163442075,0.0020635786931961775,0.0018011076608672738,0.0021899279672652483,0.00178173475433141,0.002473421161994338],\"type\":\"scatter\",\"xaxis\":\"x4\",\"yaxis\":\"y4\"},{\"marker\":{\"color\":[1,3,5,7,9],\"colorbar\":{\"title\":{\"text\":\"Trial\"},\"x\":1.0,\"xpad\":40},\"colorscale\":[[0.0,\"rgb(247,251,255)\"],[0.125,\"rgb(222,235,247)\"],[0.25,\"rgb(198,219,239)\"],[0.375,\"rgb(158,202,225)\"],[0.5,\"rgb(107,174,214)\"],[0.625,\"rgb(66,146,198)\"],[0.75,\"rgb(33,113,181)\"],[0.875,\"rgb(8,81,156)\"],[1.0,\"rgb(8,48,107)\"]],\"line\":{\"color\":\"Grey\",\"width\":0.5},\"showscale\":false},\"mode\":\"markers\",\"name\":\"Feasible Trial\",\"showlegend\":false,\"x\":[0.05066640939998629,0.49179927045218963,0.3892603769316305,0.19852533369848896,0.10179973526244757],\"y\":[0.0007169367163442075,0.0020635786931961775,0.0018011076608672738,0.00178173475433141,0.002473421161994338],\"type\":\"scatter\",\"xaxis\":\"x5\",\"yaxis\":\"y5\"},{\"marker\":{\"color\":[0,1,2,3,4,5,6,7,8,9],\"colorbar\":{\"title\":{\"text\":\"Trial\"},\"x\":1.0,\"xpad\":40},\"colorscale\":[[0.0,\"rgb(247,251,255)\"],[0.125,\"rgb(222,235,247)\"],[0.25,\"rgb(198,219,239)\"],[0.375,\"rgb(158,202,225)\"],[0.5,\"rgb(107,174,214)\"],[0.625,\"rgb(66,146,198)\"],[0.75,\"rgb(33,113,181)\"],[0.875,\"rgb(8,81,156)\"],[1.0,\"rgb(8,48,107)\"]],\"line\":{\"color\":\"Grey\",\"width\":0.5},\"showscale\":false},\"mode\":\"markers\",\"name\":\"Feasible Trial\",\"showlegend\":false,\"x\":[0.008206903008998827,0.001473334645631859,0.012101255802657094,0.00016775176922939554,0.05583588559581306,0.00013883807914261189,1.3918460061940963e-05,6.145282644476075e-05,0.00021359370888781147,1.0709958100680404e-05],\"y\":[0.0012326569994911551,0.0007169367163442075,0.00032765869400464,0.0020635786931961775,0.0003737258957698941,0.0018011076608672738,0.0021899279672652483,0.00178173475433141,0.0003659132053144276,0.002473421161994338],\"type\":\"scatter\",\"xaxis\":\"x6\",\"yaxis\":\"y6\"},{\"marker\":{\"color\":[0,1,2,3,4,5,6,7,8,9],\"colorbar\":{\"title\":{\"text\":\"Trial\"},\"x\":1.0,\"xpad\":40},\"colorscale\":[[0.0,\"rgb(247,251,255)\"],[0.125,\"rgb(222,235,247)\"],[0.25,\"rgb(198,219,239)\"],[0.375,\"rgb(158,202,225)\"],[0.5,\"rgb(107,174,214)\"],[0.625,\"rgb(66,146,198)\"],[0.75,\"rgb(33,113,181)\"],[0.875,\"rgb(8,81,156)\"],[1.0,\"rgb(8,48,107)\"]],\"line\":{\"color\":\"Grey\",\"width\":0.5},\"showscale\":false},\"mode\":\"markers\",\"name\":\"Feasible Trial\",\"showlegend\":false,\"x\":[3,4,1,4,1,4,3,4,2,4],\"y\":[0.0012326569994911551,0.0007169367163442075,0.00032765869400464,0.0020635786931961775,0.0003737258957698941,0.0018011076608672738,0.0021899279672652483,0.00178173475433141,0.0003659132053144276,0.002473421161994338],\"type\":\"scatter\",\"xaxis\":\"x7\",\"yaxis\":\"y7\"},{\"marker\":{\"color\":[0,1,2,3,4,5,6,7,8,9],\"colorbar\":{\"title\":{\"text\":\"Trial\"},\"x\":1.0,\"xpad\":40},\"colorscale\":[[0.0,\"rgb(247,251,255)\"],[0.125,\"rgb(222,235,247)\"],[0.25,\"rgb(198,219,239)\"],[0.375,\"rgb(158,202,225)\"],[0.5,\"rgb(107,174,214)\"],[0.625,\"rgb(66,146,198)\"],[0.75,\"rgb(33,113,181)\"],[0.875,\"rgb(8,81,156)\"],[1.0,\"rgb(8,48,107)\"]],\"line\":{\"color\":\"Grey\",\"width\":0.5},\"showscale\":false},\"mode\":\"markers\",\"name\":\"Feasible Trial\",\"showlegend\":false,\"x\":[97,179,186,220,201,242,170,131,183,207],\"y\":[0.0012326569994911551,0.0007169367163442075,0.00032765869400464,0.0020635786931961775,0.0003737258957698941,0.0018011076608672738,0.0021899279672652483,0.00178173475433141,0.0003659132053144276,0.002473421161994338],\"type\":\"scatter\",\"xaxis\":\"x8\",\"yaxis\":\"y8\"},{\"marker\":{\"color\":[0,1,3,5,6,7,8,9],\"colorbar\":{\"title\":{\"text\":\"Trial\"},\"x\":1.0,\"xpad\":40},\"colorscale\":[[0.0,\"rgb(247,251,255)\"],[0.125,\"rgb(222,235,247)\"],[0.25,\"rgb(198,219,239)\"],[0.375,\"rgb(158,202,225)\"],[0.5,\"rgb(107,174,214)\"],[0.625,\"rgb(66,146,198)\"],[0.75,\"rgb(33,113,181)\"],[0.875,\"rgb(8,81,156)\"],[1.0,\"rgb(8,48,107)\"]],\"line\":{\"color\":\"Grey\",\"width\":0.5},\"showscale\":false},\"mode\":\"markers\",\"name\":\"Feasible Trial\",\"showlegend\":false,\"x\":[209,201,83,124,113,206,202,204],\"y\":[0.0012326569994911551,0.0007169367163442075,0.0020635786931961775,0.0018011076608672738,0.0021899279672652483,0.00178173475433141,0.0003659132053144276,0.002473421161994338],\"type\":\"scatter\",\"xaxis\":\"x9\",\"yaxis\":\"y9\"},{\"marker\":{\"color\":[0,1,3,5,6,7,9],\"colorbar\":{\"title\":{\"text\":\"Trial\"},\"x\":1.0,\"xpad\":40},\"colorscale\":[[0.0,\"rgb(247,251,255)\"],[0.125,\"rgb(222,235,247)\"],[0.25,\"rgb(198,219,239)\"],[0.375,\"rgb(158,202,225)\"],[0.5,\"rgb(107,174,214)\"],[0.625,\"rgb(66,146,198)\"],[0.75,\"rgb(33,113,181)\"],[0.875,\"rgb(8,81,156)\"],[1.0,\"rgb(8,48,107)\"]],\"line\":{\"color\":\"Grey\",\"width\":0.5},\"showscale\":false},\"mode\":\"markers\",\"name\":\"Feasible Trial\",\"showlegend\":false,\"x\":[196,82,89,247,239,236,145],\"y\":[0.0012326569994911551,0.0007169367163442075,0.0020635786931961775,0.0018011076608672738,0.0021899279672652483,0.00178173475433141,0.002473421161994338],\"type\":\"scatter\",\"xaxis\":\"x10\",\"yaxis\":\"y10\"},{\"marker\":{\"color\":[1,3,5,7,9],\"colorbar\":{\"title\":{\"text\":\"Trial\"},\"x\":1.0,\"xpad\":40},\"colorscale\":[[0.0,\"rgb(247,251,255)\"],[0.125,\"rgb(222,235,247)\"],[0.25,\"rgb(198,219,239)\"],[0.375,\"rgb(158,202,225)\"],[0.5,\"rgb(107,174,214)\"],[0.625,\"rgb(66,146,198)\"],[0.75,\"rgb(33,113,181)\"],[0.875,\"rgb(8,81,156)\"],[1.0,\"rgb(8,48,107)\"]],\"line\":{\"color\":\"Grey\",\"width\":0.5},\"showscale\":false},\"mode\":\"markers\",\"name\":\"Feasible Trial\",\"showlegend\":false,\"x\":[128,123,237,101,151],\"y\":[0.0007169367163442075,0.0020635786931961775,0.0018011076608672738,0.00178173475433141,0.002473421161994338],\"type\":\"scatter\",\"xaxis\":\"x11\",\"yaxis\":\"y11\"}],                        {\"template\":{\"data\":{\"histogram2dcontour\":[{\"type\":\"histogram2dcontour\",\"colorbar\":{\"outlinewidth\":0,\"ticks\":\"\"},\"colorscale\":[[0.0,\"#0d0887\"],[0.1111111111111111,\"#46039f\"],[0.2222222222222222,\"#7201a8\"],[0.3333333333333333,\"#9c179e\"],[0.4444444444444444,\"#bd3786\"],[0.5555555555555556,\"#d8576b\"],[0.6666666666666666,\"#ed7953\"],[0.7777777777777778,\"#fb9f3a\"],[0.8888888888888888,\"#fdca26\"],[1.0,\"#f0f921\"]]}],\"choropleth\":[{\"type\":\"choropleth\",\"colorbar\":{\"outlinewidth\":0,\"ticks\":\"\"}}],\"histogram2d\":[{\"type\":\"histogram2d\",\"colorbar\":{\"outlinewidth\":0,\"ticks\":\"\"},\"colorscale\":[[0.0,\"#0d0887\"],[0.1111111111111111,\"#46039f\"],[0.2222222222222222,\"#7201a8\"],[0.3333333333333333,\"#9c179e\"],[0.4444444444444444,\"#bd3786\"],[0.5555555555555556,\"#d8576b\"],[0.6666666666666666,\"#ed7953\"],[0.7777777777777778,\"#fb9f3a\"],[0.8888888888888888,\"#fdca26\"],[1.0,\"#f0f921\"]]}],\"heatmap\":[{\"type\":\"heatmap\",\"colorbar\":{\"outlinewidth\":0,\"ticks\":\"\"},\"colorscale\":[[0.0,\"#0d0887\"],[0.1111111111111111,\"#46039f\"],[0.2222222222222222,\"#7201a8\"],[0.3333333333333333,\"#9c179e\"],[0.4444444444444444,\"#bd3786\"],[0.5555555555555556,\"#d8576b\"],[0.6666666666666666,\"#ed7953\"],[0.7777777777777778,\"#fb9f3a\"],[0.8888888888888888,\"#fdca26\"],[1.0,\"#f0f921\"]]}],\"heatmapgl\":[{\"type\":\"heatmapgl\",\"colorbar\":{\"outlinewidth\":0,\"ticks\":\"\"},\"colorscale\":[[0.0,\"#0d0887\"],[0.1111111111111111,\"#46039f\"],[0.2222222222222222,\"#7201a8\"],[0.3333333333333333,\"#9c179e\"],[0.4444444444444444,\"#bd3786\"],[0.5555555555555556,\"#d8576b\"],[0.6666666666666666,\"#ed7953\"],[0.7777777777777778,\"#fb9f3a\"],[0.8888888888888888,\"#fdca26\"],[1.0,\"#f0f921\"]]}],\"contourcarpet\":[{\"type\":\"contourcarpet\",\"colorbar\":{\"outlinewidth\":0,\"ticks\":\"\"}}],\"contour\":[{\"type\":\"contour\",\"colorbar\":{\"outlinewidth\":0,\"ticks\":\"\"},\"colorscale\":[[0.0,\"#0d0887\"],[0.1111111111111111,\"#46039f\"],[0.2222222222222222,\"#7201a8\"],[0.3333333333333333,\"#9c179e\"],[0.4444444444444444,\"#bd3786\"],[0.5555555555555556,\"#d8576b\"],[0.6666666666666666,\"#ed7953\"],[0.7777777777777778,\"#fb9f3a\"],[0.8888888888888888,\"#fdca26\"],[1.0,\"#f0f921\"]]}],\"surface\":[{\"type\":\"surface\",\"colorbar\":{\"outlinewidth\":0,\"ticks\":\"\"},\"colorscale\":[[0.0,\"#0d0887\"],[0.1111111111111111,\"#46039f\"],[0.2222222222222222,\"#7201a8\"],[0.3333333333333333,\"#9c179e\"],[0.4444444444444444,\"#bd3786\"],[0.5555555555555556,\"#d8576b\"],[0.6666666666666666,\"#ed7953\"],[0.7777777777777778,\"#fb9f3a\"],[0.8888888888888888,\"#fdca26\"],[1.0,\"#f0f921\"]]}],\"mesh3d\":[{\"type\":\"mesh3d\",\"colorbar\":{\"outlinewidth\":0,\"ticks\":\"\"}}],\"scatter\":[{\"fillpattern\":{\"fillmode\":\"overlay\",\"size\":10,\"solidity\":0.2},\"type\":\"scatter\"}],\"parcoords\":[{\"type\":\"parcoords\",\"line\":{\"colorbar\":{\"outlinewidth\":0,\"ticks\":\"\"}}}],\"scatterpolargl\":[{\"type\":\"scatterpolargl\",\"marker\":{\"colorbar\":{\"outlinewidth\":0,\"ticks\":\"\"}}}],\"bar\":[{\"error_x\":{\"color\":\"#2a3f5f\"},\"error_y\":{\"color\":\"#2a3f5f\"},\"marker\":{\"line\":{\"color\":\"#E5ECF6\",\"width\":0.5},\"pattern\":{\"fillmode\":\"overlay\",\"size\":10,\"solidity\":0.2}},\"type\":\"bar\"}],\"scattergeo\":[{\"type\":\"scattergeo\",\"marker\":{\"colorbar\":{\"outlinewidth\":0,\"ticks\":\"\"}}}],\"scatterpolar\":[{\"type\":\"scatterpolar\",\"marker\":{\"colorbar\":{\"outlinewidth\":0,\"ticks\":\"\"}}}],\"histogram\":[{\"marker\":{\"pattern\":{\"fillmode\":\"overlay\",\"size\":10,\"solidity\":0.2}},\"type\":\"histogram\"}],\"scattergl\":[{\"type\":\"scattergl\",\"marker\":{\"colorbar\":{\"outlinewidth\":0,\"ticks\":\"\"}}}],\"scatter3d\":[{\"type\":\"scatter3d\",\"line\":{\"colorbar\":{\"outlinewidth\":0,\"ticks\":\"\"}},\"marker\":{\"colorbar\":{\"outlinewidth\":0,\"ticks\":\"\"}}}],\"scattermapbox\":[{\"type\":\"scattermapbox\",\"marker\":{\"colorbar\":{\"outlinewidth\":0,\"ticks\":\"\"}}}],\"scatterternary\":[{\"type\":\"scatterternary\",\"marker\":{\"colorbar\":{\"outlinewidth\":0,\"ticks\":\"\"}}}],\"scattercarpet\":[{\"type\":\"scattercarpet\",\"marker\":{\"colorbar\":{\"outlinewidth\":0,\"ticks\":\"\"}}}],\"carpet\":[{\"aaxis\":{\"endlinecolor\":\"#2a3f5f\",\"gridcolor\":\"white\",\"linecolor\":\"white\",\"minorgridcolor\":\"white\",\"startlinecolor\":\"#2a3f5f\"},\"baxis\":{\"endlinecolor\":\"#2a3f5f\",\"gridcolor\":\"white\",\"linecolor\":\"white\",\"minorgridcolor\":\"white\",\"startlinecolor\":\"#2a3f5f\"},\"type\":\"carpet\"}],\"table\":[{\"cells\":{\"fill\":{\"color\":\"#EBF0F8\"},\"line\":{\"color\":\"white\"}},\"header\":{\"fill\":{\"color\":\"#C8D4E3\"},\"line\":{\"color\":\"white\"}},\"type\":\"table\"}],\"barpolar\":[{\"marker\":{\"line\":{\"color\":\"#E5ECF6\",\"width\":0.5},\"pattern\":{\"fillmode\":\"overlay\",\"size\":10,\"solidity\":0.2}},\"type\":\"barpolar\"}],\"pie\":[{\"automargin\":true,\"type\":\"pie\"}]},\"layout\":{\"autotypenumbers\":\"strict\",\"colorway\":[\"#636efa\",\"#EF553B\",\"#00cc96\",\"#ab63fa\",\"#FFA15A\",\"#19d3f3\",\"#FF6692\",\"#B6E880\",\"#FF97FF\",\"#FECB52\"],\"font\":{\"color\":\"#2a3f5f\"},\"hovermode\":\"closest\",\"hoverlabel\":{\"align\":\"left\"},\"paper_bgcolor\":\"white\",\"plot_bgcolor\":\"#E5ECF6\",\"polar\":{\"bgcolor\":\"#E5ECF6\",\"angularaxis\":{\"gridcolor\":\"white\",\"linecolor\":\"white\",\"ticks\":\"\"},\"radialaxis\":{\"gridcolor\":\"white\",\"linecolor\":\"white\",\"ticks\":\"\"}},\"ternary\":{\"bgcolor\":\"#E5ECF6\",\"aaxis\":{\"gridcolor\":\"white\",\"linecolor\":\"white\",\"ticks\":\"\"},\"baxis\":{\"gridcolor\":\"white\",\"linecolor\":\"white\",\"ticks\":\"\"},\"caxis\":{\"gridcolor\":\"white\",\"linecolor\":\"white\",\"ticks\":\"\"}},\"coloraxis\":{\"colorbar\":{\"outlinewidth\":0,\"ticks\":\"\"}},\"colorscale\":{\"sequential\":[[0.0,\"#0d0887\"],[0.1111111111111111,\"#46039f\"],[0.2222222222222222,\"#7201a8\"],[0.3333333333333333,\"#9c179e\"],[0.4444444444444444,\"#bd3786\"],[0.5555555555555556,\"#d8576b\"],[0.6666666666666666,\"#ed7953\"],[0.7777777777777778,\"#fb9f3a\"],[0.8888888888888888,\"#fdca26\"],[1.0,\"#f0f921\"]],\"sequentialminus\":[[0.0,\"#0d0887\"],[0.1111111111111111,\"#46039f\"],[0.2222222222222222,\"#7201a8\"],[0.3333333333333333,\"#9c179e\"],[0.4444444444444444,\"#bd3786\"],[0.5555555555555556,\"#d8576b\"],[0.6666666666666666,\"#ed7953\"],[0.7777777777777778,\"#fb9f3a\"],[0.8888888888888888,\"#fdca26\"],[1.0,\"#f0f921\"]],\"diverging\":[[0,\"#8e0152\"],[0.1,\"#c51b7d\"],[0.2,\"#de77ae\"],[0.3,\"#f1b6da\"],[0.4,\"#fde0ef\"],[0.5,\"#f7f7f7\"],[0.6,\"#e6f5d0\"],[0.7,\"#b8e186\"],[0.8,\"#7fbc41\"],[0.9,\"#4d9221\"],[1,\"#276419\"]]},\"xaxis\":{\"gridcolor\":\"white\",\"linecolor\":\"white\",\"ticks\":\"\",\"title\":{\"standoff\":15},\"zerolinecolor\":\"white\",\"automargin\":true,\"zerolinewidth\":2},\"yaxis\":{\"gridcolor\":\"white\",\"linecolor\":\"white\",\"ticks\":\"\",\"title\":{\"standoff\":15},\"zerolinecolor\":\"white\",\"automargin\":true,\"zerolinewidth\":2},\"scene\":{\"xaxis\":{\"backgroundcolor\":\"#E5ECF6\",\"gridcolor\":\"white\",\"linecolor\":\"white\",\"showbackground\":true,\"ticks\":\"\",\"zerolinecolor\":\"white\",\"gridwidth\":2},\"yaxis\":{\"backgroundcolor\":\"#E5ECF6\",\"gridcolor\":\"white\",\"linecolor\":\"white\",\"showbackground\":true,\"ticks\":\"\",\"zerolinecolor\":\"white\",\"gridwidth\":2},\"zaxis\":{\"backgroundcolor\":\"#E5ECF6\",\"gridcolor\":\"white\",\"linecolor\":\"white\",\"showbackground\":true,\"ticks\":\"\",\"zerolinecolor\":\"white\",\"gridwidth\":2}},\"shapedefaults\":{\"line\":{\"color\":\"#2a3f5f\"}},\"annotationdefaults\":{\"arrowcolor\":\"#2a3f5f\",\"arrowhead\":0,\"arrowwidth\":1},\"geo\":{\"bgcolor\":\"white\",\"landcolor\":\"#E5ECF6\",\"subunitcolor\":\"white\",\"showland\":true,\"showlakes\":true,\"lakecolor\":\"white\"},\"title\":{\"x\":0.05},\"mapbox\":{\"style\":\"light\"}}},\"xaxis\":{\"anchor\":\"y\",\"domain\":[0.0,0.07438016528925619],\"title\":{\"text\":\"batch_size\"},\"type\":\"category\",\"categoryorder\":\"array\",\"categoryarray\":[16,32,64,128]},\"yaxis\":{\"anchor\":\"x\",\"domain\":[0.0,1.0],\"title\":{\"text\":\"Objective Value\"}},\"xaxis2\":{\"anchor\":\"y2\",\"domain\":[0.09256198347107437,0.16694214876033056],\"title\":{\"text\":\"dropout_0\"}},\"yaxis2\":{\"anchor\":\"x2\",\"domain\":[0.0,1.0],\"matches\":\"y\",\"showticklabels\":false},\"xaxis3\":{\"anchor\":\"y3\",\"domain\":[0.18512396694214875,0.25950413223140495],\"title\":{\"text\":\"dropout_1\"}},\"yaxis3\":{\"anchor\":\"x3\",\"domain\":[0.0,1.0],\"matches\":\"y\",\"showticklabels\":false},\"xaxis4\":{\"anchor\":\"y4\",\"domain\":[0.27768595041322314,0.3520661157024793],\"title\":{\"text\":\"dropout_2\"}},\"yaxis4\":{\"anchor\":\"x4\",\"domain\":[0.0,1.0],\"matches\":\"y\",\"showticklabels\":false},\"xaxis5\":{\"anchor\":\"y5\",\"domain\":[0.3702479338842975,0.44462809917355367],\"title\":{\"text\":\"dropout_3\"}},\"yaxis5\":{\"anchor\":\"x5\",\"domain\":[0.0,1.0],\"matches\":\"y\",\"showticklabels\":false},\"xaxis6\":{\"anchor\":\"y6\",\"domain\":[0.46280991735537186,0.5371900826446281],\"title\":{\"text\":\"learning_rate\"},\"type\":\"log\"},\"yaxis6\":{\"anchor\":\"x6\",\"domain\":[0.0,1.0],\"matches\":\"y\",\"showticklabels\":false},\"xaxis7\":{\"anchor\":\"y7\",\"domain\":[0.5553719008264462,0.6297520661157023],\"title\":{\"text\":\"num_layers\"}},\"yaxis7\":{\"anchor\":\"x7\",\"domain\":[0.0,1.0],\"matches\":\"y\",\"showticklabels\":false},\"xaxis8\":{\"anchor\":\"y8\",\"domain\":[0.6479338842975206,0.7223140495867768],\"title\":{\"text\":\"units_0\"}},\"yaxis8\":{\"anchor\":\"x8\",\"domain\":[0.0,1.0],\"matches\":\"y\",\"showticklabels\":false},\"xaxis9\":{\"anchor\":\"y9\",\"domain\":[0.740495867768595,0.8148760330578512],\"title\":{\"text\":\"units_1\"}},\"yaxis9\":{\"anchor\":\"x9\",\"domain\":[0.0,1.0],\"matches\":\"y\",\"showticklabels\":false},\"xaxis10\":{\"anchor\":\"y10\",\"domain\":[0.8330578512396694,0.9074380165289255],\"title\":{\"text\":\"units_2\"}},\"yaxis10\":{\"anchor\":\"x10\",\"domain\":[0.0,1.0],\"matches\":\"y\",\"showticklabels\":false},\"xaxis11\":{\"anchor\":\"y11\",\"domain\":[0.9256198347107437,0.9999999999999999],\"title\":{\"text\":\"units_3\"}},\"yaxis11\":{\"anchor\":\"x11\",\"domain\":[0.0,1.0],\"matches\":\"y\",\"showticklabels\":false},\"title\":{\"text\":\"Slice Plot\"},\"width\":3300},                        {\"responsive\": true}                    ).then(function(){\n",
              "                            \n",
              "var gd = document.getElementById('0113e82b-8ddd-433c-85fe-f60c6ccd93c9');\n",
              "var x = new MutationObserver(function (mutations, observer) {{\n",
              "        var display = window.getComputedStyle(gd).display;\n",
              "        if (!display || display === 'none') {{\n",
              "            console.log([gd, 'removed!']);\n",
              "            Plotly.purge(gd);\n",
              "            observer.disconnect();\n",
              "        }}\n",
              "}});\n",
              "\n",
              "// Listen for the removal of the full notebook cells\n",
              "var notebookContainer = gd.closest('#notebook-container');\n",
              "if (notebookContainer) {{\n",
              "    x.observe(notebookContainer, {childList: true});\n",
              "}}\n",
              "\n",
              "// Listen for the clearing of the current output cell\n",
              "var outputEl = gd.closest('.output');\n",
              "if (outputEl) {{\n",
              "    x.observe(outputEl, {childList: true});\n",
              "}}\n",
              "\n",
              "                        })                };                            </script>        </div>\n",
              "</body>\n",
              "</html>"
            ]
          },
          "metadata": {}
        }
      ]
    },
    {
      "cell_type": "code",
      "source": [
        "# Generate Optuna parallel coordinate plot\n",
        "fig = optuna.visualization.plot_parallel_coordinate(study)\n",
        "fig.show()"
      ],
      "metadata": {
        "id": "3y-E123BMvOk",
        "colab": {
          "base_uri": "https://localhost:8080/",
          "height": 542
        },
        "outputId": "ebc0909a-9977-4f91-cd75-e048967758f7"
      },
      "execution_count": null,
      "outputs": [
        {
          "output_type": "display_data",
          "data": {
            "text/html": [
              "<html>\n",
              "<head><meta charset=\"utf-8\" /></head>\n",
              "<body>\n",
              "    <div>            <script src=\"https://cdnjs.cloudflare.com/ajax/libs/mathjax/2.7.5/MathJax.js?config=TeX-AMS-MML_SVG\"></script><script type=\"text/javascript\">if (window.MathJax && window.MathJax.Hub && window.MathJax.Hub.Config) {window.MathJax.Hub.Config({SVG: {font: \"STIX-Web\"}});}</script>                <script type=\"text/javascript\">window.PlotlyConfig = {MathJaxConfig: 'local'};</script>\n",
              "        <script charset=\"utf-8\" src=\"https://cdn.plot.ly/plotly-2.24.1.min.js\"></script>                <div id=\"41af0344-1403-46a7-97e3-013310ddf129\" class=\"plotly-graph-div\" style=\"height:525px; width:100%;\"></div>            <script type=\"text/javascript\">                                    window.PLOTLYENV=window.PLOTLYENV || {};                                    if (document.getElementById(\"41af0344-1403-46a7-97e3-013310ddf129\")) {                    Plotly.newPlot(                        \"41af0344-1403-46a7-97e3-013310ddf129\",                        [{\"dimensions\":[{\"label\":\"Objective Value\",\"range\":[0.0007169367163442075,0.002473421161994338],\"values\":[0.0018011076608672738,0.002473421161994338,0.0007169367163442075,0.00178173475433141,0.0020635786931961775]},{\"label\":\"batch_size\",\"range\":[0,2],\"ticktext\":[\"32\",\"64\",\"128\"],\"tickvals\":[0,1,2],\"values\":[0,0,1,1,2]},{\"label\":\"dropout_0\",\"range\":[0.08120091080486508,0.3658880835986181],\"values\":[0.3658880835986181,0.08120091080486508,0.14302786963465058,0.11174390776878529,0.23527026517524108]},{\"label\":\"dropout_1\",\"range\":[0.0762974838377592,0.4674819315527402],\"values\":[0.38537173063452496,0.0762974838377592,0.4649415119222818,0.2507637133839949,0.4674819315527402]},{\"label\":\"dropout_2\",\"range\":[0.06698654164424889,0.3830083071018065],\"values\":[0.09444875938901937,0.3830083071018065,0.2569998220501361,0.07937883940103413,0.06698654164424889]},{\"label\":\"dropout_3\",\"range\":[0.05066640939998629,0.49179927045218963],\"values\":[0.3892603769316305,0.10179973526244757,0.05066640939998629,0.19852533369848896,0.49179927045218963]},{\"label\":\"learning_rate\",\"range\":[-4.970212228204455,-2.831698598544493],\"ticktext\":[\"1.07e-05\",\"0.0001\",\"0.001\",\"0.00147\"],\"tickvals\":[-4.970212228204455,-4,-3,-2.831698598544493],\"values\":[-3.857491403525078,-4.970212228204455,-2.831698598544493,-4.211458137494636,-3.7753328907565153]},{\"label\":\"num_layers\",\"range\":[4,4],\"values\":[4,4,4,4,4]},{\"label\":\"units_0\",\"range\":[131,242],\"values\":[242,207,179,131,220]},{\"label\":\"units_1\",\"range\":[83,206],\"values\":[124,204,201,206,83]},{\"label\":\"units_2\",\"range\":[82,247],\"values\":[247,145,82,236,89]},{\"label\":\"units_3\",\"range\":[101,237],\"values\":[237,151,128,101,123]}],\"labelangle\":30,\"labelside\":\"bottom\",\"line\":{\"color\":[0.0018011076608672738,0.002473421161994338,0.0007169367163442075,0.00178173475433141,0.0020635786931961775],\"colorbar\":{\"title\":{\"text\":\"Objective Value\"}},\"colorscale\":[[0.0,\"rgb(247,251,255)\"],[0.125,\"rgb(222,235,247)\"],[0.25,\"rgb(198,219,239)\"],[0.375,\"rgb(158,202,225)\"],[0.5,\"rgb(107,174,214)\"],[0.625,\"rgb(66,146,198)\"],[0.75,\"rgb(33,113,181)\"],[0.875,\"rgb(8,81,156)\"],[1.0,\"rgb(8,48,107)\"]],\"reversescale\":true,\"showscale\":true},\"type\":\"parcoords\"}],                        {\"title\":{\"text\":\"Parallel Coordinate Plot\"},\"template\":{\"data\":{\"histogram2dcontour\":[{\"type\":\"histogram2dcontour\",\"colorbar\":{\"outlinewidth\":0,\"ticks\":\"\"},\"colorscale\":[[0.0,\"#0d0887\"],[0.1111111111111111,\"#46039f\"],[0.2222222222222222,\"#7201a8\"],[0.3333333333333333,\"#9c179e\"],[0.4444444444444444,\"#bd3786\"],[0.5555555555555556,\"#d8576b\"],[0.6666666666666666,\"#ed7953\"],[0.7777777777777778,\"#fb9f3a\"],[0.8888888888888888,\"#fdca26\"],[1.0,\"#f0f921\"]]}],\"choropleth\":[{\"type\":\"choropleth\",\"colorbar\":{\"outlinewidth\":0,\"ticks\":\"\"}}],\"histogram2d\":[{\"type\":\"histogram2d\",\"colorbar\":{\"outlinewidth\":0,\"ticks\":\"\"},\"colorscale\":[[0.0,\"#0d0887\"],[0.1111111111111111,\"#46039f\"],[0.2222222222222222,\"#7201a8\"],[0.3333333333333333,\"#9c179e\"],[0.4444444444444444,\"#bd3786\"],[0.5555555555555556,\"#d8576b\"],[0.6666666666666666,\"#ed7953\"],[0.7777777777777778,\"#fb9f3a\"],[0.8888888888888888,\"#fdca26\"],[1.0,\"#f0f921\"]]}],\"heatmap\":[{\"type\":\"heatmap\",\"colorbar\":{\"outlinewidth\":0,\"ticks\":\"\"},\"colorscale\":[[0.0,\"#0d0887\"],[0.1111111111111111,\"#46039f\"],[0.2222222222222222,\"#7201a8\"],[0.3333333333333333,\"#9c179e\"],[0.4444444444444444,\"#bd3786\"],[0.5555555555555556,\"#d8576b\"],[0.6666666666666666,\"#ed7953\"],[0.7777777777777778,\"#fb9f3a\"],[0.8888888888888888,\"#fdca26\"],[1.0,\"#f0f921\"]]}],\"heatmapgl\":[{\"type\":\"heatmapgl\",\"colorbar\":{\"outlinewidth\":0,\"ticks\":\"\"},\"colorscale\":[[0.0,\"#0d0887\"],[0.1111111111111111,\"#46039f\"],[0.2222222222222222,\"#7201a8\"],[0.3333333333333333,\"#9c179e\"],[0.4444444444444444,\"#bd3786\"],[0.5555555555555556,\"#d8576b\"],[0.6666666666666666,\"#ed7953\"],[0.7777777777777778,\"#fb9f3a\"],[0.8888888888888888,\"#fdca26\"],[1.0,\"#f0f921\"]]}],\"contourcarpet\":[{\"type\":\"contourcarpet\",\"colorbar\":{\"outlinewidth\":0,\"ticks\":\"\"}}],\"contour\":[{\"type\":\"contour\",\"colorbar\":{\"outlinewidth\":0,\"ticks\":\"\"},\"colorscale\":[[0.0,\"#0d0887\"],[0.1111111111111111,\"#46039f\"],[0.2222222222222222,\"#7201a8\"],[0.3333333333333333,\"#9c179e\"],[0.4444444444444444,\"#bd3786\"],[0.5555555555555556,\"#d8576b\"],[0.6666666666666666,\"#ed7953\"],[0.7777777777777778,\"#fb9f3a\"],[0.8888888888888888,\"#fdca26\"],[1.0,\"#f0f921\"]]}],\"surface\":[{\"type\":\"surface\",\"colorbar\":{\"outlinewidth\":0,\"ticks\":\"\"},\"colorscale\":[[0.0,\"#0d0887\"],[0.1111111111111111,\"#46039f\"],[0.2222222222222222,\"#7201a8\"],[0.3333333333333333,\"#9c179e\"],[0.4444444444444444,\"#bd3786\"],[0.5555555555555556,\"#d8576b\"],[0.6666666666666666,\"#ed7953\"],[0.7777777777777778,\"#fb9f3a\"],[0.8888888888888888,\"#fdca26\"],[1.0,\"#f0f921\"]]}],\"mesh3d\":[{\"type\":\"mesh3d\",\"colorbar\":{\"outlinewidth\":0,\"ticks\":\"\"}}],\"scatter\":[{\"fillpattern\":{\"fillmode\":\"overlay\",\"size\":10,\"solidity\":0.2},\"type\":\"scatter\"}],\"parcoords\":[{\"type\":\"parcoords\",\"line\":{\"colorbar\":{\"outlinewidth\":0,\"ticks\":\"\"}}}],\"scatterpolargl\":[{\"type\":\"scatterpolargl\",\"marker\":{\"colorbar\":{\"outlinewidth\":0,\"ticks\":\"\"}}}],\"bar\":[{\"error_x\":{\"color\":\"#2a3f5f\"},\"error_y\":{\"color\":\"#2a3f5f\"},\"marker\":{\"line\":{\"color\":\"#E5ECF6\",\"width\":0.5},\"pattern\":{\"fillmode\":\"overlay\",\"size\":10,\"solidity\":0.2}},\"type\":\"bar\"}],\"scattergeo\":[{\"type\":\"scattergeo\",\"marker\":{\"colorbar\":{\"outlinewidth\":0,\"ticks\":\"\"}}}],\"scatterpolar\":[{\"type\":\"scatterpolar\",\"marker\":{\"colorbar\":{\"outlinewidth\":0,\"ticks\":\"\"}}}],\"histogram\":[{\"marker\":{\"pattern\":{\"fillmode\":\"overlay\",\"size\":10,\"solidity\":0.2}},\"type\":\"histogram\"}],\"scattergl\":[{\"type\":\"scattergl\",\"marker\":{\"colorbar\":{\"outlinewidth\":0,\"ticks\":\"\"}}}],\"scatter3d\":[{\"type\":\"scatter3d\",\"line\":{\"colorbar\":{\"outlinewidth\":0,\"ticks\":\"\"}},\"marker\":{\"colorbar\":{\"outlinewidth\":0,\"ticks\":\"\"}}}],\"scattermapbox\":[{\"type\":\"scattermapbox\",\"marker\":{\"colorbar\":{\"outlinewidth\":0,\"ticks\":\"\"}}}],\"scatterternary\":[{\"type\":\"scatterternary\",\"marker\":{\"colorbar\":{\"outlinewidth\":0,\"ticks\":\"\"}}}],\"scattercarpet\":[{\"type\":\"scattercarpet\",\"marker\":{\"colorbar\":{\"outlinewidth\":0,\"ticks\":\"\"}}}],\"carpet\":[{\"aaxis\":{\"endlinecolor\":\"#2a3f5f\",\"gridcolor\":\"white\",\"linecolor\":\"white\",\"minorgridcolor\":\"white\",\"startlinecolor\":\"#2a3f5f\"},\"baxis\":{\"endlinecolor\":\"#2a3f5f\",\"gridcolor\":\"white\",\"linecolor\":\"white\",\"minorgridcolor\":\"white\",\"startlinecolor\":\"#2a3f5f\"},\"type\":\"carpet\"}],\"table\":[{\"cells\":{\"fill\":{\"color\":\"#EBF0F8\"},\"line\":{\"color\":\"white\"}},\"header\":{\"fill\":{\"color\":\"#C8D4E3\"},\"line\":{\"color\":\"white\"}},\"type\":\"table\"}],\"barpolar\":[{\"marker\":{\"line\":{\"color\":\"#E5ECF6\",\"width\":0.5},\"pattern\":{\"fillmode\":\"overlay\",\"size\":10,\"solidity\":0.2}},\"type\":\"barpolar\"}],\"pie\":[{\"automargin\":true,\"type\":\"pie\"}]},\"layout\":{\"autotypenumbers\":\"strict\",\"colorway\":[\"#636efa\",\"#EF553B\",\"#00cc96\",\"#ab63fa\",\"#FFA15A\",\"#19d3f3\",\"#FF6692\",\"#B6E880\",\"#FF97FF\",\"#FECB52\"],\"font\":{\"color\":\"#2a3f5f\"},\"hovermode\":\"closest\",\"hoverlabel\":{\"align\":\"left\"},\"paper_bgcolor\":\"white\",\"plot_bgcolor\":\"#E5ECF6\",\"polar\":{\"bgcolor\":\"#E5ECF6\",\"angularaxis\":{\"gridcolor\":\"white\",\"linecolor\":\"white\",\"ticks\":\"\"},\"radialaxis\":{\"gridcolor\":\"white\",\"linecolor\":\"white\",\"ticks\":\"\"}},\"ternary\":{\"bgcolor\":\"#E5ECF6\",\"aaxis\":{\"gridcolor\":\"white\",\"linecolor\":\"white\",\"ticks\":\"\"},\"baxis\":{\"gridcolor\":\"white\",\"linecolor\":\"white\",\"ticks\":\"\"},\"caxis\":{\"gridcolor\":\"white\",\"linecolor\":\"white\",\"ticks\":\"\"}},\"coloraxis\":{\"colorbar\":{\"outlinewidth\":0,\"ticks\":\"\"}},\"colorscale\":{\"sequential\":[[0.0,\"#0d0887\"],[0.1111111111111111,\"#46039f\"],[0.2222222222222222,\"#7201a8\"],[0.3333333333333333,\"#9c179e\"],[0.4444444444444444,\"#bd3786\"],[0.5555555555555556,\"#d8576b\"],[0.6666666666666666,\"#ed7953\"],[0.7777777777777778,\"#fb9f3a\"],[0.8888888888888888,\"#fdca26\"],[1.0,\"#f0f921\"]],\"sequentialminus\":[[0.0,\"#0d0887\"],[0.1111111111111111,\"#46039f\"],[0.2222222222222222,\"#7201a8\"],[0.3333333333333333,\"#9c179e\"],[0.4444444444444444,\"#bd3786\"],[0.5555555555555556,\"#d8576b\"],[0.6666666666666666,\"#ed7953\"],[0.7777777777777778,\"#fb9f3a\"],[0.8888888888888888,\"#fdca26\"],[1.0,\"#f0f921\"]],\"diverging\":[[0,\"#8e0152\"],[0.1,\"#c51b7d\"],[0.2,\"#de77ae\"],[0.3,\"#f1b6da\"],[0.4,\"#fde0ef\"],[0.5,\"#f7f7f7\"],[0.6,\"#e6f5d0\"],[0.7,\"#b8e186\"],[0.8,\"#7fbc41\"],[0.9,\"#4d9221\"],[1,\"#276419\"]]},\"xaxis\":{\"gridcolor\":\"white\",\"linecolor\":\"white\",\"ticks\":\"\",\"title\":{\"standoff\":15},\"zerolinecolor\":\"white\",\"automargin\":true,\"zerolinewidth\":2},\"yaxis\":{\"gridcolor\":\"white\",\"linecolor\":\"white\",\"ticks\":\"\",\"title\":{\"standoff\":15},\"zerolinecolor\":\"white\",\"automargin\":true,\"zerolinewidth\":2},\"scene\":{\"xaxis\":{\"backgroundcolor\":\"#E5ECF6\",\"gridcolor\":\"white\",\"linecolor\":\"white\",\"showbackground\":true,\"ticks\":\"\",\"zerolinecolor\":\"white\",\"gridwidth\":2},\"yaxis\":{\"backgroundcolor\":\"#E5ECF6\",\"gridcolor\":\"white\",\"linecolor\":\"white\",\"showbackground\":true,\"ticks\":\"\",\"zerolinecolor\":\"white\",\"gridwidth\":2},\"zaxis\":{\"backgroundcolor\":\"#E5ECF6\",\"gridcolor\":\"white\",\"linecolor\":\"white\",\"showbackground\":true,\"ticks\":\"\",\"zerolinecolor\":\"white\",\"gridwidth\":2}},\"shapedefaults\":{\"line\":{\"color\":\"#2a3f5f\"}},\"annotationdefaults\":{\"arrowcolor\":\"#2a3f5f\",\"arrowhead\":0,\"arrowwidth\":1},\"geo\":{\"bgcolor\":\"white\",\"landcolor\":\"#E5ECF6\",\"subunitcolor\":\"white\",\"showland\":true,\"showlakes\":true,\"lakecolor\":\"white\"},\"title\":{\"x\":0.05},\"mapbox\":{\"style\":\"light\"}}}},                        {\"responsive\": true}                    ).then(function(){\n",
              "                            \n",
              "var gd = document.getElementById('41af0344-1403-46a7-97e3-013310ddf129');\n",
              "var x = new MutationObserver(function (mutations, observer) {{\n",
              "        var display = window.getComputedStyle(gd).display;\n",
              "        if (!display || display === 'none') {{\n",
              "            console.log([gd, 'removed!']);\n",
              "            Plotly.purge(gd);\n",
              "            observer.disconnect();\n",
              "        }}\n",
              "}});\n",
              "\n",
              "// Listen for the removal of the full notebook cells\n",
              "var notebookContainer = gd.closest('#notebook-container');\n",
              "if (notebookContainer) {{\n",
              "    x.observe(notebookContainer, {childList: true});\n",
              "}}\n",
              "\n",
              "// Listen for the clearing of the current output cell\n",
              "var outputEl = gd.closest('.output');\n",
              "if (outputEl) {{\n",
              "    x.observe(outputEl, {childList: true});\n",
              "}}\n",
              "\n",
              "                        })                };                            </script>        </div>\n",
              "</body>\n",
              "</html>"
            ]
          },
          "metadata": {}
        }
      ]
    },
    {
      "cell_type": "code",
      "source": [
        "# Generate Optuna parameter importance plot\n",
        "fig = optuna.visualization.plot_param_importances(study)\n",
        "fig.show()"
      ],
      "metadata": {
        "id": "RI875AzOgFMF",
        "colab": {
          "base_uri": "https://localhost:8080/",
          "height": 542
        },
        "outputId": "e08eca04-581b-4364-c6c1-857abce648fa"
      },
      "execution_count": null,
      "outputs": [
        {
          "output_type": "display_data",
          "data": {
            "text/html": [
              "<html>\n",
              "<head><meta charset=\"utf-8\" /></head>\n",
              "<body>\n",
              "    <div>            <script src=\"https://cdnjs.cloudflare.com/ajax/libs/mathjax/2.7.5/MathJax.js?config=TeX-AMS-MML_SVG\"></script><script type=\"text/javascript\">if (window.MathJax && window.MathJax.Hub && window.MathJax.Hub.Config) {window.MathJax.Hub.Config({SVG: {font: \"STIX-Web\"}});}</script>                <script type=\"text/javascript\">window.PlotlyConfig = {MathJaxConfig: 'local'};</script>\n",
              "        <script charset=\"utf-8\" src=\"https://cdn.plot.ly/plotly-2.24.1.min.js\"></script>                <div id=\"a5e4b6d5-f0e9-4a52-9c55-25b57ed15933\" class=\"plotly-graph-div\" style=\"height:525px; width:100%;\"></div>            <script type=\"text/javascript\">                                    window.PLOTLYENV=window.PLOTLYENV || {};                                    if (document.getElementById(\"a5e4b6d5-f0e9-4a52-9c55-25b57ed15933\")) {                    Plotly.newPlot(                        \"a5e4b6d5-f0e9-4a52-9c55-25b57ed15933\",                        [{\"cliponaxis\":false,\"hovertemplate\":[\"batch_size (CategoricalDistribution): 0.10144067446866419\\u003cextra\\u003e\\u003c\\u002fextra\\u003e\",\"learning_rate (FloatDistribution): 0.1684336877226047\\u003cextra\\u003e\\u003c\\u002fextra\\u003e\",\"dropout_0 (FloatDistribution): 0.17171594262506795\\u003cextra\\u003e\\u003c\\u002fextra\\u003e\",\"num_layers (IntDistribution): 0.25754173668888614\\u003cextra\\u003e\\u003c\\u002fextra\\u003e\",\"units_0 (IntDistribution): 0.30086795849477704\\u003cextra\\u003e\\u003c\\u002fextra\\u003e\"],\"name\":\"Objective Value\",\"orientation\":\"h\",\"text\":[\"0.10\",\"0.17\",\"0.17\",\"0.26\",\"0.30\"],\"textposition\":\"outside\",\"x\":[0.10144067446866419,0.1684336877226047,0.17171594262506795,0.25754173668888614,0.30086795849477704],\"y\":[\"batch_size\",\"learning_rate\",\"dropout_0\",\"num_layers\",\"units_0\"],\"type\":\"bar\"}],                        {\"title\":{\"text\":\"Hyperparameter Importances\"},\"xaxis\":{\"title\":{\"text\":\"Hyperparameter Importance\"}},\"yaxis\":{\"title\":{\"text\":\"Hyperparameter\"}},\"template\":{\"data\":{\"histogram2dcontour\":[{\"type\":\"histogram2dcontour\",\"colorbar\":{\"outlinewidth\":0,\"ticks\":\"\"},\"colorscale\":[[0.0,\"#0d0887\"],[0.1111111111111111,\"#46039f\"],[0.2222222222222222,\"#7201a8\"],[0.3333333333333333,\"#9c179e\"],[0.4444444444444444,\"#bd3786\"],[0.5555555555555556,\"#d8576b\"],[0.6666666666666666,\"#ed7953\"],[0.7777777777777778,\"#fb9f3a\"],[0.8888888888888888,\"#fdca26\"],[1.0,\"#f0f921\"]]}],\"choropleth\":[{\"type\":\"choropleth\",\"colorbar\":{\"outlinewidth\":0,\"ticks\":\"\"}}],\"histogram2d\":[{\"type\":\"histogram2d\",\"colorbar\":{\"outlinewidth\":0,\"ticks\":\"\"},\"colorscale\":[[0.0,\"#0d0887\"],[0.1111111111111111,\"#46039f\"],[0.2222222222222222,\"#7201a8\"],[0.3333333333333333,\"#9c179e\"],[0.4444444444444444,\"#bd3786\"],[0.5555555555555556,\"#d8576b\"],[0.6666666666666666,\"#ed7953\"],[0.7777777777777778,\"#fb9f3a\"],[0.8888888888888888,\"#fdca26\"],[1.0,\"#f0f921\"]]}],\"heatmap\":[{\"type\":\"heatmap\",\"colorbar\":{\"outlinewidth\":0,\"ticks\":\"\"},\"colorscale\":[[0.0,\"#0d0887\"],[0.1111111111111111,\"#46039f\"],[0.2222222222222222,\"#7201a8\"],[0.3333333333333333,\"#9c179e\"],[0.4444444444444444,\"#bd3786\"],[0.5555555555555556,\"#d8576b\"],[0.6666666666666666,\"#ed7953\"],[0.7777777777777778,\"#fb9f3a\"],[0.8888888888888888,\"#fdca26\"],[1.0,\"#f0f921\"]]}],\"heatmapgl\":[{\"type\":\"heatmapgl\",\"colorbar\":{\"outlinewidth\":0,\"ticks\":\"\"},\"colorscale\":[[0.0,\"#0d0887\"],[0.1111111111111111,\"#46039f\"],[0.2222222222222222,\"#7201a8\"],[0.3333333333333333,\"#9c179e\"],[0.4444444444444444,\"#bd3786\"],[0.5555555555555556,\"#d8576b\"],[0.6666666666666666,\"#ed7953\"],[0.7777777777777778,\"#fb9f3a\"],[0.8888888888888888,\"#fdca26\"],[1.0,\"#f0f921\"]]}],\"contourcarpet\":[{\"type\":\"contourcarpet\",\"colorbar\":{\"outlinewidth\":0,\"ticks\":\"\"}}],\"contour\":[{\"type\":\"contour\",\"colorbar\":{\"outlinewidth\":0,\"ticks\":\"\"},\"colorscale\":[[0.0,\"#0d0887\"],[0.1111111111111111,\"#46039f\"],[0.2222222222222222,\"#7201a8\"],[0.3333333333333333,\"#9c179e\"],[0.4444444444444444,\"#bd3786\"],[0.5555555555555556,\"#d8576b\"],[0.6666666666666666,\"#ed7953\"],[0.7777777777777778,\"#fb9f3a\"],[0.8888888888888888,\"#fdca26\"],[1.0,\"#f0f921\"]]}],\"surface\":[{\"type\":\"surface\",\"colorbar\":{\"outlinewidth\":0,\"ticks\":\"\"},\"colorscale\":[[0.0,\"#0d0887\"],[0.1111111111111111,\"#46039f\"],[0.2222222222222222,\"#7201a8\"],[0.3333333333333333,\"#9c179e\"],[0.4444444444444444,\"#bd3786\"],[0.5555555555555556,\"#d8576b\"],[0.6666666666666666,\"#ed7953\"],[0.7777777777777778,\"#fb9f3a\"],[0.8888888888888888,\"#fdca26\"],[1.0,\"#f0f921\"]]}],\"mesh3d\":[{\"type\":\"mesh3d\",\"colorbar\":{\"outlinewidth\":0,\"ticks\":\"\"}}],\"scatter\":[{\"fillpattern\":{\"fillmode\":\"overlay\",\"size\":10,\"solidity\":0.2},\"type\":\"scatter\"}],\"parcoords\":[{\"type\":\"parcoords\",\"line\":{\"colorbar\":{\"outlinewidth\":0,\"ticks\":\"\"}}}],\"scatterpolargl\":[{\"type\":\"scatterpolargl\",\"marker\":{\"colorbar\":{\"outlinewidth\":0,\"ticks\":\"\"}}}],\"bar\":[{\"error_x\":{\"color\":\"#2a3f5f\"},\"error_y\":{\"color\":\"#2a3f5f\"},\"marker\":{\"line\":{\"color\":\"#E5ECF6\",\"width\":0.5},\"pattern\":{\"fillmode\":\"overlay\",\"size\":10,\"solidity\":0.2}},\"type\":\"bar\"}],\"scattergeo\":[{\"type\":\"scattergeo\",\"marker\":{\"colorbar\":{\"outlinewidth\":0,\"ticks\":\"\"}}}],\"scatterpolar\":[{\"type\":\"scatterpolar\",\"marker\":{\"colorbar\":{\"outlinewidth\":0,\"ticks\":\"\"}}}],\"histogram\":[{\"marker\":{\"pattern\":{\"fillmode\":\"overlay\",\"size\":10,\"solidity\":0.2}},\"type\":\"histogram\"}],\"scattergl\":[{\"type\":\"scattergl\",\"marker\":{\"colorbar\":{\"outlinewidth\":0,\"ticks\":\"\"}}}],\"scatter3d\":[{\"type\":\"scatter3d\",\"line\":{\"colorbar\":{\"outlinewidth\":0,\"ticks\":\"\"}},\"marker\":{\"colorbar\":{\"outlinewidth\":0,\"ticks\":\"\"}}}],\"scattermapbox\":[{\"type\":\"scattermapbox\",\"marker\":{\"colorbar\":{\"outlinewidth\":0,\"ticks\":\"\"}}}],\"scatterternary\":[{\"type\":\"scatterternary\",\"marker\":{\"colorbar\":{\"outlinewidth\":0,\"ticks\":\"\"}}}],\"scattercarpet\":[{\"type\":\"scattercarpet\",\"marker\":{\"colorbar\":{\"outlinewidth\":0,\"ticks\":\"\"}}}],\"carpet\":[{\"aaxis\":{\"endlinecolor\":\"#2a3f5f\",\"gridcolor\":\"white\",\"linecolor\":\"white\",\"minorgridcolor\":\"white\",\"startlinecolor\":\"#2a3f5f\"},\"baxis\":{\"endlinecolor\":\"#2a3f5f\",\"gridcolor\":\"white\",\"linecolor\":\"white\",\"minorgridcolor\":\"white\",\"startlinecolor\":\"#2a3f5f\"},\"type\":\"carpet\"}],\"table\":[{\"cells\":{\"fill\":{\"color\":\"#EBF0F8\"},\"line\":{\"color\":\"white\"}},\"header\":{\"fill\":{\"color\":\"#C8D4E3\"},\"line\":{\"color\":\"white\"}},\"type\":\"table\"}],\"barpolar\":[{\"marker\":{\"line\":{\"color\":\"#E5ECF6\",\"width\":0.5},\"pattern\":{\"fillmode\":\"overlay\",\"size\":10,\"solidity\":0.2}},\"type\":\"barpolar\"}],\"pie\":[{\"automargin\":true,\"type\":\"pie\"}]},\"layout\":{\"autotypenumbers\":\"strict\",\"colorway\":[\"#636efa\",\"#EF553B\",\"#00cc96\",\"#ab63fa\",\"#FFA15A\",\"#19d3f3\",\"#FF6692\",\"#B6E880\",\"#FF97FF\",\"#FECB52\"],\"font\":{\"color\":\"#2a3f5f\"},\"hovermode\":\"closest\",\"hoverlabel\":{\"align\":\"left\"},\"paper_bgcolor\":\"white\",\"plot_bgcolor\":\"#E5ECF6\",\"polar\":{\"bgcolor\":\"#E5ECF6\",\"angularaxis\":{\"gridcolor\":\"white\",\"linecolor\":\"white\",\"ticks\":\"\"},\"radialaxis\":{\"gridcolor\":\"white\",\"linecolor\":\"white\",\"ticks\":\"\"}},\"ternary\":{\"bgcolor\":\"#E5ECF6\",\"aaxis\":{\"gridcolor\":\"white\",\"linecolor\":\"white\",\"ticks\":\"\"},\"baxis\":{\"gridcolor\":\"white\",\"linecolor\":\"white\",\"ticks\":\"\"},\"caxis\":{\"gridcolor\":\"white\",\"linecolor\":\"white\",\"ticks\":\"\"}},\"coloraxis\":{\"colorbar\":{\"outlinewidth\":0,\"ticks\":\"\"}},\"colorscale\":{\"sequential\":[[0.0,\"#0d0887\"],[0.1111111111111111,\"#46039f\"],[0.2222222222222222,\"#7201a8\"],[0.3333333333333333,\"#9c179e\"],[0.4444444444444444,\"#bd3786\"],[0.5555555555555556,\"#d8576b\"],[0.6666666666666666,\"#ed7953\"],[0.7777777777777778,\"#fb9f3a\"],[0.8888888888888888,\"#fdca26\"],[1.0,\"#f0f921\"]],\"sequentialminus\":[[0.0,\"#0d0887\"],[0.1111111111111111,\"#46039f\"],[0.2222222222222222,\"#7201a8\"],[0.3333333333333333,\"#9c179e\"],[0.4444444444444444,\"#bd3786\"],[0.5555555555555556,\"#d8576b\"],[0.6666666666666666,\"#ed7953\"],[0.7777777777777778,\"#fb9f3a\"],[0.8888888888888888,\"#fdca26\"],[1.0,\"#f0f921\"]],\"diverging\":[[0,\"#8e0152\"],[0.1,\"#c51b7d\"],[0.2,\"#de77ae\"],[0.3,\"#f1b6da\"],[0.4,\"#fde0ef\"],[0.5,\"#f7f7f7\"],[0.6,\"#e6f5d0\"],[0.7,\"#b8e186\"],[0.8,\"#7fbc41\"],[0.9,\"#4d9221\"],[1,\"#276419\"]]},\"xaxis\":{\"gridcolor\":\"white\",\"linecolor\":\"white\",\"ticks\":\"\",\"title\":{\"standoff\":15},\"zerolinecolor\":\"white\",\"automargin\":true,\"zerolinewidth\":2},\"yaxis\":{\"gridcolor\":\"white\",\"linecolor\":\"white\",\"ticks\":\"\",\"title\":{\"standoff\":15},\"zerolinecolor\":\"white\",\"automargin\":true,\"zerolinewidth\":2},\"scene\":{\"xaxis\":{\"backgroundcolor\":\"#E5ECF6\",\"gridcolor\":\"white\",\"linecolor\":\"white\",\"showbackground\":true,\"ticks\":\"\",\"zerolinecolor\":\"white\",\"gridwidth\":2},\"yaxis\":{\"backgroundcolor\":\"#E5ECF6\",\"gridcolor\":\"white\",\"linecolor\":\"white\",\"showbackground\":true,\"ticks\":\"\",\"zerolinecolor\":\"white\",\"gridwidth\":2},\"zaxis\":{\"backgroundcolor\":\"#E5ECF6\",\"gridcolor\":\"white\",\"linecolor\":\"white\",\"showbackground\":true,\"ticks\":\"\",\"zerolinecolor\":\"white\",\"gridwidth\":2}},\"shapedefaults\":{\"line\":{\"color\":\"#2a3f5f\"}},\"annotationdefaults\":{\"arrowcolor\":\"#2a3f5f\",\"arrowhead\":0,\"arrowwidth\":1},\"geo\":{\"bgcolor\":\"white\",\"landcolor\":\"#E5ECF6\",\"subunitcolor\":\"white\",\"showland\":true,\"showlakes\":true,\"lakecolor\":\"white\"},\"title\":{\"x\":0.05},\"mapbox\":{\"style\":\"light\"}}}},                        {\"responsive\": true}                    ).then(function(){\n",
              "                            \n",
              "var gd = document.getElementById('a5e4b6d5-f0e9-4a52-9c55-25b57ed15933');\n",
              "var x = new MutationObserver(function (mutations, observer) {{\n",
              "        var display = window.getComputedStyle(gd).display;\n",
              "        if (!display || display === 'none') {{\n",
              "            console.log([gd, 'removed!']);\n",
              "            Plotly.purge(gd);\n",
              "            observer.disconnect();\n",
              "        }}\n",
              "}});\n",
              "\n",
              "// Listen for the removal of the full notebook cells\n",
              "var notebookContainer = gd.closest('#notebook-container');\n",
              "if (notebookContainer) {{\n",
              "    x.observe(notebookContainer, {childList: true});\n",
              "}}\n",
              "\n",
              "// Listen for the clearing of the current output cell\n",
              "var outputEl = gd.closest('.output');\n",
              "if (outputEl) {{\n",
              "    x.observe(outputEl, {childList: true});\n",
              "}}\n",
              "\n",
              "                        })                };                            </script>        </div>\n",
              "</body>\n",
              "</html>"
            ]
          },
          "metadata": {}
        }
      ]
    },
    {
      "cell_type": "code",
      "source": [
        "# Generate Optuna parameter importance plot\n",
        "fig = optuna.visualization.plot_contour(study, ['num_layers', 'units_0'])\n",
        "\n",
        "fig.show()"
      ],
      "metadata": {
        "colab": {
          "base_uri": "https://localhost:8080/",
          "height": 542
        },
        "id": "hVxKdjN37OeC",
        "outputId": "a401f1d7-9600-4174-b5a3-5c0254cca8e7"
      },
      "execution_count": null,
      "outputs": [
        {
          "output_type": "display_data",
          "data": {
            "text/html": [
              "<html>\n",
              "<head><meta charset=\"utf-8\" /></head>\n",
              "<body>\n",
              "    <div>            <script src=\"https://cdnjs.cloudflare.com/ajax/libs/mathjax/2.7.5/MathJax.js?config=TeX-AMS-MML_SVG\"></script><script type=\"text/javascript\">if (window.MathJax && window.MathJax.Hub && window.MathJax.Hub.Config) {window.MathJax.Hub.Config({SVG: {font: \"STIX-Web\"}});}</script>                <script type=\"text/javascript\">window.PlotlyConfig = {MathJaxConfig: 'local'};</script>\n",
              "        <script charset=\"utf-8\" src=\"https://cdn.plot.ly/plotly-2.24.1.min.js\"></script>                <div id=\"37875b57-1d0e-4e99-922c-5df6451607e6\" class=\"plotly-graph-div\" style=\"height:525px; width:100%;\"></div>            <script type=\"text/javascript\">                                    window.PLOTLYENV=window.PLOTLYENV || {};                                    if (document.getElementById(\"37875b57-1d0e-4e99-922c-5df6451607e6\")) {                    Plotly.newPlot(                        \"37875b57-1d0e-4e99-922c-5df6451607e6\",                        [{\"colorbar\":{\"title\":{\"text\":\"Objective Value\"}},\"colorscale\":[[0.0,\"rgb(247,251,255)\"],[0.125,\"rgb(222,235,247)\"],[0.25,\"rgb(198,219,239)\"],[0.375,\"rgb(158,202,225)\"],[0.5,\"rgb(107,174,214)\"],[0.625,\"rgb(66,146,198)\"],[0.75,\"rgb(33,113,181)\"],[0.875,\"rgb(8,81,156)\"],[1.0,\"rgb(8,48,107)\"]],\"connectgaps\":true,\"contours\":{\"coloring\":\"heatmap\"},\"hoverinfo\":\"none\",\"line\":{\"smoothing\":1.3},\"reversescale\":true,\"x\":[0.85,1,2,3,4,4.15],\"y\":[89.75,97,131,170,179,183,186,201,207,220,242,249.25],\"z\":[[null,null,null,null,null,null],[null,null,null,0.0012326569994911551,null,null],[null,null,null,null,0.00178173475433141,null],[null,null,null,0.0021899279672652483,null,null],[null,null,null,null,0.0007169367163442075,null],[null,null,0.0003659132053144276,null,null,null],[null,0.00032765869400464,null,null,null,null],[null,0.0003737258957698941,null,null,null,null],[null,null,null,null,0.002473421161994338,null],[null,null,null,null,0.0020635786931961775,null],[null,null,null,null,0.0018011076608672738,null],[null,null,null,null,null,null]],\"type\":\"contour\"},{\"marker\":{\"color\":\"black\",\"line\":{\"color\":\"Gray\",\"width\":2.0}},\"mode\":\"markers\",\"name\":\"Feasible Trial\",\"showlegend\":false,\"x\":[3,4,1,4,1,4,3,4,2,4],\"y\":[97,179,186,220,201,242,170,131,183,207],\"type\":\"scatter\"},{\"marker\":{\"color\":\"#cccccc\",\"line\":{\"color\":\"Gray\",\"width\":2.0}},\"mode\":\"markers\",\"name\":\"Infeasible Trial\",\"showlegend\":false,\"x\":[],\"y\":[],\"type\":\"scatter\"}],                        {\"title\":{\"text\":\"Contour Plot\"},\"template\":{\"data\":{\"histogram2dcontour\":[{\"type\":\"histogram2dcontour\",\"colorbar\":{\"outlinewidth\":0,\"ticks\":\"\"},\"colorscale\":[[0.0,\"#0d0887\"],[0.1111111111111111,\"#46039f\"],[0.2222222222222222,\"#7201a8\"],[0.3333333333333333,\"#9c179e\"],[0.4444444444444444,\"#bd3786\"],[0.5555555555555556,\"#d8576b\"],[0.6666666666666666,\"#ed7953\"],[0.7777777777777778,\"#fb9f3a\"],[0.8888888888888888,\"#fdca26\"],[1.0,\"#f0f921\"]]}],\"choropleth\":[{\"type\":\"choropleth\",\"colorbar\":{\"outlinewidth\":0,\"ticks\":\"\"}}],\"histogram2d\":[{\"type\":\"histogram2d\",\"colorbar\":{\"outlinewidth\":0,\"ticks\":\"\"},\"colorscale\":[[0.0,\"#0d0887\"],[0.1111111111111111,\"#46039f\"],[0.2222222222222222,\"#7201a8\"],[0.3333333333333333,\"#9c179e\"],[0.4444444444444444,\"#bd3786\"],[0.5555555555555556,\"#d8576b\"],[0.6666666666666666,\"#ed7953\"],[0.7777777777777778,\"#fb9f3a\"],[0.8888888888888888,\"#fdca26\"],[1.0,\"#f0f921\"]]}],\"heatmap\":[{\"type\":\"heatmap\",\"colorbar\":{\"outlinewidth\":0,\"ticks\":\"\"},\"colorscale\":[[0.0,\"#0d0887\"],[0.1111111111111111,\"#46039f\"],[0.2222222222222222,\"#7201a8\"],[0.3333333333333333,\"#9c179e\"],[0.4444444444444444,\"#bd3786\"],[0.5555555555555556,\"#d8576b\"],[0.6666666666666666,\"#ed7953\"],[0.7777777777777778,\"#fb9f3a\"],[0.8888888888888888,\"#fdca26\"],[1.0,\"#f0f921\"]]}],\"heatmapgl\":[{\"type\":\"heatmapgl\",\"colorbar\":{\"outlinewidth\":0,\"ticks\":\"\"},\"colorscale\":[[0.0,\"#0d0887\"],[0.1111111111111111,\"#46039f\"],[0.2222222222222222,\"#7201a8\"],[0.3333333333333333,\"#9c179e\"],[0.4444444444444444,\"#bd3786\"],[0.5555555555555556,\"#d8576b\"],[0.6666666666666666,\"#ed7953\"],[0.7777777777777778,\"#fb9f3a\"],[0.8888888888888888,\"#fdca26\"],[1.0,\"#f0f921\"]]}],\"contourcarpet\":[{\"type\":\"contourcarpet\",\"colorbar\":{\"outlinewidth\":0,\"ticks\":\"\"}}],\"contour\":[{\"type\":\"contour\",\"colorbar\":{\"outlinewidth\":0,\"ticks\":\"\"},\"colorscale\":[[0.0,\"#0d0887\"],[0.1111111111111111,\"#46039f\"],[0.2222222222222222,\"#7201a8\"],[0.3333333333333333,\"#9c179e\"],[0.4444444444444444,\"#bd3786\"],[0.5555555555555556,\"#d8576b\"],[0.6666666666666666,\"#ed7953\"],[0.7777777777777778,\"#fb9f3a\"],[0.8888888888888888,\"#fdca26\"],[1.0,\"#f0f921\"]]}],\"surface\":[{\"type\":\"surface\",\"colorbar\":{\"outlinewidth\":0,\"ticks\":\"\"},\"colorscale\":[[0.0,\"#0d0887\"],[0.1111111111111111,\"#46039f\"],[0.2222222222222222,\"#7201a8\"],[0.3333333333333333,\"#9c179e\"],[0.4444444444444444,\"#bd3786\"],[0.5555555555555556,\"#d8576b\"],[0.6666666666666666,\"#ed7953\"],[0.7777777777777778,\"#fb9f3a\"],[0.8888888888888888,\"#fdca26\"],[1.0,\"#f0f921\"]]}],\"mesh3d\":[{\"type\":\"mesh3d\",\"colorbar\":{\"outlinewidth\":0,\"ticks\":\"\"}}],\"scatter\":[{\"fillpattern\":{\"fillmode\":\"overlay\",\"size\":10,\"solidity\":0.2},\"type\":\"scatter\"}],\"parcoords\":[{\"type\":\"parcoords\",\"line\":{\"colorbar\":{\"outlinewidth\":0,\"ticks\":\"\"}}}],\"scatterpolargl\":[{\"type\":\"scatterpolargl\",\"marker\":{\"colorbar\":{\"outlinewidth\":0,\"ticks\":\"\"}}}],\"bar\":[{\"error_x\":{\"color\":\"#2a3f5f\"},\"error_y\":{\"color\":\"#2a3f5f\"},\"marker\":{\"line\":{\"color\":\"#E5ECF6\",\"width\":0.5},\"pattern\":{\"fillmode\":\"overlay\",\"size\":10,\"solidity\":0.2}},\"type\":\"bar\"}],\"scattergeo\":[{\"type\":\"scattergeo\",\"marker\":{\"colorbar\":{\"outlinewidth\":0,\"ticks\":\"\"}}}],\"scatterpolar\":[{\"type\":\"scatterpolar\",\"marker\":{\"colorbar\":{\"outlinewidth\":0,\"ticks\":\"\"}}}],\"histogram\":[{\"marker\":{\"pattern\":{\"fillmode\":\"overlay\",\"size\":10,\"solidity\":0.2}},\"type\":\"histogram\"}],\"scattergl\":[{\"type\":\"scattergl\",\"marker\":{\"colorbar\":{\"outlinewidth\":0,\"ticks\":\"\"}}}],\"scatter3d\":[{\"type\":\"scatter3d\",\"line\":{\"colorbar\":{\"outlinewidth\":0,\"ticks\":\"\"}},\"marker\":{\"colorbar\":{\"outlinewidth\":0,\"ticks\":\"\"}}}],\"scattermapbox\":[{\"type\":\"scattermapbox\",\"marker\":{\"colorbar\":{\"outlinewidth\":0,\"ticks\":\"\"}}}],\"scatterternary\":[{\"type\":\"scatterternary\",\"marker\":{\"colorbar\":{\"outlinewidth\":0,\"ticks\":\"\"}}}],\"scattercarpet\":[{\"type\":\"scattercarpet\",\"marker\":{\"colorbar\":{\"outlinewidth\":0,\"ticks\":\"\"}}}],\"carpet\":[{\"aaxis\":{\"endlinecolor\":\"#2a3f5f\",\"gridcolor\":\"white\",\"linecolor\":\"white\",\"minorgridcolor\":\"white\",\"startlinecolor\":\"#2a3f5f\"},\"baxis\":{\"endlinecolor\":\"#2a3f5f\",\"gridcolor\":\"white\",\"linecolor\":\"white\",\"minorgridcolor\":\"white\",\"startlinecolor\":\"#2a3f5f\"},\"type\":\"carpet\"}],\"table\":[{\"cells\":{\"fill\":{\"color\":\"#EBF0F8\"},\"line\":{\"color\":\"white\"}},\"header\":{\"fill\":{\"color\":\"#C8D4E3\"},\"line\":{\"color\":\"white\"}},\"type\":\"table\"}],\"barpolar\":[{\"marker\":{\"line\":{\"color\":\"#E5ECF6\",\"width\":0.5},\"pattern\":{\"fillmode\":\"overlay\",\"size\":10,\"solidity\":0.2}},\"type\":\"barpolar\"}],\"pie\":[{\"automargin\":true,\"type\":\"pie\"}]},\"layout\":{\"autotypenumbers\":\"strict\",\"colorway\":[\"#636efa\",\"#EF553B\",\"#00cc96\",\"#ab63fa\",\"#FFA15A\",\"#19d3f3\",\"#FF6692\",\"#B6E880\",\"#FF97FF\",\"#FECB52\"],\"font\":{\"color\":\"#2a3f5f\"},\"hovermode\":\"closest\",\"hoverlabel\":{\"align\":\"left\"},\"paper_bgcolor\":\"white\",\"plot_bgcolor\":\"#E5ECF6\",\"polar\":{\"bgcolor\":\"#E5ECF6\",\"angularaxis\":{\"gridcolor\":\"white\",\"linecolor\":\"white\",\"ticks\":\"\"},\"radialaxis\":{\"gridcolor\":\"white\",\"linecolor\":\"white\",\"ticks\":\"\"}},\"ternary\":{\"bgcolor\":\"#E5ECF6\",\"aaxis\":{\"gridcolor\":\"white\",\"linecolor\":\"white\",\"ticks\":\"\"},\"baxis\":{\"gridcolor\":\"white\",\"linecolor\":\"white\",\"ticks\":\"\"},\"caxis\":{\"gridcolor\":\"white\",\"linecolor\":\"white\",\"ticks\":\"\"}},\"coloraxis\":{\"colorbar\":{\"outlinewidth\":0,\"ticks\":\"\"}},\"colorscale\":{\"sequential\":[[0.0,\"#0d0887\"],[0.1111111111111111,\"#46039f\"],[0.2222222222222222,\"#7201a8\"],[0.3333333333333333,\"#9c179e\"],[0.4444444444444444,\"#bd3786\"],[0.5555555555555556,\"#d8576b\"],[0.6666666666666666,\"#ed7953\"],[0.7777777777777778,\"#fb9f3a\"],[0.8888888888888888,\"#fdca26\"],[1.0,\"#f0f921\"]],\"sequentialminus\":[[0.0,\"#0d0887\"],[0.1111111111111111,\"#46039f\"],[0.2222222222222222,\"#7201a8\"],[0.3333333333333333,\"#9c179e\"],[0.4444444444444444,\"#bd3786\"],[0.5555555555555556,\"#d8576b\"],[0.6666666666666666,\"#ed7953\"],[0.7777777777777778,\"#fb9f3a\"],[0.8888888888888888,\"#fdca26\"],[1.0,\"#f0f921\"]],\"diverging\":[[0,\"#8e0152\"],[0.1,\"#c51b7d\"],[0.2,\"#de77ae\"],[0.3,\"#f1b6da\"],[0.4,\"#fde0ef\"],[0.5,\"#f7f7f7\"],[0.6,\"#e6f5d0\"],[0.7,\"#b8e186\"],[0.8,\"#7fbc41\"],[0.9,\"#4d9221\"],[1,\"#276419\"]]},\"xaxis\":{\"gridcolor\":\"white\",\"linecolor\":\"white\",\"ticks\":\"\",\"title\":{\"standoff\":15},\"zerolinecolor\":\"white\",\"automargin\":true,\"zerolinewidth\":2},\"yaxis\":{\"gridcolor\":\"white\",\"linecolor\":\"white\",\"ticks\":\"\",\"title\":{\"standoff\":15},\"zerolinecolor\":\"white\",\"automargin\":true,\"zerolinewidth\":2},\"scene\":{\"xaxis\":{\"backgroundcolor\":\"#E5ECF6\",\"gridcolor\":\"white\",\"linecolor\":\"white\",\"showbackground\":true,\"ticks\":\"\",\"zerolinecolor\":\"white\",\"gridwidth\":2},\"yaxis\":{\"backgroundcolor\":\"#E5ECF6\",\"gridcolor\":\"white\",\"linecolor\":\"white\",\"showbackground\":true,\"ticks\":\"\",\"zerolinecolor\":\"white\",\"gridwidth\":2},\"zaxis\":{\"backgroundcolor\":\"#E5ECF6\",\"gridcolor\":\"white\",\"linecolor\":\"white\",\"showbackground\":true,\"ticks\":\"\",\"zerolinecolor\":\"white\",\"gridwidth\":2}},\"shapedefaults\":{\"line\":{\"color\":\"#2a3f5f\"}},\"annotationdefaults\":{\"arrowcolor\":\"#2a3f5f\",\"arrowhead\":0,\"arrowwidth\":1},\"geo\":{\"bgcolor\":\"white\",\"landcolor\":\"#E5ECF6\",\"subunitcolor\":\"white\",\"showland\":true,\"showlakes\":true,\"lakecolor\":\"white\"},\"title\":{\"x\":0.05},\"mapbox\":{\"style\":\"light\"}}},\"xaxis\":{\"title\":{\"text\":\"num_layers\"},\"range\":[0.85,4.15]},\"yaxis\":{\"title\":{\"text\":\"units_0\"},\"range\":[89.75,249.25]}},                        {\"responsive\": true}                    ).then(function(){\n",
              "                            \n",
              "var gd = document.getElementById('37875b57-1d0e-4e99-922c-5df6451607e6');\n",
              "var x = new MutationObserver(function (mutations, observer) {{\n",
              "        var display = window.getComputedStyle(gd).display;\n",
              "        if (!display || display === 'none') {{\n",
              "            console.log([gd, 'removed!']);\n",
              "            Plotly.purge(gd);\n",
              "            observer.disconnect();\n",
              "        }}\n",
              "}});\n",
              "\n",
              "// Listen for the removal of the full notebook cells\n",
              "var notebookContainer = gd.closest('#notebook-container');\n",
              "if (notebookContainer) {{\n",
              "    x.observe(notebookContainer, {childList: true});\n",
              "}}\n",
              "\n",
              "// Listen for the clearing of the current output cell\n",
              "var outputEl = gd.closest('.output');\n",
              "if (outputEl) {{\n",
              "    x.observe(outputEl, {childList: true});\n",
              "}}\n",
              "\n",
              "                        })                };                            </script>        </div>\n",
              "</body>\n",
              "</html>"
            ]
          },
          "metadata": {}
        }
      ]
    },
    {
      "cell_type": "code",
      "source": [],
      "metadata": {
        "id": "f7f5i9cVM0Tt"
      },
      "execution_count": null,
      "outputs": []
    },
    {
      "cell_type": "code",
      "source": [],
      "metadata": {
        "id": "mQGSM-v8M0RF"
      },
      "execution_count": null,
      "outputs": []
    },
    {
      "cell_type": "code",
      "source": [],
      "metadata": {
        "id": "-aUU4UZNM0OZ"
      },
      "execution_count": null,
      "outputs": []
    }
  ]
}