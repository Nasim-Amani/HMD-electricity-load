{
  "nbformat": 4,
  "nbformat_minor": 0,
  "metadata": {
    "colab": {
      "provenance": []
    },
    "kernelspec": {
      "name": "python3",
      "display_name": "Python 3"
    },
    "language_info": {
      "name": "python"
    }
  },
  "cells": [
    {
      "cell_type": "code",
      "execution_count": 1,
      "metadata": {
        "id": "9zf25kvDtfb_",
        "colab": {
          "base_uri": "https://localhost:8080/",
          "height": 617
        },
        "outputId": "a82d7432-8fa9-48fe-c634-f8cf0cfc791c"
      },
      "outputs": [
        {
          "output_type": "execute_result",
          "data": {
            "text/plain": [
              "                        datetime        Load  sunrise_hour  sunset_hour  \\\n",
              "0      2019-03-21 00:00:00+00:00  352.862799             6           18   \n",
              "1      2019-03-21 01:00:00+00:00  330.444853             6           18   \n",
              "2      2019-03-21 02:00:00+00:00  287.419792             6           18   \n",
              "3      2019-03-21 03:00:00+00:00  258.110368             6           18   \n",
              "4      2019-03-21 04:00:00+00:00  247.745866             6           18   \n",
              "...                          ...         ...           ...          ...   \n",
              "22003  2021-09-22 19:00:00+00:00  632.235500             5           17   \n",
              "22004  2021-09-22 20:00:00+00:00  612.703162             5           17   \n",
              "22005  2021-09-22 21:00:00+00:00  589.574385             5           17   \n",
              "22006  2021-09-22 22:00:00+00:00  561.323968             5           17   \n",
              "22007  2021-09-22 23:00:00+00:00  522.105758             5           17   \n",
              "\n",
              "       daylight_hours  month_sin     month_cos  day_of_week_sin  \\\n",
              "0                  12        1.0  6.123234e-17         0.433884   \n",
              "1                  12        1.0  6.123234e-17         0.433884   \n",
              "2                  12        1.0  6.123234e-17         0.433884   \n",
              "3                  12        1.0  6.123234e-17         0.433884   \n",
              "4                  12        1.0  6.123234e-17         0.433884   \n",
              "...               ...        ...           ...              ...   \n",
              "22003              12       -1.0 -1.836970e-16         0.974928   \n",
              "22004              12       -1.0 -1.836970e-16         0.974928   \n",
              "22005              12       -1.0 -1.836970e-16         0.974928   \n",
              "22006              12       -1.0 -1.836970e-16         0.974928   \n",
              "22007              12       -1.0 -1.836970e-16         0.974928   \n",
              "\n",
              "       day_of_week_cos  hour_sin  hour_cos  \n",
              "0            -0.900969  0.000000  1.000000  \n",
              "1            -0.900969  0.258819  0.965926  \n",
              "2            -0.900969  0.500000  0.866025  \n",
              "3            -0.900969  0.707107  0.707107  \n",
              "4            -0.900969  0.866025  0.500000  \n",
              "...                ...       ...       ...  \n",
              "22003        -0.222521 -0.965926  0.258819  \n",
              "22004        -0.222521 -0.866025  0.500000  \n",
              "22005        -0.222521 -0.707107  0.707107  \n",
              "22006        -0.222521 -0.500000  0.866025  \n",
              "22007        -0.222521 -0.258819  0.965926  \n",
              "\n",
              "[22008 rows x 11 columns]"
            ],
            "text/html": [
              "\n",
              "  <div id=\"df-1084ac84-25a1-494f-87e8-5aa6726f2d4d\" class=\"colab-df-container\">\n",
              "    <div>\n",
              "<style scoped>\n",
              "    .dataframe tbody tr th:only-of-type {\n",
              "        vertical-align: middle;\n",
              "    }\n",
              "\n",
              "    .dataframe tbody tr th {\n",
              "        vertical-align: top;\n",
              "    }\n",
              "\n",
              "    .dataframe thead th {\n",
              "        text-align: right;\n",
              "    }\n",
              "</style>\n",
              "<table border=\"1\" class=\"dataframe\">\n",
              "  <thead>\n",
              "    <tr style=\"text-align: right;\">\n",
              "      <th></th>\n",
              "      <th>datetime</th>\n",
              "      <th>Load</th>\n",
              "      <th>sunrise_hour</th>\n",
              "      <th>sunset_hour</th>\n",
              "      <th>daylight_hours</th>\n",
              "      <th>month_sin</th>\n",
              "      <th>month_cos</th>\n",
              "      <th>day_of_week_sin</th>\n",
              "      <th>day_of_week_cos</th>\n",
              "      <th>hour_sin</th>\n",
              "      <th>hour_cos</th>\n",
              "    </tr>\n",
              "  </thead>\n",
              "  <tbody>\n",
              "    <tr>\n",
              "      <th>0</th>\n",
              "      <td>2019-03-21 00:00:00+00:00</td>\n",
              "      <td>352.862799</td>\n",
              "      <td>6</td>\n",
              "      <td>18</td>\n",
              "      <td>12</td>\n",
              "      <td>1.0</td>\n",
              "      <td>6.123234e-17</td>\n",
              "      <td>0.433884</td>\n",
              "      <td>-0.900969</td>\n",
              "      <td>0.000000</td>\n",
              "      <td>1.000000</td>\n",
              "    </tr>\n",
              "    <tr>\n",
              "      <th>1</th>\n",
              "      <td>2019-03-21 01:00:00+00:00</td>\n",
              "      <td>330.444853</td>\n",
              "      <td>6</td>\n",
              "      <td>18</td>\n",
              "      <td>12</td>\n",
              "      <td>1.0</td>\n",
              "      <td>6.123234e-17</td>\n",
              "      <td>0.433884</td>\n",
              "      <td>-0.900969</td>\n",
              "      <td>0.258819</td>\n",
              "      <td>0.965926</td>\n",
              "    </tr>\n",
              "    <tr>\n",
              "      <th>2</th>\n",
              "      <td>2019-03-21 02:00:00+00:00</td>\n",
              "      <td>287.419792</td>\n",
              "      <td>6</td>\n",
              "      <td>18</td>\n",
              "      <td>12</td>\n",
              "      <td>1.0</td>\n",
              "      <td>6.123234e-17</td>\n",
              "      <td>0.433884</td>\n",
              "      <td>-0.900969</td>\n",
              "      <td>0.500000</td>\n",
              "      <td>0.866025</td>\n",
              "    </tr>\n",
              "    <tr>\n",
              "      <th>3</th>\n",
              "      <td>2019-03-21 03:00:00+00:00</td>\n",
              "      <td>258.110368</td>\n",
              "      <td>6</td>\n",
              "      <td>18</td>\n",
              "      <td>12</td>\n",
              "      <td>1.0</td>\n",
              "      <td>6.123234e-17</td>\n",
              "      <td>0.433884</td>\n",
              "      <td>-0.900969</td>\n",
              "      <td>0.707107</td>\n",
              "      <td>0.707107</td>\n",
              "    </tr>\n",
              "    <tr>\n",
              "      <th>4</th>\n",
              "      <td>2019-03-21 04:00:00+00:00</td>\n",
              "      <td>247.745866</td>\n",
              "      <td>6</td>\n",
              "      <td>18</td>\n",
              "      <td>12</td>\n",
              "      <td>1.0</td>\n",
              "      <td>6.123234e-17</td>\n",
              "      <td>0.433884</td>\n",
              "      <td>-0.900969</td>\n",
              "      <td>0.866025</td>\n",
              "      <td>0.500000</td>\n",
              "    </tr>\n",
              "    <tr>\n",
              "      <th>...</th>\n",
              "      <td>...</td>\n",
              "      <td>...</td>\n",
              "      <td>...</td>\n",
              "      <td>...</td>\n",
              "      <td>...</td>\n",
              "      <td>...</td>\n",
              "      <td>...</td>\n",
              "      <td>...</td>\n",
              "      <td>...</td>\n",
              "      <td>...</td>\n",
              "      <td>...</td>\n",
              "    </tr>\n",
              "    <tr>\n",
              "      <th>22003</th>\n",
              "      <td>2021-09-22 19:00:00+00:00</td>\n",
              "      <td>632.235500</td>\n",
              "      <td>5</td>\n",
              "      <td>17</td>\n",
              "      <td>12</td>\n",
              "      <td>-1.0</td>\n",
              "      <td>-1.836970e-16</td>\n",
              "      <td>0.974928</td>\n",
              "      <td>-0.222521</td>\n",
              "      <td>-0.965926</td>\n",
              "      <td>0.258819</td>\n",
              "    </tr>\n",
              "    <tr>\n",
              "      <th>22004</th>\n",
              "      <td>2021-09-22 20:00:00+00:00</td>\n",
              "      <td>612.703162</td>\n",
              "      <td>5</td>\n",
              "      <td>17</td>\n",
              "      <td>12</td>\n",
              "      <td>-1.0</td>\n",
              "      <td>-1.836970e-16</td>\n",
              "      <td>0.974928</td>\n",
              "      <td>-0.222521</td>\n",
              "      <td>-0.866025</td>\n",
              "      <td>0.500000</td>\n",
              "    </tr>\n",
              "    <tr>\n",
              "      <th>22005</th>\n",
              "      <td>2021-09-22 21:00:00+00:00</td>\n",
              "      <td>589.574385</td>\n",
              "      <td>5</td>\n",
              "      <td>17</td>\n",
              "      <td>12</td>\n",
              "      <td>-1.0</td>\n",
              "      <td>-1.836970e-16</td>\n",
              "      <td>0.974928</td>\n",
              "      <td>-0.222521</td>\n",
              "      <td>-0.707107</td>\n",
              "      <td>0.707107</td>\n",
              "    </tr>\n",
              "    <tr>\n",
              "      <th>22006</th>\n",
              "      <td>2021-09-22 22:00:00+00:00</td>\n",
              "      <td>561.323968</td>\n",
              "      <td>5</td>\n",
              "      <td>17</td>\n",
              "      <td>12</td>\n",
              "      <td>-1.0</td>\n",
              "      <td>-1.836970e-16</td>\n",
              "      <td>0.974928</td>\n",
              "      <td>-0.222521</td>\n",
              "      <td>-0.500000</td>\n",
              "      <td>0.866025</td>\n",
              "    </tr>\n",
              "    <tr>\n",
              "      <th>22007</th>\n",
              "      <td>2021-09-22 23:00:00+00:00</td>\n",
              "      <td>522.105758</td>\n",
              "      <td>5</td>\n",
              "      <td>17</td>\n",
              "      <td>12</td>\n",
              "      <td>-1.0</td>\n",
              "      <td>-1.836970e-16</td>\n",
              "      <td>0.974928</td>\n",
              "      <td>-0.222521</td>\n",
              "      <td>-0.258819</td>\n",
              "      <td>0.965926</td>\n",
              "    </tr>\n",
              "  </tbody>\n",
              "</table>\n",
              "<p>22008 rows × 11 columns</p>\n",
              "</div>\n",
              "    <div class=\"colab-df-buttons\">\n",
              "\n",
              "  <div class=\"colab-df-container\">\n",
              "    <button class=\"colab-df-convert\" onclick=\"convertToInteractive('df-1084ac84-25a1-494f-87e8-5aa6726f2d4d')\"\n",
              "            title=\"Convert this dataframe to an interactive table.\"\n",
              "            style=\"display:none;\">\n",
              "\n",
              "  <svg xmlns=\"http://www.w3.org/2000/svg\" height=\"24px\" viewBox=\"0 -960 960 960\">\n",
              "    <path d=\"M120-120v-720h720v720H120Zm60-500h600v-160H180v160Zm220 220h160v-160H400v160Zm0 220h160v-160H400v160ZM180-400h160v-160H180v160Zm440 0h160v-160H620v160ZM180-180h160v-160H180v160Zm440 0h160v-160H620v160Z\"/>\n",
              "  </svg>\n",
              "    </button>\n",
              "\n",
              "  <style>\n",
              "    .colab-df-container {\n",
              "      display:flex;\n",
              "      gap: 12px;\n",
              "    }\n",
              "\n",
              "    .colab-df-convert {\n",
              "      background-color: #E8F0FE;\n",
              "      border: none;\n",
              "      border-radius: 50%;\n",
              "      cursor: pointer;\n",
              "      display: none;\n",
              "      fill: #1967D2;\n",
              "      height: 32px;\n",
              "      padding: 0 0 0 0;\n",
              "      width: 32px;\n",
              "    }\n",
              "\n",
              "    .colab-df-convert:hover {\n",
              "      background-color: #E2EBFA;\n",
              "      box-shadow: 0px 1px 2px rgba(60, 64, 67, 0.3), 0px 1px 3px 1px rgba(60, 64, 67, 0.15);\n",
              "      fill: #174EA6;\n",
              "    }\n",
              "\n",
              "    .colab-df-buttons div {\n",
              "      margin-bottom: 4px;\n",
              "    }\n",
              "\n",
              "    [theme=dark] .colab-df-convert {\n",
              "      background-color: #3B4455;\n",
              "      fill: #D2E3FC;\n",
              "    }\n",
              "\n",
              "    [theme=dark] .colab-df-convert:hover {\n",
              "      background-color: #434B5C;\n",
              "      box-shadow: 0px 1px 3px 1px rgba(0, 0, 0, 0.15);\n",
              "      filter: drop-shadow(0px 1px 2px rgba(0, 0, 0, 0.3));\n",
              "      fill: #FFFFFF;\n",
              "    }\n",
              "  </style>\n",
              "\n",
              "    <script>\n",
              "      const buttonEl =\n",
              "        document.querySelector('#df-1084ac84-25a1-494f-87e8-5aa6726f2d4d button.colab-df-convert');\n",
              "      buttonEl.style.display =\n",
              "        google.colab.kernel.accessAllowed ? 'block' : 'none';\n",
              "\n",
              "      async function convertToInteractive(key) {\n",
              "        const element = document.querySelector('#df-1084ac84-25a1-494f-87e8-5aa6726f2d4d');\n",
              "        const dataTable =\n",
              "          await google.colab.kernel.invokeFunction('convertToInteractive',\n",
              "                                                    [key], {});\n",
              "        if (!dataTable) return;\n",
              "\n",
              "        const docLinkHtml = 'Like what you see? Visit the ' +\n",
              "          '<a target=\"_blank\" href=https://colab.research.google.com/notebooks/data_table.ipynb>data table notebook</a>'\n",
              "          + ' to learn more about interactive tables.';\n",
              "        element.innerHTML = '';\n",
              "        dataTable['output_type'] = 'display_data';\n",
              "        await google.colab.output.renderOutput(dataTable, element);\n",
              "        const docLink = document.createElement('div');\n",
              "        docLink.innerHTML = docLinkHtml;\n",
              "        element.appendChild(docLink);\n",
              "      }\n",
              "    </script>\n",
              "  </div>\n",
              "\n",
              "\n",
              "<div id=\"df-10bc58f6-9985-4cf5-b471-7591a1fedb4a\">\n",
              "  <button class=\"colab-df-quickchart\" onclick=\"quickchart('df-10bc58f6-9985-4cf5-b471-7591a1fedb4a')\"\n",
              "            title=\"Suggest charts\"\n",
              "            style=\"display:none;\">\n",
              "\n",
              "<svg xmlns=\"http://www.w3.org/2000/svg\" height=\"24px\"viewBox=\"0 0 24 24\"\n",
              "     width=\"24px\">\n",
              "    <g>\n",
              "        <path d=\"M19 3H5c-1.1 0-2 .9-2 2v14c0 1.1.9 2 2 2h14c1.1 0 2-.9 2-2V5c0-1.1-.9-2-2-2zM9 17H7v-7h2v7zm4 0h-2V7h2v10zm4 0h-2v-4h2v4z\"/>\n",
              "    </g>\n",
              "</svg>\n",
              "  </button>\n",
              "\n",
              "<style>\n",
              "  .colab-df-quickchart {\n",
              "      --bg-color: #E8F0FE;\n",
              "      --fill-color: #1967D2;\n",
              "      --hover-bg-color: #E2EBFA;\n",
              "      --hover-fill-color: #174EA6;\n",
              "      --disabled-fill-color: #AAA;\n",
              "      --disabled-bg-color: #DDD;\n",
              "  }\n",
              "\n",
              "  [theme=dark] .colab-df-quickchart {\n",
              "      --bg-color: #3B4455;\n",
              "      --fill-color: #D2E3FC;\n",
              "      --hover-bg-color: #434B5C;\n",
              "      --hover-fill-color: #FFFFFF;\n",
              "      --disabled-bg-color: #3B4455;\n",
              "      --disabled-fill-color: #666;\n",
              "  }\n",
              "\n",
              "  .colab-df-quickchart {\n",
              "    background-color: var(--bg-color);\n",
              "    border: none;\n",
              "    border-radius: 50%;\n",
              "    cursor: pointer;\n",
              "    display: none;\n",
              "    fill: var(--fill-color);\n",
              "    height: 32px;\n",
              "    padding: 0;\n",
              "    width: 32px;\n",
              "  }\n",
              "\n",
              "  .colab-df-quickchart:hover {\n",
              "    background-color: var(--hover-bg-color);\n",
              "    box-shadow: 0 1px 2px rgba(60, 64, 67, 0.3), 0 1px 3px 1px rgba(60, 64, 67, 0.15);\n",
              "    fill: var(--button-hover-fill-color);\n",
              "  }\n",
              "\n",
              "  .colab-df-quickchart-complete:disabled,\n",
              "  .colab-df-quickchart-complete:disabled:hover {\n",
              "    background-color: var(--disabled-bg-color);\n",
              "    fill: var(--disabled-fill-color);\n",
              "    box-shadow: none;\n",
              "  }\n",
              "\n",
              "  .colab-df-spinner {\n",
              "    border: 2px solid var(--fill-color);\n",
              "    border-color: transparent;\n",
              "    border-bottom-color: var(--fill-color);\n",
              "    animation:\n",
              "      spin 1s steps(1) infinite;\n",
              "  }\n",
              "\n",
              "  @keyframes spin {\n",
              "    0% {\n",
              "      border-color: transparent;\n",
              "      border-bottom-color: var(--fill-color);\n",
              "      border-left-color: var(--fill-color);\n",
              "    }\n",
              "    20% {\n",
              "      border-color: transparent;\n",
              "      border-left-color: var(--fill-color);\n",
              "      border-top-color: var(--fill-color);\n",
              "    }\n",
              "    30% {\n",
              "      border-color: transparent;\n",
              "      border-left-color: var(--fill-color);\n",
              "      border-top-color: var(--fill-color);\n",
              "      border-right-color: var(--fill-color);\n",
              "    }\n",
              "    40% {\n",
              "      border-color: transparent;\n",
              "      border-right-color: var(--fill-color);\n",
              "      border-top-color: var(--fill-color);\n",
              "    }\n",
              "    60% {\n",
              "      border-color: transparent;\n",
              "      border-right-color: var(--fill-color);\n",
              "    }\n",
              "    80% {\n",
              "      border-color: transparent;\n",
              "      border-right-color: var(--fill-color);\n",
              "      border-bottom-color: var(--fill-color);\n",
              "    }\n",
              "    90% {\n",
              "      border-color: transparent;\n",
              "      border-bottom-color: var(--fill-color);\n",
              "    }\n",
              "  }\n",
              "</style>\n",
              "\n",
              "  <script>\n",
              "    async function quickchart(key) {\n",
              "      const quickchartButtonEl =\n",
              "        document.querySelector('#' + key + ' button');\n",
              "      quickchartButtonEl.disabled = true;  // To prevent multiple clicks.\n",
              "      quickchartButtonEl.classList.add('colab-df-spinner');\n",
              "      try {\n",
              "        const charts = await google.colab.kernel.invokeFunction(\n",
              "            'suggestCharts', [key], {});\n",
              "      } catch (error) {\n",
              "        console.error('Error during call to suggestCharts:', error);\n",
              "      }\n",
              "      quickchartButtonEl.classList.remove('colab-df-spinner');\n",
              "      quickchartButtonEl.classList.add('colab-df-quickchart-complete');\n",
              "    }\n",
              "    (() => {\n",
              "      let quickchartButtonEl =\n",
              "        document.querySelector('#df-10bc58f6-9985-4cf5-b471-7591a1fedb4a button');\n",
              "      quickchartButtonEl.style.display =\n",
              "        google.colab.kernel.accessAllowed ? 'block' : 'none';\n",
              "    })();\n",
              "  </script>\n",
              "</div>\n",
              "    </div>\n",
              "  </div>\n"
            ],
            "application/vnd.google.colaboratory.intrinsic+json": {
              "type": "dataframe",
              "variable_name": "data",
              "summary": "{\n  \"name\": \"data\",\n  \"rows\": 22008,\n  \"fields\": [\n    {\n      \"column\": \"datetime\",\n      \"properties\": {\n        \"dtype\": \"object\",\n        \"num_unique_values\": 22008,\n        \"samples\": [\n          \"2020-06-26 05:00:00+00:00\",\n          \"2021-05-12 22:00:00+00:00\",\n          \"2021-01-18 01:00:00+00:00\"\n        ],\n        \"semantic_type\": \"\",\n        \"description\": \"\"\n      }\n    },\n    {\n      \"column\": \"Load\",\n      \"properties\": {\n        \"dtype\": \"number\",\n        \"std\": 126.07801069179499,\n        \"min\": 212.709756,\n        \"max\": 748.868203,\n        \"num_unique_values\": 22004,\n        \"samples\": [\n          322.066013,\n          363.960316,\n          600.210607\n        ],\n        \"semantic_type\": \"\",\n        \"description\": \"\"\n      }\n    },\n    {\n      \"column\": \"sunrise_hour\",\n      \"properties\": {\n        \"dtype\": \"number\",\n        \"std\": 1,\n        \"min\": 3,\n        \"max\": 8,\n        \"num_unique_values\": 6,\n        \"samples\": [\n          6,\n          5,\n          8\n        ],\n        \"semantic_type\": \"\",\n        \"description\": \"\"\n      }\n    },\n    {\n      \"column\": \"sunset_hour\",\n      \"properties\": {\n        \"dtype\": \"number\",\n        \"std\": 1,\n        \"min\": 15,\n        \"max\": 20,\n        \"num_unique_values\": 6,\n        \"samples\": [\n          18,\n          19,\n          15\n        ],\n        \"semantic_type\": \"\",\n        \"description\": \"\"\n      }\n    },\n    {\n      \"column\": \"daylight_hours\",\n      \"properties\": {\n        \"dtype\": \"number\",\n        \"std\": 3,\n        \"min\": 7,\n        \"max\": 17,\n        \"num_unique_values\": 11,\n        \"samples\": [\n          14,\n          12,\n          8\n        ],\n        \"semantic_type\": \"\",\n        \"description\": \"\"\n      }\n    },\n    {\n      \"column\": \"month_sin\",\n      \"properties\": {\n        \"dtype\": \"number\",\n        \"std\": 0.706935420933239,\n        \"min\": -1.0,\n        \"max\": 1.0,\n        \"num_unique_values\": 11,\n        \"samples\": [\n          -0.8660254037844384,\n          1.0,\n          -2.4492935982947064e-16\n        ],\n        \"semantic_type\": \"\",\n        \"description\": \"\"\n      }\n    },\n    {\n      \"column\": \"month_cos\",\n      \"properties\": {\n        \"dtype\": \"number\",\n        \"std\": 0.6958289765943552,\n        \"min\": -1.0,\n        \"max\": 1.0,\n        \"num_unique_values\": 11,\n        \"samples\": [\n          -0.5000000000000004,\n          6.123233995736766e-17,\n          1.0\n        ],\n        \"semantic_type\": \"\",\n        \"description\": \"\"\n      }\n    },\n    {\n      \"column\": \"day_of_week_sin\",\n      \"properties\": {\n        \"dtype\": \"number\",\n        \"std\": 0.7071228465009616,\n        \"min\": -0.9749279121818236,\n        \"max\": 0.9749279121818236,\n        \"num_unique_values\": 7,\n        \"samples\": [\n          0.4338837391175582,\n          -0.433883739117558,\n          0.7818314824680298\n        ],\n        \"semantic_type\": \"\",\n        \"description\": \"\"\n      }\n    },\n    {\n      \"column\": \"day_of_week_cos\",\n      \"properties\": {\n        \"dtype\": \"number\",\n        \"std\": 0.7071228465009616,\n        \"min\": -0.9009688679024191,\n        \"max\": 1.0,\n        \"num_unique_values\": 7,\n        \"samples\": [\n          -0.900968867902419,\n          -0.9009688679024191,\n          0.6234898018587336\n        ],\n        \"semantic_type\": \"\",\n        \"description\": \"\"\n      }\n    },\n    {\n      \"column\": \"hour_sin\",\n      \"properties\": {\n        \"dtype\": \"number\",\n        \"std\": 0.7071228465009616,\n        \"min\": -1.0,\n        \"max\": 1.0,\n        \"num_unique_values\": 21,\n        \"samples\": [\n          0.0,\n          -0.8660254037844386,\n          -0.9659258262890684\n        ],\n        \"semantic_type\": \"\",\n        \"description\": \"\"\n      }\n    },\n    {\n      \"column\": \"hour_cos\",\n      \"properties\": {\n        \"dtype\": \"number\",\n        \"std\": 0.7071228465009616,\n        \"min\": -1.0,\n        \"max\": 1.0,\n        \"num_unique_values\": 22,\n        \"samples\": [\n          1.0,\n          -0.9659258262890684,\n          -0.4999999999999998\n        ],\n        \"semantic_type\": \"\",\n        \"description\": \"\"\n      }\n    }\n  ]\n}"
            }
          },
          "metadata": {},
          "execution_count": 1
        }
      ],
      "source": [
        "import pandas as pd\n",
        "\n",
        "data=pd.read_csv(\"df_calendar.csv\" )\n",
        "\n",
        "#data\n",
        "\n",
        "\n",
        "# Specify the columns you want to keep\n",
        "#columns_to_keep = ['datetime','Load']\n",
        "\n",
        "# Use indexing to select the desired columns\n",
        "#df = data[columns_to_keep]\n",
        "# set the 'datetime_column' as the index\n",
        "#df.set_index('datetime', inplace=True)\n",
        "data"
      ]
    },
    {
      "cell_type": "code",
      "source": [
        "data['datetime'] = pd.to_datetime(data['datetime'])"
      ],
      "metadata": {
        "id": "aoHc-vfvRy5L"
      },
      "execution_count": 2,
      "outputs": []
    },
    {
      "cell_type": "code",
      "source": [
        "df=data"
      ],
      "metadata": {
        "id": "5Nt9CZUoSHMa"
      },
      "execution_count": 3,
      "outputs": []
    },
    {
      "cell_type": "code",
      "source": [
        "df.dtypes"
      ],
      "metadata": {
        "colab": {
          "base_uri": "https://localhost:8080/"
        },
        "id": "HA5N_BcEvlYX",
        "outputId": "2796c0aa-becc-4e53-9dad-0d68de8c81db"
      },
      "execution_count": 4,
      "outputs": [
        {
          "output_type": "execute_result",
          "data": {
            "text/plain": [
              "datetime           datetime64[ns, UTC]\n",
              "Load                           float64\n",
              "sunrise_hour                     int64\n",
              "sunset_hour                      int64\n",
              "daylight_hours                   int64\n",
              "month_sin                      float64\n",
              "month_cos                      float64\n",
              "day_of_week_sin                float64\n",
              "day_of_week_cos                float64\n",
              "hour_sin                       float64\n",
              "hour_cos                       float64\n",
              "dtype: object"
            ]
          },
          "metadata": {},
          "execution_count": 4
        }
      ]
    },
    {
      "cell_type": "code",
      "source": [
        "from sklearn.model_selection import TimeSeriesSplit\n",
        "\n",
        "tss = TimeSeriesSplit(n_splits = 4)"
      ],
      "metadata": {
        "id": "tmM6aAsWwJud"
      },
      "execution_count": 5,
      "outputs": []
    },
    {
      "cell_type": "code",
      "source": [
        "df.set_index('datetime', inplace=True)\n",
        "df.sort_index(inplace=True)\n",
        "df = df.asfreq('H')\n",
        "X = df.drop(labels=[], axis=1)\n",
        "y = df['Load']"
      ],
      "metadata": {
        "id": "EhfX0gyewMUr"
      },
      "execution_count": 6,
      "outputs": []
    },
    {
      "cell_type": "code",
      "source": [
        "y"
      ],
      "metadata": {
        "colab": {
          "base_uri": "https://localhost:8080/"
        },
        "id": "sA08jsd3waEq",
        "outputId": "f8689ff4-4e70-4308-ae0c-0b9555c49c1d"
      },
      "execution_count": 7,
      "outputs": [
        {
          "output_type": "execute_result",
          "data": {
            "text/plain": [
              "datetime\n",
              "2019-03-21 00:00:00+00:00    352.862799\n",
              "2019-03-21 01:00:00+00:00    330.444853\n",
              "2019-03-21 02:00:00+00:00    287.419792\n",
              "2019-03-21 03:00:00+00:00    258.110368\n",
              "2019-03-21 04:00:00+00:00    247.745866\n",
              "                                ...    \n",
              "2021-09-22 19:00:00+00:00    632.235500\n",
              "2021-09-22 20:00:00+00:00    612.703162\n",
              "2021-09-22 21:00:00+00:00    589.574385\n",
              "2021-09-22 22:00:00+00:00    561.323968\n",
              "2021-09-22 23:00:00+00:00    522.105758\n",
              "Freq: H, Name: Load, Length: 22008, dtype: float64"
            ]
          },
          "metadata": {},
          "execution_count": 7
        }
      ]
    },
    {
      "cell_type": "code",
      "source": [
        "X"
      ],
      "metadata": {
        "colab": {
          "base_uri": "https://localhost:8080/",
          "height": 629
        },
        "id": "qpYFjIm3wXCY",
        "outputId": "366330da-ad85-4e19-8f6a-ffc26e2a38e0"
      },
      "execution_count": 8,
      "outputs": [
        {
          "output_type": "execute_result",
          "data": {
            "text/plain": [
              "                                 Load  sunrise_hour  sunset_hour  \\\n",
              "datetime                                                           \n",
              "2019-03-21 00:00:00+00:00  352.862799             6           18   \n",
              "2019-03-21 01:00:00+00:00  330.444853             6           18   \n",
              "2019-03-21 02:00:00+00:00  287.419792             6           18   \n",
              "2019-03-21 03:00:00+00:00  258.110368             6           18   \n",
              "2019-03-21 04:00:00+00:00  247.745866             6           18   \n",
              "...                               ...           ...          ...   \n",
              "2021-09-22 19:00:00+00:00  632.235500             5           17   \n",
              "2021-09-22 20:00:00+00:00  612.703162             5           17   \n",
              "2021-09-22 21:00:00+00:00  589.574385             5           17   \n",
              "2021-09-22 22:00:00+00:00  561.323968             5           17   \n",
              "2021-09-22 23:00:00+00:00  522.105758             5           17   \n",
              "\n",
              "                           daylight_hours  month_sin     month_cos  \\\n",
              "datetime                                                             \n",
              "2019-03-21 00:00:00+00:00              12        1.0  6.123234e-17   \n",
              "2019-03-21 01:00:00+00:00              12        1.0  6.123234e-17   \n",
              "2019-03-21 02:00:00+00:00              12        1.0  6.123234e-17   \n",
              "2019-03-21 03:00:00+00:00              12        1.0  6.123234e-17   \n",
              "2019-03-21 04:00:00+00:00              12        1.0  6.123234e-17   \n",
              "...                                   ...        ...           ...   \n",
              "2021-09-22 19:00:00+00:00              12       -1.0 -1.836970e-16   \n",
              "2021-09-22 20:00:00+00:00              12       -1.0 -1.836970e-16   \n",
              "2021-09-22 21:00:00+00:00              12       -1.0 -1.836970e-16   \n",
              "2021-09-22 22:00:00+00:00              12       -1.0 -1.836970e-16   \n",
              "2021-09-22 23:00:00+00:00              12       -1.0 -1.836970e-16   \n",
              "\n",
              "                           day_of_week_sin  day_of_week_cos  hour_sin  \\\n",
              "datetime                                                                \n",
              "2019-03-21 00:00:00+00:00         0.433884        -0.900969  0.000000   \n",
              "2019-03-21 01:00:00+00:00         0.433884        -0.900969  0.258819   \n",
              "2019-03-21 02:00:00+00:00         0.433884        -0.900969  0.500000   \n",
              "2019-03-21 03:00:00+00:00         0.433884        -0.900969  0.707107   \n",
              "2019-03-21 04:00:00+00:00         0.433884        -0.900969  0.866025   \n",
              "...                                    ...              ...       ...   \n",
              "2021-09-22 19:00:00+00:00         0.974928        -0.222521 -0.965926   \n",
              "2021-09-22 20:00:00+00:00         0.974928        -0.222521 -0.866025   \n",
              "2021-09-22 21:00:00+00:00         0.974928        -0.222521 -0.707107   \n",
              "2021-09-22 22:00:00+00:00         0.974928        -0.222521 -0.500000   \n",
              "2021-09-22 23:00:00+00:00         0.974928        -0.222521 -0.258819   \n",
              "\n",
              "                           hour_cos  \n",
              "datetime                             \n",
              "2019-03-21 00:00:00+00:00  1.000000  \n",
              "2019-03-21 01:00:00+00:00  0.965926  \n",
              "2019-03-21 02:00:00+00:00  0.866025  \n",
              "2019-03-21 03:00:00+00:00  0.707107  \n",
              "2019-03-21 04:00:00+00:00  0.500000  \n",
              "...                             ...  \n",
              "2021-09-22 19:00:00+00:00  0.258819  \n",
              "2021-09-22 20:00:00+00:00  0.500000  \n",
              "2021-09-22 21:00:00+00:00  0.707107  \n",
              "2021-09-22 22:00:00+00:00  0.866025  \n",
              "2021-09-22 23:00:00+00:00  0.965926  \n",
              "\n",
              "[22008 rows x 10 columns]"
            ],
            "text/html": [
              "\n",
              "  <div id=\"df-378d21a9-284d-4ead-86c3-c630ee14d4e0\" class=\"colab-df-container\">\n",
              "    <div>\n",
              "<style scoped>\n",
              "    .dataframe tbody tr th:only-of-type {\n",
              "        vertical-align: middle;\n",
              "    }\n",
              "\n",
              "    .dataframe tbody tr th {\n",
              "        vertical-align: top;\n",
              "    }\n",
              "\n",
              "    .dataframe thead th {\n",
              "        text-align: right;\n",
              "    }\n",
              "</style>\n",
              "<table border=\"1\" class=\"dataframe\">\n",
              "  <thead>\n",
              "    <tr style=\"text-align: right;\">\n",
              "      <th></th>\n",
              "      <th>Load</th>\n",
              "      <th>sunrise_hour</th>\n",
              "      <th>sunset_hour</th>\n",
              "      <th>daylight_hours</th>\n",
              "      <th>month_sin</th>\n",
              "      <th>month_cos</th>\n",
              "      <th>day_of_week_sin</th>\n",
              "      <th>day_of_week_cos</th>\n",
              "      <th>hour_sin</th>\n",
              "      <th>hour_cos</th>\n",
              "    </tr>\n",
              "    <tr>\n",
              "      <th>datetime</th>\n",
              "      <th></th>\n",
              "      <th></th>\n",
              "      <th></th>\n",
              "      <th></th>\n",
              "      <th></th>\n",
              "      <th></th>\n",
              "      <th></th>\n",
              "      <th></th>\n",
              "      <th></th>\n",
              "      <th></th>\n",
              "    </tr>\n",
              "  </thead>\n",
              "  <tbody>\n",
              "    <tr>\n",
              "      <th>2019-03-21 00:00:00+00:00</th>\n",
              "      <td>352.862799</td>\n",
              "      <td>6</td>\n",
              "      <td>18</td>\n",
              "      <td>12</td>\n",
              "      <td>1.0</td>\n",
              "      <td>6.123234e-17</td>\n",
              "      <td>0.433884</td>\n",
              "      <td>-0.900969</td>\n",
              "      <td>0.000000</td>\n",
              "      <td>1.000000</td>\n",
              "    </tr>\n",
              "    <tr>\n",
              "      <th>2019-03-21 01:00:00+00:00</th>\n",
              "      <td>330.444853</td>\n",
              "      <td>6</td>\n",
              "      <td>18</td>\n",
              "      <td>12</td>\n",
              "      <td>1.0</td>\n",
              "      <td>6.123234e-17</td>\n",
              "      <td>0.433884</td>\n",
              "      <td>-0.900969</td>\n",
              "      <td>0.258819</td>\n",
              "      <td>0.965926</td>\n",
              "    </tr>\n",
              "    <tr>\n",
              "      <th>2019-03-21 02:00:00+00:00</th>\n",
              "      <td>287.419792</td>\n",
              "      <td>6</td>\n",
              "      <td>18</td>\n",
              "      <td>12</td>\n",
              "      <td>1.0</td>\n",
              "      <td>6.123234e-17</td>\n",
              "      <td>0.433884</td>\n",
              "      <td>-0.900969</td>\n",
              "      <td>0.500000</td>\n",
              "      <td>0.866025</td>\n",
              "    </tr>\n",
              "    <tr>\n",
              "      <th>2019-03-21 03:00:00+00:00</th>\n",
              "      <td>258.110368</td>\n",
              "      <td>6</td>\n",
              "      <td>18</td>\n",
              "      <td>12</td>\n",
              "      <td>1.0</td>\n",
              "      <td>6.123234e-17</td>\n",
              "      <td>0.433884</td>\n",
              "      <td>-0.900969</td>\n",
              "      <td>0.707107</td>\n",
              "      <td>0.707107</td>\n",
              "    </tr>\n",
              "    <tr>\n",
              "      <th>2019-03-21 04:00:00+00:00</th>\n",
              "      <td>247.745866</td>\n",
              "      <td>6</td>\n",
              "      <td>18</td>\n",
              "      <td>12</td>\n",
              "      <td>1.0</td>\n",
              "      <td>6.123234e-17</td>\n",
              "      <td>0.433884</td>\n",
              "      <td>-0.900969</td>\n",
              "      <td>0.866025</td>\n",
              "      <td>0.500000</td>\n",
              "    </tr>\n",
              "    <tr>\n",
              "      <th>...</th>\n",
              "      <td>...</td>\n",
              "      <td>...</td>\n",
              "      <td>...</td>\n",
              "      <td>...</td>\n",
              "      <td>...</td>\n",
              "      <td>...</td>\n",
              "      <td>...</td>\n",
              "      <td>...</td>\n",
              "      <td>...</td>\n",
              "      <td>...</td>\n",
              "    </tr>\n",
              "    <tr>\n",
              "      <th>2021-09-22 19:00:00+00:00</th>\n",
              "      <td>632.235500</td>\n",
              "      <td>5</td>\n",
              "      <td>17</td>\n",
              "      <td>12</td>\n",
              "      <td>-1.0</td>\n",
              "      <td>-1.836970e-16</td>\n",
              "      <td>0.974928</td>\n",
              "      <td>-0.222521</td>\n",
              "      <td>-0.965926</td>\n",
              "      <td>0.258819</td>\n",
              "    </tr>\n",
              "    <tr>\n",
              "      <th>2021-09-22 20:00:00+00:00</th>\n",
              "      <td>612.703162</td>\n",
              "      <td>5</td>\n",
              "      <td>17</td>\n",
              "      <td>12</td>\n",
              "      <td>-1.0</td>\n",
              "      <td>-1.836970e-16</td>\n",
              "      <td>0.974928</td>\n",
              "      <td>-0.222521</td>\n",
              "      <td>-0.866025</td>\n",
              "      <td>0.500000</td>\n",
              "    </tr>\n",
              "    <tr>\n",
              "      <th>2021-09-22 21:00:00+00:00</th>\n",
              "      <td>589.574385</td>\n",
              "      <td>5</td>\n",
              "      <td>17</td>\n",
              "      <td>12</td>\n",
              "      <td>-1.0</td>\n",
              "      <td>-1.836970e-16</td>\n",
              "      <td>0.974928</td>\n",
              "      <td>-0.222521</td>\n",
              "      <td>-0.707107</td>\n",
              "      <td>0.707107</td>\n",
              "    </tr>\n",
              "    <tr>\n",
              "      <th>2021-09-22 22:00:00+00:00</th>\n",
              "      <td>561.323968</td>\n",
              "      <td>5</td>\n",
              "      <td>17</td>\n",
              "      <td>12</td>\n",
              "      <td>-1.0</td>\n",
              "      <td>-1.836970e-16</td>\n",
              "      <td>0.974928</td>\n",
              "      <td>-0.222521</td>\n",
              "      <td>-0.500000</td>\n",
              "      <td>0.866025</td>\n",
              "    </tr>\n",
              "    <tr>\n",
              "      <th>2021-09-22 23:00:00+00:00</th>\n",
              "      <td>522.105758</td>\n",
              "      <td>5</td>\n",
              "      <td>17</td>\n",
              "      <td>12</td>\n",
              "      <td>-1.0</td>\n",
              "      <td>-1.836970e-16</td>\n",
              "      <td>0.974928</td>\n",
              "      <td>-0.222521</td>\n",
              "      <td>-0.258819</td>\n",
              "      <td>0.965926</td>\n",
              "    </tr>\n",
              "  </tbody>\n",
              "</table>\n",
              "<p>22008 rows × 10 columns</p>\n",
              "</div>\n",
              "    <div class=\"colab-df-buttons\">\n",
              "\n",
              "  <div class=\"colab-df-container\">\n",
              "    <button class=\"colab-df-convert\" onclick=\"convertToInteractive('df-378d21a9-284d-4ead-86c3-c630ee14d4e0')\"\n",
              "            title=\"Convert this dataframe to an interactive table.\"\n",
              "            style=\"display:none;\">\n",
              "\n",
              "  <svg xmlns=\"http://www.w3.org/2000/svg\" height=\"24px\" viewBox=\"0 -960 960 960\">\n",
              "    <path d=\"M120-120v-720h720v720H120Zm60-500h600v-160H180v160Zm220 220h160v-160H400v160Zm0 220h160v-160H400v160ZM180-400h160v-160H180v160Zm440 0h160v-160H620v160ZM180-180h160v-160H180v160Zm440 0h160v-160H620v160Z\"/>\n",
              "  </svg>\n",
              "    </button>\n",
              "\n",
              "  <style>\n",
              "    .colab-df-container {\n",
              "      display:flex;\n",
              "      gap: 12px;\n",
              "    }\n",
              "\n",
              "    .colab-df-convert {\n",
              "      background-color: #E8F0FE;\n",
              "      border: none;\n",
              "      border-radius: 50%;\n",
              "      cursor: pointer;\n",
              "      display: none;\n",
              "      fill: #1967D2;\n",
              "      height: 32px;\n",
              "      padding: 0 0 0 0;\n",
              "      width: 32px;\n",
              "    }\n",
              "\n",
              "    .colab-df-convert:hover {\n",
              "      background-color: #E2EBFA;\n",
              "      box-shadow: 0px 1px 2px rgba(60, 64, 67, 0.3), 0px 1px 3px 1px rgba(60, 64, 67, 0.15);\n",
              "      fill: #174EA6;\n",
              "    }\n",
              "\n",
              "    .colab-df-buttons div {\n",
              "      margin-bottom: 4px;\n",
              "    }\n",
              "\n",
              "    [theme=dark] .colab-df-convert {\n",
              "      background-color: #3B4455;\n",
              "      fill: #D2E3FC;\n",
              "    }\n",
              "\n",
              "    [theme=dark] .colab-df-convert:hover {\n",
              "      background-color: #434B5C;\n",
              "      box-shadow: 0px 1px 3px 1px rgba(0, 0, 0, 0.15);\n",
              "      filter: drop-shadow(0px 1px 2px rgba(0, 0, 0, 0.3));\n",
              "      fill: #FFFFFF;\n",
              "    }\n",
              "  </style>\n",
              "\n",
              "    <script>\n",
              "      const buttonEl =\n",
              "        document.querySelector('#df-378d21a9-284d-4ead-86c3-c630ee14d4e0 button.colab-df-convert');\n",
              "      buttonEl.style.display =\n",
              "        google.colab.kernel.accessAllowed ? 'block' : 'none';\n",
              "\n",
              "      async function convertToInteractive(key) {\n",
              "        const element = document.querySelector('#df-378d21a9-284d-4ead-86c3-c630ee14d4e0');\n",
              "        const dataTable =\n",
              "          await google.colab.kernel.invokeFunction('convertToInteractive',\n",
              "                                                    [key], {});\n",
              "        if (!dataTable) return;\n",
              "\n",
              "        const docLinkHtml = 'Like what you see? Visit the ' +\n",
              "          '<a target=\"_blank\" href=https://colab.research.google.com/notebooks/data_table.ipynb>data table notebook</a>'\n",
              "          + ' to learn more about interactive tables.';\n",
              "        element.innerHTML = '';\n",
              "        dataTable['output_type'] = 'display_data';\n",
              "        await google.colab.output.renderOutput(dataTable, element);\n",
              "        const docLink = document.createElement('div');\n",
              "        docLink.innerHTML = docLinkHtml;\n",
              "        element.appendChild(docLink);\n",
              "      }\n",
              "    </script>\n",
              "  </div>\n",
              "\n",
              "\n",
              "<div id=\"df-1465d389-a773-44a2-999a-109b70604dc9\">\n",
              "  <button class=\"colab-df-quickchart\" onclick=\"quickchart('df-1465d389-a773-44a2-999a-109b70604dc9')\"\n",
              "            title=\"Suggest charts\"\n",
              "            style=\"display:none;\">\n",
              "\n",
              "<svg xmlns=\"http://www.w3.org/2000/svg\" height=\"24px\"viewBox=\"0 0 24 24\"\n",
              "     width=\"24px\">\n",
              "    <g>\n",
              "        <path d=\"M19 3H5c-1.1 0-2 .9-2 2v14c0 1.1.9 2 2 2h14c1.1 0 2-.9 2-2V5c0-1.1-.9-2-2-2zM9 17H7v-7h2v7zm4 0h-2V7h2v10zm4 0h-2v-4h2v4z\"/>\n",
              "    </g>\n",
              "</svg>\n",
              "  </button>\n",
              "\n",
              "<style>\n",
              "  .colab-df-quickchart {\n",
              "      --bg-color: #E8F0FE;\n",
              "      --fill-color: #1967D2;\n",
              "      --hover-bg-color: #E2EBFA;\n",
              "      --hover-fill-color: #174EA6;\n",
              "      --disabled-fill-color: #AAA;\n",
              "      --disabled-bg-color: #DDD;\n",
              "  }\n",
              "\n",
              "  [theme=dark] .colab-df-quickchart {\n",
              "      --bg-color: #3B4455;\n",
              "      --fill-color: #D2E3FC;\n",
              "      --hover-bg-color: #434B5C;\n",
              "      --hover-fill-color: #FFFFFF;\n",
              "      --disabled-bg-color: #3B4455;\n",
              "      --disabled-fill-color: #666;\n",
              "  }\n",
              "\n",
              "  .colab-df-quickchart {\n",
              "    background-color: var(--bg-color);\n",
              "    border: none;\n",
              "    border-radius: 50%;\n",
              "    cursor: pointer;\n",
              "    display: none;\n",
              "    fill: var(--fill-color);\n",
              "    height: 32px;\n",
              "    padding: 0;\n",
              "    width: 32px;\n",
              "  }\n",
              "\n",
              "  .colab-df-quickchart:hover {\n",
              "    background-color: var(--hover-bg-color);\n",
              "    box-shadow: 0 1px 2px rgba(60, 64, 67, 0.3), 0 1px 3px 1px rgba(60, 64, 67, 0.15);\n",
              "    fill: var(--button-hover-fill-color);\n",
              "  }\n",
              "\n",
              "  .colab-df-quickchart-complete:disabled,\n",
              "  .colab-df-quickchart-complete:disabled:hover {\n",
              "    background-color: var(--disabled-bg-color);\n",
              "    fill: var(--disabled-fill-color);\n",
              "    box-shadow: none;\n",
              "  }\n",
              "\n",
              "  .colab-df-spinner {\n",
              "    border: 2px solid var(--fill-color);\n",
              "    border-color: transparent;\n",
              "    border-bottom-color: var(--fill-color);\n",
              "    animation:\n",
              "      spin 1s steps(1) infinite;\n",
              "  }\n",
              "\n",
              "  @keyframes spin {\n",
              "    0% {\n",
              "      border-color: transparent;\n",
              "      border-bottom-color: var(--fill-color);\n",
              "      border-left-color: var(--fill-color);\n",
              "    }\n",
              "    20% {\n",
              "      border-color: transparent;\n",
              "      border-left-color: var(--fill-color);\n",
              "      border-top-color: var(--fill-color);\n",
              "    }\n",
              "    30% {\n",
              "      border-color: transparent;\n",
              "      border-left-color: var(--fill-color);\n",
              "      border-top-color: var(--fill-color);\n",
              "      border-right-color: var(--fill-color);\n",
              "    }\n",
              "    40% {\n",
              "      border-color: transparent;\n",
              "      border-right-color: var(--fill-color);\n",
              "      border-top-color: var(--fill-color);\n",
              "    }\n",
              "    60% {\n",
              "      border-color: transparent;\n",
              "      border-right-color: var(--fill-color);\n",
              "    }\n",
              "    80% {\n",
              "      border-color: transparent;\n",
              "      border-right-color: var(--fill-color);\n",
              "      border-bottom-color: var(--fill-color);\n",
              "    }\n",
              "    90% {\n",
              "      border-color: transparent;\n",
              "      border-bottom-color: var(--fill-color);\n",
              "    }\n",
              "  }\n",
              "</style>\n",
              "\n",
              "  <script>\n",
              "    async function quickchart(key) {\n",
              "      const quickchartButtonEl =\n",
              "        document.querySelector('#' + key + ' button');\n",
              "      quickchartButtonEl.disabled = true;  // To prevent multiple clicks.\n",
              "      quickchartButtonEl.classList.add('colab-df-spinner');\n",
              "      try {\n",
              "        const charts = await google.colab.kernel.invokeFunction(\n",
              "            'suggestCharts', [key], {});\n",
              "      } catch (error) {\n",
              "        console.error('Error during call to suggestCharts:', error);\n",
              "      }\n",
              "      quickchartButtonEl.classList.remove('colab-df-spinner');\n",
              "      quickchartButtonEl.classList.add('colab-df-quickchart-complete');\n",
              "    }\n",
              "    (() => {\n",
              "      let quickchartButtonEl =\n",
              "        document.querySelector('#df-1465d389-a773-44a2-999a-109b70604dc9 button');\n",
              "      quickchartButtonEl.style.display =\n",
              "        google.colab.kernel.accessAllowed ? 'block' : 'none';\n",
              "    })();\n",
              "  </script>\n",
              "</div>\n",
              "    </div>\n",
              "  </div>\n"
            ],
            "application/vnd.google.colaboratory.intrinsic+json": {
              "type": "dataframe",
              "variable_name": "X",
              "summary": "{\n  \"name\": \"X\",\n  \"rows\": 22008,\n  \"fields\": [\n    {\n      \"column\": \"datetime\",\n      \"properties\": {\n        \"dtype\": \"date\",\n        \"min\": \"2019-03-21 00:00:00+00:00\",\n        \"max\": \"2021-09-22 23:00:00+00:00\",\n        \"num_unique_values\": 22008,\n        \"samples\": [\n          \"2020-06-26 05:00:00+00:00\",\n          \"2021-05-12 22:00:00+00:00\",\n          \"2021-01-18 01:00:00+00:00\"\n        ],\n        \"semantic_type\": \"\",\n        \"description\": \"\"\n      }\n    },\n    {\n      \"column\": \"Load\",\n      \"properties\": {\n        \"dtype\": \"number\",\n        \"std\": 126.07801069179499,\n        \"min\": 212.709756,\n        \"max\": 748.868203,\n        \"num_unique_values\": 22004,\n        \"samples\": [\n          322.066013,\n          363.960316,\n          600.210607\n        ],\n        \"semantic_type\": \"\",\n        \"description\": \"\"\n      }\n    },\n    {\n      \"column\": \"sunrise_hour\",\n      \"properties\": {\n        \"dtype\": \"number\",\n        \"std\": 1,\n        \"min\": 3,\n        \"max\": 8,\n        \"num_unique_values\": 6,\n        \"samples\": [\n          6,\n          5,\n          8\n        ],\n        \"semantic_type\": \"\",\n        \"description\": \"\"\n      }\n    },\n    {\n      \"column\": \"sunset_hour\",\n      \"properties\": {\n        \"dtype\": \"number\",\n        \"std\": 1,\n        \"min\": 15,\n        \"max\": 20,\n        \"num_unique_values\": 6,\n        \"samples\": [\n          18,\n          19,\n          15\n        ],\n        \"semantic_type\": \"\",\n        \"description\": \"\"\n      }\n    },\n    {\n      \"column\": \"daylight_hours\",\n      \"properties\": {\n        \"dtype\": \"number\",\n        \"std\": 3,\n        \"min\": 7,\n        \"max\": 17,\n        \"num_unique_values\": 11,\n        \"samples\": [\n          14,\n          12,\n          8\n        ],\n        \"semantic_type\": \"\",\n        \"description\": \"\"\n      }\n    },\n    {\n      \"column\": \"month_sin\",\n      \"properties\": {\n        \"dtype\": \"number\",\n        \"std\": 0.706935420933239,\n        \"min\": -1.0,\n        \"max\": 1.0,\n        \"num_unique_values\": 11,\n        \"samples\": [\n          -0.8660254037844384,\n          1.0,\n          -2.4492935982947064e-16\n        ],\n        \"semantic_type\": \"\",\n        \"description\": \"\"\n      }\n    },\n    {\n      \"column\": \"month_cos\",\n      \"properties\": {\n        \"dtype\": \"number\",\n        \"std\": 0.6958289765943552,\n        \"min\": -1.0,\n        \"max\": 1.0,\n        \"num_unique_values\": 11,\n        \"samples\": [\n          -0.5000000000000004,\n          6.123233995736766e-17,\n          1.0\n        ],\n        \"semantic_type\": \"\",\n        \"description\": \"\"\n      }\n    },\n    {\n      \"column\": \"day_of_week_sin\",\n      \"properties\": {\n        \"dtype\": \"number\",\n        \"std\": 0.7071228465009616,\n        \"min\": -0.9749279121818236,\n        \"max\": 0.9749279121818236,\n        \"num_unique_values\": 7,\n        \"samples\": [\n          0.4338837391175582,\n          -0.433883739117558,\n          0.7818314824680298\n        ],\n        \"semantic_type\": \"\",\n        \"description\": \"\"\n      }\n    },\n    {\n      \"column\": \"day_of_week_cos\",\n      \"properties\": {\n        \"dtype\": \"number\",\n        \"std\": 0.7071228465009616,\n        \"min\": -0.9009688679024191,\n        \"max\": 1.0,\n        \"num_unique_values\": 7,\n        \"samples\": [\n          -0.900968867902419,\n          -0.9009688679024191,\n          0.6234898018587336\n        ],\n        \"semantic_type\": \"\",\n        \"description\": \"\"\n      }\n    },\n    {\n      \"column\": \"hour_sin\",\n      \"properties\": {\n        \"dtype\": \"number\",\n        \"std\": 0.7071228465009616,\n        \"min\": -1.0,\n        \"max\": 1.0,\n        \"num_unique_values\": 21,\n        \"samples\": [\n          0.0,\n          -0.8660254037844386,\n          -0.9659258262890684\n        ],\n        \"semantic_type\": \"\",\n        \"description\": \"\"\n      }\n    },\n    {\n      \"column\": \"hour_cos\",\n      \"properties\": {\n        \"dtype\": \"number\",\n        \"std\": 0.7071228465009616,\n        \"min\": -1.0,\n        \"max\": 1.0,\n        \"num_unique_values\": 22,\n        \"samples\": [\n          1.0,\n          -0.9659258262890684,\n          -0.4999999999999998\n        ],\n        \"semantic_type\": \"\",\n        \"description\": \"\"\n      }\n    }\n  ]\n}"
            }
          },
          "metadata": {},
          "execution_count": 8
        }
      ]
    },
    {
      "cell_type": "code",
      "source": [
        "for train_index, test_index in tss.split(X):\n",
        "    X_train, X_test = X.iloc[train_index, :], X.iloc[test_index,:]\n",
        "    y_train, y_test = y.iloc[train_index], y.iloc[test_index]"
      ],
      "metadata": {
        "id": "2Rvt2jVEwfp1"
      },
      "execution_count": 9,
      "outputs": []
    },
    {
      "cell_type": "code",
      "source": [
        "X_train.index"
      ],
      "metadata": {
        "colab": {
          "base_uri": "https://localhost:8080/"
        },
        "id": "_gpB-GLbwpSb",
        "outputId": "67918379-76c3-4220-ea02-66af4baf44b1"
      },
      "execution_count": 10,
      "outputs": [
        {
          "output_type": "execute_result",
          "data": {
            "text/plain": [
              "DatetimeIndex(['2019-03-21 00:00:00+00:00', '2019-03-21 01:00:00+00:00',\n",
              "               '2019-03-21 02:00:00+00:00', '2019-03-21 03:00:00+00:00',\n",
              "               '2019-03-21 04:00:00+00:00', '2019-03-21 05:00:00+00:00',\n",
              "               '2019-03-21 06:00:00+00:00', '2019-03-21 07:00:00+00:00',\n",
              "               '2019-03-21 08:00:00+00:00', '2019-03-21 09:00:00+00:00',\n",
              "               ...\n",
              "               '2021-03-23 05:00:00+00:00', '2021-03-23 06:00:00+00:00',\n",
              "               '2021-03-23 07:00:00+00:00', '2021-03-23 08:00:00+00:00',\n",
              "               '2021-03-23 09:00:00+00:00', '2021-03-23 10:00:00+00:00',\n",
              "               '2021-03-23 11:00:00+00:00', '2021-03-23 12:00:00+00:00',\n",
              "               '2021-03-23 13:00:00+00:00', '2021-03-23 14:00:00+00:00'],\n",
              "              dtype='datetime64[ns, UTC]', name='datetime', length=17607, freq='H')"
            ]
          },
          "metadata": {},
          "execution_count": 10
        }
      ]
    },
    {
      "cell_type": "code",
      "source": [
        "X_test.index"
      ],
      "metadata": {
        "colab": {
          "base_uri": "https://localhost:8080/"
        },
        "id": "VtzeLr5HwzIn",
        "outputId": "8e5b2527-7034-4486-e682-f39635941560"
      },
      "execution_count": 11,
      "outputs": [
        {
          "output_type": "execute_result",
          "data": {
            "text/plain": [
              "DatetimeIndex(['2021-03-23 15:00:00+00:00', '2021-03-23 16:00:00+00:00',\n",
              "               '2021-03-23 17:00:00+00:00', '2021-03-23 18:00:00+00:00',\n",
              "               '2021-03-23 19:00:00+00:00', '2021-03-23 20:00:00+00:00',\n",
              "               '2021-03-23 21:00:00+00:00', '2021-03-23 22:00:00+00:00',\n",
              "               '2021-03-23 23:00:00+00:00', '2021-03-24 00:00:00+00:00',\n",
              "               ...\n",
              "               '2021-09-22 14:00:00+00:00', '2021-09-22 15:00:00+00:00',\n",
              "               '2021-09-22 16:00:00+00:00', '2021-09-22 17:00:00+00:00',\n",
              "               '2021-09-22 18:00:00+00:00', '2021-09-22 19:00:00+00:00',\n",
              "               '2021-09-22 20:00:00+00:00', '2021-09-22 21:00:00+00:00',\n",
              "               '2021-09-22 22:00:00+00:00', '2021-09-22 23:00:00+00:00'],\n",
              "              dtype='datetime64[ns, UTC]', name='datetime', length=4401, freq='H')"
            ]
          },
          "metadata": {},
          "execution_count": 11
        }
      ]
    },
    {
      "cell_type": "code",
      "source": [
        "def price2num(x):\n",
        "    if type(x) == str:\n",
        "        x = x.strip('$').replace(',', '')\n",
        "    return float(x)\n",
        "\n",
        "\n",
        "#function to convert price from string to floats\n",
        "y_train=y_train.apply(price2num)\n",
        "y_train.groupby('datetime').mean().plot()\n",
        "y_test=y_test.apply(price2num)\n",
        "y_test.groupby('datetime').mean().plot()"
      ],
      "metadata": {
        "colab": {
          "base_uri": "https://localhost:8080/",
          "height": 484
        },
        "id": "C9O_Cj4Pw59s",
        "outputId": "66f73a6c-42d2-4327-ce7e-9a5608e397ca"
      },
      "execution_count": 12,
      "outputs": [
        {
          "output_type": "execute_result",
          "data": {
            "text/plain": [
              "<Axes: xlabel='datetime'>"
            ]
          },
          "metadata": {},
          "execution_count": 12
        },
        {
          "output_type": "display_data",
          "data": {
            "text/plain": [
              "<Figure size 640x480 with 1 Axes>"
            ],
            "image/png": "[encoded data removed]"
          },
          "metadata": {}
        }
      ]
    },
    {
      "cell_type": "code",
      "source": [
        "print(X_train.shape, X_test.shape)"
      ],
      "metadata": {
        "colab": {
          "base_uri": "https://localhost:8080/"
        },
        "id": "tElHxitz4gNf",
        "outputId": "8ed9c9be-6b91-49d8-9239-94e317caaa4a"
      },
      "execution_count": 13,
      "outputs": [
        {
          "output_type": "stream",
          "name": "stdout",
          "text": [
            "(17607, 10) (4401, 10)\n"
          ]
        }
      ]
    },
    {
      "cell_type": "code",
      "source": [
        "y_train.shape"
      ],
      "metadata": {
        "colab": {
          "base_uri": "https://localhost:8080/"
        },
        "id": "5YrhK7J34ZY8",
        "outputId": "16d07cb0-2bc1-4098-ece1-74139d6b49e4"
      },
      "execution_count": 14,
      "outputs": [
        {
          "output_type": "execute_result",
          "data": {
            "text/plain": [
              "(17607,)"
            ]
          },
          "metadata": {},
          "execution_count": 14
        }
      ]
    },
    {
      "cell_type": "code",
      "source": [
        "from sklearn.preprocessing import MinMaxScaler\n",
        "\n",
        "f_columns = ['Load', 'sunrise_hour',\n",
        "             'sunset_hour', \t'daylight_hours' ,\t'month_sin' ,\n",
        "             'month_cos' ,\t'day_of_week_sin' \t,'day_of_week_cos',\n",
        "             'hour_sin' ,\t'hour_cos']  # Define a list of column names to be transformed\n",
        "\n",
        "f_transformer = MinMaxScaler()  # Create an instance of MinMaxScaler for feature transformation\n",
        "t_transformer = MinMaxScaler()  # Create an instance of MinMaxScaler for target transformation\n",
        "\n",
        "f_transformer = f_transformer.fit(X_train[f_columns].to_numpy())  # Fit the feature transformer to the training data\n",
        "t_transformer = t_transformer.fit(y_train.to_numpy().reshape(-1, 1))  # Fit the target transformer to the training data\n",
        "\n",
        "X_train.loc[:, f_columns] = f_transformer.transform(X_train[f_columns].to_numpy())  # Apply feature transformation to the training data\n",
        "y_train = t_transformer.transform(y_train.to_numpy().reshape(-1, 1))  # Apply target transformation to the training data\n",
        "\n",
        "X_test.loc[:, f_columns] = f_transformer.transform(X_test[f_columns].to_numpy())  # Apply feature transformation to the test data\n",
        "y_test = t_transformer.transform(y_test.to_numpy().reshape(-1, 1))  # Apply target transformation to the test data"
      ],
      "metadata": {
        "id": "XqWPuUFX4Wvs"
      },
      "execution_count": 15,
      "outputs": []
    },
    {
      "cell_type": "code",
      "source": [
        "import numpy as np\n",
        "\n",
        "def create_dataset(X, y, time_steps=1):\n",
        "    Xs, ys = [], []\n",
        "    for i in range(len(X) - time_steps):\n",
        "        v = X[i:(i + time_steps)]\n",
        "        Xs.append(v)\n",
        "        ys.append(y[i + time_steps])\n",
        "    return np.array(Xs), np.array(ys)"
      ],
      "metadata": {
        "id": "a1aIYIiU6oHq"
      },
      "execution_count": 16,
      "outputs": []
    },
    {
      "cell_type": "code",
      "source": [
        "time_steps = 24  # Set the number of time steps to 24\n",
        "\n",
        "X_train, y_train = create_dataset(X_train, y_train, time_steps)  # Create the training dataset using the 'create_dataset' function\n",
        "\n",
        "X_test, y_test = create_dataset(X_test, y_test, time_steps)  # Create the test dataset using the 'create_dataset' function\n",
        "\n",
        "\n",
        "\n",
        "print(X_train.shape,y_train.shape,X_test.shape,  y_test.shape)"
      ],
      "metadata": {
        "colab": {
          "base_uri": "https://localhost:8080/"
        },
        "id": "PXmAzLrL5mWG",
        "outputId": "defd40da-45f2-4f68-9b0c-911e8f048cde"
      },
      "execution_count": 17,
      "outputs": [
        {
          "output_type": "stream",
          "name": "stdout",
          "text": [
            "(17583, 24, 10) (17583, 1) (4377, 24, 10) (4377, 1)\n"
          ]
        }
      ]
    },
    {
      "cell_type": "code",
      "source": [],
      "metadata": {
        "id": "cyP7O4D56woh"
      },
      "execution_count": 17,
      "outputs": []
    },
    {
      "cell_type": "code",
      "source": [
        "!pip install optuna"
      ],
      "metadata": {
        "colab": {
          "base_uri": "https://localhost:8080/"
        },
        "id": "78x43eO9f-PO",
        "outputId": "cc95171e-9043-40a1-811a-0022bcff362e"
      },
      "execution_count": 18,
      "outputs": [
        {
          "output_type": "stream",
          "name": "stdout",
          "text": [
            "Collecting optuna\n",
            "  Downloading optuna-3.6.1-py3-none-any.whl (380 kB)\n",
            "\u001b[2K     \u001b[90m━━━━━━━━━━━━━━━━━━━━━━━━━━━━━━━━━━━━━━━━\u001b[0m \u001b[32m380.1/380.1 kB\u001b[0m \u001b[31m5.5 MB/s\u001b[0m eta \u001b[36m0:00:00\u001b[0m\n",
            "\u001b[?25hCollecting alembic>=1.5.0 (from optuna)\n",
            "  Downloading alembic-1.13.1-py3-none-any.whl (233 kB)\n",
            "\u001b[2K     \u001b[90m━━━━━━━━━━━━━━━━━━━━━━━━━━━━━━━━━━━━━━━━\u001b[0m \u001b[32m233.4/233.4 kB\u001b[0m \u001b[31m8.8 MB/s\u001b[0m eta \u001b[36m0:00:00\u001b[0m\n",
            "\u001b[?25hCollecting colorlog (from optuna)\n",
            "  Downloading colorlog-6.8.2-py3-none-any.whl (11 kB)\n",
            "Requirement already satisfied: numpy in /usr/local/lib/python3.10/dist-packages (from optuna) (1.25.2)\n",
            "Requirement already satisfied: packaging>=20.0 in /usr/local/lib/python3.10/dist-packages (from optuna) (24.0)\n",
            "Requirement already satisfied: sqlalchemy>=1.3.0 in /usr/local/lib/python3.10/dist-packages (from optuna) (2.0.29)\n",
            "Requirement already satisfied: tqdm in /usr/local/lib/python3.10/dist-packages (from optuna) (4.66.2)\n",
            "Requirement already satisfied: PyYAML in /usr/local/lib/python3.10/dist-packages (from optuna) (6.0.1)\n",
            "Collecting Mako (from alembic>=1.5.0->optuna)\n",
            "  Downloading Mako-1.3.2-py3-none-any.whl (78 kB)\n",
            "\u001b[2K     \u001b[90m━━━━━━━━━━━━━━━━━━━━━━━━━━━━━━━━━━━━━━━━\u001b[0m \u001b[32m78.7/78.7 kB\u001b[0m \u001b[31m12.6 MB/s\u001b[0m eta \u001b[36m0:00:00\u001b[0m\n",
            "\u001b[?25hRequirement already satisfied: typing-extensions>=4 in /usr/local/lib/python3.10/dist-packages (from alembic>=1.5.0->optuna) (4.10.0)\n",
            "Requirement already satisfied: greenlet!=0.4.17 in /usr/local/lib/python3.10/dist-packages (from sqlalchemy>=1.3.0->optuna) (3.0.3)\n",
            "Requirement already satisfied: MarkupSafe>=0.9.2 in /usr/local/lib/python3.10/dist-packages (from Mako->alembic>=1.5.0->optuna) (2.1.5)\n",
            "Installing collected packages: Mako, colorlog, alembic, optuna\n",
            "Successfully installed Mako-1.3.2 alembic-1.13.1 colorlog-6.8.2 optuna-3.6.1\n"
          ]
        }
      ]
    },
    {
      "cell_type": "code",
      "source": [
        "import optuna"
      ],
      "metadata": {
        "id": "TZlySQgOgCMT"
      },
      "execution_count": 19,
      "outputs": []
    },
    {
      "cell_type": "code",
      "source": [
        "import math\n",
        "from tensorflow import keras\n",
        "from keras import layers\n",
        "from keras.models import Sequential\n",
        "from keras.layers import Dense, LSTM, Dropout\n",
        "from keras.optimizers import Adam\n",
        "\n",
        "import tensorflow as tf\n",
        "from keras.callbacks import EarlyStopping\n"
      ],
      "metadata": {
        "id": "wRZm1QOWOJMa"
      },
      "execution_count": 20,
      "outputs": []
    },
    {
      "cell_type": "code",
      "source": [
        "\n",
        "def build_model(num_layers, units, dropout_rates, learning_rate):\n",
        "    model = keras.Sequential()\n",
        "\n",
        "    for i in range(num_layers):\n",
        "        return_sequences = (i != num_layers - 1)  # Set return_sequences=True for all but the last layer\n",
        "\n",
        "        model.add(layers.LSTM(units=units[i], input_shape=(X_train.shape[1], X_train.shape[2]), return_sequences=return_sequences))\n",
        "        model.add(layers.Dropout(dropout_rates[i]))\n",
        "\n",
        "    model.add(layers.Dense(1))\n",
        "\n",
        "    optimizer = Adam(learning_rate=learning_rate)\n",
        "    model.compile(\n",
        "        optimizer=optimizer,\n",
        "        loss='mean_squared_error'\n",
        "      # , metrics=['mae','mape']\n",
        "        )\n",
        "    return model"
      ],
      "metadata": {
        "id": "O7VGPb6UggYg"
      },
      "execution_count": 21,
      "outputs": []
    },
    {
      "cell_type": "code",
      "source": [
        "# Define the objective function for optimization\n",
        "def objective(trial):\n",
        "    # Define the hyperparameters to be optimized\n",
        "    num_layers = trial.suggest_int(\"num_layers\", 1, 5 , 2)\n",
        "    units = [trial.suggest_int(f\"units_{i}\", 50, 250) for i in range(num_layers)]\n",
        "    dropout_rates = [trial.suggest_uniform(f\"dropout_{i}\", 0.0, 0.5) for i in range(num_layers)]\n",
        "    learning_rate = trial.suggest_loguniform(\"learning_rate\", 1e-5, 1e-1)\n",
        "    batch_size = trial.suggest_categorical(\"batch_size\", [16, 32, 64, 128])\n",
        "\n",
        "    # Build the model based on the suggested hyperparameters\n",
        "    model = build_model(num_layers, units, dropout_rates, learning_rate)\n",
        "\n",
        "\n",
        "\n",
        "    # Define the early stopping callback\n",
        "    early_stopping = EarlyStopping(\n",
        "        monitor='val_loss',\n",
        "       patience=3,\n",
        "        restore_best_weights=True\n",
        "    )\n",
        "\n",
        "\n",
        "\n",
        "    # Train the model\n",
        "    history = model.fit(\n",
        "        X_train,\n",
        "        y_train,\n",
        "        epochs=50,\n",
        "        batch_size = batch_size,\n",
        "        validation_split=0.2,\n",
        "        callbacks=[early_stopping]\n",
        "        )\n",
        "\n",
        "    # Return the validation loss as the objective value to minimize\n",
        "    return np.min(history.history[\"val_loss\"])\n",
        "\n",
        "\n",
        "pruner = optuna.pruners.PercentilePruner(percentile=70)  # Adjust the percentile value as needed\n",
        "#pruner = optuna.pruners.MedianPruner()\n",
        "# Optimize the hyperparameters using Bayesian optimization\n",
        "study = optuna.create_study( sampler=optuna.samplers.TPESampler(), direction=\"minimize\" , pruner=pruner)\n",
        "study.optimize(objective, n_trials=20)\n",
        "\n",
        "# Get the best hyperparameters and the corresponding objective value\n",
        "best_params = study.best_params\n",
        "best_value = study.best_value\n",
        "\n",
        "print(\"Best Hyperparameters:\", best_params)\n",
        "print(\"Best Objective Value:\", best_value)\n",
        "\n",
        "# Build the final model with the best hyperparameters\n",
        "#best_model = build_model(best_params[\"num_layers\"],\n",
        "  #                       [best_params[f\"units_{i}\"] for i in range(best_params[\"num_layers\"])],\n",
        "          #               [best_params[f\"dropout_{i}\"] for i in range(best_params[\"num_layers\"])])"
      ],
      "metadata": {
        "colab": {
          "base_uri": "https://localhost:8080/"
        },
        "id": "gP0EXmZTgFRu",
        "outputId": "2a8f3cb4-a0b9-4817-84d6-3ae7937804c1"
      },
      "execution_count": 22,
      "outputs": [
        {
          "metadata": {
            "tags": null
          },
          "name": "stderr",
          "output_type": "stream",
          "text": [
            "[I 2024-04-09 04:38:22,228] A new study created in memory with name: no-name-299eddbb-ebed-4a5b-9f11-9b36573a1812\n",
            "<ipython-input-22-4a7a22044f7e>:4: FutureWarning: suggest_int() got {'step'} as positional arguments but they were expected to be given as keyword arguments.\n",
            "  num_layers = trial.suggest_int(\"num_layers\", 1, 5 , 2)\n",
            "<ipython-input-22-4a7a22044f7e>:6: FutureWarning: suggest_uniform has been deprecated in v3.0.0. This feature will be removed in v6.0.0. See https://github.com/optuna/optuna/releases/tag/v3.0.0. Use suggest_float instead.\n",
            "  dropout_rates = [trial.suggest_uniform(f\"dropout_{i}\", 0.0, 0.5) for i in range(num_layers)]\n",
            "<ipython-input-22-4a7a22044f7e>:7: FutureWarning: suggest_loguniform has been deprecated in v3.0.0. This feature will be removed in v6.0.0. See https://github.com/optuna/optuna/releases/tag/v3.0.0. Use suggest_float(..., log=True) instead.\n",
            "  learning_rate = trial.suggest_loguniform(\"learning_rate\", 1e-5, 1e-1)\n"
          ]
        },
        {
          "metadata": {
            "tags": null
          },
          "name": "stdout",
          "output_type": "stream",
          "text": [
            "Epoch 1/50\n",
            "440/440 [==============================] - 68s 138ms/step - loss: 0.0628 - val_loss: 0.0055\n",
            "Epoch 2/50\n",
            "440/440 [==============================] - 62s 142ms/step - loss: 0.0048 - val_loss: 0.0047\n",
            "Epoch 3/50\n",
            "440/440 [==============================] - 60s 135ms/step - loss: 0.0034 - val_loss: 0.0014\n",
            "Epoch 4/50\n",
            "440/440 [==============================] - 60s 136ms/step - loss: 0.0025 - val_loss: 7.9405e-04\n",
            "Epoch 5/50\n",
            "440/440 [==============================] - 60s 135ms/step - loss: 0.0020 - val_loss: 0.0033\n",
            "Epoch 6/50\n",
            "440/440 [==============================] - 60s 137ms/step - loss: 0.0017 - val_loss: 9.0199e-04\n",
            "Epoch 7/50\n",
            "440/440 [==============================] - 60s 136ms/step - loss: 0.0016 - val_loss: 5.1854e-04\n",
            "Epoch 8/50\n",
            "440/440 [==============================] - 60s 136ms/step - loss: 0.0013 - val_loss: 8.8150e-04\n",
            "Epoch 9/50\n",
            "440/440 [==============================] - 60s 136ms/step - loss: 0.0013 - val_loss: 7.3807e-04\n",
            "Epoch 10/50\n",
            "440/440 [==============================] - 61s 140ms/step - loss: 0.0011 - val_loss: 0.0015\n"
          ]
        },
        {
          "metadata": {
            "tags": null
          },
          "name": "stderr",
          "output_type": "stream",
          "text": [
            "[I 2024-04-09 04:48:34,485] Trial 0 finished with value: 0.0005185382906347513 and parameters: {'num_layers': 3, 'units_0': 137, 'units_1': 148, 'units_2': 167, 'dropout_0': 0.02688930036463877, 'dropout_1': 0.21530540432005535, 'dropout_2': 0.19345752765891167, 'learning_rate': 0.011777156875087104, 'batch_size': 32}. Best is trial 0 with value: 0.0005185382906347513.\n"
          ]
        },
        {
          "metadata": {
            "tags": null
          },
          "name": "stdout",
          "output_type": "stream",
          "text": [
            "Epoch 1/50\n",
            "110/110 [==============================] - 68s 531ms/step - loss: 0.4626 - val_loss: 0.0305\n",
            "Epoch 2/50\n",
            "110/110 [==============================] - 57s 522ms/step - loss: 0.0667 - val_loss: 0.0480\n",
            "Epoch 3/50\n",
            "110/110 [==============================] - 56s 512ms/step - loss: 0.0642 - val_loss: 0.0321\n",
            "Epoch 4/50\n",
            "110/110 [==============================] - 58s 530ms/step - loss: 0.0631 - val_loss: 0.0297\n",
            "Epoch 5/50\n",
            "110/110 [==============================] - 57s 520ms/step - loss: 0.0625 - val_loss: 0.0545\n",
            "Epoch 6/50\n",
            "110/110 [==============================] - 56s 511ms/step - loss: 0.0623 - val_loss: 0.0608\n",
            "Epoch 7/50\n",
            "110/110 [==============================] - 57s 521ms/step - loss: 0.0615 - val_loss: 0.0406\n"
          ]
        },
        {
          "metadata": {
            "tags": null
          },
          "name": "stderr",
          "output_type": "stream",
          "text": [
            "[I 2024-04-09 04:55:26,174] Trial 1 finished with value: 0.0297091044485569 and parameters: {'num_layers': 5, 'units_0': 216, 'units_1': 222, 'units_2': 75, 'units_3': 106, 'units_4': 132, 'dropout_0': 0.009364895259948325, 'dropout_1': 0.418795768849099, 'dropout_2': 0.18816863029690556, 'dropout_3': 0.050951492367424966, 'dropout_4': 0.23289962006397374, 'learning_rate': 0.038758911063650155, 'batch_size': 128}. Best is trial 0 with value: 0.0005185382906347513.\n"
          ]
        },
        {
          "metadata": {
            "tags": null
          },
          "name": "stdout",
          "output_type": "stream",
          "text": [
            "Epoch 1/50\n",
            "880/880 [==============================] - 82s 84ms/step - loss: 0.1990 - val_loss: 0.3987\n",
            "Epoch 2/50\n",
            "880/880 [==============================] - 73s 83ms/step - loss: 0.0884 - val_loss: 0.0236\n",
            "Epoch 3/50\n",
            "880/880 [==============================] - 72s 82ms/step - loss: 0.0919 - val_loss: 0.0585\n",
            "Epoch 4/50\n",
            "880/880 [==============================] - 74s 84ms/step - loss: 0.0911 - val_loss: 0.2873\n",
            "Epoch 5/50\n",
            "880/880 [==============================] - 74s 84ms/step - loss: 0.0887 - val_loss: 0.0121\n",
            "Epoch 6/50\n",
            "880/880 [==============================] - 73s 83ms/step - loss: 0.0953 - val_loss: 0.4117\n",
            "Epoch 7/50\n",
            "880/880 [==============================] - 74s 85ms/step - loss: 0.0888 - val_loss: 0.0146\n",
            "Epoch 8/50\n",
            "880/880 [==============================] - 73s 83ms/step - loss: 0.0940 - val_loss: 0.4547\n"
          ]
        },
        {
          "metadata": {
            "tags": null
          },
          "name": "stderr",
          "output_type": "stream",
          "text": [
            "[I 2024-04-09 05:06:02,261] Trial 2 finished with value: 0.012126602232456207 and parameters: {'num_layers': 3, 'units_0': 241, 'units_1': 77, 'units_2': 127, 'dropout_0': 0.25278938687939356, 'dropout_1': 0.05607251897112975, 'dropout_2': 0.11579058190175295, 'learning_rate': 0.06664194141640051, 'batch_size': 16}. Best is trial 0 with value: 0.0005185382906347513.\n"
          ]
        },
        {
          "metadata": {
            "tags": null
          },
          "name": "stdout",
          "output_type": "stream",
          "text": [
            "Epoch 1/50\n",
            "880/880 [==============================] - 85s 90ms/step - loss: 0.2547 - val_loss: 0.0285\n",
            "Epoch 2/50\n",
            "880/880 [==============================] - 79s 89ms/step - loss: 0.1007 - val_loss: 0.0305\n",
            "Epoch 3/50\n",
            "880/880 [==============================] - 79s 90ms/step - loss: 0.1099 - val_loss: 0.1684\n",
            "Epoch 4/50\n",
            "880/880 [==============================] - 77s 87ms/step - loss: 0.1217 - val_loss: 0.1640\n"
          ]
        },
        {
          "metadata": {
            "tags": null
          },
          "name": "stderr",
          "output_type": "stream",
          "text": [
            "[I 2024-04-09 05:11:56,043] Trial 3 finished with value: 0.028522470965981483 and parameters: {'num_layers': 3, 'units_0': 121, 'units_1': 214, 'units_2': 85, 'dropout_0': 0.09695062974110208, 'dropout_1': 0.4446255569659668, 'dropout_2': 0.4633020211414205, 'learning_rate': 0.09081606445315861, 'batch_size': 16}. Best is trial 0 with value: 0.0005185382906347513.\n"
          ]
        },
        {
          "metadata": {
            "tags": null
          },
          "name": "stdout",
          "output_type": "stream",
          "text": [
            "Epoch 1/50\n",
            "110/110 [==============================] - 59s 470ms/step - loss: 0.3898 - val_loss: 0.0042\n",
            "Epoch 2/50\n",
            "110/110 [==============================] - 49s 449ms/step - loss: 0.0112 - val_loss: 0.0037\n",
            "Epoch 3/50\n",
            "110/110 [==============================] - 48s 437ms/step - loss: 0.0089 - val_loss: 0.0034\n",
            "Epoch 4/50\n",
            "110/110 [==============================] - 48s 439ms/step - loss: 0.0078 - val_loss: 0.0029\n",
            "Epoch 5/50\n",
            "110/110 [==============================] - 49s 445ms/step - loss: 0.0062 - val_loss: 0.0023\n",
            "Epoch 6/50\n",
            "110/110 [==============================] - 50s 455ms/step - loss: 0.0054 - val_loss: 0.0017\n",
            "Epoch 7/50\n",
            "110/110 [==============================] - 49s 447ms/step - loss: 0.0045 - val_loss: 0.0014\n",
            "Epoch 8/50\n",
            "110/110 [==============================] - 49s 449ms/step - loss: 0.0039 - val_loss: 0.0014\n",
            "Epoch 9/50\n",
            "110/110 [==============================] - 49s 449ms/step - loss: 0.0038 - val_loss: 7.7809e-04\n",
            "Epoch 10/50\n",
            "110/110 [==============================] - 49s 445ms/step - loss: 0.0035 - val_loss: 7.6617e-04\n",
            "Epoch 11/50\n",
            "110/110 [==============================] - 52s 469ms/step - loss: 0.0034 - val_loss: 8.6721e-04\n",
            "Epoch 12/50\n",
            "110/110 [==============================] - 49s 445ms/step - loss: 0.0030 - val_loss: 7.2003e-04\n",
            "Epoch 13/50\n",
            "110/110 [==============================] - 49s 448ms/step - loss: 0.0029 - val_loss: 7.5074e-04\n",
            "Epoch 14/50\n",
            "110/110 [==============================] - 49s 446ms/step - loss: 0.0029 - val_loss: 6.5165e-04\n",
            "Epoch 15/50\n",
            "110/110 [==============================] - 49s 446ms/step - loss: 0.0025 - val_loss: 0.0021\n",
            "Epoch 16/50\n",
            "110/110 [==============================] - 50s 453ms/step - loss: 0.0023 - val_loss: 9.5323e-04\n",
            "Epoch 17/50\n",
            "110/110 [==============================] - 49s 443ms/step - loss: 0.0023 - val_loss: 5.4839e-04\n",
            "Epoch 18/50\n",
            "110/110 [==============================] - 49s 447ms/step - loss: 0.0021 - val_loss: 6.6165e-04\n",
            "Epoch 19/50\n",
            "110/110 [==============================] - 49s 445ms/step - loss: 0.0021 - val_loss: 6.1342e-04\n",
            "Epoch 20/50\n",
            "110/110 [==============================] - 50s 451ms/step - loss: 0.0019 - val_loss: 6.1845e-04\n"
          ]
        },
        {
          "metadata": {
            "tags": null
          },
          "name": "stderr",
          "output_type": "stream",
          "text": [
            "[I 2024-04-09 05:28:37,894] Trial 4 finished with value: 0.0005483868299052119 and parameters: {'num_layers': 3, 'units_0': 187, 'units_1': 245, 'units_2': 165, 'dropout_0': 0.4330246290133108, 'dropout_1': 0.10015129425555197, 'dropout_2': 0.4565516593022486, 'learning_rate': 0.008310358608876182, 'batch_size': 128}. Best is trial 0 with value: 0.0005185382906347513.\n"
          ]
        },
        {
          "metadata": {
            "tags": null
          },
          "name": "stdout",
          "output_type": "stream",
          "text": [
            "Epoch 1/50\n",
            "220/220 [==============================] - 58s 237ms/step - loss: 0.0206 - val_loss: 0.0023\n",
            "Epoch 2/50\n",
            "220/220 [==============================] - 51s 231ms/step - loss: 0.0043 - val_loss: 0.0012\n",
            "Epoch 3/50\n",
            "220/220 [==============================] - 51s 231ms/step - loss: 0.0032 - val_loss: 9.3713e-04\n",
            "Epoch 4/50\n",
            "220/220 [==============================] - 52s 238ms/step - loss: 0.0026 - val_loss: 8.8666e-04\n",
            "Epoch 5/50\n",
            "220/220 [==============================] - 51s 233ms/step - loss: 0.0025 - val_loss: 7.3206e-04\n",
            "Epoch 6/50\n",
            "220/220 [==============================] - 51s 231ms/step - loss: 0.0022 - val_loss: 6.5306e-04\n",
            "Epoch 7/50\n",
            "220/220 [==============================] - 51s 230ms/step - loss: 0.0019 - val_loss: 5.3861e-04\n",
            "Epoch 8/50\n",
            "220/220 [==============================] - 50s 229ms/step - loss: 0.0018 - val_loss: 8.2564e-04\n",
            "Epoch 9/50\n",
            "220/220 [==============================] - 52s 235ms/step - loss: 0.0017 - val_loss: 6.1589e-04\n",
            "Epoch 10/50\n",
            "220/220 [==============================] - 51s 231ms/step - loss: 0.0015 - val_loss: 6.8927e-04\n"
          ]
        },
        {
          "metadata": {
            "tags": null
          },
          "name": "stderr",
          "output_type": "stream",
          "text": [
            "[I 2024-04-09 05:38:09,550] Trial 5 finished with value: 0.0005386135308071971 and parameters: {'num_layers': 3, 'units_0': 122, 'units_1': 243, 'units_2': 165, 'dropout_0': 0.3300269932022193, 'dropout_1': 0.06122651018959224, 'dropout_2': 0.2962819250804605, 'learning_rate': 0.002623631570386579, 'batch_size': 64}. Best is trial 0 with value: 0.0005185382906347513.\n"
          ]
        },
        {
          "metadata": {
            "tags": null
          },
          "name": "stdout",
          "output_type": "stream",
          "text": [
            "Epoch 1/50\n",
            "110/110 [==============================] - 43s 336ms/step - loss: 0.0151 - val_loss: 0.0031\n",
            "Epoch 2/50\n",
            "110/110 [==============================] - 38s 342ms/step - loss: 0.0052 - val_loss: 0.0017\n",
            "Epoch 3/50\n",
            "110/110 [==============================] - 38s 342ms/step - loss: 0.0035 - val_loss: 0.0015\n",
            "Epoch 4/50\n",
            "110/110 [==============================] - 37s 338ms/step - loss: 0.0029 - val_loss: 0.0013\n",
            "Epoch 5/50\n",
            "110/110 [==============================] - 36s 329ms/step - loss: 0.0027 - val_loss: 0.0014\n",
            "Epoch 6/50\n",
            "110/110 [==============================] - 36s 325ms/step - loss: 0.0026 - val_loss: 0.0011\n",
            "Epoch 7/50\n",
            "110/110 [==============================] - 36s 325ms/step - loss: 0.0023 - val_loss: 0.0015\n",
            "Epoch 8/50\n",
            "110/110 [==============================] - 36s 331ms/step - loss: 0.0021 - val_loss: 0.0015\n",
            "Epoch 9/50\n",
            "110/110 [==============================] - 37s 335ms/step - loss: 0.0021 - val_loss: 0.0014\n"
          ]
        },
        {
          "metadata": {
            "tags": null
          },
          "name": "stderr",
          "output_type": "stream",
          "text": [
            "[I 2024-04-09 05:44:36,418] Trial 6 finished with value: 0.001084216171875596 and parameters: {'num_layers': 3, 'units_0': 242, 'units_1': 95, 'units_2': 165, 'dropout_0': 0.10081647501765173, 'dropout_1': 0.07043968770098791, 'dropout_2': 0.1949893843243704, 'learning_rate': 0.0004653480371634498, 'batch_size': 128}. Best is trial 0 with value: 0.0005185382906347513.\n"
          ]
        },
        {
          "metadata": {
            "tags": null
          },
          "name": "stdout",
          "output_type": "stream",
          "text": [
            "Epoch 1/50\n",
            "220/220 [==============================] - 18s 74ms/step - loss: 0.0337 - val_loss: 0.0083\n",
            "Epoch 2/50\n",
            "220/220 [==============================] - 15s 70ms/step - loss: 0.0113 - val_loss: 0.0040\n",
            "Epoch 3/50\n",
            "220/220 [==============================] - 16s 71ms/step - loss: 0.0090 - val_loss: 0.0034\n",
            "Epoch 4/50\n",
            "220/220 [==============================] - 15s 68ms/step - loss: 0.0080 - val_loss: 0.0032\n",
            "Epoch 5/50\n",
            "220/220 [==============================] - 15s 68ms/step - loss: 0.0074 - val_loss: 0.0029\n",
            "Epoch 6/50\n",
            "220/220 [==============================] - 15s 68ms/step - loss: 0.0069 - val_loss: 0.0029\n",
            "Epoch 7/50\n",
            "220/220 [==============================] - 16s 75ms/step - loss: 0.0065 - val_loss: 0.0028\n",
            "Epoch 8/50\n",
            "220/220 [==============================] - 15s 68ms/step - loss: 0.0062 - val_loss: 0.0026\n",
            "Epoch 9/50\n",
            "220/220 [==============================] - 15s 68ms/step - loss: 0.0058 - val_loss: 0.0027\n",
            "Epoch 10/50\n",
            "220/220 [==============================] - 15s 68ms/step - loss: 0.0056 - val_loss: 0.0026\n",
            "Epoch 11/50\n",
            "220/220 [==============================] - 15s 70ms/step - loss: 0.0054 - val_loss: 0.0024\n",
            "Epoch 12/50\n",
            "220/220 [==============================] - 16s 71ms/step - loss: 0.0052 - val_loss: 0.0025\n",
            "Epoch 13/50\n",
            "220/220 [==============================] - 15s 68ms/step - loss: 0.0049 - val_loss: 0.0023\n",
            "Epoch 14/50\n",
            "220/220 [==============================] - 15s 68ms/step - loss: 0.0046 - val_loss: 0.0022\n",
            "Epoch 15/50\n",
            "220/220 [==============================] - 15s 68ms/step - loss: 0.0044 - val_loss: 0.0021\n",
            "Epoch 16/50\n",
            "220/220 [==============================] - 16s 72ms/step - loss: 0.0042 - val_loss: 0.0020\n",
            "Epoch 17/50\n",
            "220/220 [==============================] - 15s 68ms/step - loss: 0.0040 - val_loss: 0.0016\n",
            "Epoch 18/50\n",
            "220/220 [==============================] - 16s 71ms/step - loss: 0.0035 - val_loss: 0.0015\n",
            "Epoch 19/50\n",
            "220/220 [==============================] - 15s 69ms/step - loss: 0.0033 - val_loss: 0.0013\n",
            "Epoch 20/50\n",
            "220/220 [==============================] - 15s 70ms/step - loss: 0.0031 - val_loss: 0.0012\n",
            "Epoch 21/50\n",
            "220/220 [==============================] - 15s 70ms/step - loss: 0.0030 - val_loss: 0.0012\n",
            "Epoch 22/50\n",
            "220/220 [==============================] - 15s 67ms/step - loss: 0.0028 - val_loss: 0.0012\n",
            "Epoch 23/50\n",
            "220/220 [==============================] - 15s 68ms/step - loss: 0.0028 - val_loss: 0.0012\n",
            "Epoch 24/50\n",
            "220/220 [==============================] - 15s 69ms/step - loss: 0.0027 - val_loss: 0.0012\n",
            "Epoch 25/50\n",
            "220/220 [==============================] - 16s 73ms/step - loss: 0.0027 - val_loss: 0.0012\n",
            "Epoch 26/50\n",
            "220/220 [==============================] - 15s 68ms/step - loss: 0.0026 - val_loss: 0.0010\n",
            "Epoch 27/50\n",
            "220/220 [==============================] - 15s 68ms/step - loss: 0.0025 - val_loss: 0.0010\n",
            "Epoch 28/50\n",
            "220/220 [==============================] - 15s 68ms/step - loss: 0.0024 - val_loss: 0.0010\n",
            "Epoch 29/50\n",
            "220/220 [==============================] - 15s 68ms/step - loss: 0.0024 - val_loss: 9.7332e-04\n",
            "Epoch 30/50\n",
            "220/220 [==============================] - 16s 71ms/step - loss: 0.0023 - val_loss: 0.0010\n",
            "Epoch 31/50\n",
            "220/220 [==============================] - 15s 67ms/step - loss: 0.0023 - val_loss: 9.4586e-04\n",
            "Epoch 32/50\n",
            "220/220 [==============================] - 15s 67ms/step - loss: 0.0022 - val_loss: 9.1900e-04\n",
            "Epoch 33/50\n",
            "220/220 [==============================] - 15s 68ms/step - loss: 0.0022 - val_loss: 8.9075e-04\n",
            "Epoch 34/50\n",
            "220/220 [==============================] - 15s 68ms/step - loss: 0.0021 - val_loss: 8.8346e-04\n",
            "Epoch 35/50\n",
            "220/220 [==============================] - 16s 71ms/step - loss: 0.0021 - val_loss: 0.0011\n",
            "Epoch 36/50\n",
            "220/220 [==============================] - 16s 72ms/step - loss: 0.0021 - val_loss: 9.2242e-04\n",
            "Epoch 37/50\n",
            "220/220 [==============================] - 15s 68ms/step - loss: 0.0020 - val_loss: 8.5556e-04\n",
            "Epoch 38/50\n",
            "220/220 [==============================] - 15s 68ms/step - loss: 0.0020 - val_loss: 8.3171e-04\n",
            "Epoch 39/50\n",
            "220/220 [==============================] - 16s 71ms/step - loss: 0.0020 - val_loss: 8.1582e-04\n",
            "Epoch 40/50\n",
            "220/220 [==============================] - 15s 68ms/step - loss: 0.0020 - val_loss: 8.1660e-04\n",
            "Epoch 41/50\n",
            "220/220 [==============================] - 15s 68ms/step - loss: 0.0019 - val_loss: 8.1918e-04\n",
            "Epoch 42/50\n",
            "220/220 [==============================] - 15s 68ms/step - loss: 0.0019 - val_loss: 8.2324e-04\n"
          ]
        },
        {
          "metadata": {
            "tags": null
          },
          "name": "stderr",
          "output_type": "stream",
          "text": [
            "[I 2024-04-09 05:56:09,127] Trial 7 finished with value: 0.0008158205891959369 and parameters: {'num_layers': 1, 'units_0': 202, 'dropout_0': 0.17454477325206214, 'learning_rate': 3.147546280622377e-05, 'batch_size': 64}. Best is trial 0 with value: 0.0005185382906347513.\n"
          ]
        },
        {
          "output_type": "stream",
          "name": "stdout",
          "text": [
            "Epoch 1/50\n",
            "880/880 [==============================] - 70s 74ms/step - loss: 0.0142 - val_loss: 0.0032\n",
            "Epoch 2/50\n",
            "880/880 [==============================] - 64s 72ms/step - loss: 0.0057 - val_loss: 0.0031\n",
            "Epoch 3/50\n",
            "880/880 [==============================] - 63s 71ms/step - loss: 0.0054 - val_loss: 0.0028\n",
            "Epoch 4/50\n",
            "880/880 [==============================] - 63s 71ms/step - loss: 0.0050 - val_loss: 0.0026\n",
            "Epoch 5/50\n",
            "880/880 [==============================] - 63s 71ms/step - loss: 0.0043 - val_loss: 0.0021\n",
            "Epoch 6/50\n",
            "880/880 [==============================] - 64s 73ms/step - loss: 0.0031 - val_loss: 0.0016\n",
            "Epoch 7/50\n",
            "880/880 [==============================] - 63s 71ms/step - loss: 0.0028 - val_loss: 0.0013\n",
            "Epoch 8/50\n",
            "880/880 [==============================] - 63s 71ms/step - loss: 0.0026 - val_loss: 0.0012\n",
            "Epoch 9/50\n",
            "880/880 [==============================] - 63s 71ms/step - loss: 0.0024 - val_loss: 0.0012\n",
            "Epoch 10/50\n",
            "880/880 [==============================] - 63s 72ms/step - loss: 0.0023 - val_loss: 0.0010\n",
            "Epoch 11/50\n",
            "880/880 [==============================] - 64s 73ms/step - loss: 0.0022 - val_loss: 0.0011\n",
            "Epoch 12/50\n",
            "880/880 [==============================] - 62s 71ms/step - loss: 0.0021 - val_loss: 9.4053e-04\n",
            "Epoch 13/50\n",
            "880/880 [==============================] - 62s 71ms/step - loss: 0.0020 - val_loss: 8.7310e-04\n",
            "Epoch 14/50\n",
            "880/880 [==============================] - 62s 71ms/step - loss: 0.0020 - val_loss: 8.8236e-04\n",
            "Epoch 15/50\n",
            "880/880 [==============================] - 68s 77ms/step - loss: 0.0019 - val_loss: 8.6520e-04\n",
            "Epoch 16/50\n",
            "880/880 [==============================] - 63s 72ms/step - loss: 0.0019 - val_loss: 8.0836e-04\n",
            "Epoch 17/50\n",
            "880/880 [==============================] - 63s 72ms/step - loss: 0.0018 - val_loss: 9.7922e-04\n",
            "Epoch 18/50\n",
            "880/880 [==============================] - 63s 72ms/step - loss: 0.0018 - val_loss: 0.0012\n",
            "Epoch 19/50\n",
            "880/880 [==============================] - 65s 74ms/step - loss: 0.0017 - val_loss: 6.8669e-04\n",
            "Epoch 20/50\n",
            "880/880 [==============================] - 63s 72ms/step - loss: 0.0017 - val_loss: 0.0011\n",
            "Epoch 21/50\n",
            "880/880 [==============================] - 63s 72ms/step - loss: 0.0017 - val_loss: 7.1290e-04\n",
            "Epoch 22/50\n",
            "880/880 [==============================] - 63s 72ms/step - loss: 0.0016 - val_loss: 6.7572e-04\n",
            "Epoch 23/50\n",
            "880/880 [==============================] - 64s 73ms/step - loss: 0.0016 - val_loss: 6.9939e-04\n",
            "Epoch 24/50\n",
            "880/880 [==============================] - 67s 76ms/step - loss: 0.0015 - val_loss: 6.2192e-04\n",
            "Epoch 25/50\n",
            "880/880 [==============================] - 64s 73ms/step - loss: 0.0015 - val_loss: 7.2140e-04\n",
            "Epoch 26/50\n",
            "880/880 [==============================] - 63s 72ms/step - loss: 0.0015 - val_loss: 6.3928e-04\n",
            "Epoch 27/50\n",
            "880/880 [==============================] - 64s 73ms/step - loss: 0.0015 - val_loss: 6.6985e-04\n"
          ]
        },
        {
          "output_type": "stream",
          "name": "stderr",
          "text": [
            "[I 2024-04-09 06:25:36,530] Trial 8 finished with value: 0.0006219212664291263 and parameters: {'num_layers': 3, 'units_0': 115, 'units_1': 156, 'units_2': 106, 'dropout_0': 0.008195681960302292, 'dropout_1': 0.2778292395856342, 'dropout_2': 0.03223828616895502, 'learning_rate': 2.8033974631558765e-05, 'batch_size': 16}. Best is trial 0 with value: 0.0005185382906347513.\n"
          ]
        },
        {
          "output_type": "stream",
          "name": "stdout",
          "text": [
            "Epoch 1/50\n",
            "220/220 [==============================] - 15s 59ms/step - loss: 0.2003 - val_loss: 0.0017\n",
            "Epoch 2/50\n",
            "220/220 [==============================] - 12s 57ms/step - loss: 0.0029 - val_loss: 9.7985e-04\n",
            "Epoch 3/50\n",
            "220/220 [==============================] - 13s 57ms/step - loss: 0.0020 - val_loss: 0.0014\n",
            "Epoch 4/50\n",
            "220/220 [==============================] - 13s 57ms/step - loss: 0.0014 - val_loss: 3.5855e-04\n",
            "Epoch 5/50\n",
            "220/220 [==============================] - 13s 57ms/step - loss: 0.0012 - val_loss: 4.0093e-04\n",
            "Epoch 6/50\n",
            "220/220 [==============================] - 13s 57ms/step - loss: 0.0011 - val_loss: 4.1499e-04\n",
            "Epoch 7/50\n",
            "220/220 [==============================] - 13s 58ms/step - loss: 0.0011 - val_loss: 3.2463e-04\n",
            "Epoch 8/50\n",
            "220/220 [==============================] - 13s 58ms/step - loss: 9.9651e-04 - val_loss: 3.3140e-04\n",
            "Epoch 9/50\n",
            "220/220 [==============================] - 14s 63ms/step - loss: 9.4382e-04 - val_loss: 4.5983e-04\n",
            "Epoch 10/50\n",
            "220/220 [==============================] - 13s 58ms/step - loss: 8.5171e-04 - val_loss: 2.9212e-04\n",
            "Epoch 11/50\n",
            "220/220 [==============================] - 13s 57ms/step - loss: 7.5134e-04 - val_loss: 2.7112e-04\n",
            "Epoch 12/50\n",
            "220/220 [==============================] - 13s 58ms/step - loss: 7.4024e-04 - val_loss: 3.5939e-04\n",
            "Epoch 13/50\n",
            "220/220 [==============================] - 13s 57ms/step - loss: 6.1742e-04 - val_loss: 2.1018e-04\n",
            "Epoch 14/50\n",
            "220/220 [==============================] - 13s 57ms/step - loss: 5.8391e-04 - val_loss: 2.7547e-04\n",
            "Epoch 15/50\n",
            "220/220 [==============================] - 13s 57ms/step - loss: 6.5164e-04 - val_loss: 1.6789e-04\n",
            "Epoch 16/50\n",
            "220/220 [==============================] - 13s 57ms/step - loss: 6.2945e-04 - val_loss: 1.3718e-04\n",
            "Epoch 17/50\n",
            "220/220 [==============================] - 13s 57ms/step - loss: 4.8096e-04 - val_loss: 1.7691e-04\n",
            "Epoch 18/50\n",
            "220/220 [==============================] - 12s 57ms/step - loss: 4.3808e-04 - val_loss: 2.0119e-04\n",
            "Epoch 19/50\n",
            "220/220 [==============================] - 14s 62ms/step - loss: 4.1983e-04 - val_loss: 1.2625e-04\n",
            "Epoch 20/50\n",
            "220/220 [==============================] - 13s 58ms/step - loss: 4.2301e-04 - val_loss: 1.5967e-04\n",
            "Epoch 21/50\n",
            "220/220 [==============================] - 13s 58ms/step - loss: 4.0090e-04 - val_loss: 3.4434e-04\n",
            "Epoch 22/50\n",
            "220/220 [==============================] - 13s 57ms/step - loss: 3.8323e-04 - val_loss: 1.3039e-04\n"
          ]
        },
        {
          "output_type": "stream",
          "name": "stderr",
          "text": [
            "[I 2024-04-09 06:31:01,643] Trial 9 finished with value: 0.00012625484669115394 and parameters: {'num_layers': 1, 'units_0': 177, 'dropout_0': 0.0711833153105021, 'learning_rate': 0.026730407359204247, 'batch_size': 64}. Best is trial 9 with value: 0.00012625484669115394.\n"
          ]
        },
        {
          "output_type": "stream",
          "name": "stdout",
          "text": [
            "Epoch 1/50\n",
            "220/220 [==============================] - 7s 21ms/step - loss: 0.0513 - val_loss: 0.0049\n",
            "Epoch 2/50\n",
            "220/220 [==============================] - 5s 22ms/step - loss: 0.0148 - val_loss: 0.0035\n",
            "Epoch 3/50\n",
            "220/220 [==============================] - 4s 19ms/step - loss: 0.0111 - val_loss: 0.0029\n",
            "Epoch 4/50\n",
            "220/220 [==============================] - 4s 19ms/step - loss: 0.0098 - val_loss: 0.0027\n",
            "Epoch 5/50\n",
            "220/220 [==============================] - 5s 22ms/step - loss: 0.0090 - val_loss: 0.0026\n",
            "Epoch 6/50\n",
            "220/220 [==============================] - 4s 19ms/step - loss: 0.0086 - val_loss: 0.0024\n",
            "Epoch 7/50\n",
            "220/220 [==============================] - 4s 19ms/step - loss: 0.0077 - val_loss: 0.0025\n",
            "Epoch 8/50\n",
            "220/220 [==============================] - 5s 22ms/step - loss: 0.0073 - val_loss: 0.0022\n",
            "Epoch 9/50\n",
            "220/220 [==============================] - 4s 19ms/step - loss: 0.0068 - val_loss: 0.0020\n",
            "Epoch 10/50\n",
            "220/220 [==============================] - 5s 21ms/step - loss: 0.0065 - val_loss: 0.0022\n",
            "Epoch 11/50\n",
            "220/220 [==============================] - 5s 21ms/step - loss: 0.0058 - val_loss: 0.0018\n",
            "Epoch 12/50\n",
            "220/220 [==============================] - 4s 19ms/step - loss: 0.0054 - val_loss: 0.0018\n",
            "Epoch 13/50\n",
            "220/220 [==============================] - 5s 22ms/step - loss: 0.0050 - val_loss: 0.0015\n",
            "Epoch 14/50\n",
            "220/220 [==============================] - 4s 19ms/step - loss: 0.0046 - val_loss: 0.0016\n",
            "Epoch 15/50\n",
            "220/220 [==============================] - 4s 20ms/step - loss: 0.0043 - val_loss: 0.0014\n",
            "Epoch 16/50\n",
            "220/220 [==============================] - 5s 23ms/step - loss: 0.0041 - val_loss: 0.0012\n",
            "Epoch 17/50\n",
            "220/220 [==============================] - 4s 19ms/step - loss: 0.0037 - val_loss: 0.0011\n",
            "Epoch 18/50\n",
            "220/220 [==============================] - 4s 19ms/step - loss: 0.0036 - val_loss: 0.0011\n",
            "Epoch 19/50\n",
            "220/220 [==============================] - 5s 22ms/step - loss: 0.0033 - val_loss: 0.0011\n",
            "Epoch 20/50\n",
            "220/220 [==============================] - 4s 19ms/step - loss: 0.0031 - val_loss: 9.3225e-04\n",
            "Epoch 21/50\n",
            "220/220 [==============================] - 4s 20ms/step - loss: 0.0029 - val_loss: 8.7647e-04\n",
            "Epoch 22/50\n",
            "220/220 [==============================] - 5s 21ms/step - loss: 0.0027 - val_loss: 0.0010\n",
            "Epoch 23/50\n",
            "220/220 [==============================] - 4s 19ms/step - loss: 0.0027 - val_loss: 8.1915e-04\n",
            "Epoch 24/50\n",
            "220/220 [==============================] - 5s 22ms/step - loss: 0.0024 - val_loss: 7.7023e-04\n",
            "Epoch 25/50\n",
            "220/220 [==============================] - 4s 19ms/step - loss: 0.0024 - val_loss: 7.2351e-04\n",
            "Epoch 26/50\n",
            "220/220 [==============================] - 4s 19ms/step - loss: 0.0022 - val_loss: 6.4825e-04\n",
            "Epoch 27/50\n",
            "220/220 [==============================] - 5s 23ms/step - loss: 0.0022 - val_loss: 6.0293e-04\n",
            "Epoch 28/50\n",
            "220/220 [==============================] - 4s 19ms/step - loss: 0.0021 - val_loss: 6.4304e-04\n",
            "Epoch 29/50\n",
            "220/220 [==============================] - 4s 19ms/step - loss: 0.0020 - val_loss: 6.8469e-04\n",
            "Epoch 30/50\n",
            "220/220 [==============================] - 5s 22ms/step - loss: 0.0019 - val_loss: 6.5624e-04\n"
          ]
        },
        {
          "output_type": "stream",
          "name": "stderr",
          "text": [
            "[I 2024-04-09 06:33:59,702] Trial 10 finished with value: 0.0006029267678968608 and parameters: {'num_layers': 1, 'units_0': 72, 'dropout_0': 0.49504415006919306, 'learning_rate': 0.00038953719160466813, 'batch_size': 64}. Best is trial 9 with value: 0.00012625484669115394.\n"
          ]
        },
        {
          "output_type": "stream",
          "name": "stdout",
          "text": [
            "Epoch 1/50\n",
            "440/440 [==============================] - 157s 336ms/step - loss: 0.1809 - val_loss: 0.0662\n",
            "Epoch 2/50\n",
            "440/440 [==============================] - 143s 324ms/step - loss: 0.0628 - val_loss: 0.0458\n",
            "Epoch 3/50\n",
            "440/440 [==============================] - 147s 334ms/step - loss: 0.0629 - val_loss: 0.0651\n",
            "Epoch 4/50\n",
            "440/440 [==============================] - 143s 324ms/step - loss: 0.0613 - val_loss: 0.0164\n",
            "Epoch 5/50\n",
            "440/440 [==============================] - 143s 325ms/step - loss: 0.0204 - val_loss: 0.0109\n",
            "Epoch 6/50\n",
            "440/440 [==============================] - 143s 325ms/step - loss: 0.0053 - val_loss: 0.0018\n",
            "Epoch 7/50\n",
            "440/440 [==============================] - 144s 327ms/step - loss: 0.0039 - val_loss: 0.0014\n",
            "Epoch 8/50\n",
            "440/440 [==============================] - 143s 325ms/step - loss: 0.0034 - val_loss: 0.0011\n",
            "Epoch 9/50\n",
            "440/440 [==============================] - 146s 332ms/step - loss: 0.0031 - val_loss: 0.0012\n",
            "Epoch 10/50\n",
            "440/440 [==============================] - 144s 328ms/step - loss: 0.0029 - val_loss: 0.0013\n",
            "Epoch 11/50\n",
            "440/440 [==============================] - 146s 332ms/step - loss: 0.0030 - val_loss: 0.0012\n"
          ]
        },
        {
          "output_type": "stream",
          "name": "stderr",
          "text": [
            "[I 2024-04-09 07:00:47,318] Trial 11 finished with value: 0.0011301698395982385 and parameters: {'num_layers': 5, 'units_0': 161, 'units_1': 146, 'units_2': 229, 'units_3': 239, 'units_4': 241, 'dropout_0': 0.11691327492136691, 'dropout_1': 0.22993674236839814, 'dropout_2': 0.3247173982203283, 'dropout_3': 0.4798476135364502, 'dropout_4': 0.004710200103188789, 'learning_rate': 0.009858992108650976, 'batch_size': 32}. Best is trial 9 with value: 0.00012625484669115394.\n"
          ]
        },
        {
          "output_type": "stream",
          "name": "stdout",
          "text": [
            "Epoch 1/50\n",
            "440/440 [==============================] - 20s 40ms/step - loss: 0.0298 - val_loss: 0.0012\n",
            "Epoch 2/50\n",
            "440/440 [==============================] - 18s 42ms/step - loss: 0.0023 - val_loss: 6.8499e-04\n",
            "Epoch 3/50\n",
            "440/440 [==============================] - 17s 39ms/step - loss: 0.0015 - val_loss: 9.8325e-04\n",
            "Epoch 4/50\n",
            "440/440 [==============================] - 18s 40ms/step - loss: 0.0012 - val_loss: 3.9250e-04\n",
            "Epoch 5/50\n",
            "440/440 [==============================] - 18s 41ms/step - loss: 9.5719e-04 - val_loss: 3.7501e-04\n",
            "Epoch 6/50\n",
            "440/440 [==============================] - 17s 39ms/step - loss: 8.6980e-04 - val_loss: 2.8328e-04\n",
            "Epoch 7/50\n",
            "440/440 [==============================] - 20s 45ms/step - loss: 6.9685e-04 - val_loss: 2.7716e-04\n",
            "Epoch 8/50\n",
            "440/440 [==============================] - 17s 39ms/step - loss: 6.5017e-04 - val_loss: 2.7876e-04\n",
            "Epoch 9/50\n",
            "440/440 [==============================] - 18s 42ms/step - loss: 5.6873e-04 - val_loss: 2.6471e-04\n",
            "Epoch 10/50\n",
            "440/440 [==============================] - 17s 39ms/step - loss: 5.6648e-04 - val_loss: 1.4689e-04\n",
            "Epoch 11/50\n",
            "440/440 [==============================] - 19s 42ms/step - loss: 5.7918e-04 - val_loss: 2.9886e-04\n",
            "Epoch 12/50\n",
            "440/440 [==============================] - 17s 40ms/step - loss: 5.3947e-04 - val_loss: 1.5056e-04\n",
            "Epoch 13/50\n",
            "440/440 [==============================] - 18s 42ms/step - loss: 5.0248e-04 - val_loss: 1.8715e-04\n"
          ]
        },
        {
          "output_type": "stream",
          "name": "stderr",
          "text": [
            "[I 2024-04-09 07:05:35,511] Trial 12 finished with value: 0.00014689260569866747 and parameters: {'num_layers': 1, 'units_0': 163, 'dropout_0': 0.20356297510061228, 'learning_rate': 0.011930338370136096, 'batch_size': 32}. Best is trial 9 with value: 0.00012625484669115394.\n"
          ]
        },
        {
          "output_type": "stream",
          "name": "stdout",
          "text": [
            "Epoch 1/50\n",
            "440/440 [==============================] - 20s 42ms/step - loss: 0.0078 - val_loss: 0.0012\n",
            "Epoch 2/50\n",
            "440/440 [==============================] - 19s 43ms/step - loss: 0.0023 - val_loss: 9.0014e-04\n",
            "Epoch 3/50\n",
            "440/440 [==============================] - 18s 40ms/step - loss: 0.0017 - val_loss: 4.3333e-04\n",
            "Epoch 4/50\n",
            "440/440 [==============================] - 19s 43ms/step - loss: 0.0014 - val_loss: 7.1603e-04\n",
            "Epoch 5/50\n",
            "440/440 [==============================] - 18s 40ms/step - loss: 0.0012 - val_loss: 4.6063e-04\n",
            "Epoch 6/50\n",
            "440/440 [==============================] - 19s 43ms/step - loss: 0.0011 - val_loss: 4.5464e-04\n"
          ]
        },
        {
          "output_type": "stream",
          "name": "stderr",
          "text": [
            "[I 2024-04-09 07:07:27,992] Trial 13 finished with value: 0.0004333267279434949 and parameters: {'num_layers': 1, 'units_0': 170, 'dropout_0': 0.23016536795862733, 'learning_rate': 0.0019510962553424746, 'batch_size': 32}. Best is trial 9 with value: 0.00012625484669115394.\n"
          ]
        },
        {
          "output_type": "stream",
          "name": "stdout",
          "text": [
            "Epoch 1/50\n",
            "440/440 [==============================] - 10s 19ms/step - loss: 0.0274 - val_loss: 0.0012\n",
            "Epoch 2/50\n",
            "440/440 [==============================] - 7s 15ms/step - loss: 0.0027 - val_loss: 7.1338e-04\n",
            "Epoch 3/50\n",
            "440/440 [==============================] - 8s 17ms/step - loss: 0.0018 - val_loss: 6.0955e-04\n",
            "Epoch 4/50\n",
            "440/440 [==============================] - 7s 15ms/step - loss: 0.0015 - val_loss: 9.5995e-04\n",
            "Epoch 5/50\n",
            "440/440 [==============================] - 8s 17ms/step - loss: 0.0012 - val_loss: 4.7275e-04\n",
            "Epoch 6/50\n",
            "440/440 [==============================] - 7s 15ms/step - loss: 0.0011 - val_loss: 3.4602e-04\n",
            "Epoch 7/50\n",
            "440/440 [==============================] - 7s 17ms/step - loss: 0.0010 - val_loss: 5.8706e-04\n",
            "Epoch 8/50\n",
            "440/440 [==============================] - 8s 19ms/step - loss: 0.0010 - val_loss: 3.5564e-04\n",
            "Epoch 9/50\n",
            "440/440 [==============================] - 7s 15ms/step - loss: 9.2211e-04 - val_loss: 4.4173e-04\n"
          ]
        },
        {
          "output_type": "stream",
          "name": "stderr",
          "text": [
            "[I 2024-04-09 07:08:36,175] Trial 14 finished with value: 0.0003460161969996989 and parameters: {'num_layers': 1, 'units_0': 81, 'dropout_0': 0.28307918762294193, 'learning_rate': 0.018596997470596656, 'batch_size': 32}. Best is trial 9 with value: 0.00012625484669115394.\n"
          ]
        },
        {
          "output_type": "stream",
          "name": "stdout",
          "text": [
            "Epoch 1/50\n",
            "220/220 [==============================] - 15s 58ms/step - loss: 0.0114 - val_loss: 0.0027\n",
            "Epoch 2/50\n",
            "220/220 [==============================] - 12s 56ms/step - loss: 0.0025 - val_loss: 8.4468e-04\n",
            "Epoch 3/50\n",
            "220/220 [==============================] - 12s 56ms/step - loss: 0.0018 - val_loss: 7.2790e-04\n",
            "Epoch 4/50\n",
            "220/220 [==============================] - 12s 56ms/step - loss: 0.0014 - val_loss: 6.0861e-04\n",
            "Epoch 5/50\n",
            "220/220 [==============================] - 12s 56ms/step - loss: 0.0012 - val_loss: 5.1472e-04\n",
            "Epoch 6/50\n",
            "220/220 [==============================] - 12s 56ms/step - loss: 0.0012 - val_loss: 4.3941e-04\n",
            "Epoch 7/50\n",
            "220/220 [==============================] - 12s 56ms/step - loss: 0.0010 - val_loss: 4.1231e-04\n",
            "Epoch 8/50\n",
            "220/220 [==============================] - 12s 56ms/step - loss: 9.5024e-04 - val_loss: 3.3966e-04\n",
            "Epoch 9/50\n",
            "220/220 [==============================] - 12s 56ms/step - loss: 8.7502e-04 - val_loss: 6.7389e-04\n",
            "Epoch 10/50\n",
            "220/220 [==============================] - 12s 56ms/step - loss: 7.9341e-04 - val_loss: 4.3794e-04\n",
            "Epoch 11/50\n",
            "220/220 [==============================] - 12s 56ms/step - loss: 7.9638e-04 - val_loss: 2.5494e-04\n",
            "Epoch 12/50\n",
            "220/220 [==============================] - 12s 56ms/step - loss: 6.9012e-04 - val_loss: 3.5723e-04\n",
            "Epoch 13/50\n",
            "220/220 [==============================] - 12s 57ms/step - loss: 6.4203e-04 - val_loss: 2.2509e-04\n",
            "Epoch 14/50\n",
            "220/220 [==============================] - 12s 56ms/step - loss: 5.8640e-04 - val_loss: 4.3436e-04\n",
            "Epoch 15/50\n",
            "220/220 [==============================] - 12s 56ms/step - loss: 5.4523e-04 - val_loss: 2.6113e-04\n",
            "Epoch 16/50\n",
            "220/220 [==============================] - 12s 56ms/step - loss: 4.9800e-04 - val_loss: 2.0278e-04\n",
            "Epoch 17/50\n",
            "220/220 [==============================] - 13s 57ms/step - loss: 4.9950e-04 - val_loss: 1.6341e-04\n",
            "Epoch 18/50\n",
            "220/220 [==============================] - 12s 56ms/step - loss: 4.8204e-04 - val_loss: 1.8701e-04\n",
            "Epoch 19/50\n",
            "220/220 [==============================] - 12s 56ms/step - loss: 4.4958e-04 - val_loss: 1.8350e-04\n",
            "Epoch 20/50\n",
            "220/220 [==============================] - 12s 56ms/step - loss: 4.4255e-04 - val_loss: 1.4525e-04\n",
            "Epoch 21/50\n",
            "220/220 [==============================] - 12s 57ms/step - loss: 4.1021e-04 - val_loss: 1.3235e-04\n",
            "Epoch 22/50\n",
            "220/220 [==============================] - 14s 62ms/step - loss: 4.1822e-04 - val_loss: 2.1039e-04\n",
            "Epoch 23/50\n",
            "220/220 [==============================] - 13s 57ms/step - loss: 3.8142e-04 - val_loss: 1.4460e-04\n",
            "Epoch 24/50\n",
            "220/220 [==============================] - 13s 58ms/step - loss: 3.5630e-04 - val_loss: 1.6638e-04\n"
          ]
        },
        {
          "output_type": "stream",
          "name": "stderr",
          "text": [
            "[I 2024-04-09 07:13:53,048] Trial 15 finished with value: 0.00013234901416581124 and parameters: {'num_layers': 1, 'units_0': 178, 'dropout_0': 0.1870352891489004, 'learning_rate': 0.003274761035309765, 'batch_size': 64}. Best is trial 9 with value: 0.00012625484669115394.\n"
          ]
        },
        {
          "output_type": "stream",
          "name": "stdout",
          "text": [
            "Epoch 1/50\n",
            "220/220 [==============================] - 15s 62ms/step - loss: 0.0202 - val_loss: 0.0036\n",
            "Epoch 2/50\n",
            "220/220 [==============================] - 13s 58ms/step - loss: 0.0067 - val_loss: 0.0027\n",
            "Epoch 3/50\n",
            "220/220 [==============================] - 13s 58ms/step - loss: 0.0055 - val_loss: 0.0025\n",
            "Epoch 4/50\n",
            "220/220 [==============================] - 13s 61ms/step - loss: 0.0045 - val_loss: 0.0024\n",
            "Epoch 5/50\n",
            "220/220 [==============================] - 14s 65ms/step - loss: 0.0034 - val_loss: 0.0016\n",
            "Epoch 6/50\n",
            "220/220 [==============================] - 13s 59ms/step - loss: 0.0029 - val_loss: 0.0012\n",
            "Epoch 7/50\n",
            "220/220 [==============================] - 13s 59ms/step - loss: 0.0026 - val_loss: 0.0013\n",
            "Epoch 8/50\n",
            "220/220 [==============================] - 13s 59ms/step - loss: 0.0024 - val_loss: 0.0010\n",
            "Epoch 9/50\n",
            "220/220 [==============================] - 13s 59ms/step - loss: 0.0022 - val_loss: 9.8877e-04\n",
            "Epoch 10/50\n",
            "220/220 [==============================] - 13s 59ms/step - loss: 0.0021 - val_loss: 9.3806e-04\n",
            "Epoch 11/50\n",
            "220/220 [==============================] - 13s 60ms/step - loss: 0.0019 - val_loss: 9.0462e-04\n",
            "Epoch 12/50\n",
            "220/220 [==============================] - 13s 60ms/step - loss: 0.0019 - val_loss: 9.5386e-04\n",
            "Epoch 13/50\n",
            "220/220 [==============================] - 13s 60ms/step - loss: 0.0018 - val_loss: 8.9456e-04\n",
            "Epoch 14/50\n",
            "220/220 [==============================] - 13s 60ms/step - loss: 0.0017 - val_loss: 8.3544e-04\n",
            "Epoch 15/50\n",
            "220/220 [==============================] - 13s 60ms/step - loss: 0.0016 - val_loss: 6.9908e-04\n",
            "Epoch 16/50\n",
            "220/220 [==============================] - 13s 60ms/step - loss: 0.0015 - val_loss: 6.1687e-04\n",
            "Epoch 17/50\n",
            "220/220 [==============================] - 13s 59ms/step - loss: 0.0014 - val_loss: 5.7371e-04\n",
            "Epoch 18/50\n",
            "220/220 [==============================] - 14s 63ms/step - loss: 0.0014 - val_loss: 5.6586e-04\n",
            "Epoch 19/50\n",
            "220/220 [==============================] - 13s 60ms/step - loss: 0.0013 - val_loss: 6.3534e-04\n",
            "Epoch 20/50\n",
            "220/220 [==============================] - 14s 65ms/step - loss: 0.0013 - val_loss: 4.8494e-04\n",
            "Epoch 21/50\n",
            "220/220 [==============================] - 13s 59ms/step - loss: 0.0012 - val_loss: 4.5823e-04\n",
            "Epoch 22/50\n",
            "220/220 [==============================] - 13s 59ms/step - loss: 0.0012 - val_loss: 4.3836e-04\n",
            "Epoch 23/50\n",
            "220/220 [==============================] - 13s 59ms/step - loss: 0.0011 - val_loss: 4.7727e-04\n",
            "Epoch 24/50\n",
            "220/220 [==============================] - 13s 60ms/step - loss: 0.0011 - val_loss: 5.1897e-04\n",
            "Epoch 25/50\n",
            "220/220 [==============================] - 13s 59ms/step - loss: 0.0011 - val_loss: 4.1732e-04\n",
            "Epoch 26/50\n",
            "220/220 [==============================] - 13s 60ms/step - loss: 0.0010 - val_loss: 4.0983e-04\n",
            "Epoch 27/50\n",
            "220/220 [==============================] - 13s 59ms/step - loss: 0.0010 - val_loss: 4.6426e-04\n",
            "Epoch 28/50\n",
            "220/220 [==============================] - 13s 59ms/step - loss: 0.0010 - val_loss: 4.8220e-04\n",
            "Epoch 29/50\n",
            "220/220 [==============================] - 13s 59ms/step - loss: 9.5260e-04 - val_loss: 4.2574e-04\n"
          ]
        },
        {
          "output_type": "stream",
          "name": "stderr",
          "text": [
            "[I 2024-04-09 07:20:40,927] Trial 16 finished with value: 0.0004098269564565271 and parameters: {'num_layers': 1, 'units_0': 188, 'dropout_0': 0.15502332216139073, 'learning_rate': 0.00017248490789184483, 'batch_size': 64}. Best is trial 9 with value: 0.00012625484669115394.\n"
          ]
        },
        {
          "output_type": "stream",
          "name": "stdout",
          "text": [
            "Epoch 1/50\n",
            "220/220 [==============================] - 6s 17ms/step - loss: 0.0173 - val_loss: 0.0025\n",
            "Epoch 2/50\n",
            "220/220 [==============================] - 3s 14ms/step - loss: 0.0068 - val_loss: 0.0021\n",
            "Epoch 3/50\n",
            "220/220 [==============================] - 3s 16ms/step - loss: 0.0047 - val_loss: 0.0013\n",
            "Epoch 4/50\n",
            "220/220 [==============================] - 4s 16ms/step - loss: 0.0034 - val_loss: 9.1284e-04\n",
            "Epoch 5/50\n",
            "220/220 [==============================] - 3s 14ms/step - loss: 0.0027 - val_loss: 7.1170e-04\n",
            "Epoch 6/50\n",
            "220/220 [==============================] - 3s 14ms/step - loss: 0.0022 - val_loss: 5.2713e-04\n",
            "Epoch 7/50\n",
            "220/220 [==============================] - 4s 18ms/step - loss: 0.0019 - val_loss: 5.1512e-04\n",
            "Epoch 8/50\n",
            "220/220 [==============================] - 3s 14ms/step - loss: 0.0017 - val_loss: 5.1307e-04\n",
            "Epoch 9/50\n",
            "220/220 [==============================] - 3s 14ms/step - loss: 0.0016 - val_loss: 3.3819e-04\n",
            "Epoch 10/50\n",
            "220/220 [==============================] - 3s 14ms/step - loss: 0.0014 - val_loss: 3.7104e-04\n",
            "Epoch 11/50\n",
            "220/220 [==============================] - 4s 18ms/step - loss: 0.0014 - val_loss: 3.5466e-04\n",
            "Epoch 12/50\n",
            "220/220 [==============================] - 3s 14ms/step - loss: 0.0013 - val_loss: 3.7648e-04\n"
          ]
        },
        {
          "output_type": "stream",
          "name": "stderr",
          "text": [
            "[I 2024-04-09 07:22:23,878] Trial 17 finished with value: 0.00033818563679233193 and parameters: {'num_layers': 1, 'units_0': 51, 'dropout_0': 0.33419457662406477, 'learning_rate': 0.003146451412337662, 'batch_size': 64}. Best is trial 9 with value: 0.00012625484669115394.\n"
          ]
        },
        {
          "output_type": "stream",
          "name": "stdout",
          "text": [
            "Epoch 1/50\n",
            "220/220 [==============================] - 19s 79ms/step - loss: 0.0160 - val_loss: 0.0037\n",
            "Epoch 2/50\n",
            "220/220 [==============================] - 16s 71ms/step - loss: 0.0054 - val_loss: 0.0029\n",
            "Epoch 3/50\n",
            "220/220 [==============================] - 17s 76ms/step - loss: 0.0046 - val_loss: 0.0022\n",
            "Epoch 4/50\n",
            "220/220 [==============================] - 17s 77ms/step - loss: 0.0040 - val_loss: 0.0018\n",
            "Epoch 5/50\n",
            "220/220 [==============================] - 16s 72ms/step - loss: 0.0030 - val_loss: 0.0013\n",
            "Epoch 6/50\n",
            "220/220 [==============================] - 16s 72ms/step - loss: 0.0025 - val_loss: 0.0012\n",
            "Epoch 7/50\n",
            "220/220 [==============================] - 16s 74ms/step - loss: 0.0023 - val_loss: 0.0011\n",
            "Epoch 8/50\n",
            "220/220 [==============================] - 16s 74ms/step - loss: 0.0021 - val_loss: 0.0010\n",
            "Epoch 9/50\n",
            "220/220 [==============================] - 16s 72ms/step - loss: 0.0020 - val_loss: 9.6604e-04\n",
            "Epoch 10/50\n",
            "220/220 [==============================] - 16s 71ms/step - loss: 0.0019 - val_loss: 8.9482e-04\n",
            "Epoch 11/50\n",
            "220/220 [==============================] - 17s 75ms/step - loss: 0.0018 - val_loss: 8.1557e-04\n",
            "Epoch 12/50\n",
            "220/220 [==============================] - 16s 72ms/step - loss: 0.0017 - val_loss: 7.7455e-04\n",
            "Epoch 13/50\n",
            "220/220 [==============================] - 16s 71ms/step - loss: 0.0016 - val_loss: 7.1668e-04\n",
            "Epoch 14/50\n",
            "220/220 [==============================] - 16s 74ms/step - loss: 0.0015 - val_loss: 7.9336e-04\n",
            "Epoch 15/50\n",
            "220/220 [==============================] - 16s 71ms/step - loss: 0.0015 - val_loss: 6.5936e-04\n",
            "Epoch 16/50\n",
            "220/220 [==============================] - 16s 71ms/step - loss: 0.0014 - val_loss: 5.8764e-04\n",
            "Epoch 17/50\n",
            "220/220 [==============================] - 16s 71ms/step - loss: 0.0014 - val_loss: 6.7800e-04\n",
            "Epoch 18/50\n",
            "220/220 [==============================] - 17s 75ms/step - loss: 0.0013 - val_loss: 5.5614e-04\n",
            "Epoch 19/50\n",
            "220/220 [==============================] - 16s 71ms/step - loss: 0.0013 - val_loss: 5.6375e-04\n",
            "Epoch 20/50\n",
            "220/220 [==============================] - 16s 71ms/step - loss: 0.0012 - val_loss: 4.9921e-04\n",
            "Epoch 21/50\n",
            "220/220 [==============================] - 18s 82ms/step - loss: 0.0012 - val_loss: 4.4301e-04\n",
            "Epoch 22/50\n",
            "220/220 [==============================] - 16s 71ms/step - loss: 0.0011 - val_loss: 4.6038e-04\n",
            "Epoch 23/50\n",
            "220/220 [==============================] - 16s 72ms/step - loss: 0.0011 - val_loss: 4.3524e-04\n",
            "Epoch 24/50\n",
            "220/220 [==============================] - 16s 72ms/step - loss: 0.0010 - val_loss: 4.3787e-04\n",
            "Epoch 25/50\n",
            "220/220 [==============================] - 16s 73ms/step - loss: 9.9280e-04 - val_loss: 4.5713e-04\n",
            "Epoch 26/50\n",
            "220/220 [==============================] - 16s 72ms/step - loss: 9.6346e-04 - val_loss: 4.3700e-04\n"
          ]
        },
        {
          "output_type": "stream",
          "name": "stderr",
          "text": [
            "[I 2024-04-09 07:29:25,030] Trial 18 finished with value: 0.00043523573549464345 and parameters: {'num_layers': 1, 'units_0': 217, 'dropout_0': 0.06193740959940984, 'learning_rate': 0.0001133558785742605, 'batch_size': 64}. Best is trial 9 with value: 0.00012625484669115394.\n"
          ]
        },
        {
          "output_type": "stream",
          "name": "stdout",
          "text": [
            "Epoch 1/50\n",
            "220/220 [==============================] - 62s 239ms/step - loss: 0.0239 - val_loss: 0.0025\n",
            "Epoch 2/50\n",
            "220/220 [==============================] - 52s 235ms/step - loss: 0.0067 - val_loss: 0.0019\n",
            "Epoch 3/50\n",
            "220/220 [==============================] - 51s 230ms/step - loss: 0.0050 - val_loss: 0.0016\n",
            "Epoch 4/50\n",
            "220/220 [==============================] - 52s 235ms/step - loss: 0.0043 - val_loss: 0.0011\n",
            "Epoch 5/50\n",
            "220/220 [==============================] - 51s 231ms/step - loss: 0.0034 - val_loss: 0.0010\n",
            "Epoch 6/50\n",
            "220/220 [==============================] - 51s 231ms/step - loss: 0.0031 - val_loss: 0.0012\n",
            "Epoch 7/50\n",
            "220/220 [==============================] - 52s 239ms/step - loss: 0.0029 - val_loss: 0.0023\n",
            "Epoch 8/50\n",
            "220/220 [==============================] - 51s 230ms/step - loss: 0.0027 - val_loss: 6.2462e-04\n",
            "Epoch 9/50\n",
            "220/220 [==============================] - 52s 239ms/step - loss: 0.0025 - val_loss: 0.0011\n",
            "Epoch 10/50\n",
            "220/220 [==============================] - 52s 236ms/step - loss: 0.0024 - val_loss: 0.0015\n",
            "Epoch 11/50\n",
            "220/220 [==============================] - 53s 239ms/step - loss: 0.0024 - val_loss: 6.9460e-04\n"
          ]
        },
        {
          "output_type": "stream",
          "name": "stderr",
          "text": [
            "[I 2024-04-09 07:39:04,897] Trial 19 finished with value: 0.0006246220436878502 and parameters: {'num_layers': 5, 'units_0': 143, 'units_1': 54, 'units_2': 250, 'units_3': 51, 'units_4': 58, 'dropout_0': 0.14901319817996206, 'dropout_1': 0.3512973692180927, 'dropout_2': 0.007805027736574599, 'dropout_3': 0.31865501158230586, 'dropout_4': 0.44682600791214355, 'learning_rate': 0.004494739893160462, 'batch_size': 64}. Best is trial 9 with value: 0.00012625484669115394.\n"
          ]
        },
        {
          "output_type": "stream",
          "name": "stdout",
          "text": [
            "Best Hyperparameters: {'num_layers': 1, 'units_0': 177, 'dropout_0': 0.0711833153105021, 'learning_rate': 0.026730407359204247, 'batch_size': 64}\n",
            "Best Objective Value: 0.00012625484669115394\n"
          ]
        }
      ]
    },
    {
      "cell_type": "code",
      "source": [
        "# Print the best hyperparameters and the corresponding objective value\n",
        "print(\"Best Hyperparameters:\", study.best_params)\n",
        "print(\"Best Objective Value:\", study.best_value)"
      ],
      "metadata": {
        "id": "uuRf7ALMgFO5",
        "colab": {
          "base_uri": "https://localhost:8080/"
        },
        "outputId": "1400c093-17d4-4a09-c1ce-ff0de000b275"
      },
      "execution_count": 23,
      "outputs": [
        {
          "output_type": "stream",
          "name": "stdout",
          "text": [
            "Best Hyperparameters: {'num_layers': 1, 'units_0': 177, 'dropout_0': 0.0711833153105021, 'learning_rate': 0.026730407359204247, 'batch_size': 64}\n",
            "Best Objective Value: 0.00012625484669115394\n"
          ]
        }
      ]
    },
    {
      "cell_type": "markdown",
      "source": [
        "# [**Plots**](https://medium.com/optuna/visualizing-hyperparameters-in-optuna-86c224bd255f)"
      ],
      "metadata": {
        "id": "E8UdBpGG8F3M"
      }
    },
    {
      "cell_type": "code",
      "source": [
        "# Generate Optuna optimization history plot\n",
        "fig = optuna.visualization.plot_optimization_history(study)\n",
        "fig.show()\n"
      ],
      "metadata": {
        "id": "PiicTdnyMyOa",
        "colab": {
          "base_uri": "https://localhost:8080/",
          "height": 542
        },
        "outputId": "b809ce3d-6f28-4718-bdf0-ec5f4af629af"
      },
      "execution_count": 24,
      "outputs": [
        {
          "output_type": "display_data",
          "data": {
            "text/html": [
              "<html>\n",
              "<head><meta charset=\"utf-8\" /></head>\n",
              "<body>\n",
              "    <div>            <script src=\"https://cdnjs.cloudflare.com/ajax/libs/mathjax/2.7.5/MathJax.js?config=TeX-AMS-MML_SVG\"></script><script type=\"text/javascript\">if (window.MathJax && window.MathJax.Hub && window.MathJax.Hub.Config) {window.MathJax.Hub.Config({SVG: {font: \"STIX-Web\"}});}</script>                <script type=\"text/javascript\">window.PlotlyConfig = {MathJaxConfig: 'local'};</script>\n",
              "        <script charset=\"utf-8\" src=\"https://cdn.plot.ly/plotly-2.24.1.min.js\"></script>                <div id=\"dc75397b-158a-49ef-aad1-421bb57621dc\" class=\"plotly-graph-div\" style=\"height:525px; width:100%;\"></div>            <script type=\"text/javascript\">                                    window.PLOTLYENV=window.PLOTLYENV || {};                                    if (document.getElementById(\"dc75397b-158a-49ef-aad1-421bb57621dc\")) {                    Plotly.newPlot(                        \"dc75397b-158a-49ef-aad1-421bb57621dc\",                        [{\"mode\":\"markers\",\"name\":\"Objective Value\",\"x\":[0,1,2,3,4,5,6,7,8,9,10,11,12,13,14,15,16,17,18,19],\"y\":[0.0005185382906347513,0.0297091044485569,0.012126602232456207,0.028522470965981483,0.0005483868299052119,0.0005386135308071971,0.001084216171875596,0.0008158205891959369,0.0006219212664291263,0.00012625484669115394,0.0006029267678968608,0.0011301698395982385,0.00014689260569866747,0.0004333267279434949,0.0003460161969996989,0.00013234901416581124,0.0004098269564565271,0.00033818563679233193,0.00043523573549464345,0.0006246220436878502],\"type\":\"scatter\"},{\"mode\":\"lines\",\"name\":\"Best Value\",\"x\":[0,1,2,3,4,5,6,7,8,9,10,11,12,13,14,15,16,17,18,19],\"y\":[0.0005185382906347513,0.0005185382906347513,0.0005185382906347513,0.0005185382906347513,0.0005185382906347513,0.0005185382906347513,0.0005185382906347513,0.0005185382906347513,0.0005185382906347513,0.00012625484669115394,0.00012625484669115394,0.00012625484669115394,0.00012625484669115394,0.00012625484669115394,0.00012625484669115394,0.00012625484669115394,0.00012625484669115394,0.00012625484669115394,0.00012625484669115394,0.00012625484669115394],\"type\":\"scatter\"},{\"marker\":{\"color\":\"#cccccc\"},\"mode\":\"markers\",\"name\":\"Infeasible Trial\",\"showlegend\":false,\"x\":[],\"y\":[],\"type\":\"scatter\"}],                        {\"title\":{\"text\":\"Optimization History Plot\"},\"xaxis\":{\"title\":{\"text\":\"Trial\"}},\"yaxis\":{\"title\":{\"text\":\"Objective Value\"}},\"template\":{\"data\":{\"histogram2dcontour\":[{\"type\":\"histogram2dcontour\",\"colorbar\":{\"outlinewidth\":0,\"ticks\":\"\"},\"colorscale\":[[0.0,\"#0d0887\"],[0.1111111111111111,\"#46039f\"],[0.2222222222222222,\"#7201a8\"],[0.3333333333333333,\"#9c179e\"],[0.4444444444444444,\"#bd3786\"],[0.5555555555555556,\"#d8576b\"],[0.6666666666666666,\"#ed7953\"],[0.7777777777777778,\"#fb9f3a\"],[0.8888888888888888,\"#fdca26\"],[1.0,\"#f0f921\"]]}],\"choropleth\":[{\"type\":\"choropleth\",\"colorbar\":{\"outlinewidth\":0,\"ticks\":\"\"}}],\"histogram2d\":[{\"type\":\"histogram2d\",\"colorbar\":{\"outlinewidth\":0,\"ticks\":\"\"},\"colorscale\":[[0.0,\"#0d0887\"],[0.1111111111111111,\"#46039f\"],[0.2222222222222222,\"#7201a8\"],[0.3333333333333333,\"#9c179e\"],[0.4444444444444444,\"#bd3786\"],[0.5555555555555556,\"#d8576b\"],[0.6666666666666666,\"#ed7953\"],[0.7777777777777778,\"#fb9f3a\"],[0.8888888888888888,\"#fdca26\"],[1.0,\"#f0f921\"]]}],\"heatmap\":[{\"type\":\"heatmap\",\"colorbar\":{\"outlinewidth\":0,\"ticks\":\"\"},\"colorscale\":[[0.0,\"#0d0887\"],[0.1111111111111111,\"#46039f\"],[0.2222222222222222,\"#7201a8\"],[0.3333333333333333,\"#9c179e\"],[0.4444444444444444,\"#bd3786\"],[0.5555555555555556,\"#d8576b\"],[0.6666666666666666,\"#ed7953\"],[0.7777777777777778,\"#fb9f3a\"],[0.8888888888888888,\"#fdca26\"],[1.0,\"#f0f921\"]]}],\"heatmapgl\":[{\"type\":\"heatmapgl\",\"colorbar\":{\"outlinewidth\":0,\"ticks\":\"\"},\"colorscale\":[[0.0,\"#0d0887\"],[0.1111111111111111,\"#46039f\"],[0.2222222222222222,\"#7201a8\"],[0.3333333333333333,\"#9c179e\"],[0.4444444444444444,\"#bd3786\"],[0.5555555555555556,\"#d8576b\"],[0.6666666666666666,\"#ed7953\"],[0.7777777777777778,\"#fb9f3a\"],[0.8888888888888888,\"#fdca26\"],[1.0,\"#f0f921\"]]}],\"contourcarpet\":[{\"type\":\"contourcarpet\",\"colorbar\":{\"outlinewidth\":0,\"ticks\":\"\"}}],\"contour\":[{\"type\":\"contour\",\"colorbar\":{\"outlinewidth\":0,\"ticks\":\"\"},\"colorscale\":[[0.0,\"#0d0887\"],[0.1111111111111111,\"#46039f\"],[0.2222222222222222,\"#7201a8\"],[0.3333333333333333,\"#9c179e\"],[0.4444444444444444,\"#bd3786\"],[0.5555555555555556,\"#d8576b\"],[0.6666666666666666,\"#ed7953\"],[0.7777777777777778,\"#fb9f3a\"],[0.8888888888888888,\"#fdca26\"],[1.0,\"#f0f921\"]]}],\"surface\":[{\"type\":\"surface\",\"colorbar\":{\"outlinewidth\":0,\"ticks\":\"\"},\"colorscale\":[[0.0,\"#0d0887\"],[0.1111111111111111,\"#46039f\"],[0.2222222222222222,\"#7201a8\"],[0.3333333333333333,\"#9c179e\"],[0.4444444444444444,\"#bd3786\"],[0.5555555555555556,\"#d8576b\"],[0.6666666666666666,\"#ed7953\"],[0.7777777777777778,\"#fb9f3a\"],[0.8888888888888888,\"#fdca26\"],[1.0,\"#f0f921\"]]}],\"mesh3d\":[{\"type\":\"mesh3d\",\"colorbar\":{\"outlinewidth\":0,\"ticks\":\"\"}}],\"scatter\":[{\"fillpattern\":{\"fillmode\":\"overlay\",\"size\":10,\"solidity\":0.2},\"type\":\"scatter\"}],\"parcoords\":[{\"type\":\"parcoords\",\"line\":{\"colorbar\":{\"outlinewidth\":0,\"ticks\":\"\"}}}],\"scatterpolargl\":[{\"type\":\"scatterpolargl\",\"marker\":{\"colorbar\":{\"outlinewidth\":0,\"ticks\":\"\"}}}],\"bar\":[{\"error_x\":{\"color\":\"#2a3f5f\"},\"error_y\":{\"color\":\"#2a3f5f\"},\"marker\":{\"line\":{\"color\":\"#E5ECF6\",\"width\":0.5},\"pattern\":{\"fillmode\":\"overlay\",\"size\":10,\"solidity\":0.2}},\"type\":\"bar\"}],\"scattergeo\":[{\"type\":\"scattergeo\",\"marker\":{\"colorbar\":{\"outlinewidth\":0,\"ticks\":\"\"}}}],\"scatterpolar\":[{\"type\":\"scatterpolar\",\"marker\":{\"colorbar\":{\"outlinewidth\":0,\"ticks\":\"\"}}}],\"histogram\":[{\"marker\":{\"pattern\":{\"fillmode\":\"overlay\",\"size\":10,\"solidity\":0.2}},\"type\":\"histogram\"}],\"scattergl\":[{\"type\":\"scattergl\",\"marker\":{\"colorbar\":{\"outlinewidth\":0,\"ticks\":\"\"}}}],\"scatter3d\":[{\"type\":\"scatter3d\",\"line\":{\"colorbar\":{\"outlinewidth\":0,\"ticks\":\"\"}},\"marker\":{\"colorbar\":{\"outlinewidth\":0,\"ticks\":\"\"}}}],\"scattermapbox\":[{\"type\":\"scattermapbox\",\"marker\":{\"colorbar\":{\"outlinewidth\":0,\"ticks\":\"\"}}}],\"scatterternary\":[{\"type\":\"scatterternary\",\"marker\":{\"colorbar\":{\"outlinewidth\":0,\"ticks\":\"\"}}}],\"scattercarpet\":[{\"type\":\"scattercarpet\",\"marker\":{\"colorbar\":{\"outlinewidth\":0,\"ticks\":\"\"}}}],\"carpet\":[{\"aaxis\":{\"endlinecolor\":\"#2a3f5f\",\"gridcolor\":\"white\",\"linecolor\":\"white\",\"minorgridcolor\":\"white\",\"startlinecolor\":\"#2a3f5f\"},\"baxis\":{\"endlinecolor\":\"#2a3f5f\",\"gridcolor\":\"white\",\"linecolor\":\"white\",\"minorgridcolor\":\"white\",\"startlinecolor\":\"#2a3f5f\"},\"type\":\"carpet\"}],\"table\":[{\"cells\":{\"fill\":{\"color\":\"#EBF0F8\"},\"line\":{\"color\":\"white\"}},\"header\":{\"fill\":{\"color\":\"#C8D4E3\"},\"line\":{\"color\":\"white\"}},\"type\":\"table\"}],\"barpolar\":[{\"marker\":{\"line\":{\"color\":\"#E5ECF6\",\"width\":0.5},\"pattern\":{\"fillmode\":\"overlay\",\"size\":10,\"solidity\":0.2}},\"type\":\"barpolar\"}],\"pie\":[{\"automargin\":true,\"type\":\"pie\"}]},\"layout\":{\"autotypenumbers\":\"strict\",\"colorway\":[\"#636efa\",\"#EF553B\",\"#00cc96\",\"#ab63fa\",\"#FFA15A\",\"#19d3f3\",\"#FF6692\",\"#B6E880\",\"#FF97FF\",\"#FECB52\"],\"font\":{\"color\":\"#2a3f5f\"},\"hovermode\":\"closest\",\"hoverlabel\":{\"align\":\"left\"},\"paper_bgcolor\":\"white\",\"plot_bgcolor\":\"#E5ECF6\",\"polar\":{\"bgcolor\":\"#E5ECF6\",\"angularaxis\":{\"gridcolor\":\"white\",\"linecolor\":\"white\",\"ticks\":\"\"},\"radialaxis\":{\"gridcolor\":\"white\",\"linecolor\":\"white\",\"ticks\":\"\"}},\"ternary\":{\"bgcolor\":\"#E5ECF6\",\"aaxis\":{\"gridcolor\":\"white\",\"linecolor\":\"white\",\"ticks\":\"\"},\"baxis\":{\"gridcolor\":\"white\",\"linecolor\":\"white\",\"ticks\":\"\"},\"caxis\":{\"gridcolor\":\"white\",\"linecolor\":\"white\",\"ticks\":\"\"}},\"coloraxis\":{\"colorbar\":{\"outlinewidth\":0,\"ticks\":\"\"}},\"colorscale\":{\"sequential\":[[0.0,\"#0d0887\"],[0.1111111111111111,\"#46039f\"],[0.2222222222222222,\"#7201a8\"],[0.3333333333333333,\"#9c179e\"],[0.4444444444444444,\"#bd3786\"],[0.5555555555555556,\"#d8576b\"],[0.6666666666666666,\"#ed7953\"],[0.7777777777777778,\"#fb9f3a\"],[0.8888888888888888,\"#fdca26\"],[1.0,\"#f0f921\"]],\"sequentialminus\":[[0.0,\"#0d0887\"],[0.1111111111111111,\"#46039f\"],[0.2222222222222222,\"#7201a8\"],[0.3333333333333333,\"#9c179e\"],[0.4444444444444444,\"#bd3786\"],[0.5555555555555556,\"#d8576b\"],[0.6666666666666666,\"#ed7953\"],[0.7777777777777778,\"#fb9f3a\"],[0.8888888888888888,\"#fdca26\"],[1.0,\"#f0f921\"]],\"diverging\":[[0,\"#8e0152\"],[0.1,\"#c51b7d\"],[0.2,\"#de77ae\"],[0.3,\"#f1b6da\"],[0.4,\"#fde0ef\"],[0.5,\"#f7f7f7\"],[0.6,\"#e6f5d0\"],[0.7,\"#b8e186\"],[0.8,\"#7fbc41\"],[0.9,\"#4d9221\"],[1,\"#276419\"]]},\"xaxis\":{\"gridcolor\":\"white\",\"linecolor\":\"white\",\"ticks\":\"\",\"title\":{\"standoff\":15},\"zerolinecolor\":\"white\",\"automargin\":true,\"zerolinewidth\":2},\"yaxis\":{\"gridcolor\":\"white\",\"linecolor\":\"white\",\"ticks\":\"\",\"title\":{\"standoff\":15},\"zerolinecolor\":\"white\",\"automargin\":true,\"zerolinewidth\":2},\"scene\":{\"xaxis\":{\"backgroundcolor\":\"#E5ECF6\",\"gridcolor\":\"white\",\"linecolor\":\"white\",\"showbackground\":true,\"ticks\":\"\",\"zerolinecolor\":\"white\",\"gridwidth\":2},\"yaxis\":{\"backgroundcolor\":\"#E5ECF6\",\"gridcolor\":\"white\",\"linecolor\":\"white\",\"showbackground\":true,\"ticks\":\"\",\"zerolinecolor\":\"white\",\"gridwidth\":2},\"zaxis\":{\"backgroundcolor\":\"#E5ECF6\",\"gridcolor\":\"white\",\"linecolor\":\"white\",\"showbackground\":true,\"ticks\":\"\",\"zerolinecolor\":\"white\",\"gridwidth\":2}},\"shapedefaults\":{\"line\":{\"color\":\"#2a3f5f\"}},\"annotationdefaults\":{\"arrowcolor\":\"#2a3f5f\",\"arrowhead\":0,\"arrowwidth\":1},\"geo\":{\"bgcolor\":\"white\",\"landcolor\":\"#E5ECF6\",\"subunitcolor\":\"white\",\"showland\":true,\"showlakes\":true,\"lakecolor\":\"white\"},\"title\":{\"x\":0.05},\"mapbox\":{\"style\":\"light\"}}}},                        {\"responsive\": true}                    ).then(function(){\n",
              "                            \n",
              "var gd = document.getElementById('dc75397b-158a-49ef-aad1-421bb57621dc');\n",
              "var x = new MutationObserver(function (mutations, observer) {{\n",
              "        var display = window.getComputedStyle(gd).display;\n",
              "        if (!display || display === 'none') {{\n",
              "            console.log([gd, 'removed!']);\n",
              "            Plotly.purge(gd);\n",
              "            observer.disconnect();\n",
              "        }}\n",
              "}});\n",
              "\n",
              "// Listen for the removal of the full notebook cells\n",
              "var notebookContainer = gd.closest('#notebook-container');\n",
              "if (notebookContainer) {{\n",
              "    x.observe(notebookContainer, {childList: true});\n",
              "}}\n",
              "\n",
              "// Listen for the clearing of the current output cell\n",
              "var outputEl = gd.closest('.output');\n",
              "if (outputEl) {{\n",
              "    x.observe(outputEl, {childList: true});\n",
              "}}\n",
              "\n",
              "                        })                };                            </script>        </div>\n",
              "</body>\n",
              "</html>"
            ]
          },
          "metadata": {}
        }
      ]
    },
    {
      "cell_type": "code",
      "source": [
        "# Generate Optuna slice plot\n",
        "fig = optuna.visualization.plot_slice(study)\n",
        "fig.show()"
      ],
      "metadata": {
        "id": "ijbPeIp9Mwyo",
        "colab": {
          "base_uri": "https://localhost:8080/",
          "height": 562
        },
        "outputId": "a9703147-d559-4ccd-cb14-74464bb5a8ae"
      },
      "execution_count": 25,
      "outputs": [
        {
          "output_type": "display_data",
          "data": {
            "text/html": [
              "<html>\n",
              "<head><meta charset=\"utf-8\" /></head>\n",
              "<body>\n",
              "    <div>            <script src=\"https://cdnjs.cloudflare.com/ajax/libs/mathjax/2.7.5/MathJax.js?config=TeX-AMS-MML_SVG\"></script><script type=\"text/javascript\">if (window.MathJax && window.MathJax.Hub && window.MathJax.Hub.Config) {window.MathJax.Hub.Config({SVG: {font: \"STIX-Web\"}});}</script>                <script type=\"text/javascript\">window.PlotlyConfig = {MathJaxConfig: 'local'};</script>\n",
              "        <script charset=\"utf-8\" src=\"https://cdn.plot.ly/plotly-2.24.1.min.js\"></script>                <div id=\"592568c1-33ff-48d3-a12d-c66fa9355d32\" class=\"plotly-graph-div\" style=\"height:525px; width:3900px;\"></div>            <script type=\"text/javascript\">                                    window.PLOTLYENV=window.PLOTLYENV || {};                                    if (document.getElementById(\"592568c1-33ff-48d3-a12d-c66fa9355d32\")) {                    Plotly.newPlot(                        \"592568c1-33ff-48d3-a12d-c66fa9355d32\",                        [{\"marker\":{\"color\":[0,1,2,3,4,5,6,7,8,9,10,11,12,13,14,15,16,17,18,19],\"colorbar\":{\"title\":{\"text\":\"Trial\"},\"x\":1.0,\"xpad\":40},\"colorscale\":[[0.0,\"rgb(247,251,255)\"],[0.125,\"rgb(222,235,247)\"],[0.25,\"rgb(198,219,239)\"],[0.375,\"rgb(158,202,225)\"],[0.5,\"rgb(107,174,214)\"],[0.625,\"rgb(66,146,198)\"],[0.75,\"rgb(33,113,181)\"],[0.875,\"rgb(8,81,156)\"],[1.0,\"rgb(8,48,107)\"]],\"line\":{\"color\":\"Grey\",\"width\":0.5},\"showscale\":true},\"mode\":\"markers\",\"name\":\"Feasible Trial\",\"showlegend\":false,\"x\":[32,128,16,16,128,64,128,64,16,64,64,32,32,32,32,64,64,64,64,64],\"y\":[0.0005185382906347513,0.0297091044485569,0.012126602232456207,0.028522470965981483,0.0005483868299052119,0.0005386135308071971,0.001084216171875596,0.0008158205891959369,0.0006219212664291263,0.00012625484669115394,0.0006029267678968608,0.0011301698395982385,0.00014689260569866747,0.0004333267279434949,0.0003460161969996989,0.00013234901416581124,0.0004098269564565271,0.00033818563679233193,0.00043523573549464345,0.0006246220436878502],\"type\":\"scatter\",\"xaxis\":\"x\",\"yaxis\":\"y\"},{\"marker\":{\"color\":[0,1,2,3,4,5,6,7,8,9,10,11,12,13,14,15,16,17,18,19],\"colorbar\":{\"title\":{\"text\":\"Trial\"},\"x\":1.0,\"xpad\":40},\"colorscale\":[[0.0,\"rgb(247,251,255)\"],[0.125,\"rgb(222,235,247)\"],[0.25,\"rgb(198,219,239)\"],[0.375,\"rgb(158,202,225)\"],[0.5,\"rgb(107,174,214)\"],[0.625,\"rgb(66,146,198)\"],[0.75,\"rgb(33,113,181)\"],[0.875,\"rgb(8,81,156)\"],[1.0,\"rgb(8,48,107)\"]],\"line\":{\"color\":\"Grey\",\"width\":0.5},\"showscale\":false},\"mode\":\"markers\",\"name\":\"Feasible Trial\",\"showlegend\":false,\"x\":[0.02688930036463877,0.009364895259948325,0.25278938687939356,0.09695062974110208,0.4330246290133108,0.3300269932022193,0.10081647501765173,0.17454477325206214,0.008195681960302292,0.0711833153105021,0.49504415006919306,0.11691327492136691,0.20356297510061228,0.23016536795862733,0.28307918762294193,0.1870352891489004,0.15502332216139073,0.33419457662406477,0.06193740959940984,0.14901319817996206],\"y\":[0.0005185382906347513,0.0297091044485569,0.012126602232456207,0.028522470965981483,0.0005483868299052119,0.0005386135308071971,0.001084216171875596,0.0008158205891959369,0.0006219212664291263,0.00012625484669115394,0.0006029267678968608,0.0011301698395982385,0.00014689260569866747,0.0004333267279434949,0.0003460161969996989,0.00013234901416581124,0.0004098269564565271,0.00033818563679233193,0.00043523573549464345,0.0006246220436878502],\"type\":\"scatter\",\"xaxis\":\"x2\",\"yaxis\":\"y2\"},{\"marker\":{\"color\":[0,1,2,3,4,5,6,8,11,19],\"colorbar\":{\"title\":{\"text\":\"Trial\"},\"x\":1.0,\"xpad\":40},\"colorscale\":[[0.0,\"rgb(247,251,255)\"],[0.125,\"rgb(222,235,247)\"],[0.25,\"rgb(198,219,239)\"],[0.375,\"rgb(158,202,225)\"],[0.5,\"rgb(107,174,214)\"],[0.625,\"rgb(66,146,198)\"],[0.75,\"rgb(33,113,181)\"],[0.875,\"rgb(8,81,156)\"],[1.0,\"rgb(8,48,107)\"]],\"line\":{\"color\":\"Grey\",\"width\":0.5},\"showscale\":false},\"mode\":\"markers\",\"name\":\"Feasible Trial\",\"showlegend\":false,\"x\":[0.21530540432005535,0.418795768849099,0.05607251897112975,0.4446255569659668,0.10015129425555197,0.06122651018959224,0.07043968770098791,0.2778292395856342,0.22993674236839814,0.3512973692180927],\"y\":[0.0005185382906347513,0.0297091044485569,0.012126602232456207,0.028522470965981483,0.0005483868299052119,0.0005386135308071971,0.001084216171875596,0.0006219212664291263,0.0011301698395982385,0.0006246220436878502],\"type\":\"scatter\",\"xaxis\":\"x3\",\"yaxis\":\"y3\"},{\"marker\":{\"color\":[0,1,2,3,4,5,6,8,11,19],\"colorbar\":{\"title\":{\"text\":\"Trial\"},\"x\":1.0,\"xpad\":40},\"colorscale\":[[0.0,\"rgb(247,251,255)\"],[0.125,\"rgb(222,235,247)\"],[0.25,\"rgb(198,219,239)\"],[0.375,\"rgb(158,202,225)\"],[0.5,\"rgb(107,174,214)\"],[0.625,\"rgb(66,146,198)\"],[0.75,\"rgb(33,113,181)\"],[0.875,\"rgb(8,81,156)\"],[1.0,\"rgb(8,48,107)\"]],\"line\":{\"color\":\"Grey\",\"width\":0.5},\"showscale\":false},\"mode\":\"markers\",\"name\":\"Feasible Trial\",\"showlegend\":false,\"x\":[0.19345752765891167,0.18816863029690556,0.11579058190175295,0.4633020211414205,0.4565516593022486,0.2962819250804605,0.1949893843243704,0.03223828616895502,0.3247173982203283,0.007805027736574599],\"y\":[0.0005185382906347513,0.0297091044485569,0.012126602232456207,0.028522470965981483,0.0005483868299052119,0.0005386135308071971,0.001084216171875596,0.0006219212664291263,0.0011301698395982385,0.0006246220436878502],\"type\":\"scatter\",\"xaxis\":\"x4\",\"yaxis\":\"y4\"},{\"marker\":{\"color\":[1,11,19],\"colorbar\":{\"title\":{\"text\":\"Trial\"},\"x\":1.0,\"xpad\":40},\"colorscale\":[[0.0,\"rgb(247,251,255)\"],[0.125,\"rgb(222,235,247)\"],[0.25,\"rgb(198,219,239)\"],[0.375,\"rgb(158,202,225)\"],[0.5,\"rgb(107,174,214)\"],[0.625,\"rgb(66,146,198)\"],[0.75,\"rgb(33,113,181)\"],[0.875,\"rgb(8,81,156)\"],[1.0,\"rgb(8,48,107)\"]],\"line\":{\"color\":\"Grey\",\"width\":0.5},\"showscale\":false},\"mode\":\"markers\",\"name\":\"Feasible Trial\",\"showlegend\":false,\"x\":[0.050951492367424966,0.4798476135364502,0.31865501158230586],\"y\":[0.0297091044485569,0.0011301698395982385,0.0006246220436878502],\"type\":\"scatter\",\"xaxis\":\"x5\",\"yaxis\":\"y5\"},{\"marker\":{\"color\":[1,11,19],\"colorbar\":{\"title\":{\"text\":\"Trial\"},\"x\":1.0,\"xpad\":40},\"colorscale\":[[0.0,\"rgb(247,251,255)\"],[0.125,\"rgb(222,235,247)\"],[0.25,\"rgb(198,219,239)\"],[0.375,\"rgb(158,202,225)\"],[0.5,\"rgb(107,174,214)\"],[0.625,\"rgb(66,146,198)\"],[0.75,\"rgb(33,113,181)\"],[0.875,\"rgb(8,81,156)\"],[1.0,\"rgb(8,48,107)\"]],\"line\":{\"color\":\"Grey\",\"width\":0.5},\"showscale\":false},\"mode\":\"markers\",\"name\":\"Feasible Trial\",\"showlegend\":false,\"x\":[0.23289962006397374,0.004710200103188789,0.44682600791214355],\"y\":[0.0297091044485569,0.0011301698395982385,0.0006246220436878502],\"type\":\"scatter\",\"xaxis\":\"x6\",\"yaxis\":\"y6\"},{\"marker\":{\"color\":[0,1,2,3,4,5,6,7,8,9,10,11,12,13,14,15,16,17,18,19],\"colorbar\":{\"title\":{\"text\":\"Trial\"},\"x\":1.0,\"xpad\":40},\"colorscale\":[[0.0,\"rgb(247,251,255)\"],[0.125,\"rgb(222,235,247)\"],[0.25,\"rgb(198,219,239)\"],[0.375,\"rgb(158,202,225)\"],[0.5,\"rgb(107,174,214)\"],[0.625,\"rgb(66,146,198)\"],[0.75,\"rgb(33,113,181)\"],[0.875,\"rgb(8,81,156)\"],[1.0,\"rgb(8,48,107)\"]],\"line\":{\"color\":\"Grey\",\"width\":0.5},\"showscale\":false},\"mode\":\"markers\",\"name\":\"Feasible Trial\",\"showlegend\":false,\"x\":[0.011777156875087104,0.038758911063650155,0.06664194141640051,0.09081606445315861,0.008310358608876182,0.002623631570386579,0.0004653480371634498,3.147546280622377e-05,2.8033974631558765e-05,0.026730407359204247,0.00038953719160466813,0.009858992108650976,0.011930338370136096,0.0019510962553424746,0.018596997470596656,0.003274761035309765,0.00017248490789184483,0.003146451412337662,0.0001133558785742605,0.004494739893160462],\"y\":[0.0005185382906347513,0.0297091044485569,0.012126602232456207,0.028522470965981483,0.0005483868299052119,0.0005386135308071971,0.001084216171875596,0.0008158205891959369,0.0006219212664291263,0.00012625484669115394,0.0006029267678968608,0.0011301698395982385,0.00014689260569866747,0.0004333267279434949,0.0003460161969996989,0.00013234901416581124,0.0004098269564565271,0.00033818563679233193,0.00043523573549464345,0.0006246220436878502],\"type\":\"scatter\",\"xaxis\":\"x7\",\"yaxis\":\"y7\"},{\"marker\":{\"color\":[0,1,2,3,4,5,6,7,8,9,10,11,12,13,14,15,16,17,18,19],\"colorbar\":{\"title\":{\"text\":\"Trial\"},\"x\":1.0,\"xpad\":40},\"colorscale\":[[0.0,\"rgb(247,251,255)\"],[0.125,\"rgb(222,235,247)\"],[0.25,\"rgb(198,219,239)\"],[0.375,\"rgb(158,202,225)\"],[0.5,\"rgb(107,174,214)\"],[0.625,\"rgb(66,146,198)\"],[0.75,\"rgb(33,113,181)\"],[0.875,\"rgb(8,81,156)\"],[1.0,\"rgb(8,48,107)\"]],\"line\":{\"color\":\"Grey\",\"width\":0.5},\"showscale\":false},\"mode\":\"markers\",\"name\":\"Feasible Trial\",\"showlegend\":false,\"x\":[3,5,3,3,3,3,3,1,3,1,1,5,1,1,1,1,1,1,1,5],\"y\":[0.0005185382906347513,0.0297091044485569,0.012126602232456207,0.028522470965981483,0.0005483868299052119,0.0005386135308071971,0.001084216171875596,0.0008158205891959369,0.0006219212664291263,0.00012625484669115394,0.0006029267678968608,0.0011301698395982385,0.00014689260569866747,0.0004333267279434949,0.0003460161969996989,0.00013234901416581124,0.0004098269564565271,0.00033818563679233193,0.00043523573549464345,0.0006246220436878502],\"type\":\"scatter\",\"xaxis\":\"x8\",\"yaxis\":\"y8\"},{\"marker\":{\"color\":[0,1,2,3,4,5,6,7,8,9,10,11,12,13,14,15,16,17,18,19],\"colorbar\":{\"title\":{\"text\":\"Trial\"},\"x\":1.0,\"xpad\":40},\"colorscale\":[[0.0,\"rgb(247,251,255)\"],[0.125,\"rgb(222,235,247)\"],[0.25,\"rgb(198,219,239)\"],[0.375,\"rgb(158,202,225)\"],[0.5,\"rgb(107,174,214)\"],[0.625,\"rgb(66,146,198)\"],[0.75,\"rgb(33,113,181)\"],[0.875,\"rgb(8,81,156)\"],[1.0,\"rgb(8,48,107)\"]],\"line\":{\"color\":\"Grey\",\"width\":0.5},\"showscale\":false},\"mode\":\"markers\",\"name\":\"Feasible Trial\",\"showlegend\":false,\"x\":[137,216,241,121,187,122,242,202,115,177,72,161,163,170,81,178,188,51,217,143],\"y\":[0.0005185382906347513,0.0297091044485569,0.012126602232456207,0.028522470965981483,0.0005483868299052119,0.0005386135308071971,0.001084216171875596,0.0008158205891959369,0.0006219212664291263,0.00012625484669115394,0.0006029267678968608,0.0011301698395982385,0.00014689260569866747,0.0004333267279434949,0.0003460161969996989,0.00013234901416581124,0.0004098269564565271,0.00033818563679233193,0.00043523573549464345,0.0006246220436878502],\"type\":\"scatter\",\"xaxis\":\"x9\",\"yaxis\":\"y9\"},{\"marker\":{\"color\":[0,1,2,3,4,5,6,8,11,19],\"colorbar\":{\"title\":{\"text\":\"Trial\"},\"x\":1.0,\"xpad\":40},\"colorscale\":[[0.0,\"rgb(247,251,255)\"],[0.125,\"rgb(222,235,247)\"],[0.25,\"rgb(198,219,239)\"],[0.375,\"rgb(158,202,225)\"],[0.5,\"rgb(107,174,214)\"],[0.625,\"rgb(66,146,198)\"],[0.75,\"rgb(33,113,181)\"],[0.875,\"rgb(8,81,156)\"],[1.0,\"rgb(8,48,107)\"]],\"line\":{\"color\":\"Grey\",\"width\":0.5},\"showscale\":false},\"mode\":\"markers\",\"name\":\"Feasible Trial\",\"showlegend\":false,\"x\":[148,222,77,214,245,243,95,156,146,54],\"y\":[0.0005185382906347513,0.0297091044485569,0.012126602232456207,0.028522470965981483,0.0005483868299052119,0.0005386135308071971,0.001084216171875596,0.0006219212664291263,0.0011301698395982385,0.0006246220436878502],\"type\":\"scatter\",\"xaxis\":\"x10\",\"yaxis\":\"y10\"},{\"marker\":{\"color\":[0,1,2,3,4,5,6,8,11,19],\"colorbar\":{\"title\":{\"text\":\"Trial\"},\"x\":1.0,\"xpad\":40},\"colorscale\":[[0.0,\"rgb(247,251,255)\"],[0.125,\"rgb(222,235,247)\"],[0.25,\"rgb(198,219,239)\"],[0.375,\"rgb(158,202,225)\"],[0.5,\"rgb(107,174,214)\"],[0.625,\"rgb(66,146,198)\"],[0.75,\"rgb(33,113,181)\"],[0.875,\"rgb(8,81,156)\"],[1.0,\"rgb(8,48,107)\"]],\"line\":{\"color\":\"Grey\",\"width\":0.5},\"showscale\":false},\"mode\":\"markers\",\"name\":\"Feasible Trial\",\"showlegend\":false,\"x\":[167,75,127,85,165,165,165,106,229,250],\"y\":[0.0005185382906347513,0.0297091044485569,0.012126602232456207,0.028522470965981483,0.0005483868299052119,0.0005386135308071971,0.001084216171875596,0.0006219212664291263,0.0011301698395982385,0.0006246220436878502],\"type\":\"scatter\",\"xaxis\":\"x11\",\"yaxis\":\"y11\"},{\"marker\":{\"color\":[1,11,19],\"colorbar\":{\"title\":{\"text\":\"Trial\"},\"x\":1.0,\"xpad\":40},\"colorscale\":[[0.0,\"rgb(247,251,255)\"],[0.125,\"rgb(222,235,247)\"],[0.25,\"rgb(198,219,239)\"],[0.375,\"rgb(158,202,225)\"],[0.5,\"rgb(107,174,214)\"],[0.625,\"rgb(66,146,198)\"],[0.75,\"rgb(33,113,181)\"],[0.875,\"rgb(8,81,156)\"],[1.0,\"rgb(8,48,107)\"]],\"line\":{\"color\":\"Grey\",\"width\":0.5},\"showscale\":false},\"mode\":\"markers\",\"name\":\"Feasible Trial\",\"showlegend\":false,\"x\":[106,239,51],\"y\":[0.0297091044485569,0.0011301698395982385,0.0006246220436878502],\"type\":\"scatter\",\"xaxis\":\"x12\",\"yaxis\":\"y12\"},{\"marker\":{\"color\":[1,11,19],\"colorbar\":{\"title\":{\"text\":\"Trial\"},\"x\":1.0,\"xpad\":40},\"colorscale\":[[0.0,\"rgb(247,251,255)\"],[0.125,\"rgb(222,235,247)\"],[0.25,\"rgb(198,219,239)\"],[0.375,\"rgb(158,202,225)\"],[0.5,\"rgb(107,174,214)\"],[0.625,\"rgb(66,146,198)\"],[0.75,\"rgb(33,113,181)\"],[0.875,\"rgb(8,81,156)\"],[1.0,\"rgb(8,48,107)\"]],\"line\":{\"color\":\"Grey\",\"width\":0.5},\"showscale\":false},\"mode\":\"markers\",\"name\":\"Feasible Trial\",\"showlegend\":false,\"x\":[132,241,58],\"y\":[0.0297091044485569,0.0011301698395982385,0.0006246220436878502],\"type\":\"scatter\",\"xaxis\":\"x13\",\"yaxis\":\"y13\"}],                        {\"template\":{\"data\":{\"histogram2dcontour\":[{\"type\":\"histogram2dcontour\",\"colorbar\":{\"outlinewidth\":0,\"ticks\":\"\"},\"colorscale\":[[0.0,\"#0d0887\"],[0.1111111111111111,\"#46039f\"],[0.2222222222222222,\"#7201a8\"],[0.3333333333333333,\"#9c179e\"],[0.4444444444444444,\"#bd3786\"],[0.5555555555555556,\"#d8576b\"],[0.6666666666666666,\"#ed7953\"],[0.7777777777777778,\"#fb9f3a\"],[0.8888888888888888,\"#fdca26\"],[1.0,\"#f0f921\"]]}],\"choropleth\":[{\"type\":\"choropleth\",\"colorbar\":{\"outlinewidth\":0,\"ticks\":\"\"}}],\"histogram2d\":[{\"type\":\"histogram2d\",\"colorbar\":{\"outlinewidth\":0,\"ticks\":\"\"},\"colorscale\":[[0.0,\"#0d0887\"],[0.1111111111111111,\"#46039f\"],[0.2222222222222222,\"#7201a8\"],[0.3333333333333333,\"#9c179e\"],[0.4444444444444444,\"#bd3786\"],[0.5555555555555556,\"#d8576b\"],[0.6666666666666666,\"#ed7953\"],[0.7777777777777778,\"#fb9f3a\"],[0.8888888888888888,\"#fdca26\"],[1.0,\"#f0f921\"]]}],\"heatmap\":[{\"type\":\"heatmap\",\"colorbar\":{\"outlinewidth\":0,\"ticks\":\"\"},\"colorscale\":[[0.0,\"#0d0887\"],[0.1111111111111111,\"#46039f\"],[0.2222222222222222,\"#7201a8\"],[0.3333333333333333,\"#9c179e\"],[0.4444444444444444,\"#bd3786\"],[0.5555555555555556,\"#d8576b\"],[0.6666666666666666,\"#ed7953\"],[0.7777777777777778,\"#fb9f3a\"],[0.8888888888888888,\"#fdca26\"],[1.0,\"#f0f921\"]]}],\"heatmapgl\":[{\"type\":\"heatmapgl\",\"colorbar\":{\"outlinewidth\":0,\"ticks\":\"\"},\"colorscale\":[[0.0,\"#0d0887\"],[0.1111111111111111,\"#46039f\"],[0.2222222222222222,\"#7201a8\"],[0.3333333333333333,\"#9c179e\"],[0.4444444444444444,\"#bd3786\"],[0.5555555555555556,\"#d8576b\"],[0.6666666666666666,\"#ed7953\"],[0.7777777777777778,\"#fb9f3a\"],[0.8888888888888888,\"#fdca26\"],[1.0,\"#f0f921\"]]}],\"contourcarpet\":[{\"type\":\"contourcarpet\",\"colorbar\":{\"outlinewidth\":0,\"ticks\":\"\"}}],\"contour\":[{\"type\":\"contour\",\"colorbar\":{\"outlinewidth\":0,\"ticks\":\"\"},\"colorscale\":[[0.0,\"#0d0887\"],[0.1111111111111111,\"#46039f\"],[0.2222222222222222,\"#7201a8\"],[0.3333333333333333,\"#9c179e\"],[0.4444444444444444,\"#bd3786\"],[0.5555555555555556,\"#d8576b\"],[0.6666666666666666,\"#ed7953\"],[0.7777777777777778,\"#fb9f3a\"],[0.8888888888888888,\"#fdca26\"],[1.0,\"#f0f921\"]]}],\"surface\":[{\"type\":\"surface\",\"colorbar\":{\"outlinewidth\":0,\"ticks\":\"\"},\"colorscale\":[[0.0,\"#0d0887\"],[0.1111111111111111,\"#46039f\"],[0.2222222222222222,\"#7201a8\"],[0.3333333333333333,\"#9c179e\"],[0.4444444444444444,\"#bd3786\"],[0.5555555555555556,\"#d8576b\"],[0.6666666666666666,\"#ed7953\"],[0.7777777777777778,\"#fb9f3a\"],[0.8888888888888888,\"#fdca26\"],[1.0,\"#f0f921\"]]}],\"mesh3d\":[{\"type\":\"mesh3d\",\"colorbar\":{\"outlinewidth\":0,\"ticks\":\"\"}}],\"scatter\":[{\"fillpattern\":{\"fillmode\":\"overlay\",\"size\":10,\"solidity\":0.2},\"type\":\"scatter\"}],\"parcoords\":[{\"type\":\"parcoords\",\"line\":{\"colorbar\":{\"outlinewidth\":0,\"ticks\":\"\"}}}],\"scatterpolargl\":[{\"type\":\"scatterpolargl\",\"marker\":{\"colorbar\":{\"outlinewidth\":0,\"ticks\":\"\"}}}],\"bar\":[{\"error_x\":{\"color\":\"#2a3f5f\"},\"error_y\":{\"color\":\"#2a3f5f\"},\"marker\":{\"line\":{\"color\":\"#E5ECF6\",\"width\":0.5},\"pattern\":{\"fillmode\":\"overlay\",\"size\":10,\"solidity\":0.2}},\"type\":\"bar\"}],\"scattergeo\":[{\"type\":\"scattergeo\",\"marker\":{\"colorbar\":{\"outlinewidth\":0,\"ticks\":\"\"}}}],\"scatterpolar\":[{\"type\":\"scatterpolar\",\"marker\":{\"colorbar\":{\"outlinewidth\":0,\"ticks\":\"\"}}}],\"histogram\":[{\"marker\":{\"pattern\":{\"fillmode\":\"overlay\",\"size\":10,\"solidity\":0.2}},\"type\":\"histogram\"}],\"scattergl\":[{\"type\":\"scattergl\",\"marker\":{\"colorbar\":{\"outlinewidth\":0,\"ticks\":\"\"}}}],\"scatter3d\":[{\"type\":\"scatter3d\",\"line\":{\"colorbar\":{\"outlinewidth\":0,\"ticks\":\"\"}},\"marker\":{\"colorbar\":{\"outlinewidth\":0,\"ticks\":\"\"}}}],\"scattermapbox\":[{\"type\":\"scattermapbox\",\"marker\":{\"colorbar\":{\"outlinewidth\":0,\"ticks\":\"\"}}}],\"scatterternary\":[{\"type\":\"scatterternary\",\"marker\":{\"colorbar\":{\"outlinewidth\":0,\"ticks\":\"\"}}}],\"scattercarpet\":[{\"type\":\"scattercarpet\",\"marker\":{\"colorbar\":{\"outlinewidth\":0,\"ticks\":\"\"}}}],\"carpet\":[{\"aaxis\":{\"endlinecolor\":\"#2a3f5f\",\"gridcolor\":\"white\",\"linecolor\":\"white\",\"minorgridcolor\":\"white\",\"startlinecolor\":\"#2a3f5f\"},\"baxis\":{\"endlinecolor\":\"#2a3f5f\",\"gridcolor\":\"white\",\"linecolor\":\"white\",\"minorgridcolor\":\"white\",\"startlinecolor\":\"#2a3f5f\"},\"type\":\"carpet\"}],\"table\":[{\"cells\":{\"fill\":{\"color\":\"#EBF0F8\"},\"line\":{\"color\":\"white\"}},\"header\":{\"fill\":{\"color\":\"#C8D4E3\"},\"line\":{\"color\":\"white\"}},\"type\":\"table\"}],\"barpolar\":[{\"marker\":{\"line\":{\"color\":\"#E5ECF6\",\"width\":0.5},\"pattern\":{\"fillmode\":\"overlay\",\"size\":10,\"solidity\":0.2}},\"type\":\"barpolar\"}],\"pie\":[{\"automargin\":true,\"type\":\"pie\"}]},\"layout\":{\"autotypenumbers\":\"strict\",\"colorway\":[\"#636efa\",\"#EF553B\",\"#00cc96\",\"#ab63fa\",\"#FFA15A\",\"#19d3f3\",\"#FF6692\",\"#B6E880\",\"#FF97FF\",\"#FECB52\"],\"font\":{\"color\":\"#2a3f5f\"},\"hovermode\":\"closest\",\"hoverlabel\":{\"align\":\"left\"},\"paper_bgcolor\":\"white\",\"plot_bgcolor\":\"#E5ECF6\",\"polar\":{\"bgcolor\":\"#E5ECF6\",\"angularaxis\":{\"gridcolor\":\"white\",\"linecolor\":\"white\",\"ticks\":\"\"},\"radialaxis\":{\"gridcolor\":\"white\",\"linecolor\":\"white\",\"ticks\":\"\"}},\"ternary\":{\"bgcolor\":\"#E5ECF6\",\"aaxis\":{\"gridcolor\":\"white\",\"linecolor\":\"white\",\"ticks\":\"\"},\"baxis\":{\"gridcolor\":\"white\",\"linecolor\":\"white\",\"ticks\":\"\"},\"caxis\":{\"gridcolor\":\"white\",\"linecolor\":\"white\",\"ticks\":\"\"}},\"coloraxis\":{\"colorbar\":{\"outlinewidth\":0,\"ticks\":\"\"}},\"colorscale\":{\"sequential\":[[0.0,\"#0d0887\"],[0.1111111111111111,\"#46039f\"],[0.2222222222222222,\"#7201a8\"],[0.3333333333333333,\"#9c179e\"],[0.4444444444444444,\"#bd3786\"],[0.5555555555555556,\"#d8576b\"],[0.6666666666666666,\"#ed7953\"],[0.7777777777777778,\"#fb9f3a\"],[0.8888888888888888,\"#fdca26\"],[1.0,\"#f0f921\"]],\"sequentialminus\":[[0.0,\"#0d0887\"],[0.1111111111111111,\"#46039f\"],[0.2222222222222222,\"#7201a8\"],[0.3333333333333333,\"#9c179e\"],[0.4444444444444444,\"#bd3786\"],[0.5555555555555556,\"#d8576b\"],[0.6666666666666666,\"#ed7953\"],[0.7777777777777778,\"#fb9f3a\"],[0.8888888888888888,\"#fdca26\"],[1.0,\"#f0f921\"]],\"diverging\":[[0,\"#8e0152\"],[0.1,\"#c51b7d\"],[0.2,\"#de77ae\"],[0.3,\"#f1b6da\"],[0.4,\"#fde0ef\"],[0.5,\"#f7f7f7\"],[0.6,\"#e6f5d0\"],[0.7,\"#b8e186\"],[0.8,\"#7fbc41\"],[0.9,\"#4d9221\"],[1,\"#276419\"]]},\"xaxis\":{\"gridcolor\":\"white\",\"linecolor\":\"white\",\"ticks\":\"\",\"title\":{\"standoff\":15},\"zerolinecolor\":\"white\",\"automargin\":true,\"zerolinewidth\":2},\"yaxis\":{\"gridcolor\":\"white\",\"linecolor\":\"white\",\"ticks\":\"\",\"title\":{\"standoff\":15},\"zerolinecolor\":\"white\",\"automargin\":true,\"zerolinewidth\":2},\"scene\":{\"xaxis\":{\"backgroundcolor\":\"#E5ECF6\",\"gridcolor\":\"white\",\"linecolor\":\"white\",\"showbackground\":true,\"ticks\":\"\",\"zerolinecolor\":\"white\",\"gridwidth\":2},\"yaxis\":{\"backgroundcolor\":\"#E5ECF6\",\"gridcolor\":\"white\",\"linecolor\":\"white\",\"showbackground\":true,\"ticks\":\"\",\"zerolinecolor\":\"white\",\"gridwidth\":2},\"zaxis\":{\"backgroundcolor\":\"#E5ECF6\",\"gridcolor\":\"white\",\"linecolor\":\"white\",\"showbackground\":true,\"ticks\":\"\",\"zerolinecolor\":\"white\",\"gridwidth\":2}},\"shapedefaults\":{\"line\":{\"color\":\"#2a3f5f\"}},\"annotationdefaults\":{\"arrowcolor\":\"#2a3f5f\",\"arrowhead\":0,\"arrowwidth\":1},\"geo\":{\"bgcolor\":\"white\",\"landcolor\":\"#E5ECF6\",\"subunitcolor\":\"white\",\"showland\":true,\"showlakes\":true,\"lakecolor\":\"white\"},\"title\":{\"x\":0.05},\"mapbox\":{\"style\":\"light\"}}},\"xaxis\":{\"anchor\":\"y\",\"domain\":[0.0,0.06272189349112425],\"title\":{\"text\":\"batch_size\"},\"type\":\"category\",\"categoryorder\":\"array\",\"categoryarray\":[16,32,64,128]},\"yaxis\":{\"anchor\":\"x\",\"domain\":[0.0,1.0],\"title\":{\"text\":\"Objective Value\"}},\"xaxis2\":{\"anchor\":\"y2\",\"domain\":[0.07810650887573964,0.1408284023668639],\"title\":{\"text\":\"dropout_0\"}},\"yaxis2\":{\"anchor\":\"x2\",\"domain\":[0.0,1.0],\"matches\":\"y\",\"showticklabels\":false},\"xaxis3\":{\"anchor\":\"y3\",\"domain\":[0.15621301775147928,0.21893491124260353],\"title\":{\"text\":\"dropout_1\"}},\"yaxis3\":{\"anchor\":\"x3\",\"domain\":[0.0,1.0],\"matches\":\"y\",\"showticklabels\":false},\"xaxis4\":{\"anchor\":\"y4\",\"domain\":[0.23431952662721892,0.29704142011834317],\"title\":{\"text\":\"dropout_2\"}},\"yaxis4\":{\"anchor\":\"x4\",\"domain\":[0.0,1.0],\"matches\":\"y\",\"showticklabels\":false},\"xaxis5\":{\"anchor\":\"y5\",\"domain\":[0.31242603550295855,0.3751479289940828],\"title\":{\"text\":\"dropout_3\"}},\"yaxis5\":{\"anchor\":\"x5\",\"domain\":[0.0,1.0],\"matches\":\"y\",\"showticklabels\":false},\"xaxis6\":{\"anchor\":\"y6\",\"domain\":[0.39053254437869817,0.45325443786982245],\"title\":{\"text\":\"dropout_4\"}},\"yaxis6\":{\"anchor\":\"x6\",\"domain\":[0.0,1.0],\"matches\":\"y\",\"showticklabels\":false},\"xaxis7\":{\"anchor\":\"y7\",\"domain\":[0.4686390532544378,0.531360946745562],\"title\":{\"text\":\"learning_rate\"},\"type\":\"log\"},\"yaxis7\":{\"anchor\":\"x7\",\"domain\":[0.0,1.0],\"matches\":\"y\",\"showticklabels\":false},\"xaxis8\":{\"anchor\":\"y8\",\"domain\":[0.5467455621301773,0.6094674556213016],\"title\":{\"text\":\"num_layers\"}},\"yaxis8\":{\"anchor\":\"x8\",\"domain\":[0.0,1.0],\"matches\":\"y\",\"showticklabels\":false},\"xaxis9\":{\"anchor\":\"y9\",\"domain\":[0.624852071005917,0.6875739644970412],\"title\":{\"text\":\"units_0\"}},\"yaxis9\":{\"anchor\":\"x9\",\"domain\":[0.0,1.0],\"matches\":\"y\",\"showticklabels\":false},\"xaxis10\":{\"anchor\":\"y10\",\"domain\":[0.7029585798816567,0.7656804733727809],\"title\":{\"text\":\"units_1\"}},\"yaxis10\":{\"anchor\":\"x10\",\"domain\":[0.0,1.0],\"matches\":\"y\",\"showticklabels\":false},\"xaxis11\":{\"anchor\":\"y11\",\"domain\":[0.7810650887573962,0.8437869822485204],\"title\":{\"text\":\"units_2\"}},\"yaxis11\":{\"anchor\":\"x11\",\"domain\":[0.0,1.0],\"matches\":\"y\",\"showticklabels\":false},\"xaxis12\":{\"anchor\":\"y12\",\"domain\":[0.8591715976331358,0.92189349112426],\"title\":{\"text\":\"units_3\"}},\"yaxis12\":{\"anchor\":\"x12\",\"domain\":[0.0,1.0],\"matches\":\"y\",\"showticklabels\":false},\"xaxis13\":{\"anchor\":\"y13\",\"domain\":[0.9372781065088754,0.9999999999999997],\"title\":{\"text\":\"units_4\"}},\"yaxis13\":{\"anchor\":\"x13\",\"domain\":[0.0,1.0],\"matches\":\"y\",\"showticklabels\":false},\"title\":{\"text\":\"Slice Plot\"},\"width\":3900},                        {\"responsive\": true}                    ).then(function(){\n",
              "                            \n",
              "var gd = document.getElementById('592568c1-33ff-48d3-a12d-c66fa9355d32');\n",
              "var x = new MutationObserver(function (mutations, observer) {{\n",
              "        var display = window.getComputedStyle(gd).display;\n",
              "        if (!display || display === 'none') {{\n",
              "            console.log([gd, 'removed!']);\n",
              "            Plotly.purge(gd);\n",
              "            observer.disconnect();\n",
              "        }}\n",
              "}});\n",
              "\n",
              "// Listen for the removal of the full notebook cells\n",
              "var notebookContainer = gd.closest('#notebook-container');\n",
              "if (notebookContainer) {{\n",
              "    x.observe(notebookContainer, {childList: true});\n",
              "}}\n",
              "\n",
              "// Listen for the clearing of the current output cell\n",
              "var outputEl = gd.closest('.output');\n",
              "if (outputEl) {{\n",
              "    x.observe(outputEl, {childList: true});\n",
              "}}\n",
              "\n",
              "                        })                };                            </script>        </div>\n",
              "</body>\n",
              "</html>"
            ]
          },
          "metadata": {}
        }
      ]
    },
    {
      "cell_type": "code",
      "source": [
        "# Generate Optuna parallel coordinate plot\n",
        "fig = optuna.visualization.plot_parallel_coordinate(study)\n",
        "fig.show()"
      ],
      "metadata": {
        "id": "3y-E123BMvOk",
        "colab": {
          "base_uri": "https://localhost:8080/",
          "height": 542
        },
        "outputId": "b350cb01-5deb-478e-b206-15aeef351e49"
      },
      "execution_count": 26,
      "outputs": [
        {
          "output_type": "display_data",
          "data": {
            "text/html": [
              "<html>\n",
              "<head><meta charset=\"utf-8\" /></head>\n",
              "<body>\n",
              "    <div>            <script src=\"https://cdnjs.cloudflare.com/ajax/libs/mathjax/2.7.5/MathJax.js?config=TeX-AMS-MML_SVG\"></script><script type=\"text/javascript\">if (window.MathJax && window.MathJax.Hub && window.MathJax.Hub.Config) {window.MathJax.Hub.Config({SVG: {font: \"STIX-Web\"}});}</script>                <script type=\"text/javascript\">window.PlotlyConfig = {MathJaxConfig: 'local'};</script>\n",
              "        <script charset=\"utf-8\" src=\"https://cdn.plot.ly/plotly-2.24.1.min.js\"></script>                <div id=\"584a5750-d348-4908-9a57-061cea4ebed4\" class=\"plotly-graph-div\" style=\"height:525px; width:100%;\"></div>            <script type=\"text/javascript\">                                    window.PLOTLYENV=window.PLOTLYENV || {};                                    if (document.getElementById(\"584a5750-d348-4908-9a57-061cea4ebed4\")) {                    Plotly.newPlot(                        \"584a5750-d348-4908-9a57-061cea4ebed4\",                        [{\"dimensions\":[{\"label\":\"Objective Value\",\"range\":[0.0006246220436878502,0.0297091044485569],\"values\":[0.0011301698395982385,0.0006246220436878502,0.0297091044485569]},{\"label\":\"batch_size\",\"range\":[0,2],\"ticktext\":[\"32\",\"64\",\"128\"],\"tickvals\":[0,1,2],\"values\":[0,1,2]},{\"label\":\"dropout_0\",\"range\":[0.009364895259948325,0.14901319817996206],\"values\":[0.11691327492136691,0.14901319817996206,0.009364895259948325]},{\"label\":\"dropout_1\",\"range\":[0.22993674236839814,0.418795768849099],\"values\":[0.22993674236839814,0.3512973692180927,0.418795768849099]},{\"label\":\"dropout_2\",\"range\":[0.007805027736574599,0.3247173982203283],\"values\":[0.3247173982203283,0.007805027736574599,0.18816863029690556]},{\"label\":\"dropout_3\",\"range\":[0.050951492367424966,0.4798476135364502],\"values\":[0.4798476135364502,0.31865501158230586,0.050951492367424966]},{\"label\":\"dropout_4\",\"range\":[0.004710200103188789,0.44682600791214355],\"values\":[0.004710200103188789,0.44682600791214355,0.23289962006397374]},{\"label\":\"learning_rate\",\"range\":[-2.3472954354621405,-1.4116284330064937],\"ticktext\":[\"0.00449\",\"0.01\",\"0.0388\"],\"tickvals\":[-2.3472954354621405,-2,-1.4116284330064937],\"values\":[-2.006167481004505,-2.3472954354621405,-1.4116284330064937]},{\"label\":\"num_layers\",\"range\":[5,5],\"values\":[5,5,5]},{\"label\":\"units_0\",\"range\":[143,216],\"values\":[161,143,216]},{\"label\":\"units_1\",\"range\":[54,222],\"values\":[146,54,222]},{\"label\":\"units_2\",\"range\":[75,250],\"values\":[229,250,75]},{\"label\":\"units_3\",\"range\":[51,239],\"values\":[239,51,106]},{\"label\":\"units_4\",\"range\":[58,241],\"values\":[241,58,132]}],\"labelangle\":30,\"labelside\":\"bottom\",\"line\":{\"color\":[0.0011301698395982385,0.0006246220436878502,0.0297091044485569],\"colorbar\":{\"title\":{\"text\":\"Objective Value\"}},\"colorscale\":[[0.0,\"rgb(247,251,255)\"],[0.125,\"rgb(222,235,247)\"],[0.25,\"rgb(198,219,239)\"],[0.375,\"rgb(158,202,225)\"],[0.5,\"rgb(107,174,214)\"],[0.625,\"rgb(66,146,198)\"],[0.75,\"rgb(33,113,181)\"],[0.875,\"rgb(8,81,156)\"],[1.0,\"rgb(8,48,107)\"]],\"reversescale\":true,\"showscale\":true},\"type\":\"parcoords\"}],                        {\"title\":{\"text\":\"Parallel Coordinate Plot\"},\"template\":{\"data\":{\"histogram2dcontour\":[{\"type\":\"histogram2dcontour\",\"colorbar\":{\"outlinewidth\":0,\"ticks\":\"\"},\"colorscale\":[[0.0,\"#0d0887\"],[0.1111111111111111,\"#46039f\"],[0.2222222222222222,\"#7201a8\"],[0.3333333333333333,\"#9c179e\"],[0.4444444444444444,\"#bd3786\"],[0.5555555555555556,\"#d8576b\"],[0.6666666666666666,\"#ed7953\"],[0.7777777777777778,\"#fb9f3a\"],[0.8888888888888888,\"#fdca26\"],[1.0,\"#f0f921\"]]}],\"choropleth\":[{\"type\":\"choropleth\",\"colorbar\":{\"outlinewidth\":0,\"ticks\":\"\"}}],\"histogram2d\":[{\"type\":\"histogram2d\",\"colorbar\":{\"outlinewidth\":0,\"ticks\":\"\"},\"colorscale\":[[0.0,\"#0d0887\"],[0.1111111111111111,\"#46039f\"],[0.2222222222222222,\"#7201a8\"],[0.3333333333333333,\"#9c179e\"],[0.4444444444444444,\"#bd3786\"],[0.5555555555555556,\"#d8576b\"],[0.6666666666666666,\"#ed7953\"],[0.7777777777777778,\"#fb9f3a\"],[0.8888888888888888,\"#fdca26\"],[1.0,\"#f0f921\"]]}],\"heatmap\":[{\"type\":\"heatmap\",\"colorbar\":{\"outlinewidth\":0,\"ticks\":\"\"},\"colorscale\":[[0.0,\"#0d0887\"],[0.1111111111111111,\"#46039f\"],[0.2222222222222222,\"#7201a8\"],[0.3333333333333333,\"#9c179e\"],[0.4444444444444444,\"#bd3786\"],[0.5555555555555556,\"#d8576b\"],[0.6666666666666666,\"#ed7953\"],[0.7777777777777778,\"#fb9f3a\"],[0.8888888888888888,\"#fdca26\"],[1.0,\"#f0f921\"]]}],\"heatmapgl\":[{\"type\":\"heatmapgl\",\"colorbar\":{\"outlinewidth\":0,\"ticks\":\"\"},\"colorscale\":[[0.0,\"#0d0887\"],[0.1111111111111111,\"#46039f\"],[0.2222222222222222,\"#7201a8\"],[0.3333333333333333,\"#9c179e\"],[0.4444444444444444,\"#bd3786\"],[0.5555555555555556,\"#d8576b\"],[0.6666666666666666,\"#ed7953\"],[0.7777777777777778,\"#fb9f3a\"],[0.8888888888888888,\"#fdca26\"],[1.0,\"#f0f921\"]]}],\"contourcarpet\":[{\"type\":\"contourcarpet\",\"colorbar\":{\"outlinewidth\":0,\"ticks\":\"\"}}],\"contour\":[{\"type\":\"contour\",\"colorbar\":{\"outlinewidth\":0,\"ticks\":\"\"},\"colorscale\":[[0.0,\"#0d0887\"],[0.1111111111111111,\"#46039f\"],[0.2222222222222222,\"#7201a8\"],[0.3333333333333333,\"#9c179e\"],[0.4444444444444444,\"#bd3786\"],[0.5555555555555556,\"#d8576b\"],[0.6666666666666666,\"#ed7953\"],[0.7777777777777778,\"#fb9f3a\"],[0.8888888888888888,\"#fdca26\"],[1.0,\"#f0f921\"]]}],\"surface\":[{\"type\":\"surface\",\"colorbar\":{\"outlinewidth\":0,\"ticks\":\"\"},\"colorscale\":[[0.0,\"#0d0887\"],[0.1111111111111111,\"#46039f\"],[0.2222222222222222,\"#7201a8\"],[0.3333333333333333,\"#9c179e\"],[0.4444444444444444,\"#bd3786\"],[0.5555555555555556,\"#d8576b\"],[0.6666666666666666,\"#ed7953\"],[0.7777777777777778,\"#fb9f3a\"],[0.8888888888888888,\"#fdca26\"],[1.0,\"#f0f921\"]]}],\"mesh3d\":[{\"type\":\"mesh3d\",\"colorbar\":{\"outlinewidth\":0,\"ticks\":\"\"}}],\"scatter\":[{\"fillpattern\":{\"fillmode\":\"overlay\",\"size\":10,\"solidity\":0.2},\"type\":\"scatter\"}],\"parcoords\":[{\"type\":\"parcoords\",\"line\":{\"colorbar\":{\"outlinewidth\":0,\"ticks\":\"\"}}}],\"scatterpolargl\":[{\"type\":\"scatterpolargl\",\"marker\":{\"colorbar\":{\"outlinewidth\":0,\"ticks\":\"\"}}}],\"bar\":[{\"error_x\":{\"color\":\"#2a3f5f\"},\"error_y\":{\"color\":\"#2a3f5f\"},\"marker\":{\"line\":{\"color\":\"#E5ECF6\",\"width\":0.5},\"pattern\":{\"fillmode\":\"overlay\",\"size\":10,\"solidity\":0.2}},\"type\":\"bar\"}],\"scattergeo\":[{\"type\":\"scattergeo\",\"marker\":{\"colorbar\":{\"outlinewidth\":0,\"ticks\":\"\"}}}],\"scatterpolar\":[{\"type\":\"scatterpolar\",\"marker\":{\"colorbar\":{\"outlinewidth\":0,\"ticks\":\"\"}}}],\"histogram\":[{\"marker\":{\"pattern\":{\"fillmode\":\"overlay\",\"size\":10,\"solidity\":0.2}},\"type\":\"histogram\"}],\"scattergl\":[{\"type\":\"scattergl\",\"marker\":{\"colorbar\":{\"outlinewidth\":0,\"ticks\":\"\"}}}],\"scatter3d\":[{\"type\":\"scatter3d\",\"line\":{\"colorbar\":{\"outlinewidth\":0,\"ticks\":\"\"}},\"marker\":{\"colorbar\":{\"outlinewidth\":0,\"ticks\":\"\"}}}],\"scattermapbox\":[{\"type\":\"scattermapbox\",\"marker\":{\"colorbar\":{\"outlinewidth\":0,\"ticks\":\"\"}}}],\"scatterternary\":[{\"type\":\"scatterternary\",\"marker\":{\"colorbar\":{\"outlinewidth\":0,\"ticks\":\"\"}}}],\"scattercarpet\":[{\"type\":\"scattercarpet\",\"marker\":{\"colorbar\":{\"outlinewidth\":0,\"ticks\":\"\"}}}],\"carpet\":[{\"aaxis\":{\"endlinecolor\":\"#2a3f5f\",\"gridcolor\":\"white\",\"linecolor\":\"white\",\"minorgridcolor\":\"white\",\"startlinecolor\":\"#2a3f5f\"},\"baxis\":{\"endlinecolor\":\"#2a3f5f\",\"gridcolor\":\"white\",\"linecolor\":\"white\",\"minorgridcolor\":\"white\",\"startlinecolor\":\"#2a3f5f\"},\"type\":\"carpet\"}],\"table\":[{\"cells\":{\"fill\":{\"color\":\"#EBF0F8\"},\"line\":{\"color\":\"white\"}},\"header\":{\"fill\":{\"color\":\"#C8D4E3\"},\"line\":{\"color\":\"white\"}},\"type\":\"table\"}],\"barpolar\":[{\"marker\":{\"line\":{\"color\":\"#E5ECF6\",\"width\":0.5},\"pattern\":{\"fillmode\":\"overlay\",\"size\":10,\"solidity\":0.2}},\"type\":\"barpolar\"}],\"pie\":[{\"automargin\":true,\"type\":\"pie\"}]},\"layout\":{\"autotypenumbers\":\"strict\",\"colorway\":[\"#636efa\",\"#EF553B\",\"#00cc96\",\"#ab63fa\",\"#FFA15A\",\"#19d3f3\",\"#FF6692\",\"#B6E880\",\"#FF97FF\",\"#FECB52\"],\"font\":{\"color\":\"#2a3f5f\"},\"hovermode\":\"closest\",\"hoverlabel\":{\"align\":\"left\"},\"paper_bgcolor\":\"white\",\"plot_bgcolor\":\"#E5ECF6\",\"polar\":{\"bgcolor\":\"#E5ECF6\",\"angularaxis\":{\"gridcolor\":\"white\",\"linecolor\":\"white\",\"ticks\":\"\"},\"radialaxis\":{\"gridcolor\":\"white\",\"linecolor\":\"white\",\"ticks\":\"\"}},\"ternary\":{\"bgcolor\":\"#E5ECF6\",\"aaxis\":{\"gridcolor\":\"white\",\"linecolor\":\"white\",\"ticks\":\"\"},\"baxis\":{\"gridcolor\":\"white\",\"linecolor\":\"white\",\"ticks\":\"\"},\"caxis\":{\"gridcolor\":\"white\",\"linecolor\":\"white\",\"ticks\":\"\"}},\"coloraxis\":{\"colorbar\":{\"outlinewidth\":0,\"ticks\":\"\"}},\"colorscale\":{\"sequential\":[[0.0,\"#0d0887\"],[0.1111111111111111,\"#46039f\"],[0.2222222222222222,\"#7201a8\"],[0.3333333333333333,\"#9c179e\"],[0.4444444444444444,\"#bd3786\"],[0.5555555555555556,\"#d8576b\"],[0.6666666666666666,\"#ed7953\"],[0.7777777777777778,\"#fb9f3a\"],[0.8888888888888888,\"#fdca26\"],[1.0,\"#f0f921\"]],\"sequentialminus\":[[0.0,\"#0d0887\"],[0.1111111111111111,\"#46039f\"],[0.2222222222222222,\"#7201a8\"],[0.3333333333333333,\"#9c179e\"],[0.4444444444444444,\"#bd3786\"],[0.5555555555555556,\"#d8576b\"],[0.6666666666666666,\"#ed7953\"],[0.7777777777777778,\"#fb9f3a\"],[0.8888888888888888,\"#fdca26\"],[1.0,\"#f0f921\"]],\"diverging\":[[0,\"#8e0152\"],[0.1,\"#c51b7d\"],[0.2,\"#de77ae\"],[0.3,\"#f1b6da\"],[0.4,\"#fde0ef\"],[0.5,\"#f7f7f7\"],[0.6,\"#e6f5d0\"],[0.7,\"#b8e186\"],[0.8,\"#7fbc41\"],[0.9,\"#4d9221\"],[1,\"#276419\"]]},\"xaxis\":{\"gridcolor\":\"white\",\"linecolor\":\"white\",\"ticks\":\"\",\"title\":{\"standoff\":15},\"zerolinecolor\":\"white\",\"automargin\":true,\"zerolinewidth\":2},\"yaxis\":{\"gridcolor\":\"white\",\"linecolor\":\"white\",\"ticks\":\"\",\"title\":{\"standoff\":15},\"zerolinecolor\":\"white\",\"automargin\":true,\"zerolinewidth\":2},\"scene\":{\"xaxis\":{\"backgroundcolor\":\"#E5ECF6\",\"gridcolor\":\"white\",\"linecolor\":\"white\",\"showbackground\":true,\"ticks\":\"\",\"zerolinecolor\":\"white\",\"gridwidth\":2},\"yaxis\":{\"backgroundcolor\":\"#E5ECF6\",\"gridcolor\":\"white\",\"linecolor\":\"white\",\"showbackground\":true,\"ticks\":\"\",\"zerolinecolor\":\"white\",\"gridwidth\":2},\"zaxis\":{\"backgroundcolor\":\"#E5ECF6\",\"gridcolor\":\"white\",\"linecolor\":\"white\",\"showbackground\":true,\"ticks\":\"\",\"zerolinecolor\":\"white\",\"gridwidth\":2}},\"shapedefaults\":{\"line\":{\"color\":\"#2a3f5f\"}},\"annotationdefaults\":{\"arrowcolor\":\"#2a3f5f\",\"arrowhead\":0,\"arrowwidth\":1},\"geo\":{\"bgcolor\":\"white\",\"landcolor\":\"#E5ECF6\",\"subunitcolor\":\"white\",\"showland\":true,\"showlakes\":true,\"lakecolor\":\"white\"},\"title\":{\"x\":0.05},\"mapbox\":{\"style\":\"light\"}}}},                        {\"responsive\": true}                    ).then(function(){\n",
              "                            \n",
              "var gd = document.getElementById('584a5750-d348-4908-9a57-061cea4ebed4');\n",
              "var x = new MutationObserver(function (mutations, observer) {{\n",
              "        var display = window.getComputedStyle(gd).display;\n",
              "        if (!display || display === 'none') {{\n",
              "            console.log([gd, 'removed!']);\n",
              "            Plotly.purge(gd);\n",
              "            observer.disconnect();\n",
              "        }}\n",
              "}});\n",
              "\n",
              "// Listen for the removal of the full notebook cells\n",
              "var notebookContainer = gd.closest('#notebook-container');\n",
              "if (notebookContainer) {{\n",
              "    x.observe(notebookContainer, {childList: true});\n",
              "}}\n",
              "\n",
              "// Listen for the clearing of the current output cell\n",
              "var outputEl = gd.closest('.output');\n",
              "if (outputEl) {{\n",
              "    x.observe(outputEl, {childList: true});\n",
              "}}\n",
              "\n",
              "                        })                };                            </script>        </div>\n",
              "</body>\n",
              "</html>"
            ]
          },
          "metadata": {}
        }
      ]
    },
    {
      "cell_type": "code",
      "source": [
        "# Generate Optuna parameter importance plot\n",
        "fig = optuna.visualization.plot_param_importances(study)\n",
        "fig.show()"
      ],
      "metadata": {
        "id": "RI875AzOgFMF",
        "colab": {
          "base_uri": "https://localhost:8080/",
          "height": 542
        },
        "outputId": "59ea7b15-9451-4e0a-936d-dccc21f4ee1e"
      },
      "execution_count": 27,
      "outputs": [
        {
          "output_type": "display_data",
          "data": {
            "text/html": [
              "<html>\n",
              "<head><meta charset=\"utf-8\" /></head>\n",
              "<body>\n",
              "    <div>            <script src=\"https://cdnjs.cloudflare.com/ajax/libs/mathjax/2.7.5/MathJax.js?config=TeX-AMS-MML_SVG\"></script><script type=\"text/javascript\">if (window.MathJax && window.MathJax.Hub && window.MathJax.Hub.Config) {window.MathJax.Hub.Config({SVG: {font: \"STIX-Web\"}});}</script>                <script type=\"text/javascript\">window.PlotlyConfig = {MathJaxConfig: 'local'};</script>\n",
              "        <script charset=\"utf-8\" src=\"https://cdn.plot.ly/plotly-2.24.1.min.js\"></script>                <div id=\"3ae00e8c-1be5-422b-b206-9ad72cf219c4\" class=\"plotly-graph-div\" style=\"height:525px; width:100%;\"></div>            <script type=\"text/javascript\">                                    window.PLOTLYENV=window.PLOTLYENV || {};                                    if (document.getElementById(\"3ae00e8c-1be5-422b-b206-9ad72cf219c4\")) {                    Plotly.newPlot(                        \"3ae00e8c-1be5-422b-b206-9ad72cf219c4\",                        [{\"cliponaxis\":false,\"hovertemplate\":[\"units_0 (IntDistribution): 0.05127532977540279\\u003cextra\\u003e\\u003c\\u002fextra\\u003e\",\"num_layers (IntDistribution): 0.05234580248327589\\u003cextra\\u003e\\u003c\\u002fextra\\u003e\",\"batch_size (CategoricalDistribution): 0.05958769328940535\\u003cextra\\u003e\\u003c\\u002fextra\\u003e\",\"dropout_0 (FloatDistribution): 0.08124742450056728\\u003cextra\\u003e\\u003c\\u002fextra\\u003e\",\"learning_rate (FloatDistribution): 0.7555437499513487\\u003cextra\\u003e\\u003c\\u002fextra\\u003e\"],\"name\":\"Objective Value\",\"orientation\":\"h\",\"text\":[\"0.05\",\"0.05\",\"0.06\",\"0.08\",\"0.76\"],\"textposition\":\"outside\",\"x\":[0.05127532977540279,0.05234580248327589,0.05958769328940535,0.08124742450056728,0.7555437499513487],\"y\":[\"units_0\",\"num_layers\",\"batch_size\",\"dropout_0\",\"learning_rate\"],\"type\":\"bar\"}],                        {\"title\":{\"text\":\"Hyperparameter Importances\"},\"xaxis\":{\"title\":{\"text\":\"Hyperparameter Importance\"}},\"yaxis\":{\"title\":{\"text\":\"Hyperparameter\"}},\"template\":{\"data\":{\"histogram2dcontour\":[{\"type\":\"histogram2dcontour\",\"colorbar\":{\"outlinewidth\":0,\"ticks\":\"\"},\"colorscale\":[[0.0,\"#0d0887\"],[0.1111111111111111,\"#46039f\"],[0.2222222222222222,\"#7201a8\"],[0.3333333333333333,\"#9c179e\"],[0.4444444444444444,\"#bd3786\"],[0.5555555555555556,\"#d8576b\"],[0.6666666666666666,\"#ed7953\"],[0.7777777777777778,\"#fb9f3a\"],[0.8888888888888888,\"#fdca26\"],[1.0,\"#f0f921\"]]}],\"choropleth\":[{\"type\":\"choropleth\",\"colorbar\":{\"outlinewidth\":0,\"ticks\":\"\"}}],\"histogram2d\":[{\"type\":\"histogram2d\",\"colorbar\":{\"outlinewidth\":0,\"ticks\":\"\"},\"colorscale\":[[0.0,\"#0d0887\"],[0.1111111111111111,\"#46039f\"],[0.2222222222222222,\"#7201a8\"],[0.3333333333333333,\"#9c179e\"],[0.4444444444444444,\"#bd3786\"],[0.5555555555555556,\"#d8576b\"],[0.6666666666666666,\"#ed7953\"],[0.7777777777777778,\"#fb9f3a\"],[0.8888888888888888,\"#fdca26\"],[1.0,\"#f0f921\"]]}],\"heatmap\":[{\"type\":\"heatmap\",\"colorbar\":{\"outlinewidth\":0,\"ticks\":\"\"},\"colorscale\":[[0.0,\"#0d0887\"],[0.1111111111111111,\"#46039f\"],[0.2222222222222222,\"#7201a8\"],[0.3333333333333333,\"#9c179e\"],[0.4444444444444444,\"#bd3786\"],[0.5555555555555556,\"#d8576b\"],[0.6666666666666666,\"#ed7953\"],[0.7777777777777778,\"#fb9f3a\"],[0.8888888888888888,\"#fdca26\"],[1.0,\"#f0f921\"]]}],\"heatmapgl\":[{\"type\":\"heatmapgl\",\"colorbar\":{\"outlinewidth\":0,\"ticks\":\"\"},\"colorscale\":[[0.0,\"#0d0887\"],[0.1111111111111111,\"#46039f\"],[0.2222222222222222,\"#7201a8\"],[0.3333333333333333,\"#9c179e\"],[0.4444444444444444,\"#bd3786\"],[0.5555555555555556,\"#d8576b\"],[0.6666666666666666,\"#ed7953\"],[0.7777777777777778,\"#fb9f3a\"],[0.8888888888888888,\"#fdca26\"],[1.0,\"#f0f921\"]]}],\"contourcarpet\":[{\"type\":\"contourcarpet\",\"colorbar\":{\"outlinewidth\":0,\"ticks\":\"\"}}],\"contour\":[{\"type\":\"contour\",\"colorbar\":{\"outlinewidth\":0,\"ticks\":\"\"},\"colorscale\":[[0.0,\"#0d0887\"],[0.1111111111111111,\"#46039f\"],[0.2222222222222222,\"#7201a8\"],[0.3333333333333333,\"#9c179e\"],[0.4444444444444444,\"#bd3786\"],[0.5555555555555556,\"#d8576b\"],[0.6666666666666666,\"#ed7953\"],[0.7777777777777778,\"#fb9f3a\"],[0.8888888888888888,\"#fdca26\"],[1.0,\"#f0f921\"]]}],\"surface\":[{\"type\":\"surface\",\"colorbar\":{\"outlinewidth\":0,\"ticks\":\"\"},\"colorscale\":[[0.0,\"#0d0887\"],[0.1111111111111111,\"#46039f\"],[0.2222222222222222,\"#7201a8\"],[0.3333333333333333,\"#9c179e\"],[0.4444444444444444,\"#bd3786\"],[0.5555555555555556,\"#d8576b\"],[0.6666666666666666,\"#ed7953\"],[0.7777777777777778,\"#fb9f3a\"],[0.8888888888888888,\"#fdca26\"],[1.0,\"#f0f921\"]]}],\"mesh3d\":[{\"type\":\"mesh3d\",\"colorbar\":{\"outlinewidth\":0,\"ticks\":\"\"}}],\"scatter\":[{\"fillpattern\":{\"fillmode\":\"overlay\",\"size\":10,\"solidity\":0.2},\"type\":\"scatter\"}],\"parcoords\":[{\"type\":\"parcoords\",\"line\":{\"colorbar\":{\"outlinewidth\":0,\"ticks\":\"\"}}}],\"scatterpolargl\":[{\"type\":\"scatterpolargl\",\"marker\":{\"colorbar\":{\"outlinewidth\":0,\"ticks\":\"\"}}}],\"bar\":[{\"error_x\":{\"color\":\"#2a3f5f\"},\"error_y\":{\"color\":\"#2a3f5f\"},\"marker\":{\"line\":{\"color\":\"#E5ECF6\",\"width\":0.5},\"pattern\":{\"fillmode\":\"overlay\",\"size\":10,\"solidity\":0.2}},\"type\":\"bar\"}],\"scattergeo\":[{\"type\":\"scattergeo\",\"marker\":{\"colorbar\":{\"outlinewidth\":0,\"ticks\":\"\"}}}],\"scatterpolar\":[{\"type\":\"scatterpolar\",\"marker\":{\"colorbar\":{\"outlinewidth\":0,\"ticks\":\"\"}}}],\"histogram\":[{\"marker\":{\"pattern\":{\"fillmode\":\"overlay\",\"size\":10,\"solidity\":0.2}},\"type\":\"histogram\"}],\"scattergl\":[{\"type\":\"scattergl\",\"marker\":{\"colorbar\":{\"outlinewidth\":0,\"ticks\":\"\"}}}],\"scatter3d\":[{\"type\":\"scatter3d\",\"line\":{\"colorbar\":{\"outlinewidth\":0,\"ticks\":\"\"}},\"marker\":{\"colorbar\":{\"outlinewidth\":0,\"ticks\":\"\"}}}],\"scattermapbox\":[{\"type\":\"scattermapbox\",\"marker\":{\"colorbar\":{\"outlinewidth\":0,\"ticks\":\"\"}}}],\"scatterternary\":[{\"type\":\"scatterternary\",\"marker\":{\"colorbar\":{\"outlinewidth\":0,\"ticks\":\"\"}}}],\"scattercarpet\":[{\"type\":\"scattercarpet\",\"marker\":{\"colorbar\":{\"outlinewidth\":0,\"ticks\":\"\"}}}],\"carpet\":[{\"aaxis\":{\"endlinecolor\":\"#2a3f5f\",\"gridcolor\":\"white\",\"linecolor\":\"white\",\"minorgridcolor\":\"white\",\"startlinecolor\":\"#2a3f5f\"},\"baxis\":{\"endlinecolor\":\"#2a3f5f\",\"gridcolor\":\"white\",\"linecolor\":\"white\",\"minorgridcolor\":\"white\",\"startlinecolor\":\"#2a3f5f\"},\"type\":\"carpet\"}],\"table\":[{\"cells\":{\"fill\":{\"color\":\"#EBF0F8\"},\"line\":{\"color\":\"white\"}},\"header\":{\"fill\":{\"color\":\"#C8D4E3\"},\"line\":{\"color\":\"white\"}},\"type\":\"table\"}],\"barpolar\":[{\"marker\":{\"line\":{\"color\":\"#E5ECF6\",\"width\":0.5},\"pattern\":{\"fillmode\":\"overlay\",\"size\":10,\"solidity\":0.2}},\"type\":\"barpolar\"}],\"pie\":[{\"automargin\":true,\"type\":\"pie\"}]},\"layout\":{\"autotypenumbers\":\"strict\",\"colorway\":[\"#636efa\",\"#EF553B\",\"#00cc96\",\"#ab63fa\",\"#FFA15A\",\"#19d3f3\",\"#FF6692\",\"#B6E880\",\"#FF97FF\",\"#FECB52\"],\"font\":{\"color\":\"#2a3f5f\"},\"hovermode\":\"closest\",\"hoverlabel\":{\"align\":\"left\"},\"paper_bgcolor\":\"white\",\"plot_bgcolor\":\"#E5ECF6\",\"polar\":{\"bgcolor\":\"#E5ECF6\",\"angularaxis\":{\"gridcolor\":\"white\",\"linecolor\":\"white\",\"ticks\":\"\"},\"radialaxis\":{\"gridcolor\":\"white\",\"linecolor\":\"white\",\"ticks\":\"\"}},\"ternary\":{\"bgcolor\":\"#E5ECF6\",\"aaxis\":{\"gridcolor\":\"white\",\"linecolor\":\"white\",\"ticks\":\"\"},\"baxis\":{\"gridcolor\":\"white\",\"linecolor\":\"white\",\"ticks\":\"\"},\"caxis\":{\"gridcolor\":\"white\",\"linecolor\":\"white\",\"ticks\":\"\"}},\"coloraxis\":{\"colorbar\":{\"outlinewidth\":0,\"ticks\":\"\"}},\"colorscale\":{\"sequential\":[[0.0,\"#0d0887\"],[0.1111111111111111,\"#46039f\"],[0.2222222222222222,\"#7201a8\"],[0.3333333333333333,\"#9c179e\"],[0.4444444444444444,\"#bd3786\"],[0.5555555555555556,\"#d8576b\"],[0.6666666666666666,\"#ed7953\"],[0.7777777777777778,\"#fb9f3a\"],[0.8888888888888888,\"#fdca26\"],[1.0,\"#f0f921\"]],\"sequentialminus\":[[0.0,\"#0d0887\"],[0.1111111111111111,\"#46039f\"],[0.2222222222222222,\"#7201a8\"],[0.3333333333333333,\"#9c179e\"],[0.4444444444444444,\"#bd3786\"],[0.5555555555555556,\"#d8576b\"],[0.6666666666666666,\"#ed7953\"],[0.7777777777777778,\"#fb9f3a\"],[0.8888888888888888,\"#fdca26\"],[1.0,\"#f0f921\"]],\"diverging\":[[0,\"#8e0152\"],[0.1,\"#c51b7d\"],[0.2,\"#de77ae\"],[0.3,\"#f1b6da\"],[0.4,\"#fde0ef\"],[0.5,\"#f7f7f7\"],[0.6,\"#e6f5d0\"],[0.7,\"#b8e186\"],[0.8,\"#7fbc41\"],[0.9,\"#4d9221\"],[1,\"#276419\"]]},\"xaxis\":{\"gridcolor\":\"white\",\"linecolor\":\"white\",\"ticks\":\"\",\"title\":{\"standoff\":15},\"zerolinecolor\":\"white\",\"automargin\":true,\"zerolinewidth\":2},\"yaxis\":{\"gridcolor\":\"white\",\"linecolor\":\"white\",\"ticks\":\"\",\"title\":{\"standoff\":15},\"zerolinecolor\":\"white\",\"automargin\":true,\"zerolinewidth\":2},\"scene\":{\"xaxis\":{\"backgroundcolor\":\"#E5ECF6\",\"gridcolor\":\"white\",\"linecolor\":\"white\",\"showbackground\":true,\"ticks\":\"\",\"zerolinecolor\":\"white\",\"gridwidth\":2},\"yaxis\":{\"backgroundcolor\":\"#E5ECF6\",\"gridcolor\":\"white\",\"linecolor\":\"white\",\"showbackground\":true,\"ticks\":\"\",\"zerolinecolor\":\"white\",\"gridwidth\":2},\"zaxis\":{\"backgroundcolor\":\"#E5ECF6\",\"gridcolor\":\"white\",\"linecolor\":\"white\",\"showbackground\":true,\"ticks\":\"\",\"zerolinecolor\":\"white\",\"gridwidth\":2}},\"shapedefaults\":{\"line\":{\"color\":\"#2a3f5f\"}},\"annotationdefaults\":{\"arrowcolor\":\"#2a3f5f\",\"arrowhead\":0,\"arrowwidth\":1},\"geo\":{\"bgcolor\":\"white\",\"landcolor\":\"#E5ECF6\",\"subunitcolor\":\"white\",\"showland\":true,\"showlakes\":true,\"lakecolor\":\"white\"},\"title\":{\"x\":0.05},\"mapbox\":{\"style\":\"light\"}}}},                        {\"responsive\": true}                    ).then(function(){\n",
              "                            \n",
              "var gd = document.getElementById('3ae00e8c-1be5-422b-b206-9ad72cf219c4');\n",
              "var x = new MutationObserver(function (mutations, observer) {{\n",
              "        var display = window.getComputedStyle(gd).display;\n",
              "        if (!display || display === 'none') {{\n",
              "            console.log([gd, 'removed!']);\n",
              "            Plotly.purge(gd);\n",
              "            observer.disconnect();\n",
              "        }}\n",
              "}});\n",
              "\n",
              "// Listen for the removal of the full notebook cells\n",
              "var notebookContainer = gd.closest('#notebook-container');\n",
              "if (notebookContainer) {{\n",
              "    x.observe(notebookContainer, {childList: true});\n",
              "}}\n",
              "\n",
              "// Listen for the clearing of the current output cell\n",
              "var outputEl = gd.closest('.output');\n",
              "if (outputEl) {{\n",
              "    x.observe(outputEl, {childList: true});\n",
              "}}\n",
              "\n",
              "                        })                };                            </script>        </div>\n",
              "</body>\n",
              "</html>"
            ]
          },
          "metadata": {}
        }
      ]
    },
    {
      "cell_type": "code",
      "source": [
        "# Generate Optuna parameter importance plot\n",
        "fig = optuna.visualization.plot_contour(study, ['num_layers', 'units_0'])\n",
        "\n",
        "fig.show()"
      ],
      "metadata": {
        "colab": {
          "base_uri": "https://localhost:8080/",
          "height": 542
        },
        "id": "hVxKdjN37OeC",
        "outputId": "a3a23e7d-e324-42e7-aa28-281b3ea08c38"
      },
      "execution_count": 28,
      "outputs": [
        {
          "output_type": "display_data",
          "data": {
            "text/html": [
              "<html>\n",
              "<head><meta charset=\"utf-8\" /></head>\n",
              "<body>\n",
              "    <div>            <script src=\"https://cdnjs.cloudflare.com/ajax/libs/mathjax/2.7.5/MathJax.js?config=TeX-AMS-MML_SVG\"></script><script type=\"text/javascript\">if (window.MathJax && window.MathJax.Hub && window.MathJax.Hub.Config) {window.MathJax.Hub.Config({SVG: {font: \"STIX-Web\"}});}</script>                <script type=\"text/javascript\">window.PlotlyConfig = {MathJaxConfig: 'local'};</script>\n",
              "        <script charset=\"utf-8\" src=\"https://cdn.plot.ly/plotly-2.24.1.min.js\"></script>                <div id=\"9c6e3be6-29e0-4aa4-a365-646da6524b79\" class=\"plotly-graph-div\" style=\"height:525px; width:100%;\"></div>            <script type=\"text/javascript\">                                    window.PLOTLYENV=window.PLOTLYENV || {};                                    if (document.getElementById(\"9c6e3be6-29e0-4aa4-a365-646da6524b79\")) {                    Plotly.newPlot(                        \"9c6e3be6-29e0-4aa4-a365-646da6524b79\",                        [{\"colorbar\":{\"title\":{\"text\":\"Objective Value\"}},\"colorscale\":[[0.0,\"rgb(247,251,255)\"],[0.125,\"rgb(222,235,247)\"],[0.25,\"rgb(198,219,239)\"],[0.375,\"rgb(158,202,225)\"],[0.5,\"rgb(107,174,214)\"],[0.625,\"rgb(66,146,198)\"],[0.75,\"rgb(33,113,181)\"],[0.875,\"rgb(8,81,156)\"],[1.0,\"rgb(8,48,107)\"]],\"connectgaps\":true,\"contours\":{\"coloring\":\"heatmap\"},\"hoverinfo\":\"none\",\"line\":{\"smoothing\":1.3},\"reversescale\":true,\"x\":[0.8,1,3,5,5.2],\"y\":[41.45,51,72,81,115,121,122,137,143,161,163,170,177,178,187,188,202,216,217,241,242,251.55],\"z\":[[null,null,null,null,null],[null,0.00033818563679233193,null,null,null],[null,0.0006029267678968608,null,null,null],[null,0.0003460161969996989,null,null,null],[null,null,0.0006219212664291263,null,null],[null,null,0.028522470965981483,null,null],[null,null,0.0005386135308071971,null,null],[null,null,0.0005185382906347513,null,null],[null,null,null,0.0006246220436878502,null],[null,null,null,0.0011301698395982385,null],[null,0.00014689260569866747,null,null,null],[null,0.0004333267279434949,null,null,null],[null,0.00012625484669115394,null,null,null],[null,0.00013234901416581124,null,null,null],[null,null,0.0005483868299052119,null,null],[null,0.0004098269564565271,null,null,null],[null,0.0008158205891959369,null,null,null],[null,null,null,0.0297091044485569,null],[null,0.00043523573549464345,null,null,null],[null,null,0.012126602232456207,null,null],[null,null,0.001084216171875596,null,null],[null,null,null,null,null]],\"type\":\"contour\"},{\"marker\":{\"color\":\"black\",\"line\":{\"color\":\"Gray\",\"width\":2.0}},\"mode\":\"markers\",\"name\":\"Feasible Trial\",\"showlegend\":false,\"x\":[3,5,3,3,3,3,3,1,3,1,1,5,1,1,1,1,1,1,1,5],\"y\":[137,216,241,121,187,122,242,202,115,177,72,161,163,170,81,178,188,51,217,143],\"type\":\"scatter\"},{\"marker\":{\"color\":\"#cccccc\",\"line\":{\"color\":\"Gray\",\"width\":2.0}},\"mode\":\"markers\",\"name\":\"Infeasible Trial\",\"showlegend\":false,\"x\":[],\"y\":[],\"type\":\"scatter\"}],                        {\"title\":{\"text\":\"Contour Plot\"},\"template\":{\"data\":{\"histogram2dcontour\":[{\"type\":\"histogram2dcontour\",\"colorbar\":{\"outlinewidth\":0,\"ticks\":\"\"},\"colorscale\":[[0.0,\"#0d0887\"],[0.1111111111111111,\"#46039f\"],[0.2222222222222222,\"#7201a8\"],[0.3333333333333333,\"#9c179e\"],[0.4444444444444444,\"#bd3786\"],[0.5555555555555556,\"#d8576b\"],[0.6666666666666666,\"#ed7953\"],[0.7777777777777778,\"#fb9f3a\"],[0.8888888888888888,\"#fdca26\"],[1.0,\"#f0f921\"]]}],\"choropleth\":[{\"type\":\"choropleth\",\"colorbar\":{\"outlinewidth\":0,\"ticks\":\"\"}}],\"histogram2d\":[{\"type\":\"histogram2d\",\"colorbar\":{\"outlinewidth\":0,\"ticks\":\"\"},\"colorscale\":[[0.0,\"#0d0887\"],[0.1111111111111111,\"#46039f\"],[0.2222222222222222,\"#7201a8\"],[0.3333333333333333,\"#9c179e\"],[0.4444444444444444,\"#bd3786\"],[0.5555555555555556,\"#d8576b\"],[0.6666666666666666,\"#ed7953\"],[0.7777777777777778,\"#fb9f3a\"],[0.8888888888888888,\"#fdca26\"],[1.0,\"#f0f921\"]]}],\"heatmap\":[{\"type\":\"heatmap\",\"colorbar\":{\"outlinewidth\":0,\"ticks\":\"\"},\"colorscale\":[[0.0,\"#0d0887\"],[0.1111111111111111,\"#46039f\"],[0.2222222222222222,\"#7201a8\"],[0.3333333333333333,\"#9c179e\"],[0.4444444444444444,\"#bd3786\"],[0.5555555555555556,\"#d8576b\"],[0.6666666666666666,\"#ed7953\"],[0.7777777777777778,\"#fb9f3a\"],[0.8888888888888888,\"#fdca26\"],[1.0,\"#f0f921\"]]}],\"heatmapgl\":[{\"type\":\"heatmapgl\",\"colorbar\":{\"outlinewidth\":0,\"ticks\":\"\"},\"colorscale\":[[0.0,\"#0d0887\"],[0.1111111111111111,\"#46039f\"],[0.2222222222222222,\"#7201a8\"],[0.3333333333333333,\"#9c179e\"],[0.4444444444444444,\"#bd3786\"],[0.5555555555555556,\"#d8576b\"],[0.6666666666666666,\"#ed7953\"],[0.7777777777777778,\"#fb9f3a\"],[0.8888888888888888,\"#fdca26\"],[1.0,\"#f0f921\"]]}],\"contourcarpet\":[{\"type\":\"contourcarpet\",\"colorbar\":{\"outlinewidth\":0,\"ticks\":\"\"}}],\"contour\":[{\"type\":\"contour\",\"colorbar\":{\"outlinewidth\":0,\"ticks\":\"\"},\"colorscale\":[[0.0,\"#0d0887\"],[0.1111111111111111,\"#46039f\"],[0.2222222222222222,\"#7201a8\"],[0.3333333333333333,\"#9c179e\"],[0.4444444444444444,\"#bd3786\"],[0.5555555555555556,\"#d8576b\"],[0.6666666666666666,\"#ed7953\"],[0.7777777777777778,\"#fb9f3a\"],[0.8888888888888888,\"#fdca26\"],[1.0,\"#f0f921\"]]}],\"surface\":[{\"type\":\"surface\",\"colorbar\":{\"outlinewidth\":0,\"ticks\":\"\"},\"colorscale\":[[0.0,\"#0d0887\"],[0.1111111111111111,\"#46039f\"],[0.2222222222222222,\"#7201a8\"],[0.3333333333333333,\"#9c179e\"],[0.4444444444444444,\"#bd3786\"],[0.5555555555555556,\"#d8576b\"],[0.6666666666666666,\"#ed7953\"],[0.7777777777777778,\"#fb9f3a\"],[0.8888888888888888,\"#fdca26\"],[1.0,\"#f0f921\"]]}],\"mesh3d\":[{\"type\":\"mesh3d\",\"colorbar\":{\"outlinewidth\":0,\"ticks\":\"\"}}],\"scatter\":[{\"fillpattern\":{\"fillmode\":\"overlay\",\"size\":10,\"solidity\":0.2},\"type\":\"scatter\"}],\"parcoords\":[{\"type\":\"parcoords\",\"line\":{\"colorbar\":{\"outlinewidth\":0,\"ticks\":\"\"}}}],\"scatterpolargl\":[{\"type\":\"scatterpolargl\",\"marker\":{\"colorbar\":{\"outlinewidth\":0,\"ticks\":\"\"}}}],\"bar\":[{\"error_x\":{\"color\":\"#2a3f5f\"},\"error_y\":{\"color\":\"#2a3f5f\"},\"marker\":{\"line\":{\"color\":\"#E5ECF6\",\"width\":0.5},\"pattern\":{\"fillmode\":\"overlay\",\"size\":10,\"solidity\":0.2}},\"type\":\"bar\"}],\"scattergeo\":[{\"type\":\"scattergeo\",\"marker\":{\"colorbar\":{\"outlinewidth\":0,\"ticks\":\"\"}}}],\"scatterpolar\":[{\"type\":\"scatterpolar\",\"marker\":{\"colorbar\":{\"outlinewidth\":0,\"ticks\":\"\"}}}],\"histogram\":[{\"marker\":{\"pattern\":{\"fillmode\":\"overlay\",\"size\":10,\"solidity\":0.2}},\"type\":\"histogram\"}],\"scattergl\":[{\"type\":\"scattergl\",\"marker\":{\"colorbar\":{\"outlinewidth\":0,\"ticks\":\"\"}}}],\"scatter3d\":[{\"type\":\"scatter3d\",\"line\":{\"colorbar\":{\"outlinewidth\":0,\"ticks\":\"\"}},\"marker\":{\"colorbar\":{\"outlinewidth\":0,\"ticks\":\"\"}}}],\"scattermapbox\":[{\"type\":\"scattermapbox\",\"marker\":{\"colorbar\":{\"outlinewidth\":0,\"ticks\":\"\"}}}],\"scatterternary\":[{\"type\":\"scatterternary\",\"marker\":{\"colorbar\":{\"outlinewidth\":0,\"ticks\":\"\"}}}],\"scattercarpet\":[{\"type\":\"scattercarpet\",\"marker\":{\"colorbar\":{\"outlinewidth\":0,\"ticks\":\"\"}}}],\"carpet\":[{\"aaxis\":{\"endlinecolor\":\"#2a3f5f\",\"gridcolor\":\"white\",\"linecolor\":\"white\",\"minorgridcolor\":\"white\",\"startlinecolor\":\"#2a3f5f\"},\"baxis\":{\"endlinecolor\":\"#2a3f5f\",\"gridcolor\":\"white\",\"linecolor\":\"white\",\"minorgridcolor\":\"white\",\"startlinecolor\":\"#2a3f5f\"},\"type\":\"carpet\"}],\"table\":[{\"cells\":{\"fill\":{\"color\":\"#EBF0F8\"},\"line\":{\"color\":\"white\"}},\"header\":{\"fill\":{\"color\":\"#C8D4E3\"},\"line\":{\"color\":\"white\"}},\"type\":\"table\"}],\"barpolar\":[{\"marker\":{\"line\":{\"color\":\"#E5ECF6\",\"width\":0.5},\"pattern\":{\"fillmode\":\"overlay\",\"size\":10,\"solidity\":0.2}},\"type\":\"barpolar\"}],\"pie\":[{\"automargin\":true,\"type\":\"pie\"}]},\"layout\":{\"autotypenumbers\":\"strict\",\"colorway\":[\"#636efa\",\"#EF553B\",\"#00cc96\",\"#ab63fa\",\"#FFA15A\",\"#19d3f3\",\"#FF6692\",\"#B6E880\",\"#FF97FF\",\"#FECB52\"],\"font\":{\"color\":\"#2a3f5f\"},\"hovermode\":\"closest\",\"hoverlabel\":{\"align\":\"left\"},\"paper_bgcolor\":\"white\",\"plot_bgcolor\":\"#E5ECF6\",\"polar\":{\"bgcolor\":\"#E5ECF6\",\"angularaxis\":{\"gridcolor\":\"white\",\"linecolor\":\"white\",\"ticks\":\"\"},\"radialaxis\":{\"gridcolor\":\"white\",\"linecolor\":\"white\",\"ticks\":\"\"}},\"ternary\":{\"bgcolor\":\"#E5ECF6\",\"aaxis\":{\"gridcolor\":\"white\",\"linecolor\":\"white\",\"ticks\":\"\"},\"baxis\":{\"gridcolor\":\"white\",\"linecolor\":\"white\",\"ticks\":\"\"},\"caxis\":{\"gridcolor\":\"white\",\"linecolor\":\"white\",\"ticks\":\"\"}},\"coloraxis\":{\"colorbar\":{\"outlinewidth\":0,\"ticks\":\"\"}},\"colorscale\":{\"sequential\":[[0.0,\"#0d0887\"],[0.1111111111111111,\"#46039f\"],[0.2222222222222222,\"#7201a8\"],[0.3333333333333333,\"#9c179e\"],[0.4444444444444444,\"#bd3786\"],[0.5555555555555556,\"#d8576b\"],[0.6666666666666666,\"#ed7953\"],[0.7777777777777778,\"#fb9f3a\"],[0.8888888888888888,\"#fdca26\"],[1.0,\"#f0f921\"]],\"sequentialminus\":[[0.0,\"#0d0887\"],[0.1111111111111111,\"#46039f\"],[0.2222222222222222,\"#7201a8\"],[0.3333333333333333,\"#9c179e\"],[0.4444444444444444,\"#bd3786\"],[0.5555555555555556,\"#d8576b\"],[0.6666666666666666,\"#ed7953\"],[0.7777777777777778,\"#fb9f3a\"],[0.8888888888888888,\"#fdca26\"],[1.0,\"#f0f921\"]],\"diverging\":[[0,\"#8e0152\"],[0.1,\"#c51b7d\"],[0.2,\"#de77ae\"],[0.3,\"#f1b6da\"],[0.4,\"#fde0ef\"],[0.5,\"#f7f7f7\"],[0.6,\"#e6f5d0\"],[0.7,\"#b8e186\"],[0.8,\"#7fbc41\"],[0.9,\"#4d9221\"],[1,\"#276419\"]]},\"xaxis\":{\"gridcolor\":\"white\",\"linecolor\":\"white\",\"ticks\":\"\",\"title\":{\"standoff\":15},\"zerolinecolor\":\"white\",\"automargin\":true,\"zerolinewidth\":2},\"yaxis\":{\"gridcolor\":\"white\",\"linecolor\":\"white\",\"ticks\":\"\",\"title\":{\"standoff\":15},\"zerolinecolor\":\"white\",\"automargin\":true,\"zerolinewidth\":2},\"scene\":{\"xaxis\":{\"backgroundcolor\":\"#E5ECF6\",\"gridcolor\":\"white\",\"linecolor\":\"white\",\"showbackground\":true,\"ticks\":\"\",\"zerolinecolor\":\"white\",\"gridwidth\":2},\"yaxis\":{\"backgroundcolor\":\"#E5ECF6\",\"gridcolor\":\"white\",\"linecolor\":\"white\",\"showbackground\":true,\"ticks\":\"\",\"zerolinecolor\":\"white\",\"gridwidth\":2},\"zaxis\":{\"backgroundcolor\":\"#E5ECF6\",\"gridcolor\":\"white\",\"linecolor\":\"white\",\"showbackground\":true,\"ticks\":\"\",\"zerolinecolor\":\"white\",\"gridwidth\":2}},\"shapedefaults\":{\"line\":{\"color\":\"#2a3f5f\"}},\"annotationdefaults\":{\"arrowcolor\":\"#2a3f5f\",\"arrowhead\":0,\"arrowwidth\":1},\"geo\":{\"bgcolor\":\"white\",\"landcolor\":\"#E5ECF6\",\"subunitcolor\":\"white\",\"showland\":true,\"showlakes\":true,\"lakecolor\":\"white\"},\"title\":{\"x\":0.05},\"mapbox\":{\"style\":\"light\"}}},\"xaxis\":{\"title\":{\"text\":\"num_layers\"},\"range\":[0.8,5.2]},\"yaxis\":{\"title\":{\"text\":\"units_0\"},\"range\":[41.45,251.55]}},                        {\"responsive\": true}                    ).then(function(){\n",
              "                            \n",
              "var gd = document.getElementById('9c6e3be6-29e0-4aa4-a365-646da6524b79');\n",
              "var x = new MutationObserver(function (mutations, observer) {{\n",
              "        var display = window.getComputedStyle(gd).display;\n",
              "        if (!display || display === 'none') {{\n",
              "            console.log([gd, 'removed!']);\n",
              "            Plotly.purge(gd);\n",
              "            observer.disconnect();\n",
              "        }}\n",
              "}});\n",
              "\n",
              "// Listen for the removal of the full notebook cells\n",
              "var notebookContainer = gd.closest('#notebook-container');\n",
              "if (notebookContainer) {{\n",
              "    x.observe(notebookContainer, {childList: true});\n",
              "}}\n",
              "\n",
              "// Listen for the clearing of the current output cell\n",
              "var outputEl = gd.closest('.output');\n",
              "if (outputEl) {{\n",
              "    x.observe(outputEl, {childList: true});\n",
              "}}\n",
              "\n",
              "                        })                };                            </script>        </div>\n",
              "</body>\n",
              "</html>"
            ]
          },
          "metadata": {}
        }
      ]
    },
    {
      "cell_type": "code",
      "source": [],
      "metadata": {
        "id": "f7f5i9cVM0Tt"
      },
      "execution_count": 28,
      "outputs": []
    },
    {
      "cell_type": "code",
      "source": [],
      "metadata": {
        "id": "mQGSM-v8M0RF"
      },
      "execution_count": 28,
      "outputs": []
    },
    {
      "cell_type": "code",
      "source": [],
      "metadata": {
        "id": "-aUU4UZNM0OZ"
      },
      "execution_count": 28,
      "outputs": []
    }
  ]
}