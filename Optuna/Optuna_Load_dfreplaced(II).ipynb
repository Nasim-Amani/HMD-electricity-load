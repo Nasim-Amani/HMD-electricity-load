{
  "nbformat": 4,
  "nbformat_minor": 0,
  "metadata": {
    "colab": {
      "provenance": []
    },
    "kernelspec": {
      "name": "python3",
      "display_name": "Python 3"
    },
    "language_info": {
      "name": "python"
    }
  },
  "cells": [
    {
      "cell_type": "code",
      "execution_count": 1,
      "metadata": {
        "id": "9zf25kvDtfb_",
        "colab": {
          "base_uri": "https://localhost:8080/",
          "height": 424
        },
        "outputId": "38921f08-cf08-4565-fc9b-6365dc5ae3f2"
      },
      "outputs": [
        {
          "output_type": "execute_result",
          "data": {
            "text/plain": [
              "                  datetime        Load\n",
              "0      2019-03-21 00:00:00  352.862799\n",
              "1      2019-03-21 01:00:00  330.444853\n",
              "2      2019-03-21 02:00:00  287.419792\n",
              "3      2019-03-21 03:00:00  258.110368\n",
              "4      2019-03-21 04:00:00  247.745866\n",
              "...                    ...         ...\n",
              "22003  2021-09-22 19:00:00  632.235500\n",
              "22004  2021-09-22 20:00:00  612.703162\n",
              "22005  2021-09-22 21:00:00  589.574385\n",
              "22006  2021-09-22 22:00:00  561.323968\n",
              "22007  2021-09-22 23:00:00  522.105758\n",
              "\n",
              "[22008 rows x 2 columns]"
            ],
            "text/html": [
              "\n",
              "  <div id=\"df-e6e54b01-f4f2-43d7-b2b8-6ce0c2f08879\" class=\"colab-df-container\">\n",
              "    <div>\n",
              "<style scoped>\n",
              "    .dataframe tbody tr th:only-of-type {\n",
              "        vertical-align: middle;\n",
              "    }\n",
              "\n",
              "    .dataframe tbody tr th {\n",
              "        vertical-align: top;\n",
              "    }\n",
              "\n",
              "    .dataframe thead th {\n",
              "        text-align: right;\n",
              "    }\n",
              "</style>\n",
              "<table border=\"1\" class=\"dataframe\">\n",
              "  <thead>\n",
              "    <tr style=\"text-align: right;\">\n",
              "      <th></th>\n",
              "      <th>datetime</th>\n",
              "      <th>Load</th>\n",
              "    </tr>\n",
              "  </thead>\n",
              "  <tbody>\n",
              "    <tr>\n",
              "      <th>0</th>\n",
              "      <td>2019-03-21 00:00:00</td>\n",
              "      <td>352.862799</td>\n",
              "    </tr>\n",
              "    <tr>\n",
              "      <th>1</th>\n",
              "      <td>2019-03-21 01:00:00</td>\n",
              "      <td>330.444853</td>\n",
              "    </tr>\n",
              "    <tr>\n",
              "      <th>2</th>\n",
              "      <td>2019-03-21 02:00:00</td>\n",
              "      <td>287.419792</td>\n",
              "    </tr>\n",
              "    <tr>\n",
              "      <th>3</th>\n",
              "      <td>2019-03-21 03:00:00</td>\n",
              "      <td>258.110368</td>\n",
              "    </tr>\n",
              "    <tr>\n",
              "      <th>4</th>\n",
              "      <td>2019-03-21 04:00:00</td>\n",
              "      <td>247.745866</td>\n",
              "    </tr>\n",
              "    <tr>\n",
              "      <th>...</th>\n",
              "      <td>...</td>\n",
              "      <td>...</td>\n",
              "    </tr>\n",
              "    <tr>\n",
              "      <th>22003</th>\n",
              "      <td>2021-09-22 19:00:00</td>\n",
              "      <td>632.235500</td>\n",
              "    </tr>\n",
              "    <tr>\n",
              "      <th>22004</th>\n",
              "      <td>2021-09-22 20:00:00</td>\n",
              "      <td>612.703162</td>\n",
              "    </tr>\n",
              "    <tr>\n",
              "      <th>22005</th>\n",
              "      <td>2021-09-22 21:00:00</td>\n",
              "      <td>589.574385</td>\n",
              "    </tr>\n",
              "    <tr>\n",
              "      <th>22006</th>\n",
              "      <td>2021-09-22 22:00:00</td>\n",
              "      <td>561.323968</td>\n",
              "    </tr>\n",
              "    <tr>\n",
              "      <th>22007</th>\n",
              "      <td>2021-09-22 23:00:00</td>\n",
              "      <td>522.105758</td>\n",
              "    </tr>\n",
              "  </tbody>\n",
              "</table>\n",
              "<p>22008 rows × 2 columns</p>\n",
              "</div>\n",
              "    <div class=\"colab-df-buttons\">\n",
              "\n",
              "  <div class=\"colab-df-container\">\n",
              "    <button class=\"colab-df-convert\" onclick=\"convertToInteractive('df-e6e54b01-f4f2-43d7-b2b8-6ce0c2f08879')\"\n",
              "            title=\"Convert this dataframe to an interactive table.\"\n",
              "            style=\"display:none;\">\n",
              "\n",
              "  <svg xmlns=\"http://www.w3.org/2000/svg\" height=\"24px\" viewBox=\"0 -960 960 960\">\n",
              "    <path d=\"M120-120v-720h720v720H120Zm60-500h600v-160H180v160Zm220 220h160v-160H400v160Zm0 220h160v-160H400v160ZM180-400h160v-160H180v160Zm440 0h160v-160H620v160ZM180-180h160v-160H180v160Zm440 0h160v-160H620v160Z\"/>\n",
              "  </svg>\n",
              "    </button>\n",
              "\n",
              "  <style>\n",
              "    .colab-df-container {\n",
              "      display:flex;\n",
              "      gap: 12px;\n",
              "    }\n",
              "\n",
              "    .colab-df-convert {\n",
              "      background-color: #E8F0FE;\n",
              "      border: none;\n",
              "      border-radius: 50%;\n",
              "      cursor: pointer;\n",
              "      display: none;\n",
              "      fill: #1967D2;\n",
              "      height: 32px;\n",
              "      padding: 0 0 0 0;\n",
              "      width: 32px;\n",
              "    }\n",
              "\n",
              "    .colab-df-convert:hover {\n",
              "      background-color: #E2EBFA;\n",
              "      box-shadow: 0px 1px 2px rgba(60, 64, 67, 0.3), 0px 1px 3px 1px rgba(60, 64, 67, 0.15);\n",
              "      fill: #174EA6;\n",
              "    }\n",
              "\n",
              "    .colab-df-buttons div {\n",
              "      margin-bottom: 4px;\n",
              "    }\n",
              "\n",
              "    [theme=dark] .colab-df-convert {\n",
              "      background-color: #3B4455;\n",
              "      fill: #D2E3FC;\n",
              "    }\n",
              "\n",
              "    [theme=dark] .colab-df-convert:hover {\n",
              "      background-color: #434B5C;\n",
              "      box-shadow: 0px 1px 3px 1px rgba(0, 0, 0, 0.15);\n",
              "      filter: drop-shadow(0px 1px 2px rgba(0, 0, 0, 0.3));\n",
              "      fill: #FFFFFF;\n",
              "    }\n",
              "  </style>\n",
              "\n",
              "    <script>\n",
              "      const buttonEl =\n",
              "        document.querySelector('#df-e6e54b01-f4f2-43d7-b2b8-6ce0c2f08879 button.colab-df-convert');\n",
              "      buttonEl.style.display =\n",
              "        google.colab.kernel.accessAllowed ? 'block' : 'none';\n",
              "\n",
              "      async function convertToInteractive(key) {\n",
              "        const element = document.querySelector('#df-e6e54b01-f4f2-43d7-b2b8-6ce0c2f08879');\n",
              "        const dataTable =\n",
              "          await google.colab.kernel.invokeFunction('convertToInteractive',\n",
              "                                                    [key], {});\n",
              "        if (!dataTable) return;\n",
              "\n",
              "        const docLinkHtml = 'Like what you see? Visit the ' +\n",
              "          '<a target=\"_blank\" href=https://colab.research.google.com/notebooks/data_table.ipynb>data table notebook</a>'\n",
              "          + ' to learn more about interactive tables.';\n",
              "        element.innerHTML = '';\n",
              "        dataTable['output_type'] = 'display_data';\n",
              "        await google.colab.output.renderOutput(dataTable, element);\n",
              "        const docLink = document.createElement('div');\n",
              "        docLink.innerHTML = docLinkHtml;\n",
              "        element.appendChild(docLink);\n",
              "      }\n",
              "    </script>\n",
              "  </div>\n",
              "\n",
              "\n",
              "<div id=\"df-8327281b-1007-4094-a314-965ad3e29219\">\n",
              "  <button class=\"colab-df-quickchart\" onclick=\"quickchart('df-8327281b-1007-4094-a314-965ad3e29219')\"\n",
              "            title=\"Suggest charts\"\n",
              "            style=\"display:none;\">\n",
              "\n",
              "<svg xmlns=\"http://www.w3.org/2000/svg\" height=\"24px\"viewBox=\"0 0 24 24\"\n",
              "     width=\"24px\">\n",
              "    <g>\n",
              "        <path d=\"M19 3H5c-1.1 0-2 .9-2 2v14c0 1.1.9 2 2 2h14c1.1 0 2-.9 2-2V5c0-1.1-.9-2-2-2zM9 17H7v-7h2v7zm4 0h-2V7h2v10zm4 0h-2v-4h2v4z\"/>\n",
              "    </g>\n",
              "</svg>\n",
              "  </button>\n",
              "\n",
              "<style>\n",
              "  .colab-df-quickchart {\n",
              "      --bg-color: #E8F0FE;\n",
              "      --fill-color: #1967D2;\n",
              "      --hover-bg-color: #E2EBFA;\n",
              "      --hover-fill-color: #174EA6;\n",
              "      --disabled-fill-color: #AAA;\n",
              "      --disabled-bg-color: #DDD;\n",
              "  }\n",
              "\n",
              "  [theme=dark] .colab-df-quickchart {\n",
              "      --bg-color: #3B4455;\n",
              "      --fill-color: #D2E3FC;\n",
              "      --hover-bg-color: #434B5C;\n",
              "      --hover-fill-color: #FFFFFF;\n",
              "      --disabled-bg-color: #3B4455;\n",
              "      --disabled-fill-color: #666;\n",
              "  }\n",
              "\n",
              "  .colab-df-quickchart {\n",
              "    background-color: var(--bg-color);\n",
              "    border: none;\n",
              "    border-radius: 50%;\n",
              "    cursor: pointer;\n",
              "    display: none;\n",
              "    fill: var(--fill-color);\n",
              "    height: 32px;\n",
              "    padding: 0;\n",
              "    width: 32px;\n",
              "  }\n",
              "\n",
              "  .colab-df-quickchart:hover {\n",
              "    background-color: var(--hover-bg-color);\n",
              "    box-shadow: 0 1px 2px rgba(60, 64, 67, 0.3), 0 1px 3px 1px rgba(60, 64, 67, 0.15);\n",
              "    fill: var(--button-hover-fill-color);\n",
              "  }\n",
              "\n",
              "  .colab-df-quickchart-complete:disabled,\n",
              "  .colab-df-quickchart-complete:disabled:hover {\n",
              "    background-color: var(--disabled-bg-color);\n",
              "    fill: var(--disabled-fill-color);\n",
              "    box-shadow: none;\n",
              "  }\n",
              "\n",
              "  .colab-df-spinner {\n",
              "    border: 2px solid var(--fill-color);\n",
              "    border-color: transparent;\n",
              "    border-bottom-color: var(--fill-color);\n",
              "    animation:\n",
              "      spin 1s steps(1) infinite;\n",
              "  }\n",
              "\n",
              "  @keyframes spin {\n",
              "    0% {\n",
              "      border-color: transparent;\n",
              "      border-bottom-color: var(--fill-color);\n",
              "      border-left-color: var(--fill-color);\n",
              "    }\n",
              "    20% {\n",
              "      border-color: transparent;\n",
              "      border-left-color: var(--fill-color);\n",
              "      border-top-color: var(--fill-color);\n",
              "    }\n",
              "    30% {\n",
              "      border-color: transparent;\n",
              "      border-left-color: var(--fill-color);\n",
              "      border-top-color: var(--fill-color);\n",
              "      border-right-color: var(--fill-color);\n",
              "    }\n",
              "    40% {\n",
              "      border-color: transparent;\n",
              "      border-right-color: var(--fill-color);\n",
              "      border-top-color: var(--fill-color);\n",
              "    }\n",
              "    60% {\n",
              "      border-color: transparent;\n",
              "      border-right-color: var(--fill-color);\n",
              "    }\n",
              "    80% {\n",
              "      border-color: transparent;\n",
              "      border-right-color: var(--fill-color);\n",
              "      border-bottom-color: var(--fill-color);\n",
              "    }\n",
              "    90% {\n",
              "      border-color: transparent;\n",
              "      border-bottom-color: var(--fill-color);\n",
              "    }\n",
              "  }\n",
              "</style>\n",
              "\n",
              "  <script>\n",
              "    async function quickchart(key) {\n",
              "      const quickchartButtonEl =\n",
              "        document.querySelector('#' + key + ' button');\n",
              "      quickchartButtonEl.disabled = true;  // To prevent multiple clicks.\n",
              "      quickchartButtonEl.classList.add('colab-df-spinner');\n",
              "      try {\n",
              "        const charts = await google.colab.kernel.invokeFunction(\n",
              "            'suggestCharts', [key], {});\n",
              "      } catch (error) {\n",
              "        console.error('Error during call to suggestCharts:', error);\n",
              "      }\n",
              "      quickchartButtonEl.classList.remove('colab-df-spinner');\n",
              "      quickchartButtonEl.classList.add('colab-df-quickchart-complete');\n",
              "    }\n",
              "    (() => {\n",
              "      let quickchartButtonEl =\n",
              "        document.querySelector('#df-8327281b-1007-4094-a314-965ad3e29219 button');\n",
              "      quickchartButtonEl.style.display =\n",
              "        google.colab.kernel.accessAllowed ? 'block' : 'none';\n",
              "    })();\n",
              "  </script>\n",
              "</div>\n",
              "    </div>\n",
              "  </div>\n"
            ],
            "application/vnd.google.colaboratory.intrinsic+json": {
              "type": "dataframe",
              "variable_name": "data",
              "summary": "{\n  \"name\": \"data\",\n  \"rows\": 22008,\n  \"fields\": [\n    {\n      \"column\": \"datetime\",\n      \"properties\": {\n        \"dtype\": \"object\",\n        \"num_unique_values\": 22008,\n        \"samples\": [\n          \"2020-06-26 05:00:00\",\n          \"2021-05-12 22:00:00\",\n          \"2021-01-18 01:00:00\"\n        ],\n        \"semantic_type\": \"\",\n        \"description\": \"\"\n      }\n    },\n    {\n      \"column\": \"Load\",\n      \"properties\": {\n        \"dtype\": \"number\",\n        \"std\": 126.07801069179499,\n        \"min\": 212.709756,\n        \"max\": 748.868203,\n        \"num_unique_values\": 22004,\n        \"samples\": [\n          322.066013,\n          363.960316,\n          600.210607\n        ],\n        \"semantic_type\": \"\",\n        \"description\": \"\"\n      }\n    }\n  ]\n}"
            }
          },
          "metadata": {},
          "execution_count": 1
        }
      ],
      "source": [
        "import pandas as pd\n",
        "\n",
        "data=pd.read_csv(\"df_replaced.csv\" )\n",
        "\n",
        "#data\n",
        "\n",
        "\n",
        "# Specify the columns you want to keep\n",
        "#columns_to_keep = ['datetime','Load']\n",
        "\n",
        "# Use indexing to select the desired columns\n",
        "#df = data[columns_to_keep]\n",
        "# set the 'datetime_column' as the index\n",
        "#df.set_index('datetime', inplace=True)\n",
        "data"
      ]
    },
    {
      "cell_type": "code",
      "source": [
        "data['datetime'] = pd.to_datetime(data['datetime'])"
      ],
      "metadata": {
        "id": "aoHc-vfvRy5L"
      },
      "execution_count": 2,
      "outputs": []
    },
    {
      "cell_type": "code",
      "source": [
        "df=data"
      ],
      "metadata": {
        "id": "5Nt9CZUoSHMa"
      },
      "execution_count": 3,
      "outputs": []
    },
    {
      "cell_type": "code",
      "source": [
        "df.dtypes"
      ],
      "metadata": {
        "colab": {
          "base_uri": "https://localhost:8080/"
        },
        "id": "HA5N_BcEvlYX",
        "outputId": "f6fb72f8-07b8-4c58-d961-97333646f310"
      },
      "execution_count": 4,
      "outputs": [
        {
          "output_type": "execute_result",
          "data": {
            "text/plain": [
              "datetime    datetime64[ns]\n",
              "Load               float64\n",
              "dtype: object"
            ]
          },
          "metadata": {},
          "execution_count": 4
        }
      ]
    },
    {
      "cell_type": "code",
      "source": [
        "from sklearn.model_selection import TimeSeriesSplit\n",
        "\n",
        "tss = TimeSeriesSplit(n_splits = 4)"
      ],
      "metadata": {
        "id": "tmM6aAsWwJud"
      },
      "execution_count": 5,
      "outputs": []
    },
    {
      "cell_type": "code",
      "source": [
        "df.set_index('datetime', inplace=True)\n",
        "df.sort_index(inplace=True)\n",
        "X = df.drop(labels=[], axis=1)\n",
        "y = df['Load']"
      ],
      "metadata": {
        "id": "EhfX0gyewMUr"
      },
      "execution_count": 6,
      "outputs": []
    },
    {
      "cell_type": "code",
      "source": [
        "y"
      ],
      "metadata": {
        "colab": {
          "base_uri": "https://localhost:8080/"
        },
        "id": "sA08jsd3waEq",
        "outputId": "b42eefb0-cc63-40e1-a104-3e3d157ce2e7"
      },
      "execution_count": 7,
      "outputs": [
        {
          "output_type": "execute_result",
          "data": {
            "text/plain": [
              "datetime\n",
              "2019-03-21 00:00:00    352.862799\n",
              "2019-03-21 01:00:00    330.444853\n",
              "2019-03-21 02:00:00    287.419792\n",
              "2019-03-21 03:00:00    258.110368\n",
              "2019-03-21 04:00:00    247.745866\n",
              "                          ...    \n",
              "2021-09-22 19:00:00    632.235500\n",
              "2021-09-22 20:00:00    612.703162\n",
              "2021-09-22 21:00:00    589.574385\n",
              "2021-09-22 22:00:00    561.323968\n",
              "2021-09-22 23:00:00    522.105758\n",
              "Name: Load, Length: 22008, dtype: float64"
            ]
          },
          "metadata": {},
          "execution_count": 7
        }
      ]
    },
    {
      "cell_type": "code",
      "source": [
        "X"
      ],
      "metadata": {
        "colab": {
          "base_uri": "https://localhost:8080/",
          "height": 455
        },
        "id": "qpYFjIm3wXCY",
        "outputId": "46d8de9b-bdc9-471c-dc1e-4ce0482d38f0"
      },
      "execution_count": 8,
      "outputs": [
        {
          "output_type": "execute_result",
          "data": {
            "text/plain": [
              "                           Load\n",
              "datetime                       \n",
              "2019-03-21 00:00:00  352.862799\n",
              "2019-03-21 01:00:00  330.444853\n",
              "2019-03-21 02:00:00  287.419792\n",
              "2019-03-21 03:00:00  258.110368\n",
              "2019-03-21 04:00:00  247.745866\n",
              "...                         ...\n",
              "2021-09-22 19:00:00  632.235500\n",
              "2021-09-22 20:00:00  612.703162\n",
              "2021-09-22 21:00:00  589.574385\n",
              "2021-09-22 22:00:00  561.323968\n",
              "2021-09-22 23:00:00  522.105758\n",
              "\n",
              "[22008 rows x 1 columns]"
            ],
            "text/html": [
              "\n",
              "  <div id=\"df-ddfa4644-a13f-403e-bcc0-23878ffba060\" class=\"colab-df-container\">\n",
              "    <div>\n",
              "<style scoped>\n",
              "    .dataframe tbody tr th:only-of-type {\n",
              "        vertical-align: middle;\n",
              "    }\n",
              "\n",
              "    .dataframe tbody tr th {\n",
              "        vertical-align: top;\n",
              "    }\n",
              "\n",
              "    .dataframe thead th {\n",
              "        text-align: right;\n",
              "    }\n",
              "</style>\n",
              "<table border=\"1\" class=\"dataframe\">\n",
              "  <thead>\n",
              "    <tr style=\"text-align: right;\">\n",
              "      <th></th>\n",
              "      <th>Load</th>\n",
              "    </tr>\n",
              "    <tr>\n",
              "      <th>datetime</th>\n",
              "      <th></th>\n",
              "    </tr>\n",
              "  </thead>\n",
              "  <tbody>\n",
              "    <tr>\n",
              "      <th>2019-03-21 00:00:00</th>\n",
              "      <td>352.862799</td>\n",
              "    </tr>\n",
              "    <tr>\n",
              "      <th>2019-03-21 01:00:00</th>\n",
              "      <td>330.444853</td>\n",
              "    </tr>\n",
              "    <tr>\n",
              "      <th>2019-03-21 02:00:00</th>\n",
              "      <td>287.419792</td>\n",
              "    </tr>\n",
              "    <tr>\n",
              "      <th>2019-03-21 03:00:00</th>\n",
              "      <td>258.110368</td>\n",
              "    </tr>\n",
              "    <tr>\n",
              "      <th>2019-03-21 04:00:00</th>\n",
              "      <td>247.745866</td>\n",
              "    </tr>\n",
              "    <tr>\n",
              "      <th>...</th>\n",
              "      <td>...</td>\n",
              "    </tr>\n",
              "    <tr>\n",
              "      <th>2021-09-22 19:00:00</th>\n",
              "      <td>632.235500</td>\n",
              "    </tr>\n",
              "    <tr>\n",
              "      <th>2021-09-22 20:00:00</th>\n",
              "      <td>612.703162</td>\n",
              "    </tr>\n",
              "    <tr>\n",
              "      <th>2021-09-22 21:00:00</th>\n",
              "      <td>589.574385</td>\n",
              "    </tr>\n",
              "    <tr>\n",
              "      <th>2021-09-22 22:00:00</th>\n",
              "      <td>561.323968</td>\n",
              "    </tr>\n",
              "    <tr>\n",
              "      <th>2021-09-22 23:00:00</th>\n",
              "      <td>522.105758</td>\n",
              "    </tr>\n",
              "  </tbody>\n",
              "</table>\n",
              "<p>22008 rows × 1 columns</p>\n",
              "</div>\n",
              "    <div class=\"colab-df-buttons\">\n",
              "\n",
              "  <div class=\"colab-df-container\">\n",
              "    <button class=\"colab-df-convert\" onclick=\"convertToInteractive('df-ddfa4644-a13f-403e-bcc0-23878ffba060')\"\n",
              "            title=\"Convert this dataframe to an interactive table.\"\n",
              "            style=\"display:none;\">\n",
              "\n",
              "  <svg xmlns=\"http://www.w3.org/2000/svg\" height=\"24px\" viewBox=\"0 -960 960 960\">\n",
              "    <path d=\"M120-120v-720h720v720H120Zm60-500h600v-160H180v160Zm220 220h160v-160H400v160Zm0 220h160v-160H400v160ZM180-400h160v-160H180v160Zm440 0h160v-160H620v160ZM180-180h160v-160H180v160Zm440 0h160v-160H620v160Z\"/>\n",
              "  </svg>\n",
              "    </button>\n",
              "\n",
              "  <style>\n",
              "    .colab-df-container {\n",
              "      display:flex;\n",
              "      gap: 12px;\n",
              "    }\n",
              "\n",
              "    .colab-df-convert {\n",
              "      background-color: #E8F0FE;\n",
              "      border: none;\n",
              "      border-radius: 50%;\n",
              "      cursor: pointer;\n",
              "      display: none;\n",
              "      fill: #1967D2;\n",
              "      height: 32px;\n",
              "      padding: 0 0 0 0;\n",
              "      width: 32px;\n",
              "    }\n",
              "\n",
              "    .colab-df-convert:hover {\n",
              "      background-color: #E2EBFA;\n",
              "      box-shadow: 0px 1px 2px rgba(60, 64, 67, 0.3), 0px 1px 3px 1px rgba(60, 64, 67, 0.15);\n",
              "      fill: #174EA6;\n",
              "    }\n",
              "\n",
              "    .colab-df-buttons div {\n",
              "      margin-bottom: 4px;\n",
              "    }\n",
              "\n",
              "    [theme=dark] .colab-df-convert {\n",
              "      background-color: #3B4455;\n",
              "      fill: #D2E3FC;\n",
              "    }\n",
              "\n",
              "    [theme=dark] .colab-df-convert:hover {\n",
              "      background-color: #434B5C;\n",
              "      box-shadow: 0px 1px 3px 1px rgba(0, 0, 0, 0.15);\n",
              "      filter: drop-shadow(0px 1px 2px rgba(0, 0, 0, 0.3));\n",
              "      fill: #FFFFFF;\n",
              "    }\n",
              "  </style>\n",
              "\n",
              "    <script>\n",
              "      const buttonEl =\n",
              "        document.querySelector('#df-ddfa4644-a13f-403e-bcc0-23878ffba060 button.colab-df-convert');\n",
              "      buttonEl.style.display =\n",
              "        google.colab.kernel.accessAllowed ? 'block' : 'none';\n",
              "\n",
              "      async function convertToInteractive(key) {\n",
              "        const element = document.querySelector('#df-ddfa4644-a13f-403e-bcc0-23878ffba060');\n",
              "        const dataTable =\n",
              "          await google.colab.kernel.invokeFunction('convertToInteractive',\n",
              "                                                    [key], {});\n",
              "        if (!dataTable) return;\n",
              "\n",
              "        const docLinkHtml = 'Like what you see? Visit the ' +\n",
              "          '<a target=\"_blank\" href=https://colab.research.google.com/notebooks/data_table.ipynb>data table notebook</a>'\n",
              "          + ' to learn more about interactive tables.';\n",
              "        element.innerHTML = '';\n",
              "        dataTable['output_type'] = 'display_data';\n",
              "        await google.colab.output.renderOutput(dataTable, element);\n",
              "        const docLink = document.createElement('div');\n",
              "        docLink.innerHTML = docLinkHtml;\n",
              "        element.appendChild(docLink);\n",
              "      }\n",
              "    </script>\n",
              "  </div>\n",
              "\n",
              "\n",
              "<div id=\"df-0eb82e66-95f4-477e-93f0-d760a54922cc\">\n",
              "  <button class=\"colab-df-quickchart\" onclick=\"quickchart('df-0eb82e66-95f4-477e-93f0-d760a54922cc')\"\n",
              "            title=\"Suggest charts\"\n",
              "            style=\"display:none;\">\n",
              "\n",
              "<svg xmlns=\"http://www.w3.org/2000/svg\" height=\"24px\"viewBox=\"0 0 24 24\"\n",
              "     width=\"24px\">\n",
              "    <g>\n",
              "        <path d=\"M19 3H5c-1.1 0-2 .9-2 2v14c0 1.1.9 2 2 2h14c1.1 0 2-.9 2-2V5c0-1.1-.9-2-2-2zM9 17H7v-7h2v7zm4 0h-2V7h2v10zm4 0h-2v-4h2v4z\"/>\n",
              "    </g>\n",
              "</svg>\n",
              "  </button>\n",
              "\n",
              "<style>\n",
              "  .colab-df-quickchart {\n",
              "      --bg-color: #E8F0FE;\n",
              "      --fill-color: #1967D2;\n",
              "      --hover-bg-color: #E2EBFA;\n",
              "      --hover-fill-color: #174EA6;\n",
              "      --disabled-fill-color: #AAA;\n",
              "      --disabled-bg-color: #DDD;\n",
              "  }\n",
              "\n",
              "  [theme=dark] .colab-df-quickchart {\n",
              "      --bg-color: #3B4455;\n",
              "      --fill-color: #D2E3FC;\n",
              "      --hover-bg-color: #434B5C;\n",
              "      --hover-fill-color: #FFFFFF;\n",
              "      --disabled-bg-color: #3B4455;\n",
              "      --disabled-fill-color: #666;\n",
              "  }\n",
              "\n",
              "  .colab-df-quickchart {\n",
              "    background-color: var(--bg-color);\n",
              "    border: none;\n",
              "    border-radius: 50%;\n",
              "    cursor: pointer;\n",
              "    display: none;\n",
              "    fill: var(--fill-color);\n",
              "    height: 32px;\n",
              "    padding: 0;\n",
              "    width: 32px;\n",
              "  }\n",
              "\n",
              "  .colab-df-quickchart:hover {\n",
              "    background-color: var(--hover-bg-color);\n",
              "    box-shadow: 0 1px 2px rgba(60, 64, 67, 0.3), 0 1px 3px 1px rgba(60, 64, 67, 0.15);\n",
              "    fill: var(--button-hover-fill-color);\n",
              "  }\n",
              "\n",
              "  .colab-df-quickchart-complete:disabled,\n",
              "  .colab-df-quickchart-complete:disabled:hover {\n",
              "    background-color: var(--disabled-bg-color);\n",
              "    fill: var(--disabled-fill-color);\n",
              "    box-shadow: none;\n",
              "  }\n",
              "\n",
              "  .colab-df-spinner {\n",
              "    border: 2px solid var(--fill-color);\n",
              "    border-color: transparent;\n",
              "    border-bottom-color: var(--fill-color);\n",
              "    animation:\n",
              "      spin 1s steps(1) infinite;\n",
              "  }\n",
              "\n",
              "  @keyframes spin {\n",
              "    0% {\n",
              "      border-color: transparent;\n",
              "      border-bottom-color: var(--fill-color);\n",
              "      border-left-color: var(--fill-color);\n",
              "    }\n",
              "    20% {\n",
              "      border-color: transparent;\n",
              "      border-left-color: var(--fill-color);\n",
              "      border-top-color: var(--fill-color);\n",
              "    }\n",
              "    30% {\n",
              "      border-color: transparent;\n",
              "      border-left-color: var(--fill-color);\n",
              "      border-top-color: var(--fill-color);\n",
              "      border-right-color: var(--fill-color);\n",
              "    }\n",
              "    40% {\n",
              "      border-color: transparent;\n",
              "      border-right-color: var(--fill-color);\n",
              "      border-top-color: var(--fill-color);\n",
              "    }\n",
              "    60% {\n",
              "      border-color: transparent;\n",
              "      border-right-color: var(--fill-color);\n",
              "    }\n",
              "    80% {\n",
              "      border-color: transparent;\n",
              "      border-right-color: var(--fill-color);\n",
              "      border-bottom-color: var(--fill-color);\n",
              "    }\n",
              "    90% {\n",
              "      border-color: transparent;\n",
              "      border-bottom-color: var(--fill-color);\n",
              "    }\n",
              "  }\n",
              "</style>\n",
              "\n",
              "  <script>\n",
              "    async function quickchart(key) {\n",
              "      const quickchartButtonEl =\n",
              "        document.querySelector('#' + key + ' button');\n",
              "      quickchartButtonEl.disabled = true;  // To prevent multiple clicks.\n",
              "      quickchartButtonEl.classList.add('colab-df-spinner');\n",
              "      try {\n",
              "        const charts = await google.colab.kernel.invokeFunction(\n",
              "            'suggestCharts', [key], {});\n",
              "      } catch (error) {\n",
              "        console.error('Error during call to suggestCharts:', error);\n",
              "      }\n",
              "      quickchartButtonEl.classList.remove('colab-df-spinner');\n",
              "      quickchartButtonEl.classList.add('colab-df-quickchart-complete');\n",
              "    }\n",
              "    (() => {\n",
              "      let quickchartButtonEl =\n",
              "        document.querySelector('#df-0eb82e66-95f4-477e-93f0-d760a54922cc button');\n",
              "      quickchartButtonEl.style.display =\n",
              "        google.colab.kernel.accessAllowed ? 'block' : 'none';\n",
              "    })();\n",
              "  </script>\n",
              "</div>\n",
              "    </div>\n",
              "  </div>\n"
            ],
            "application/vnd.google.colaboratory.intrinsic+json": {
              "type": "dataframe",
              "variable_name": "X",
              "summary": "{\n  \"name\": \"X\",\n  \"rows\": 22008,\n  \"fields\": [\n    {\n      \"column\": \"datetime\",\n      \"properties\": {\n        \"dtype\": \"date\",\n        \"min\": \"2019-03-21 00:00:00\",\n        \"max\": \"2021-09-22 23:00:00\",\n        \"num_unique_values\": 22008,\n        \"samples\": [\n          \"2020-06-26 05:00:00\",\n          \"2021-05-12 22:00:00\",\n          \"2021-01-18 01:00:00\"\n        ],\n        \"semantic_type\": \"\",\n        \"description\": \"\"\n      }\n    },\n    {\n      \"column\": \"Load\",\n      \"properties\": {\n        \"dtype\": \"number\",\n        \"std\": 126.07801069179499,\n        \"min\": 212.709756,\n        \"max\": 748.868203,\n        \"num_unique_values\": 22004,\n        \"samples\": [\n          322.066013,\n          363.960316,\n          600.210607\n        ],\n        \"semantic_type\": \"\",\n        \"description\": \"\"\n      }\n    }\n  ]\n}"
            }
          },
          "metadata": {},
          "execution_count": 8
        }
      ]
    },
    {
      "cell_type": "code",
      "source": [
        "for train_index, test_index in tss.split(X):\n",
        "    X_train, X_test = X.iloc[train_index, :], X.iloc[test_index,:]\n",
        "    y_train, y_test = y.iloc[train_index], y.iloc[test_index]"
      ],
      "metadata": {
        "id": "2Rvt2jVEwfp1"
      },
      "execution_count": 9,
      "outputs": []
    },
    {
      "cell_type": "code",
      "source": [
        "X_train.index"
      ],
      "metadata": {
        "colab": {
          "base_uri": "https://localhost:8080/"
        },
        "id": "_gpB-GLbwpSb",
        "outputId": "6f4e5bca-e3b7-475b-dac5-754b1ce70d69"
      },
      "execution_count": 10,
      "outputs": [
        {
          "output_type": "execute_result",
          "data": {
            "text/plain": [
              "DatetimeIndex(['2019-03-21 00:00:00', '2019-03-21 01:00:00',\n",
              "               '2019-03-21 02:00:00', '2019-03-21 03:00:00',\n",
              "               '2019-03-21 04:00:00', '2019-03-21 05:00:00',\n",
              "               '2019-03-21 06:00:00', '2019-03-21 07:00:00',\n",
              "               '2019-03-21 08:00:00', '2019-03-21 09:00:00',\n",
              "               ...\n",
              "               '2021-03-23 05:00:00', '2021-03-23 06:00:00',\n",
              "               '2021-03-23 07:00:00', '2021-03-23 08:00:00',\n",
              "               '2021-03-23 09:00:00', '2021-03-23 10:00:00',\n",
              "               '2021-03-23 11:00:00', '2021-03-23 12:00:00',\n",
              "               '2021-03-23 13:00:00', '2021-03-23 14:00:00'],\n",
              "              dtype='datetime64[ns]', name='datetime', length=17607, freq=None)"
            ]
          },
          "metadata": {},
          "execution_count": 10
        }
      ]
    },
    {
      "cell_type": "code",
      "source": [
        "X_test.index"
      ],
      "metadata": {
        "colab": {
          "base_uri": "https://localhost:8080/"
        },
        "id": "VtzeLr5HwzIn",
        "outputId": "f8caf8bc-f267-4bcb-8e29-a873daf60a78"
      },
      "execution_count": 11,
      "outputs": [
        {
          "output_type": "execute_result",
          "data": {
            "text/plain": [
              "DatetimeIndex(['2021-03-23 15:00:00', '2021-03-23 16:00:00',\n",
              "               '2021-03-23 17:00:00', '2021-03-23 18:00:00',\n",
              "               '2021-03-23 19:00:00', '2021-03-23 20:00:00',\n",
              "               '2021-03-23 21:00:00', '2021-03-23 22:00:00',\n",
              "               '2021-03-23 23:00:00', '2021-03-24 00:00:00',\n",
              "               ...\n",
              "               '2021-09-22 14:00:00', '2021-09-22 15:00:00',\n",
              "               '2021-09-22 16:00:00', '2021-09-22 17:00:00',\n",
              "               '2021-09-22 18:00:00', '2021-09-22 19:00:00',\n",
              "               '2021-09-22 20:00:00', '2021-09-22 21:00:00',\n",
              "               '2021-09-22 22:00:00', '2021-09-22 23:00:00'],\n",
              "              dtype='datetime64[ns]', name='datetime', length=4401, freq=None)"
            ]
          },
          "metadata": {},
          "execution_count": 11
        }
      ]
    },
    {
      "cell_type": "code",
      "source": [
        "def price2num(x):\n",
        "    if type(x) == str:\n",
        "        x = x.strip('$').replace(',', '')\n",
        "    return float(x)\n",
        "\n",
        "\n",
        "#function to convert price from string to floats\n",
        "y_train=y_train.apply(price2num)\n",
        "y_train.groupby('datetime').mean().plot()\n",
        "y_test=y_test.apply(price2num)\n",
        "y_test.groupby('datetime').mean().plot()"
      ],
      "metadata": {
        "colab": {
          "base_uri": "https://localhost:8080/",
          "height": 484
        },
        "id": "C9O_Cj4Pw59s",
        "outputId": "59d1b1f2-8ecf-4de1-a8cc-ab8deff35ca5"
      },
      "execution_count": 12,
      "outputs": [
        {
          "output_type": "execute_result",
          "data": {
            "text/plain": [
              "<Axes: xlabel='datetime'>"
            ]
          },
          "metadata": {},
          "execution_count": 12
        },
        {
          "output_type": "display_data",
          "data": {
            "text/plain": [
              "<Figure size 640x480 with 1 Axes>"
            ],
            "image/png": "[encoded data removed]"
          },
          "metadata": {}
        }
      ]
    },
    {
      "cell_type": "code",
      "source": [
        "print(X_train.shape, X_test.shape)"
      ],
      "metadata": {
        "colab": {
          "base_uri": "https://localhost:8080/"
        },
        "id": "tElHxitz4gNf",
        "outputId": "02739592-1559-4957-8284-786f5eee5b82"
      },
      "execution_count": 13,
      "outputs": [
        {
          "output_type": "stream",
          "name": "stdout",
          "text": [
            "(17607, 1) (4401, 1)\n"
          ]
        }
      ]
    },
    {
      "cell_type": "code",
      "source": [
        "y_train.shape"
      ],
      "metadata": {
        "colab": {
          "base_uri": "https://localhost:8080/"
        },
        "id": "5YrhK7J34ZY8",
        "outputId": "ede0efb9-9129-464f-c415-e4acf9427e35"
      },
      "execution_count": 14,
      "outputs": [
        {
          "output_type": "execute_result",
          "data": {
            "text/plain": [
              "(17607,)"
            ]
          },
          "metadata": {},
          "execution_count": 14
        }
      ]
    },
    {
      "cell_type": "code",
      "source": [
        "from sklearn.preprocessing import MinMaxScaler\n",
        "\n",
        "f_columns = ['Load']  # Define a list of column names to be transformed\n",
        "\n",
        "f_transformer = MinMaxScaler()  # Create an instance of MinMaxScaler for feature transformation\n",
        "t_transformer = MinMaxScaler()  # Create an instance of MinMaxScaler for target transformation\n",
        "\n",
        "f_transformer = f_transformer.fit(X_train[f_columns].to_numpy())  # Fit the feature transformer to the training data\n",
        "t_transformer = t_transformer.fit(y_train.to_numpy().reshape(-1, 1))  # Fit the target transformer to the training data\n",
        "\n",
        "X_train.loc[:, f_columns] = f_transformer.transform(X_train[f_columns].to_numpy())  # Apply feature transformation to the training data\n",
        "y_train = t_transformer.transform(y_train.to_numpy().reshape(-1, 1))  # Apply target transformation to the training data\n",
        "\n",
        "X_test.loc[:, f_columns] = f_transformer.transform(X_test[f_columns].to_numpy())  # Apply feature transformation to the test data\n",
        "y_test = t_transformer.transform(y_test.to_numpy().reshape(-1, 1))  # Apply target transformation to the test data"
      ],
      "metadata": {
        "colab": {
          "base_uri": "https://localhost:8080/"
        },
        "id": "XqWPuUFX4Wvs",
        "outputId": "f462d4bc-6448-4409-c169-05d97a0af1f9"
      },
      "execution_count": 15,
      "outputs": [
        {
          "output_type": "stream",
          "name": "stderr",
          "text": [
            "<ipython-input-15-4d9097f2dad2>:11: SettingWithCopyWarning: \n",
            "A value is trying to be set on a copy of a slice from a DataFrame\n",
            "\n",
            "See the caveats in the documentation: https://pandas.pydata.org/pandas-docs/stable/user_guide/indexing.html#returning-a-view-versus-a-copy\n",
            "  X_train.loc[:, f_columns] = f_transformer.transform(X_train[f_columns].to_numpy())  # Apply feature transformation to the training data\n",
            "<ipython-input-15-4d9097f2dad2>:14: SettingWithCopyWarning: \n",
            "A value is trying to be set on a copy of a slice from a DataFrame\n",
            "\n",
            "See the caveats in the documentation: https://pandas.pydata.org/pandas-docs/stable/user_guide/indexing.html#returning-a-view-versus-a-copy\n",
            "  X_test.loc[:, f_columns] = f_transformer.transform(X_test[f_columns].to_numpy())  # Apply feature transformation to the test data\n"
          ]
        }
      ]
    },
    {
      "cell_type": "code",
      "source": [
        "import numpy as np\n",
        "\n",
        "def create_dataset(X, y, time_steps=1):\n",
        "    Xs, ys = [], []\n",
        "    for i in range(len(X) - time_steps):\n",
        "        v = X[i:(i + time_steps)]\n",
        "        Xs.append(v)\n",
        "        ys.append(y[i + time_steps])\n",
        "    return np.array(Xs), np.array(ys)"
      ],
      "metadata": {
        "id": "a1aIYIiU6oHq"
      },
      "execution_count": 16,
      "outputs": []
    },
    {
      "cell_type": "code",
      "source": [
        "time_steps = 24  # Set the number of time steps to 24\n",
        "\n",
        "X_train, y_train = create_dataset(X_train, y_train, time_steps)  # Create the training dataset using the 'create_dataset' function\n",
        "\n",
        "X_test, y_test = create_dataset(X_test, y_test, time_steps)  # Create the test dataset using the 'create_dataset' function\n",
        "\n",
        "\n",
        "\n",
        "print(X_train.shape,y_train.shape,X_test.shape,  y_test.shape)"
      ],
      "metadata": {
        "colab": {
          "base_uri": "https://localhost:8080/"
        },
        "id": "PXmAzLrL5mWG",
        "outputId": "8a9e572e-5a9a-425a-e8a3-69a8a434d394"
      },
      "execution_count": 17,
      "outputs": [
        {
          "output_type": "stream",
          "name": "stdout",
          "text": [
            "(17583, 24, 1) (17583, 1) (4377, 24, 1) (4377, 1)\n"
          ]
        }
      ]
    },
    {
      "cell_type": "code",
      "source": [],
      "metadata": {
        "id": "cyP7O4D56woh"
      },
      "execution_count": 17,
      "outputs": []
    },
    {
      "cell_type": "code",
      "source": [
        "!pip install optuna"
      ],
      "metadata": {
        "colab": {
          "base_uri": "https://localhost:8080/"
        },
        "id": "78x43eO9f-PO",
        "outputId": "4ebb609c-f14c-4afb-b24a-7cdb2963ac8c"
      },
      "execution_count": 18,
      "outputs": [
        {
          "output_type": "stream",
          "name": "stdout",
          "text": [
            "Collecting optuna\n",
            "  Downloading optuna-3.6.1-py3-none-any.whl (380 kB)\n",
            "\u001b[2K     \u001b[90m━━━━━━━━━━━━━━━━━━━━━━━━━━━━━━━━━━━━━━━━\u001b[0m \u001b[32m380.1/380.1 kB\u001b[0m \u001b[31m7.3 MB/s\u001b[0m eta \u001b[36m0:00:00\u001b[0m\n",
            "\u001b[?25hCollecting alembic>=1.5.0 (from optuna)\n",
            "  Downloading alembic-1.13.1-py3-none-any.whl (233 kB)\n",
            "\u001b[2K     \u001b[90m━━━━━━━━━━━━━━━━━━━━━━━━━━━━━━━━━━━━━━━━\u001b[0m \u001b[32m233.4/233.4 kB\u001b[0m \u001b[31m25.4 MB/s\u001b[0m eta \u001b[36m0:00:00\u001b[0m\n",
            "\u001b[?25hCollecting colorlog (from optuna)\n",
            "  Downloading colorlog-6.8.2-py3-none-any.whl (11 kB)\n",
            "Requirement already satisfied: numpy in /usr/local/lib/python3.10/dist-packages (from optuna) (1.25.2)\n",
            "Requirement already satisfied: packaging>=20.0 in /usr/local/lib/python3.10/dist-packages (from optuna) (24.0)\n",
            "Requirement already satisfied: sqlalchemy>=1.3.0 in /usr/local/lib/python3.10/dist-packages (from optuna) (2.0.29)\n",
            "Requirement already satisfied: tqdm in /usr/local/lib/python3.10/dist-packages (from optuna) (4.66.2)\n",
            "Requirement already satisfied: PyYAML in /usr/local/lib/python3.10/dist-packages (from optuna) (6.0.1)\n",
            "Collecting Mako (from alembic>=1.5.0->optuna)\n",
            "  Downloading Mako-1.3.2-py3-none-any.whl (78 kB)\n",
            "\u001b[2K     \u001b[90m━━━━━━━━━━━━━━━━━━━━━━━━━━━━━━━━━━━━━━━━\u001b[0m \u001b[32m78.7/78.7 kB\u001b[0m \u001b[31m8.1 MB/s\u001b[0m eta \u001b[36m0:00:00\u001b[0m\n",
            "\u001b[?25hRequirement already satisfied: typing-extensions>=4 in /usr/local/lib/python3.10/dist-packages (from alembic>=1.5.0->optuna) (4.10.0)\n",
            "Requirement already satisfied: greenlet!=0.4.17 in /usr/local/lib/python3.10/dist-packages (from sqlalchemy>=1.3.0->optuna) (3.0.3)\n",
            "Requirement already satisfied: MarkupSafe>=0.9.2 in /usr/local/lib/python3.10/dist-packages (from Mako->alembic>=1.5.0->optuna) (2.1.5)\n",
            "Installing collected packages: Mako, colorlog, alembic, optuna\n",
            "Successfully installed Mako-1.3.2 alembic-1.13.1 colorlog-6.8.2 optuna-3.6.1\n"
          ]
        }
      ]
    },
    {
      "cell_type": "code",
      "source": [
        "import optuna"
      ],
      "metadata": {
        "id": "TZlySQgOgCMT"
      },
      "execution_count": 19,
      "outputs": []
    },
    {
      "cell_type": "code",
      "source": [
        "import math\n",
        "from tensorflow import keras\n",
        "from keras import layers\n",
        "from keras.models import Sequential\n",
        "from keras.layers import Dense, LSTM, Dropout\n",
        "from keras.optimizers import Adam\n",
        "\n",
        "import tensorflow as tf\n",
        "from keras.callbacks import EarlyStopping\n"
      ],
      "metadata": {
        "id": "wRZm1QOWOJMa"
      },
      "execution_count": 20,
      "outputs": []
    },
    {
      "cell_type": "code",
      "source": [
        "\n",
        "def build_model(num_layers, units, dropout_rates, learning_rate):\n",
        "    model = keras.Sequential()\n",
        "\n",
        "    for i in range(num_layers):\n",
        "        return_sequences = (i != num_layers - 1)  # Set return_sequences=True for all but the last layer\n",
        "\n",
        "        model.add(layers.LSTM(units=units[i], input_shape=(X_train.shape[1], X_train.shape[2]), return_sequences=return_sequences))\n",
        "        model.add(layers.Dropout(dropout_rates[i]))\n",
        "\n",
        "    model.add(layers.Dense(1))\n",
        "\n",
        "    optimizer = Adam(learning_rate=learning_rate)\n",
        "    model.compile(\n",
        "        optimizer=optimizer,\n",
        "        loss='mean_squared_error'\n",
        "      # , metrics=['mae','mape']\n",
        "        )\n",
        "    return model"
      ],
      "metadata": {
        "id": "O7VGPb6UggYg"
      },
      "execution_count": 21,
      "outputs": []
    },
    {
      "cell_type": "code",
      "source": [
        "# Define the objective function for optimization\n",
        "def objective(trial):\n",
        "    # Define the hyperparameters to be optimized\n",
        "    num_layers = trial.suggest_int(\"num_layers\", 1, 2)\n",
        "    units = [trial.suggest_int(f\"units_{i}\", 150, 250) for i in range(num_layers)]\n",
        "    dropout_rates = [trial.suggest_uniform(f\"dropout_{i}\", 0.0, 0.5) for i in range(num_layers)]\n",
        "    learning_rate = trial.suggest_loguniform(\"learning_rate\", 1e-5, 1e-1)\n",
        "    batch_size = trial.suggest_categorical(\"batch_size\", [16, 32, 64, 128])\n",
        "\n",
        "    # Build the model based on the suggested hyperparameters\n",
        "    model = build_model(num_layers, units, dropout_rates, learning_rate)\n",
        "\n",
        "\n",
        "\n",
        "    # Define the early stopping callback\n",
        "    early_stopping = EarlyStopping(\n",
        "        monitor='val_loss',\n",
        "       patience=2,\n",
        "        restore_best_weights=True\n",
        "    )\n",
        "\n",
        "\n",
        "\n",
        "    # Train the model\n",
        "    history = model.fit(\n",
        "        X_train,\n",
        "        y_train,\n",
        "        epochs=50,\n",
        "        batch_size = batch_size,\n",
        "        validation_split=0.2,\n",
        "        callbacks=[early_stopping]\n",
        "        )\n",
        "\n",
        "    # Return the validation loss as the objective value to minimize\n",
        "    return np.min(history.history[\"val_loss\"])\n",
        "\n",
        "\n",
        "pruner = optuna.pruners.PercentilePruner(percentile=70)  # Adjust the percentile value as needed\n",
        "#pruner = optuna.pruners.MedianPruner()\n",
        "# Optimize the hyperparameters using Bayesian optimization\n",
        "study = optuna.create_study( sampler=optuna.samplers.TPESampler(), direction=\"minimize\" , pruner=pruner)\n",
        "study.optimize(objective, n_trials=20)\n",
        "\n",
        "# Get the best hyperparameters and the corresponding objective value\n",
        "best_params = study.best_params\n",
        "best_value = study.best_value\n",
        "\n",
        "print(\"Best Hyperparameters:\", best_params)\n",
        "print(\"Best Objective Value:\", best_value)\n",
        "\n",
        "# Build the final model with the best hyperparameters\n",
        "#best_model = build_model(best_params[\"num_layers\"],\n",
        "  #                       [best_params[f\"units_{i}\"] for i in range(best_params[\"num_layers\"])],\n",
        "          #               [best_params[f\"dropout_{i}\"] for i in range(best_params[\"num_layers\"])])"
      ],
      "metadata": {
        "colab": {
          "base_uri": "https://localhost:8080/"
        },
        "id": "gP0EXmZTgFRu",
        "outputId": "992c5296-3d7e-4c61-f2f9-ac9a4e87a16d"
      },
      "execution_count": 22,
      "outputs": [
        {
          "metadata": {
            "tags": null
          },
          "name": "stderr",
          "output_type": "stream",
          "text": [
            "[I 2024-04-05 08:07:49,735] A new study created in memory with name: no-name-860ad649-d6a8-4f08-a420-f0d5a97ab0d6\n",
            "<ipython-input-22-4135a6c9101c>:6: FutureWarning: suggest_uniform has been deprecated in v3.0.0. This feature will be removed in v6.0.0. See https://github.com/optuna/optuna/releases/tag/v3.0.0. Use suggest_float instead.\n",
            "  dropout_rates = [trial.suggest_uniform(f\"dropout_{i}\", 0.0, 0.5) for i in range(num_layers)]\n",
            "<ipython-input-22-4135a6c9101c>:7: FutureWarning: suggest_loguniform has been deprecated in v3.0.0. This feature will be removed in v6.0.0. See https://github.com/optuna/optuna/releases/tag/v3.0.0. Use suggest_float(..., log=True) instead.\n",
            "  learning_rate = trial.suggest_loguniform(\"learning_rate\", 1e-5, 1e-1)\n"
          ]
        },
        {
          "metadata": {
            "tags": null
          },
          "name": "stdout",
          "output_type": "stream",
          "text": [
            "Epoch 1/50\n",
            "880/880 [==============================] - 21s 22ms/step - loss: 0.0105 - val_loss: 0.0021\n",
            "Epoch 2/50\n",
            "880/880 [==============================] - 19s 21ms/step - loss: 0.0038 - val_loss: 0.0015\n",
            "Epoch 3/50\n",
            "880/880 [==============================] - 19s 22ms/step - loss: 0.0026 - val_loss: 0.0010\n",
            "Epoch 4/50\n",
            "880/880 [==============================] - 21s 24ms/step - loss: 0.0020 - val_loss: 7.6767e-04\n",
            "Epoch 5/50\n",
            "880/880 [==============================] - 19s 21ms/step - loss: 0.0017 - val_loss: 8.8642e-04\n",
            "Epoch 6/50\n",
            "880/880 [==============================] - 20s 22ms/step - loss: 0.0016 - val_loss: 6.0244e-04\n",
            "Epoch 7/50\n",
            "880/880 [==============================] - 18s 20ms/step - loss: 0.0014 - val_loss: 4.9007e-04\n",
            "Epoch 8/50\n",
            "880/880 [==============================] - 18s 21ms/step - loss: 0.0013 - val_loss: 5.0875e-04\n",
            "Epoch 9/50\n",
            "880/880 [==============================] - 18s 20ms/step - loss: 0.0012 - val_loss: 5.2641e-04\n"
          ]
        },
        {
          "metadata": {
            "tags": null
          },
          "name": "stderr",
          "output_type": "stream",
          "text": [
            "[I 2024-04-05 08:10:42,397] Trial 0 finished with value: 0.0004900686908513308 and parameters: {'num_layers': 1, 'units_0': 164, 'dropout_0': 0.2875301019349842, 'learning_rate': 0.0005566915393669472, 'batch_size': 16}. Best is trial 0 with value: 0.0004900686908513308.\n"
          ]
        },
        {
          "metadata": {
            "tags": null
          },
          "name": "stdout",
          "output_type": "stream",
          "text": [
            "Epoch 1/50\n",
            "110/110 [==============================] - 9s 60ms/step - loss: 0.0149 - val_loss: 0.0039\n",
            "Epoch 2/50\n",
            "110/110 [==============================] - 7s 64ms/step - loss: 0.0046 - val_loss: 0.0024\n",
            "Epoch 3/50\n",
            "110/110 [==============================] - 7s 62ms/step - loss: 0.0027 - val_loss: 0.0015\n",
            "Epoch 4/50\n",
            "110/110 [==============================] - 7s 60ms/step - loss: 0.0020 - val_loss: 0.0012\n",
            "Epoch 5/50\n",
            "110/110 [==============================] - 7s 63ms/step - loss: 0.0019 - val_loss: 0.0010\n",
            "Epoch 6/50\n",
            "110/110 [==============================] - 6s 57ms/step - loss: 0.0015 - val_loss: 8.0927e-04\n",
            "Epoch 7/50\n",
            "110/110 [==============================] - 6s 59ms/step - loss: 0.0015 - val_loss: 7.3156e-04\n",
            "Epoch 8/50\n",
            "110/110 [==============================] - 6s 54ms/step - loss: 0.0012 - val_loss: 7.2091e-04\n",
            "Epoch 9/50\n",
            "110/110 [==============================] - 6s 59ms/step - loss: 0.0012 - val_loss: 6.3792e-04\n",
            "Epoch 10/50\n",
            "110/110 [==============================] - 6s 55ms/step - loss: 0.0011 - val_loss: 6.5649e-04\n",
            "Epoch 11/50\n",
            "110/110 [==============================] - 6s 59ms/step - loss: 9.5444e-04 - val_loss: 6.8568e-04\n"
          ]
        },
        {
          "metadata": {
            "tags": null
          },
          "name": "stderr",
          "output_type": "stream",
          "text": [
            "[I 2024-04-05 08:11:56,535] Trial 1 finished with value: 0.0006379237747751176 and parameters: {'num_layers': 1, 'units_0': 161, 'dropout_0': 0.00993710453959945, 'learning_rate': 0.0013355452014481891, 'batch_size': 128}. Best is trial 0 with value: 0.0004900686908513308.\n"
          ]
        },
        {
          "metadata": {
            "tags": null
          },
          "name": "stdout",
          "output_type": "stream",
          "text": [
            "Epoch 1/50\n",
            "220/220 [==============================] - 35s 146ms/step - loss: 1.1549 - val_loss: 0.0019\n",
            "Epoch 2/50\n",
            "220/220 [==============================] - 31s 143ms/step - loss: 0.0136 - val_loss: 0.0030\n",
            "Epoch 3/50\n",
            "220/220 [==============================] - 30s 139ms/step - loss: 0.0102 - val_loss: 0.0021\n"
          ]
        },
        {
          "metadata": {
            "tags": null
          },
          "name": "stderr",
          "output_type": "stream",
          "text": [
            "[I 2024-04-05 08:13:44,412] Trial 2 finished with value: 0.0018604649230837822 and parameters: {'num_layers': 2, 'units_0': 209, 'units_1': 235, 'dropout_0': 0.1628019237235208, 'dropout_1': 0.15416756799147746, 'learning_rate': 0.045280174126394554, 'batch_size': 64}. Best is trial 0 with value: 0.0004900686908513308.\n"
          ]
        },
        {
          "metadata": {
            "tags": null
          },
          "name": "stdout",
          "output_type": "stream",
          "text": [
            "Epoch 1/50\n",
            "440/440 [==============================] - 14s 29ms/step - loss: 0.0156 - val_loss: 0.0039\n",
            "Epoch 2/50\n",
            "440/440 [==============================] - 13s 29ms/step - loss: 0.0046 - val_loss: 0.0023\n",
            "Epoch 3/50\n",
            "440/440 [==============================] - 13s 30ms/step - loss: 0.0033 - val_loss: 0.0017\n",
            "Epoch 4/50\n",
            "440/440 [==============================] - 13s 29ms/step - loss: 0.0028 - val_loss: 0.0016\n",
            "Epoch 5/50\n",
            "440/440 [==============================] - 13s 29ms/step - loss: 0.0024 - val_loss: 0.0015\n",
            "Epoch 6/50\n",
            "440/440 [==============================] - 13s 29ms/step - loss: 0.0020 - val_loss: 0.0010\n",
            "Epoch 7/50\n",
            "440/440 [==============================] - 13s 29ms/step - loss: 0.0017 - val_loss: 9.2923e-04\n",
            "Epoch 8/50\n",
            "440/440 [==============================] - 13s 29ms/step - loss: 0.0016 - val_loss: 8.1086e-04\n",
            "Epoch 9/50\n",
            "440/440 [==============================] - 13s 29ms/step - loss: 0.0014 - val_loss: 7.2860e-04\n",
            "Epoch 10/50\n",
            "440/440 [==============================] - 13s 29ms/step - loss: 0.0012 - val_loss: 6.2641e-04\n",
            "Epoch 11/50\n",
            "440/440 [==============================] - 13s 30ms/step - loss: 0.0012 - val_loss: 6.3383e-04\n",
            "Epoch 12/50\n",
            "440/440 [==============================] - 13s 28ms/step - loss: 0.0011 - val_loss: 5.0933e-04\n",
            "Epoch 13/50\n",
            "440/440 [==============================] - 13s 29ms/step - loss: 9.6842e-04 - val_loss: 4.9054e-04\n",
            "Epoch 14/50\n",
            "440/440 [==============================] - 13s 29ms/step - loss: 9.9886e-04 - val_loss: 4.2828e-04\n",
            "Epoch 15/50\n",
            "440/440 [==============================] - 13s 30ms/step - loss: 8.8555e-04 - val_loss: 4.1583e-04\n",
            "Epoch 16/50\n",
            "440/440 [==============================] - 13s 29ms/step - loss: 8.7470e-04 - val_loss: 4.0779e-04\n",
            "Epoch 17/50\n",
            "440/440 [==============================] - 13s 30ms/step - loss: 8.2664e-04 - val_loss: 4.9485e-04\n",
            "Epoch 18/50\n",
            "440/440 [==============================] - 13s 29ms/step - loss: 8.1802e-04 - val_loss: 4.3814e-04\n"
          ]
        },
        {
          "metadata": {
            "tags": null
          },
          "name": "stderr",
          "output_type": "stream",
          "text": [
            "[I 2024-04-05 08:18:24,594] Trial 3 finished with value: 0.0004077852063346654 and parameters: {'num_layers': 1, 'units_0': 183, 'dropout_0': 0.09486264349656731, 'learning_rate': 0.0003403119654189989, 'batch_size': 32}. Best is trial 3 with value: 0.0004077852063346654.\n"
          ]
        },
        {
          "metadata": {
            "tags": null
          },
          "name": "stdout",
          "output_type": "stream",
          "text": [
            "Epoch 1/50\n",
            "110/110 [==============================] - 25s 200ms/step - loss: 0.0149 - val_loss: 0.0034\n",
            "Epoch 2/50\n",
            "110/110 [==============================] - 20s 185ms/step - loss: 0.0046 - val_loss: 0.0013\n",
            "Epoch 3/50\n",
            "110/110 [==============================] - 21s 187ms/step - loss: 0.0034 - val_loss: 0.0012\n",
            "Epoch 4/50\n",
            "110/110 [==============================] - 21s 187ms/step - loss: 0.0031 - val_loss: 9.9526e-04\n",
            "Epoch 5/50\n",
            "110/110 [==============================] - 20s 185ms/step - loss: 0.0029 - val_loss: 9.3985e-04\n",
            "Epoch 6/50\n",
            "110/110 [==============================] - 20s 185ms/step - loss: 0.0024 - val_loss: 6.9447e-04\n",
            "Epoch 7/50\n",
            "110/110 [==============================] - 20s 181ms/step - loss: 0.0023 - val_loss: 6.6752e-04\n",
            "Epoch 8/50\n",
            "110/110 [==============================] - 20s 184ms/step - loss: 0.0021 - val_loss: 6.4852e-04\n",
            "Epoch 9/50\n",
            "110/110 [==============================] - 20s 185ms/step - loss: 0.0020 - val_loss: 6.5768e-04\n",
            "Epoch 10/50\n",
            "110/110 [==============================] - 20s 186ms/step - loss: 0.0018 - val_loss: 5.2604e-04\n",
            "Epoch 11/50\n",
            "110/110 [==============================] - 20s 184ms/step - loss: 0.0017 - val_loss: 7.8956e-04\n",
            "Epoch 12/50\n",
            "110/110 [==============================] - 20s 182ms/step - loss: 0.0016 - val_loss: 4.4171e-04\n",
            "Epoch 13/50\n",
            "110/110 [==============================] - 21s 187ms/step - loss: 0.0015 - val_loss: 4.3815e-04\n",
            "Epoch 14/50\n",
            "110/110 [==============================] - 20s 185ms/step - loss: 0.0014 - val_loss: 4.0036e-04\n",
            "Epoch 15/50\n",
            "110/110 [==============================] - 20s 183ms/step - loss: 0.0013 - val_loss: 4.0790e-04\n",
            "Epoch 16/50\n",
            "110/110 [==============================] - 20s 183ms/step - loss: 0.0013 - val_loss: 4.1879e-04\n"
          ]
        },
        {
          "metadata": {
            "tags": null
          },
          "name": "stderr",
          "output_type": "stream",
          "text": [
            "[I 2024-04-05 08:24:25,084] Trial 4 finished with value: 0.0004003633512184024 and parameters: {'num_layers': 2, 'units_0': 205, 'units_1': 190, 'dropout_0': 0.4155898230267578, 'dropout_1': 0.4567102828590725, 'learning_rate': 0.002393767021366827, 'batch_size': 128}. Best is trial 4 with value: 0.0004003633512184024.\n"
          ]
        },
        {
          "metadata": {
            "tags": null
          },
          "name": "stdout",
          "output_type": "stream",
          "text": [
            "Epoch 1/50\n",
            "220/220 [==============================] - 10s 38ms/step - loss: 0.0078 - val_loss: 0.0029\n",
            "Epoch 2/50\n",
            "220/220 [==============================] - 7s 34ms/step - loss: 0.0023 - val_loss: 0.0011\n",
            "Epoch 3/50\n",
            "220/220 [==============================] - 8s 37ms/step - loss: 0.0014 - val_loss: 5.1307e-04\n",
            "Epoch 4/50\n",
            "220/220 [==============================] - 8s 37ms/step - loss: 0.0012 - val_loss: 4.0039e-04\n",
            "Epoch 5/50\n",
            "220/220 [==============================] - 8s 34ms/step - loss: 0.0011 - val_loss: 3.4626e-04\n",
            "Epoch 6/50\n",
            "220/220 [==============================] - 8s 37ms/step - loss: 9.5358e-04 - val_loss: 4.1051e-04\n",
            "Epoch 7/50\n",
            "220/220 [==============================] - 8s 38ms/step - loss: 8.6333e-04 - val_loss: 4.7549e-04\n"
          ]
        },
        {
          "metadata": {
            "tags": null
          },
          "name": "stderr",
          "output_type": "stream",
          "text": [
            "[I 2024-04-05 08:26:18,564] Trial 5 finished with value: 0.0003462629101704806 and parameters: {'num_layers': 1, 'units_0': 164, 'dropout_0': 0.2104918714151926, 'learning_rate': 0.006839991950607957, 'batch_size': 64}. Best is trial 5 with value: 0.0003462629101704806.\n"
          ]
        },
        {
          "metadata": {
            "tags": null
          },
          "name": "stdout",
          "output_type": "stream",
          "text": [
            "Epoch 1/50\n",
            "220/220 [==============================] - 13s 51ms/step - loss: 0.1209 - val_loss: 0.0142\n",
            "Epoch 2/50\n",
            "220/220 [==============================] - 11s 51ms/step - loss: 0.0167 - val_loss: 0.0136\n",
            "Epoch 3/50\n",
            "220/220 [==============================] - 11s 49ms/step - loss: 0.0161 - val_loss: 0.0130\n",
            "Epoch 4/50\n",
            "220/220 [==============================] - 11s 48ms/step - loss: 0.0155 - val_loss: 0.0125\n",
            "Epoch 5/50\n",
            "220/220 [==============================] - 11s 49ms/step - loss: 0.0149 - val_loss: 0.0119\n",
            "Epoch 6/50\n",
            "220/220 [==============================] - 11s 49ms/step - loss: 0.0141 - val_loss: 0.0113\n",
            "Epoch 7/50\n",
            "220/220 [==============================] - 11s 49ms/step - loss: 0.0133 - val_loss: 0.0106\n",
            "Epoch 8/50\n",
            "220/220 [==============================] - 11s 49ms/step - loss: 0.0124 - val_loss: 0.0097\n",
            "Epoch 9/50\n",
            "220/220 [==============================] - 10s 48ms/step - loss: 0.0113 - val_loss: 0.0087\n",
            "Epoch 10/50\n",
            "220/220 [==============================] - 10s 46ms/step - loss: 0.0100 - val_loss: 0.0076\n",
            "Epoch 11/50\n",
            "220/220 [==============================] - 10s 47ms/step - loss: 0.0088 - val_loss: 0.0065\n",
            "Epoch 12/50\n",
            "220/220 [==============================] - 11s 48ms/step - loss: 0.0078 - val_loss: 0.0055\n",
            "Epoch 13/50\n",
            "220/220 [==============================] - 11s 49ms/step - loss: 0.0066 - val_loss: 0.0046\n",
            "Epoch 14/50\n",
            "220/220 [==============================] - 11s 49ms/step - loss: 0.0059 - val_loss: 0.0040\n",
            "Epoch 15/50\n",
            "220/220 [==============================] - 11s 49ms/step - loss: 0.0054 - val_loss: 0.0037\n",
            "Epoch 16/50\n",
            "220/220 [==============================] - 11s 49ms/step - loss: 0.0052 - val_loss: 0.0034\n",
            "Epoch 17/50\n",
            "220/220 [==============================] - 11s 49ms/step - loss: 0.0049 - val_loss: 0.0033\n",
            "Epoch 18/50\n",
            "220/220 [==============================] - 11s 48ms/step - loss: 0.0048 - val_loss: 0.0032\n",
            "Epoch 19/50\n",
            "220/220 [==============================] - 11s 48ms/step - loss: 0.0045 - val_loss: 0.0030\n",
            "Epoch 20/50\n",
            "220/220 [==============================] - 11s 48ms/step - loss: 0.0045 - val_loss: 0.0029\n",
            "Epoch 21/50\n",
            "220/220 [==============================] - 11s 48ms/step - loss: 0.0044 - val_loss: 0.0029\n",
            "Epoch 22/50\n",
            "220/220 [==============================] - 11s 48ms/step - loss: 0.0044 - val_loss: 0.0028\n",
            "Epoch 23/50\n",
            "220/220 [==============================] - 10s 47ms/step - loss: 0.0042 - val_loss: 0.0028\n",
            "Epoch 24/50\n",
            "220/220 [==============================] - 10s 47ms/step - loss: 0.0041 - val_loss: 0.0027\n",
            "Epoch 25/50\n",
            "220/220 [==============================] - 10s 45ms/step - loss: 0.0041 - val_loss: 0.0026\n",
            "Epoch 26/50\n",
            "220/220 [==============================] - 10s 47ms/step - loss: 0.0040 - val_loss: 0.0026\n",
            "Epoch 27/50\n",
            "220/220 [==============================] - 10s 47ms/step - loss: 0.0039 - val_loss: 0.0025\n",
            "Epoch 28/50\n",
            "220/220 [==============================] - 10s 47ms/step - loss: 0.0039 - val_loss: 0.0024\n",
            "Epoch 29/50\n",
            "220/220 [==============================] - 10s 47ms/step - loss: 0.0038 - val_loss: 0.0024\n",
            "Epoch 30/50\n",
            "220/220 [==============================] - 10s 47ms/step - loss: 0.0038 - val_loss: 0.0023\n",
            "Epoch 31/50\n",
            "220/220 [==============================] - 11s 48ms/step - loss: 0.0037 - val_loss: 0.0023\n",
            "Epoch 32/50\n",
            "220/220 [==============================] - 10s 48ms/step - loss: 0.0037 - val_loss: 0.0023\n",
            "Epoch 33/50\n",
            "220/220 [==============================] - 11s 48ms/step - loss: 0.0036 - val_loss: 0.0022\n",
            "Epoch 34/50\n",
            "220/220 [==============================] - 10s 48ms/step - loss: 0.0035 - val_loss: 0.0022\n",
            "Epoch 35/50\n",
            "220/220 [==============================] - 10s 47ms/step - loss: 0.0035 - val_loss: 0.0021\n",
            "Epoch 36/50\n",
            "220/220 [==============================] - 11s 48ms/step - loss: 0.0035 - val_loss: 0.0021\n",
            "Epoch 37/50\n",
            "220/220 [==============================] - 10s 48ms/step - loss: 0.0035 - val_loss: 0.0021\n",
            "Epoch 38/50\n",
            "220/220 [==============================] - 10s 47ms/step - loss: 0.0034 - val_loss: 0.0020\n",
            "Epoch 39/50\n",
            "220/220 [==============================] - 11s 48ms/step - loss: 0.0034 - val_loss: 0.0020\n",
            "Epoch 40/50\n",
            "220/220 [==============================] - 10s 47ms/step - loss: 0.0033 - val_loss: 0.0020\n",
            "Epoch 41/50\n",
            "220/220 [==============================] - 10s 48ms/step - loss: 0.0033 - val_loss: 0.0020\n",
            "Epoch 42/50\n",
            "220/220 [==============================] - 11s 48ms/step - loss: 0.0032 - val_loss: 0.0019\n",
            "Epoch 43/50\n",
            "220/220 [==============================] - 10s 48ms/step - loss: 0.0032 - val_loss: 0.0020\n",
            "Epoch 44/50\n",
            "220/220 [==============================] - 10s 47ms/step - loss: 0.0032 - val_loss: 0.0020\n"
          ]
        },
        {
          "metadata": {
            "tags": null
          },
          "name": "stderr",
          "output_type": "stream",
          "text": [
            "[I 2024-04-05 08:34:04,974] Trial 6 finished with value: 0.001917326240800321 and parameters: {'num_layers': 1, 'units_0': 213, 'dropout_0': 0.04544839711319476, 'learning_rate': 1.6689845572916593e-05, 'batch_size': 64}. Best is trial 5 with value: 0.0003462629101704806.\n"
          ]
        },
        {
          "metadata": {
            "tags": null
          },
          "name": "stdout",
          "output_type": "stream",
          "text": [
            "Epoch 1/50\n",
            "440/440 [==============================] - 18s 38ms/step - loss: 0.0212 - val_loss: 0.0093\n",
            "Epoch 2/50\n",
            "440/440 [==============================] - 17s 38ms/step - loss: 0.0085 - val_loss: 0.0038\n",
            "Epoch 3/50\n",
            "440/440 [==============================] - 16s 37ms/step - loss: 0.0051 - val_loss: 0.0029\n",
            "Epoch 4/50\n",
            "440/440 [==============================] - 16s 37ms/step - loss: 0.0046 - val_loss: 0.0029\n",
            "Epoch 5/50\n",
            "440/440 [==============================] - 17s 38ms/step - loss: 0.0042 - val_loss: 0.0023\n",
            "Epoch 6/50\n",
            "440/440 [==============================] - 16s 37ms/step - loss: 0.0039 - val_loss: 0.0022\n",
            "Epoch 7/50\n",
            "440/440 [==============================] - 17s 38ms/step - loss: 0.0037 - val_loss: 0.0020\n",
            "Epoch 8/50\n",
            "440/440 [==============================] - 16s 37ms/step - loss: 0.0032 - val_loss: 0.0018\n",
            "Epoch 9/50\n",
            "440/440 [==============================] - 17s 38ms/step - loss: 0.0031 - val_loss: 0.0018\n",
            "Epoch 10/50\n",
            "440/440 [==============================] - 16s 36ms/step - loss: 0.0029 - val_loss: 0.0016\n",
            "Epoch 11/50\n",
            "440/440 [==============================] - 17s 38ms/step - loss: 0.0028 - val_loss: 0.0015\n",
            "Epoch 12/50\n",
            "440/440 [==============================] - 16s 36ms/step - loss: 0.0026 - val_loss: 0.0014\n",
            "Epoch 13/50\n",
            "440/440 [==============================] - 16s 37ms/step - loss: 0.0025 - val_loss: 0.0014\n",
            "Epoch 14/50\n",
            "440/440 [==============================] - 17s 37ms/step - loss: 0.0023 - val_loss: 0.0014\n",
            "Epoch 15/50\n",
            "440/440 [==============================] - 16s 37ms/step - loss: 0.0022 - val_loss: 0.0015\n"
          ]
        },
        {
          "metadata": {
            "tags": null
          },
          "name": "stderr",
          "output_type": "stream",
          "text": [
            "[I 2024-04-05 08:38:50,649] Trial 7 finished with value: 0.0013999699149280787 and parameters: {'num_layers': 1, 'units_0': 244, 'dropout_0': 0.11632600030313711, 'learning_rate': 7.199706013057105e-05, 'batch_size': 32}. Best is trial 5 with value: 0.0003462629101704806.\n"
          ]
        },
        {
          "metadata": {
            "tags": null
          },
          "name": "stdout",
          "output_type": "stream",
          "text": [
            "Epoch 1/50\n",
            "440/440 [==============================] - 35s 74ms/step - loss: 0.2140 - val_loss: 0.0119\n",
            "Epoch 2/50\n",
            "440/440 [==============================] - 32s 72ms/step - loss: 0.0819 - val_loss: 0.3462\n",
            "Epoch 3/50\n",
            "440/440 [==============================] - 32s 73ms/step - loss: 0.0787 - val_loss: 0.0458\n"
          ]
        },
        {
          "metadata": {
            "tags": null
          },
          "name": "stderr",
          "output_type": "stream",
          "text": [
            "[I 2024-04-05 08:40:45,186] Trial 8 finished with value: 0.011897306889295578 and parameters: {'num_layers': 2, 'units_0': 169, 'units_1': 218, 'dropout_0': 0.24316175778144677, 'dropout_1': 0.043490258126136216, 'learning_rate': 0.019737466638097702, 'batch_size': 32}. Best is trial 5 with value: 0.0003462629101704806.\n"
          ]
        },
        {
          "metadata": {
            "tags": null
          },
          "name": "stdout",
          "output_type": "stream",
          "text": [
            "Epoch 1/50\n",
            "110/110 [==============================] - 8s 56ms/step - loss: 0.0176 - val_loss: 0.0039\n",
            "Epoch 2/50\n",
            "110/110 [==============================] - 6s 55ms/step - loss: 0.0051 - val_loss: 0.0023\n",
            "Epoch 3/50\n",
            "110/110 [==============================] - 6s 57ms/step - loss: 0.0037 - val_loss: 0.0015\n",
            "Epoch 4/50\n",
            "110/110 [==============================] - 6s 51ms/step - loss: 0.0033 - val_loss: 0.0011\n",
            "Epoch 5/50\n",
            "110/110 [==============================] - 6s 56ms/step - loss: 0.0025 - val_loss: 0.0011\n",
            "Epoch 6/50\n",
            "110/110 [==============================] - 6s 52ms/step - loss: 0.0021 - val_loss: 7.3713e-04\n",
            "Epoch 7/50\n",
            "110/110 [==============================] - 6s 56ms/step - loss: 0.0019 - val_loss: 7.0421e-04\n",
            "Epoch 8/50\n",
            "110/110 [==============================] - 6s 52ms/step - loss: 0.0017 - val_loss: 7.2929e-04\n",
            "Epoch 9/50\n",
            "110/110 [==============================] - 6s 57ms/step - loss: 0.0017 - val_loss: 5.6369e-04\n",
            "Epoch 10/50\n",
            "110/110 [==============================] - 6s 52ms/step - loss: 0.0015 - val_loss: 6.3012e-04\n",
            "Epoch 11/50\n",
            "110/110 [==============================] - 6s 56ms/step - loss: 0.0014 - val_loss: 4.9677e-04\n",
            "Epoch 12/50\n",
            "110/110 [==============================] - 6s 52ms/step - loss: 0.0014 - val_loss: 8.1481e-04\n",
            "Epoch 13/50\n",
            "110/110 [==============================] - 6s 56ms/step - loss: 0.0013 - val_loss: 4.3575e-04\n",
            "Epoch 14/50\n",
            "110/110 [==============================] - 6s 51ms/step - loss: 0.0012 - val_loss: 7.7323e-04\n",
            "Epoch 15/50\n",
            "110/110 [==============================] - 6s 57ms/step - loss: 0.0012 - val_loss: 7.6287e-04\n"
          ]
        },
        {
          "metadata": {
            "tags": null
          },
          "name": "stderr",
          "output_type": "stream",
          "text": [
            "[I 2024-04-05 08:43:01,960] Trial 9 finished with value: 0.00043575334711931646 and parameters: {'num_layers': 1, 'units_0': 165, 'dropout_0': 0.3863479818796548, 'learning_rate': 0.0034492548165647053, 'batch_size': 128}. Best is trial 5 with value: 0.0003462629101704806.\n"
          ]
        },
        {
          "metadata": {
            "tags": null
          },
          "name": "stdout",
          "output_type": "stream",
          "text": [
            "Epoch 1/50\n",
            "220/220 [==============================] - 23s 92ms/step - loss: 0.0320 - val_loss: 0.0035\n",
            "Epoch 2/50\n",
            "220/220 [==============================] - 20s 90ms/step - loss: 0.0051 - val_loss: 0.0014\n",
            "Epoch 3/50\n",
            "220/220 [==============================] - 19s 88ms/step - loss: 0.0033 - val_loss: 8.5111e-04\n",
            "Epoch 4/50\n",
            "220/220 [==============================] - 20s 91ms/step - loss: 0.0023 - val_loss: 0.0015\n",
            "Epoch 5/50\n",
            "220/220 [==============================] - 20s 90ms/step - loss: 0.0019 - val_loss: 6.1789e-04\n",
            "Epoch 6/50\n",
            "220/220 [==============================] - 20s 90ms/step - loss: 0.0017 - val_loss: 5.2428e-04\n",
            "Epoch 7/50\n",
            "220/220 [==============================] - 20s 89ms/step - loss: 0.0014 - val_loss: 3.9171e-04\n",
            "Epoch 8/50\n",
            "220/220 [==============================] - 20s 89ms/step - loss: 0.0013 - val_loss: 4.7537e-04\n",
            "Epoch 9/50\n",
            "220/220 [==============================] - 20s 90ms/step - loss: 0.0012 - val_loss: 3.5768e-04\n",
            "Epoch 10/50\n",
            "220/220 [==============================] - 20s 92ms/step - loss: 0.0012 - val_loss: 4.3130e-04\n",
            "Epoch 11/50\n",
            "220/220 [==============================] - 19s 89ms/step - loss: 0.0011 - val_loss: 4.3022e-04\n"
          ]
        },
        {
          "metadata": {
            "tags": null
          },
          "name": "stderr",
          "output_type": "stream",
          "text": [
            "[I 2024-04-05 08:47:34,906] Trial 10 finished with value: 0.000357677141437307 and parameters: {'num_layers': 2, 'units_0': 187, 'units_1': 153, 'dropout_0': 0.25943159635942503, 'dropout_1': 0.42235085039083303, 'learning_rate': 0.009908564384369642, 'batch_size': 64}. Best is trial 5 with value: 0.0003462629101704806.\n"
          ]
        },
        {
          "metadata": {
            "tags": null
          },
          "name": "stdout",
          "output_type": "stream",
          "text": [
            "Epoch 1/50\n",
            "220/220 [==============================] - 23s 91ms/step - loss: 0.0517 - val_loss: 0.0055\n",
            "Epoch 2/50\n",
            "220/220 [==============================] - 20s 89ms/step - loss: 0.0051 - val_loss: 0.0014\n",
            "Epoch 3/50\n",
            "220/220 [==============================] - 19s 88ms/step - loss: 0.0037 - val_loss: 0.0011\n",
            "Epoch 4/50\n",
            "220/220 [==============================] - 20s 90ms/step - loss: 0.0032 - val_loss: 9.2154e-04\n",
            "Epoch 5/50\n",
            "220/220 [==============================] - 19s 88ms/step - loss: 0.0026 - val_loss: 8.4274e-04\n",
            "Epoch 6/50\n",
            "220/220 [==============================] - 19s 89ms/step - loss: 0.0023 - val_loss: 6.9605e-04\n",
            "Epoch 7/50\n",
            "220/220 [==============================] - 20s 90ms/step - loss: 0.0021 - val_loss: 0.0017\n",
            "Epoch 8/50\n",
            "220/220 [==============================] - 20s 90ms/step - loss: 0.0018 - val_loss: 9.3229e-04\n"
          ]
        },
        {
          "metadata": {
            "tags": null
          },
          "name": "stderr",
          "output_type": "stream",
          "text": [
            "[I 2024-04-05 08:50:15,490] Trial 11 finished with value: 0.0006960509927012026 and parameters: {'num_layers': 2, 'units_0': 188, 'units_1': 154, 'dropout_0': 0.26803441743989903, 'dropout_1': 0.45493903251784545, 'learning_rate': 0.011051400856779662, 'batch_size': 64}. Best is trial 5 with value: 0.0003462629101704806.\n"
          ]
        },
        {
          "metadata": {
            "tags": null
          },
          "name": "stdout",
          "output_type": "stream",
          "text": [
            "Epoch 1/50\n",
            "220/220 [==============================] - 23s 93ms/step - loss: 1.2379 - val_loss: 0.0626\n",
            "Epoch 2/50\n",
            "220/220 [==============================] - 19s 87ms/step - loss: 0.0665 - val_loss: 0.0426\n",
            "Epoch 3/50\n",
            "220/220 [==============================] - 20s 89ms/step - loss: 0.0657 - val_loss: 0.0246\n",
            "Epoch 4/50\n",
            "220/220 [==============================] - 19s 88ms/step - loss: 0.0650 - val_loss: 0.0397\n",
            "Epoch 5/50\n",
            "220/220 [==============================] - 19s 85ms/step - loss: 0.0660 - val_loss: 0.0218\n",
            "Epoch 6/50\n",
            "220/220 [==============================] - 19s 87ms/step - loss: 0.0693 - val_loss: 0.1219\n",
            "Epoch 7/50\n",
            "220/220 [==============================] - 19s 88ms/step - loss: 0.0709 - val_loss: 0.0828\n"
          ]
        },
        {
          "metadata": {
            "tags": null
          },
          "name": "stderr",
          "output_type": "stream",
          "text": [
            "[I 2024-04-05 08:52:34,672] Trial 12 finished with value: 0.02175934985280037 and parameters: {'num_layers': 2, 'units_0': 184, 'units_1': 154, 'dropout_0': 0.20018995033706233, 'dropout_1': 0.30292865893217713, 'learning_rate': 0.07494523085330333, 'batch_size': 64}. Best is trial 5 with value: 0.0003462629101704806.\n"
          ]
        },
        {
          "metadata": {
            "tags": null
          },
          "name": "stdout",
          "output_type": "stream",
          "text": [
            "Epoch 1/50\n",
            "220/220 [==============================] - 24s 94ms/step - loss: 0.0187 - val_loss: 0.0029\n",
            "Epoch 2/50\n",
            "220/220 [==============================] - 20s 93ms/step - loss: 0.0035 - val_loss: 0.0014\n",
            "Epoch 3/50\n",
            "220/220 [==============================] - 20s 93ms/step - loss: 0.0024 - val_loss: 7.8925e-04\n",
            "Epoch 4/50\n",
            "220/220 [==============================] - 21s 94ms/step - loss: 0.0018 - val_loss: 4.7130e-04\n",
            "Epoch 5/50\n",
            "220/220 [==============================] - 20s 93ms/step - loss: 0.0015 - val_loss: 4.1929e-04\n",
            "Epoch 6/50\n",
            "220/220 [==============================] - 21s 94ms/step - loss: 0.0013 - val_loss: 5.1781e-04\n",
            "Epoch 7/50\n",
            "220/220 [==============================] - 21s 96ms/step - loss: 0.0012 - val_loss: 3.8633e-04\n",
            "Epoch 8/50\n",
            "220/220 [==============================] - 21s 96ms/step - loss: 0.0011 - val_loss: 5.2809e-04\n",
            "Epoch 9/50\n",
            "220/220 [==============================] - 22s 98ms/step - loss: 0.0010 - val_loss: 4.2825e-04\n"
          ]
        },
        {
          "metadata": {
            "tags": null
          },
          "name": "stderr",
          "output_type": "stream",
          "text": [
            "[I 2024-04-05 08:55:50,847] Trial 13 finished with value: 0.0003863316960632801 and parameters: {'num_layers': 2, 'units_0': 152, 'units_1': 186, 'dropout_0': 0.34003098336553894, 'dropout_1': 0.32545677517739646, 'learning_rate': 0.00684167037017809, 'batch_size': 64}. Best is trial 5 with value: 0.0003462629101704806.\n"
          ]
        },
        {
          "metadata": {
            "tags": null
          },
          "name": "stdout",
          "output_type": "stream",
          "text": [
            "Epoch 1/50\n",
            "880/880 [==============================] - 26s 28ms/step - loss: 0.2287 - val_loss: 0.0531\n",
            "Epoch 2/50\n",
            "880/880 [==============================] - 24s 27ms/step - loss: 0.0804 - val_loss: 0.0612\n",
            "Epoch 3/50\n",
            "880/880 [==============================] - 24s 27ms/step - loss: 0.0843 - val_loss: 0.0860\n"
          ]
        },
        {
          "metadata": {
            "tags": null
          },
          "name": "stderr",
          "output_type": "stream",
          "text": [
            "[I 2024-04-05 08:57:19,254] Trial 14 finished with value: 0.05309110879898071 and parameters: {'num_layers': 1, 'units_0': 229, 'dropout_0': 0.47276287889663565, 'learning_rate': 0.021587028296809755, 'batch_size': 16}. Best is trial 5 with value: 0.0003462629101704806.\n"
          ]
        },
        {
          "metadata": {
            "tags": null
          },
          "name": "stdout",
          "output_type": "stream",
          "text": [
            "Epoch 1/50\n",
            "220/220 [==============================] - 26s 107ms/step - loss: 0.0231 - val_loss: 0.0070\n",
            "Epoch 2/50\n",
            "220/220 [==============================] - 22s 102ms/step - loss: 0.0080 - val_loss: 0.0034\n",
            "Epoch 3/50\n",
            "220/220 [==============================] - 23s 103ms/step - loss: 0.0067 - val_loss: 0.0035\n",
            "Epoch 4/50\n",
            "220/220 [==============================] - 23s 105ms/step - loss: 0.0062 - val_loss: 0.0024\n",
            "Epoch 5/50\n",
            "220/220 [==============================] - 23s 104ms/step - loss: 0.0057 - val_loss: 0.0022\n",
            "Epoch 6/50\n",
            "220/220 [==============================] - 23s 104ms/step - loss: 0.0051 - val_loss: 0.0020\n",
            "Epoch 7/50\n",
            "220/220 [==============================] - 24s 111ms/step - loss: 0.0048 - val_loss: 0.0021\n",
            "Epoch 8/50\n",
            "220/220 [==============================] - 25s 114ms/step - loss: 0.0046 - val_loss: 0.0018\n",
            "Epoch 9/50\n",
            "220/220 [==============================] - 24s 107ms/step - loss: 0.0042 - val_loss: 0.0016\n",
            "Epoch 10/50\n",
            "220/220 [==============================] - 23s 106ms/step - loss: 0.0041 - val_loss: 0.0015\n",
            "Epoch 11/50\n",
            "220/220 [==============================] - 23s 103ms/step - loss: 0.0037 - val_loss: 0.0016\n",
            "Epoch 12/50\n",
            "220/220 [==============================] - 23s 104ms/step - loss: 0.0034 - val_loss: 0.0012\n",
            "Epoch 13/50\n",
            "220/220 [==============================] - 23s 103ms/step - loss: 0.0033 - val_loss: 0.0012\n",
            "Epoch 14/50\n",
            "220/220 [==============================] - 23s 103ms/step - loss: 0.0031 - val_loss: 0.0011\n",
            "Epoch 15/50\n",
            "220/220 [==============================] - 23s 103ms/step - loss: 0.0029 - val_loss: 9.7010e-04\n",
            "Epoch 16/50\n",
            "220/220 [==============================] - 23s 103ms/step - loss: 0.0028 - val_loss: 9.6060e-04\n",
            "Epoch 17/50\n",
            "220/220 [==============================] - 23s 103ms/step - loss: 0.0028 - val_loss: 9.4319e-04\n",
            "Epoch 18/50\n",
            "220/220 [==============================] - 23s 103ms/step - loss: 0.0027 - val_loss: 8.7381e-04\n",
            "Epoch 19/50\n",
            "220/220 [==============================] - 23s 104ms/step - loss: 0.0025 - val_loss: 8.0556e-04\n",
            "Epoch 20/50\n",
            "220/220 [==============================] - 23s 104ms/step - loss: 0.0025 - val_loss: 7.7721e-04\n",
            "Epoch 21/50\n",
            "220/220 [==============================] - 23s 104ms/step - loss: 0.0024 - val_loss: 0.0011\n",
            "Epoch 22/50\n",
            "220/220 [==============================] - 23s 102ms/step - loss: 0.0024 - val_loss: 7.2575e-04\n",
            "Epoch 23/50\n",
            "220/220 [==============================] - 23s 103ms/step - loss: 0.0023 - val_loss: 7.2084e-04\n",
            "Epoch 24/50\n",
            "220/220 [==============================] - 23s 103ms/step - loss: 0.0022 - val_loss: 6.7426e-04\n",
            "Epoch 25/50\n",
            "220/220 [==============================] - 22s 102ms/step - loss: 0.0021 - val_loss: 6.8818e-04\n",
            "Epoch 26/50\n",
            "220/220 [==============================] - 23s 103ms/step - loss: 0.0020 - val_loss: 6.2171e-04\n",
            "Epoch 27/50\n",
            "220/220 [==============================] - 23s 102ms/step - loss: 0.0020 - val_loss: 6.4269e-04\n",
            "Epoch 28/50\n",
            "220/220 [==============================] - 23s 103ms/step - loss: 0.0019 - val_loss: 5.9544e-04\n",
            "Epoch 29/50\n",
            "220/220 [==============================] - 22s 102ms/step - loss: 0.0018 - val_loss: 5.6360e-04\n",
            "Epoch 30/50\n",
            "220/220 [==============================] - 22s 102ms/step - loss: 0.0018 - val_loss: 5.7458e-04\n",
            "Epoch 31/50\n",
            "220/220 [==============================] - 22s 102ms/step - loss: 0.0018 - val_loss: 5.2300e-04\n",
            "Epoch 32/50\n",
            "220/220 [==============================] - 23s 102ms/step - loss: 0.0017 - val_loss: 5.8900e-04\n",
            "Epoch 33/50\n",
            "220/220 [==============================] - 23s 103ms/step - loss: 0.0017 - val_loss: 4.8062e-04\n",
            "Epoch 34/50\n",
            "220/220 [==============================] - 23s 103ms/step - loss: 0.0016 - val_loss: 4.6689e-04\n",
            "Epoch 35/50\n",
            "220/220 [==============================] - 23s 107ms/step - loss: 0.0016 - val_loss: 4.7180e-04\n",
            "Epoch 36/50\n",
            "220/220 [==============================] - 23s 105ms/step - loss: 0.0015 - val_loss: 4.3812e-04\n",
            "Epoch 37/50\n",
            "220/220 [==============================] - 23s 107ms/step - loss: 0.0015 - val_loss: 4.9943e-04\n",
            "Epoch 38/50\n",
            "220/220 [==============================] - 24s 110ms/step - loss: 0.0014 - val_loss: 4.1657e-04\n",
            "Epoch 39/50\n",
            "220/220 [==============================] - 24s 108ms/step - loss: 0.0014 - val_loss: 7.0768e-04\n",
            "Epoch 40/50\n",
            "220/220 [==============================] - 23s 105ms/step - loss: 0.0014 - val_loss: 3.9328e-04\n",
            "Epoch 41/50\n",
            "220/220 [==============================] - 24s 110ms/step - loss: 0.0014 - val_loss: 3.8866e-04\n",
            "Epoch 42/50\n",
            "220/220 [==============================] - 24s 110ms/step - loss: 0.0013 - val_loss: 3.6709e-04\n",
            "Epoch 43/50\n",
            "220/220 [==============================] - 23s 106ms/step - loss: 0.0013 - val_loss: 3.6545e-04\n",
            "Epoch 44/50\n",
            "220/220 [==============================] - 23s 105ms/step - loss: 0.0013 - val_loss: 3.7548e-04\n",
            "Epoch 45/50\n",
            "220/220 [==============================] - 24s 109ms/step - loss: 0.0012 - val_loss: 3.5714e-04\n",
            "Epoch 46/50\n",
            "220/220 [==============================] - 23s 106ms/step - loss: 0.0012 - val_loss: 3.9948e-04\n",
            "Epoch 47/50\n",
            "220/220 [==============================] - 23s 106ms/step - loss: 0.0012 - val_loss: 3.4577e-04\n",
            "Epoch 48/50\n",
            "220/220 [==============================] - 23s 104ms/step - loss: 0.0012 - val_loss: 3.5453e-04\n",
            "Epoch 49/50\n",
            "220/220 [==============================] - 23s 104ms/step - loss: 0.0011 - val_loss: 3.5837e-04\n"
          ]
        },
        {
          "metadata": {
            "tags": null
          },
          "name": "stderr",
          "output_type": "stream",
          "text": [
            "[I 2024-04-05 09:16:11,729] Trial 15 finished with value: 0.0003457668935880065 and parameters: {'num_layers': 2, 'units_0': 195, 'units_1': 178, 'dropout_0': 0.19571995762039077, 'dropout_1': 0.4933971689573552, 'learning_rate': 0.0002237722768413509, 'batch_size': 64}. Best is trial 15 with value: 0.0003457668935880065.\n"
          ]
        },
        {
          "metadata": {
            "tags": null
          },
          "name": "stdout",
          "output_type": "stream",
          "text": [
            "Epoch 1/50\n",
            "220/220 [==============================] - 13s 51ms/step - loss: 0.0309 - val_loss: 0.0119\n",
            "Epoch 2/50\n",
            "220/220 [==============================] - 11s 49ms/step - loss: 0.0123 - val_loss: 0.0062\n",
            "Epoch 3/50\n",
            "220/220 [==============================] - 11s 50ms/step - loss: 0.0070 - val_loss: 0.0035\n",
            "Epoch 4/50\n",
            "220/220 [==============================] - 11s 49ms/step - loss: 0.0058 - val_loss: 0.0031\n",
            "Epoch 5/50\n",
            "220/220 [==============================] - 11s 49ms/step - loss: 0.0051 - val_loss: 0.0037\n",
            "Epoch 6/50\n",
            "220/220 [==============================] - 11s 50ms/step - loss: 0.0047 - val_loss: 0.0025\n",
            "Epoch 7/50\n",
            "220/220 [==============================] - 11s 49ms/step - loss: 0.0044 - val_loss: 0.0023\n",
            "Epoch 8/50\n",
            "220/220 [==============================] - 11s 49ms/step - loss: 0.0042 - val_loss: 0.0022\n",
            "Epoch 9/50\n",
            "220/220 [==============================] - 11s 49ms/step - loss: 0.0039 - val_loss: 0.0019\n",
            "Epoch 10/50\n",
            "220/220 [==============================] - 11s 49ms/step - loss: 0.0036 - val_loss: 0.0019\n",
            "Epoch 11/50\n",
            "220/220 [==============================] - 11s 50ms/step - loss: 0.0034 - val_loss: 0.0017\n",
            "Epoch 12/50\n",
            "220/220 [==============================] - 11s 49ms/step - loss: 0.0033 - val_loss: 0.0022\n",
            "Epoch 13/50\n",
            "220/220 [==============================] - 11s 50ms/step - loss: 0.0031 - val_loss: 0.0018\n"
          ]
        },
        {
          "metadata": {
            "tags": null
          },
          "name": "stderr",
          "output_type": "stream",
          "text": [
            "[I 2024-04-05 09:19:07,268] Trial 16 finished with value: 0.0017275817226618528 and parameters: {'num_layers': 1, 'units_0': 220, 'dropout_0': 0.17976087663189044, 'learning_rate': 0.00014701075966252653, 'batch_size': 64}. Best is trial 15 with value: 0.0003457668935880065.\n"
          ]
        },
        {
          "metadata": {
            "tags": null
          },
          "name": "stdout",
          "output_type": "stream",
          "text": [
            "Epoch 1/50\n",
            "220/220 [==============================] - 26s 106ms/step - loss: 0.0456 - val_loss: 0.0133\n",
            "Epoch 2/50\n",
            "220/220 [==============================] - 23s 103ms/step - loss: 0.0162 - val_loss: 0.0124\n",
            "Epoch 3/50\n",
            "220/220 [==============================] - 23s 104ms/step - loss: 0.0150 - val_loss: 0.0111\n",
            "Epoch 4/50\n",
            "220/220 [==============================] - 23s 102ms/step - loss: 0.0127 - val_loss: 0.0082\n",
            "Epoch 5/50\n",
            "220/220 [==============================] - 23s 103ms/step - loss: 0.0091 - val_loss: 0.0050\n",
            "Epoch 6/50\n",
            "220/220 [==============================] - 23s 103ms/step - loss: 0.0068 - val_loss: 0.0042\n",
            "Epoch 7/50\n",
            "220/220 [==============================] - 23s 103ms/step - loss: 0.0063 - val_loss: 0.0037\n",
            "Epoch 8/50\n",
            "220/220 [==============================] - 23s 104ms/step - loss: 0.0059 - val_loss: 0.0034\n",
            "Epoch 9/50\n",
            "220/220 [==============================] - 23s 103ms/step - loss: 0.0056 - val_loss: 0.0032\n",
            "Epoch 10/50\n",
            "220/220 [==============================] - 23s 103ms/step - loss: 0.0053 - val_loss: 0.0031\n",
            "Epoch 11/50\n",
            "220/220 [==============================] - 23s 103ms/step - loss: 0.0052 - val_loss: 0.0031\n",
            "Epoch 12/50\n",
            "220/220 [==============================] - 23s 104ms/step - loss: 0.0053 - val_loss: 0.0029\n",
            "Epoch 13/50\n",
            "220/220 [==============================] - 23s 103ms/step - loss: 0.0051 - val_loss: 0.0027\n",
            "Epoch 14/50\n",
            "220/220 [==============================] - 23s 104ms/step - loss: 0.0048 - val_loss: 0.0026\n",
            "Epoch 15/50\n",
            "220/220 [==============================] - 23s 104ms/step - loss: 0.0048 - val_loss: 0.0025\n",
            "Epoch 16/50\n",
            "220/220 [==============================] - 23s 105ms/step - loss: 0.0046 - val_loss: 0.0024\n",
            "Epoch 17/50\n",
            "220/220 [==============================] - 23s 105ms/step - loss: 0.0046 - val_loss: 0.0024\n",
            "Epoch 18/50\n",
            "220/220 [==============================] - 23s 104ms/step - loss: 0.0045 - val_loss: 0.0023\n",
            "Epoch 19/50\n",
            "220/220 [==============================] - 23s 104ms/step - loss: 0.0044 - val_loss: 0.0023\n",
            "Epoch 20/50\n",
            "220/220 [==============================] - 23s 104ms/step - loss: 0.0043 - val_loss: 0.0022\n",
            "Epoch 21/50\n",
            "220/220 [==============================] - 23s 104ms/step - loss: 0.0042 - val_loss: 0.0022\n",
            "Epoch 22/50\n",
            "220/220 [==============================] - 23s 106ms/step - loss: 0.0041 - val_loss: 0.0021\n",
            "Epoch 23/50\n",
            "220/220 [==============================] - 23s 104ms/step - loss: 0.0041 - val_loss: 0.0021\n",
            "Epoch 24/50\n",
            "220/220 [==============================] - 23s 102ms/step - loss: 0.0040 - val_loss: 0.0021\n",
            "Epoch 25/50\n",
            "220/220 [==============================] - 23s 103ms/step - loss: 0.0039 - val_loss: 0.0020\n",
            "Epoch 26/50\n",
            "220/220 [==============================] - 22s 102ms/step - loss: 0.0039 - val_loss: 0.0020\n",
            "Epoch 27/50\n",
            "220/220 [==============================] - 23s 103ms/step - loss: 0.0037 - val_loss: 0.0020\n",
            "Epoch 28/50\n",
            "220/220 [==============================] - 22s 102ms/step - loss: 0.0037 - val_loss: 0.0020\n",
            "Epoch 29/50\n",
            "220/220 [==============================] - 22s 101ms/step - loss: 0.0037 - val_loss: 0.0020\n",
            "Epoch 30/50\n",
            "220/220 [==============================] - 22s 101ms/step - loss: 0.0037 - val_loss: 0.0019\n",
            "Epoch 31/50\n",
            "220/220 [==============================] - 22s 101ms/step - loss: 0.0036 - val_loss: 0.0019\n",
            "Epoch 32/50\n",
            "220/220 [==============================] - 22s 100ms/step - loss: 0.0036 - val_loss: 0.0019\n",
            "Epoch 33/50\n",
            "220/220 [==============================] - 22s 101ms/step - loss: 0.0035 - val_loss: 0.0019\n",
            "Epoch 34/50\n",
            "220/220 [==============================] - 22s 101ms/step - loss: 0.0034 - val_loss: 0.0019\n"
          ]
        },
        {
          "metadata": {
            "tags": null
          },
          "name": "stderr",
          "output_type": "stream",
          "text": [
            "[I 2024-04-05 09:32:01,776] Trial 17 finished with value: 0.0018687066622078419 and parameters: {'num_layers': 2, 'units_0': 196, 'units_1': 185, 'dropout_0': 0.12175384232715264, 'dropout_1': 0.20219377519920692, 'learning_rate': 3.0738110137750255e-05, 'batch_size': 64}. Best is trial 15 with value: 0.0003457668935880065.\n"
          ]
        },
        {
          "metadata": {
            "tags": null
          },
          "name": "stdout",
          "output_type": "stream",
          "text": [
            "Epoch 1/50\n",
            "880/880 [==============================] - 48s 51ms/step - loss: 0.0124 - val_loss: 0.0031\n",
            "Epoch 2/50\n",
            "880/880 [==============================] - 44s 50ms/step - loss: 0.0050 - val_loss: 0.0023\n",
            "Epoch 3/50\n",
            "880/880 [==============================] - 45s 51ms/step - loss: 0.0039 - val_loss: 0.0014\n",
            "Epoch 4/50\n",
            "880/880 [==============================] - 44s 50ms/step - loss: 0.0031 - val_loss: 0.0012\n",
            "Epoch 5/50\n",
            "880/880 [==============================] - 44s 50ms/step - loss: 0.0026 - val_loss: 9.6634e-04\n",
            "Epoch 6/50\n",
            "880/880 [==============================] - 44s 50ms/step - loss: 0.0023 - val_loss: 8.7402e-04\n",
            "Epoch 7/50\n",
            "880/880 [==============================] - 45s 51ms/step - loss: 0.0021 - val_loss: 8.5701e-04\n",
            "Epoch 8/50\n",
            "880/880 [==============================] - 44s 50ms/step - loss: 0.0020 - val_loss: 7.0631e-04\n",
            "Epoch 9/50\n",
            "880/880 [==============================] - 45s 51ms/step - loss: 0.0018 - val_loss: 6.6626e-04\n",
            "Epoch 10/50\n",
            "880/880 [==============================] - 45s 51ms/step - loss: 0.0017 - val_loss: 6.1558e-04\n",
            "Epoch 11/50\n",
            "880/880 [==============================] - 47s 53ms/step - loss: 0.0016 - val_loss: 6.3257e-04\n",
            "Epoch 12/50\n",
            "880/880 [==============================] - 49s 56ms/step - loss: 0.0015 - val_loss: 5.0239e-04\n",
            "Epoch 13/50\n",
            "880/880 [==============================] - 48s 55ms/step - loss: 0.0014 - val_loss: 4.4043e-04\n",
            "Epoch 14/50\n",
            "880/880 [==============================] - 47s 54ms/step - loss: 0.0013 - val_loss: 4.0192e-04\n",
            "Epoch 15/50\n",
            "880/880 [==============================] - 47s 54ms/step - loss: 0.0012 - val_loss: 3.7470e-04\n",
            "Epoch 16/50\n",
            "880/880 [==============================] - 47s 54ms/step - loss: 0.0012 - val_loss: 4.4050e-04\n",
            "Epoch 17/50\n",
            "880/880 [==============================] - 46s 52ms/step - loss: 0.0011 - val_loss: 3.6536e-04\n",
            "Epoch 18/50\n",
            "880/880 [==============================] - 44s 50ms/step - loss: 0.0011 - val_loss: 3.9091e-04\n",
            "Epoch 19/50\n",
            "880/880 [==============================] - 44s 50ms/step - loss: 0.0011 - val_loss: 3.7896e-04\n"
          ]
        },
        {
          "metadata": {
            "tags": null
          },
          "name": "stderr",
          "output_type": "stream",
          "text": [
            "[I 2024-04-05 09:47:00,217] Trial 18 finished with value: 0.0003653594176284969 and parameters: {'num_layers': 2, 'units_0': 175, 'units_1': 207, 'dropout_0': 0.3046128325870945, 'dropout_1': 0.3452066152190486, 'learning_rate': 0.00023861683942913892, 'batch_size': 16}. Best is trial 15 with value: 0.0003457668935880065.\n"
          ]
        },
        {
          "output_type": "stream",
          "name": "stdout",
          "text": [
            "Epoch 1/50\n",
            "220/220 [==============================] - 17s 64ms/step - loss: 0.0136 - val_loss: 0.0034\n",
            "Epoch 2/50\n",
            "220/220 [==============================] - 14s 63ms/step - loss: 0.0046 - val_loss: 0.0021\n",
            "Epoch 3/50\n",
            "220/220 [==============================] - 13s 61ms/step - loss: 0.0030 - val_loss: 0.0014\n",
            "Epoch 4/50\n",
            "220/220 [==============================] - 14s 62ms/step - loss: 0.0024 - val_loss: 0.0012\n",
            "Epoch 5/50\n",
            "220/220 [==============================] - 14s 62ms/step - loss: 0.0020 - val_loss: 0.0010\n",
            "Epoch 6/50\n",
            "220/220 [==============================] - 14s 62ms/step - loss: 0.0018 - val_loss: 9.0992e-04\n",
            "Epoch 7/50\n",
            "220/220 [==============================] - 14s 62ms/step - loss: 0.0017 - val_loss: 8.8159e-04\n",
            "Epoch 8/50\n",
            "220/220 [==============================] - 14s 62ms/step - loss: 0.0016 - val_loss: 7.3881e-04\n",
            "Epoch 9/50\n",
            "220/220 [==============================] - 14s 61ms/step - loss: 0.0015 - val_loss: 7.0457e-04\n",
            "Epoch 10/50\n",
            "220/220 [==============================] - 14s 62ms/step - loss: 0.0013 - val_loss: 6.2344e-04\n",
            "Epoch 11/50\n",
            "220/220 [==============================] - 14s 63ms/step - loss: 0.0012 - val_loss: 5.7624e-04\n",
            "Epoch 12/50\n",
            "220/220 [==============================] - 14s 62ms/step - loss: 0.0012 - val_loss: 5.3732e-04\n",
            "Epoch 13/50\n",
            "220/220 [==============================] - 14s 62ms/step - loss: 0.0011 - val_loss: 5.4659e-04\n",
            "Epoch 14/50\n",
            "220/220 [==============================] - 14s 62ms/step - loss: 0.0011 - val_loss: 5.1084e-04\n",
            "Epoch 15/50\n",
            "220/220 [==============================] - 14s 62ms/step - loss: 0.0010 - val_loss: 4.4293e-04\n",
            "Epoch 16/50\n",
            "220/220 [==============================] - 14s 65ms/step - loss: 9.4667e-04 - val_loss: 4.3307e-04\n",
            "Epoch 17/50\n",
            "220/220 [==============================] - 14s 65ms/step - loss: 9.3923e-04 - val_loss: 4.0326e-04\n",
            "Epoch 18/50\n",
            "220/220 [==============================] - 14s 65ms/step - loss: 8.8236e-04 - val_loss: 4.7461e-04\n",
            "Epoch 19/50\n",
            "220/220 [==============================] - 16s 71ms/step - loss: 9.1653e-04 - val_loss: 3.3923e-04\n",
            "Epoch 20/50\n",
            "220/220 [==============================] - 14s 65ms/step - loss: 8.5229e-04 - val_loss: 3.5983e-04\n",
            "Epoch 21/50\n",
            "220/220 [==============================] - 15s 68ms/step - loss: 8.3258e-04 - val_loss: 3.7955e-04\n"
          ]
        },
        {
          "output_type": "stream",
          "name": "stderr",
          "text": [
            "[I 2024-04-05 09:52:53,253] Trial 19 finished with value: 0.0003392311045899987 and parameters: {'num_layers': 1, 'units_0': 238, 'dropout_0': 0.21281066522600117, 'learning_rate': 0.0007686009471966071, 'batch_size': 64}. Best is trial 19 with value: 0.0003392311045899987.\n"
          ]
        },
        {
          "output_type": "stream",
          "name": "stdout",
          "text": [
            "Best Hyperparameters: {'num_layers': 1, 'units_0': 238, 'dropout_0': 0.21281066522600117, 'learning_rate': 0.0007686009471966071, 'batch_size': 64}\n",
            "Best Objective Value: 0.0003392311045899987\n"
          ]
        }
      ]
    },
    {
      "cell_type": "code",
      "source": [
        "# Print the best hyperparameters and the corresponding objective value\n",
        "print(\"Best Hyperparameters:\", study.best_params)\n",
        "print(\"Best Objective Value:\", study.best_value)"
      ],
      "metadata": {
        "id": "uuRf7ALMgFO5",
        "colab": {
          "base_uri": "https://localhost:8080/"
        },
        "outputId": "e5672876-f73c-4c5d-8c7d-3945768cbf89"
      },
      "execution_count": 24,
      "outputs": [
        {
          "output_type": "stream",
          "name": "stdout",
          "text": [
            "Best Hyperparameters: {'num_layers': 1, 'units_0': 238, 'dropout_0': 0.21281066522600117, 'learning_rate': 0.0007686009471966071, 'batch_size': 64}\n",
            "Best Objective Value: 0.0003392311045899987\n"
          ]
        }
      ]
    },
    {
      "cell_type": "markdown",
      "source": [
        "# [**Plots**](https://medium.com/optuna/visualizing-hyperparameters-in-optuna-86c224bd255f)"
      ],
      "metadata": {
        "id": "E8UdBpGG8F3M"
      }
    },
    {
      "cell_type": "code",
      "source": [
        "# Generate Optuna optimization history plot\n",
        "fig = optuna.visualization.plot_optimization_history(study)\n",
        "fig.show()\n"
      ],
      "metadata": {
        "id": "PiicTdnyMyOa",
        "colab": {
          "base_uri": "https://localhost:8080/",
          "height": 542
        },
        "outputId": "f6fe8fff-d45b-442c-e1cb-aa2f53f1306e"
      },
      "execution_count": 25,
      "outputs": [
        {
          "output_type": "display_data",
          "data": {
            "text/html": [
              "<html>\n",
              "<head><meta charset=\"utf-8\" /></head>\n",
              "<body>\n",
              "    <div>            <script src=\"https://cdnjs.cloudflare.com/ajax/libs/mathjax/2.7.5/MathJax.js?config=TeX-AMS-MML_SVG\"></script><script type=\"text/javascript\">if (window.MathJax && window.MathJax.Hub && window.MathJax.Hub.Config) {window.MathJax.Hub.Config({SVG: {font: \"STIX-Web\"}});}</script>                <script type=\"text/javascript\">window.PlotlyConfig = {MathJaxConfig: 'local'};</script>\n",
              "        <script charset=\"utf-8\" src=\"https://cdn.plot.ly/plotly-2.24.1.min.js\"></script>                <div id=\"78b63a21-6df3-4b93-ac3e-d7abbdc2be14\" class=\"plotly-graph-div\" style=\"height:525px; width:100%;\"></div>            <script type=\"text/javascript\">                                    window.PLOTLYENV=window.PLOTLYENV || {};                                    if (document.getElementById(\"78b63a21-6df3-4b93-ac3e-d7abbdc2be14\")) {                    Plotly.newPlot(                        \"78b63a21-6df3-4b93-ac3e-d7abbdc2be14\",                        [{\"mode\":\"markers\",\"name\":\"Objective Value\",\"x\":[0,1,2,3,4,5,6,7,8,9,10,11,12,13,14,15,16,17,18,19],\"y\":[0.0004900686908513308,0.0006379237747751176,0.0018604649230837822,0.0004077852063346654,0.0004003633512184024,0.0003462629101704806,0.001917326240800321,0.0013999699149280787,0.011897306889295578,0.00043575334711931646,0.000357677141437307,0.0006960509927012026,0.02175934985280037,0.0003863316960632801,0.05309110879898071,0.0003457668935880065,0.0017275817226618528,0.0018687066622078419,0.0003653594176284969,0.0003392311045899987],\"type\":\"scatter\"},{\"mode\":\"lines\",\"name\":\"Best Value\",\"x\":[0,1,2,3,4,5,6,7,8,9,10,11,12,13,14,15,16,17,18,19],\"y\":[0.0004900686908513308,0.0004900686908513308,0.0004900686908513308,0.0004077852063346654,0.0004003633512184024,0.0003462629101704806,0.0003462629101704806,0.0003462629101704806,0.0003462629101704806,0.0003462629101704806,0.0003462629101704806,0.0003462629101704806,0.0003462629101704806,0.0003462629101704806,0.0003462629101704806,0.0003457668935880065,0.0003457668935880065,0.0003457668935880065,0.0003457668935880065,0.0003392311045899987],\"type\":\"scatter\"},{\"marker\":{\"color\":\"#cccccc\"},\"mode\":\"markers\",\"name\":\"Infeasible Trial\",\"showlegend\":false,\"x\":[],\"y\":[],\"type\":\"scatter\"}],                        {\"title\":{\"text\":\"Optimization History Plot\"},\"xaxis\":{\"title\":{\"text\":\"Trial\"}},\"yaxis\":{\"title\":{\"text\":\"Objective Value\"}},\"template\":{\"data\":{\"histogram2dcontour\":[{\"type\":\"histogram2dcontour\",\"colorbar\":{\"outlinewidth\":0,\"ticks\":\"\"},\"colorscale\":[[0.0,\"#0d0887\"],[0.1111111111111111,\"#46039f\"],[0.2222222222222222,\"#7201a8\"],[0.3333333333333333,\"#9c179e\"],[0.4444444444444444,\"#bd3786\"],[0.5555555555555556,\"#d8576b\"],[0.6666666666666666,\"#ed7953\"],[0.7777777777777778,\"#fb9f3a\"],[0.8888888888888888,\"#fdca26\"],[1.0,\"#f0f921\"]]}],\"choropleth\":[{\"type\":\"choropleth\",\"colorbar\":{\"outlinewidth\":0,\"ticks\":\"\"}}],\"histogram2d\":[{\"type\":\"histogram2d\",\"colorbar\":{\"outlinewidth\":0,\"ticks\":\"\"},\"colorscale\":[[0.0,\"#0d0887\"],[0.1111111111111111,\"#46039f\"],[0.2222222222222222,\"#7201a8\"],[0.3333333333333333,\"#9c179e\"],[0.4444444444444444,\"#bd3786\"],[0.5555555555555556,\"#d8576b\"],[0.6666666666666666,\"#ed7953\"],[0.7777777777777778,\"#fb9f3a\"],[0.8888888888888888,\"#fdca26\"],[1.0,\"#f0f921\"]]}],\"heatmap\":[{\"type\":\"heatmap\",\"colorbar\":{\"outlinewidth\":0,\"ticks\":\"\"},\"colorscale\":[[0.0,\"#0d0887\"],[0.1111111111111111,\"#46039f\"],[0.2222222222222222,\"#7201a8\"],[0.3333333333333333,\"#9c179e\"],[0.4444444444444444,\"#bd3786\"],[0.5555555555555556,\"#d8576b\"],[0.6666666666666666,\"#ed7953\"],[0.7777777777777778,\"#fb9f3a\"],[0.8888888888888888,\"#fdca26\"],[1.0,\"#f0f921\"]]}],\"heatmapgl\":[{\"type\":\"heatmapgl\",\"colorbar\":{\"outlinewidth\":0,\"ticks\":\"\"},\"colorscale\":[[0.0,\"#0d0887\"],[0.1111111111111111,\"#46039f\"],[0.2222222222222222,\"#7201a8\"],[0.3333333333333333,\"#9c179e\"],[0.4444444444444444,\"#bd3786\"],[0.5555555555555556,\"#d8576b\"],[0.6666666666666666,\"#ed7953\"],[0.7777777777777778,\"#fb9f3a\"],[0.8888888888888888,\"#fdca26\"],[1.0,\"#f0f921\"]]}],\"contourcarpet\":[{\"type\":\"contourcarpet\",\"colorbar\":{\"outlinewidth\":0,\"ticks\":\"\"}}],\"contour\":[{\"type\":\"contour\",\"colorbar\":{\"outlinewidth\":0,\"ticks\":\"\"},\"colorscale\":[[0.0,\"#0d0887\"],[0.1111111111111111,\"#46039f\"],[0.2222222222222222,\"#7201a8\"],[0.3333333333333333,\"#9c179e\"],[0.4444444444444444,\"#bd3786\"],[0.5555555555555556,\"#d8576b\"],[0.6666666666666666,\"#ed7953\"],[0.7777777777777778,\"#fb9f3a\"],[0.8888888888888888,\"#fdca26\"],[1.0,\"#f0f921\"]]}],\"surface\":[{\"type\":\"surface\",\"colorbar\":{\"outlinewidth\":0,\"ticks\":\"\"},\"colorscale\":[[0.0,\"#0d0887\"],[0.1111111111111111,\"#46039f\"],[0.2222222222222222,\"#7201a8\"],[0.3333333333333333,\"#9c179e\"],[0.4444444444444444,\"#bd3786\"],[0.5555555555555556,\"#d8576b\"],[0.6666666666666666,\"#ed7953\"],[0.7777777777777778,\"#fb9f3a\"],[0.8888888888888888,\"#fdca26\"],[1.0,\"#f0f921\"]]}],\"mesh3d\":[{\"type\":\"mesh3d\",\"colorbar\":{\"outlinewidth\":0,\"ticks\":\"\"}}],\"scatter\":[{\"fillpattern\":{\"fillmode\":\"overlay\",\"size\":10,\"solidity\":0.2},\"type\":\"scatter\"}],\"parcoords\":[{\"type\":\"parcoords\",\"line\":{\"colorbar\":{\"outlinewidth\":0,\"ticks\":\"\"}}}],\"scatterpolargl\":[{\"type\":\"scatterpolargl\",\"marker\":{\"colorbar\":{\"outlinewidth\":0,\"ticks\":\"\"}}}],\"bar\":[{\"error_x\":{\"color\":\"#2a3f5f\"},\"error_y\":{\"color\":\"#2a3f5f\"},\"marker\":{\"line\":{\"color\":\"#E5ECF6\",\"width\":0.5},\"pattern\":{\"fillmode\":\"overlay\",\"size\":10,\"solidity\":0.2}},\"type\":\"bar\"}],\"scattergeo\":[{\"type\":\"scattergeo\",\"marker\":{\"colorbar\":{\"outlinewidth\":0,\"ticks\":\"\"}}}],\"scatterpolar\":[{\"type\":\"scatterpolar\",\"marker\":{\"colorbar\":{\"outlinewidth\":0,\"ticks\":\"\"}}}],\"histogram\":[{\"marker\":{\"pattern\":{\"fillmode\":\"overlay\",\"size\":10,\"solidity\":0.2}},\"type\":\"histogram\"}],\"scattergl\":[{\"type\":\"scattergl\",\"marker\":{\"colorbar\":{\"outlinewidth\":0,\"ticks\":\"\"}}}],\"scatter3d\":[{\"type\":\"scatter3d\",\"line\":{\"colorbar\":{\"outlinewidth\":0,\"ticks\":\"\"}},\"marker\":{\"colorbar\":{\"outlinewidth\":0,\"ticks\":\"\"}}}],\"scattermapbox\":[{\"type\":\"scattermapbox\",\"marker\":{\"colorbar\":{\"outlinewidth\":0,\"ticks\":\"\"}}}],\"scatterternary\":[{\"type\":\"scatterternary\",\"marker\":{\"colorbar\":{\"outlinewidth\":0,\"ticks\":\"\"}}}],\"scattercarpet\":[{\"type\":\"scattercarpet\",\"marker\":{\"colorbar\":{\"outlinewidth\":0,\"ticks\":\"\"}}}],\"carpet\":[{\"aaxis\":{\"endlinecolor\":\"#2a3f5f\",\"gridcolor\":\"white\",\"linecolor\":\"white\",\"minorgridcolor\":\"white\",\"startlinecolor\":\"#2a3f5f\"},\"baxis\":{\"endlinecolor\":\"#2a3f5f\",\"gridcolor\":\"white\",\"linecolor\":\"white\",\"minorgridcolor\":\"white\",\"startlinecolor\":\"#2a3f5f\"},\"type\":\"carpet\"}],\"table\":[{\"cells\":{\"fill\":{\"color\":\"#EBF0F8\"},\"line\":{\"color\":\"white\"}},\"header\":{\"fill\":{\"color\":\"#C8D4E3\"},\"line\":{\"color\":\"white\"}},\"type\":\"table\"}],\"barpolar\":[{\"marker\":{\"line\":{\"color\":\"#E5ECF6\",\"width\":0.5},\"pattern\":{\"fillmode\":\"overlay\",\"size\":10,\"solidity\":0.2}},\"type\":\"barpolar\"}],\"pie\":[{\"automargin\":true,\"type\":\"pie\"}]},\"layout\":{\"autotypenumbers\":\"strict\",\"colorway\":[\"#636efa\",\"#EF553B\",\"#00cc96\",\"#ab63fa\",\"#FFA15A\",\"#19d3f3\",\"#FF6692\",\"#B6E880\",\"#FF97FF\",\"#FECB52\"],\"font\":{\"color\":\"#2a3f5f\"},\"hovermode\":\"closest\",\"hoverlabel\":{\"align\":\"left\"},\"paper_bgcolor\":\"white\",\"plot_bgcolor\":\"#E5ECF6\",\"polar\":{\"bgcolor\":\"#E5ECF6\",\"angularaxis\":{\"gridcolor\":\"white\",\"linecolor\":\"white\",\"ticks\":\"\"},\"radialaxis\":{\"gridcolor\":\"white\",\"linecolor\":\"white\",\"ticks\":\"\"}},\"ternary\":{\"bgcolor\":\"#E5ECF6\",\"aaxis\":{\"gridcolor\":\"white\",\"linecolor\":\"white\",\"ticks\":\"\"},\"baxis\":{\"gridcolor\":\"white\",\"linecolor\":\"white\",\"ticks\":\"\"},\"caxis\":{\"gridcolor\":\"white\",\"linecolor\":\"white\",\"ticks\":\"\"}},\"coloraxis\":{\"colorbar\":{\"outlinewidth\":0,\"ticks\":\"\"}},\"colorscale\":{\"sequential\":[[0.0,\"#0d0887\"],[0.1111111111111111,\"#46039f\"],[0.2222222222222222,\"#7201a8\"],[0.3333333333333333,\"#9c179e\"],[0.4444444444444444,\"#bd3786\"],[0.5555555555555556,\"#d8576b\"],[0.6666666666666666,\"#ed7953\"],[0.7777777777777778,\"#fb9f3a\"],[0.8888888888888888,\"#fdca26\"],[1.0,\"#f0f921\"]],\"sequentialminus\":[[0.0,\"#0d0887\"],[0.1111111111111111,\"#46039f\"],[0.2222222222222222,\"#7201a8\"],[0.3333333333333333,\"#9c179e\"],[0.4444444444444444,\"#bd3786\"],[0.5555555555555556,\"#d8576b\"],[0.6666666666666666,\"#ed7953\"],[0.7777777777777778,\"#fb9f3a\"],[0.8888888888888888,\"#fdca26\"],[1.0,\"#f0f921\"]],\"diverging\":[[0,\"#8e0152\"],[0.1,\"#c51b7d\"],[0.2,\"#de77ae\"],[0.3,\"#f1b6da\"],[0.4,\"#fde0ef\"],[0.5,\"#f7f7f7\"],[0.6,\"#e6f5d0\"],[0.7,\"#b8e186\"],[0.8,\"#7fbc41\"],[0.9,\"#4d9221\"],[1,\"#276419\"]]},\"xaxis\":{\"gridcolor\":\"white\",\"linecolor\":\"white\",\"ticks\":\"\",\"title\":{\"standoff\":15},\"zerolinecolor\":\"white\",\"automargin\":true,\"zerolinewidth\":2},\"yaxis\":{\"gridcolor\":\"white\",\"linecolor\":\"white\",\"ticks\":\"\",\"title\":{\"standoff\":15},\"zerolinecolor\":\"white\",\"automargin\":true,\"zerolinewidth\":2},\"scene\":{\"xaxis\":{\"backgroundcolor\":\"#E5ECF6\",\"gridcolor\":\"white\",\"linecolor\":\"white\",\"showbackground\":true,\"ticks\":\"\",\"zerolinecolor\":\"white\",\"gridwidth\":2},\"yaxis\":{\"backgroundcolor\":\"#E5ECF6\",\"gridcolor\":\"white\",\"linecolor\":\"white\",\"showbackground\":true,\"ticks\":\"\",\"zerolinecolor\":\"white\",\"gridwidth\":2},\"zaxis\":{\"backgroundcolor\":\"#E5ECF6\",\"gridcolor\":\"white\",\"linecolor\":\"white\",\"showbackground\":true,\"ticks\":\"\",\"zerolinecolor\":\"white\",\"gridwidth\":2}},\"shapedefaults\":{\"line\":{\"color\":\"#2a3f5f\"}},\"annotationdefaults\":{\"arrowcolor\":\"#2a3f5f\",\"arrowhead\":0,\"arrowwidth\":1},\"geo\":{\"bgcolor\":\"white\",\"landcolor\":\"#E5ECF6\",\"subunitcolor\":\"white\",\"showland\":true,\"showlakes\":true,\"lakecolor\":\"white\"},\"title\":{\"x\":0.05},\"mapbox\":{\"style\":\"light\"}}}},                        {\"responsive\": true}                    ).then(function(){\n",
              "                            \n",
              "var gd = document.getElementById('78b63a21-6df3-4b93-ac3e-d7abbdc2be14');\n",
              "var x = new MutationObserver(function (mutations, observer) {{\n",
              "        var display = window.getComputedStyle(gd).display;\n",
              "        if (!display || display === 'none') {{\n",
              "            console.log([gd, 'removed!']);\n",
              "            Plotly.purge(gd);\n",
              "            observer.disconnect();\n",
              "        }}\n",
              "}});\n",
              "\n",
              "// Listen for the removal of the full notebook cells\n",
              "var notebookContainer = gd.closest('#notebook-container');\n",
              "if (notebookContainer) {{\n",
              "    x.observe(notebookContainer, {childList: true});\n",
              "}}\n",
              "\n",
              "// Listen for the clearing of the current output cell\n",
              "var outputEl = gd.closest('.output');\n",
              "if (outputEl) {{\n",
              "    x.observe(outputEl, {childList: true});\n",
              "}}\n",
              "\n",
              "                        })                };                            </script>        </div>\n",
              "</body>\n",
              "</html>"
            ]
          },
          "metadata": {}
        }
      ]
    },
    {
      "cell_type": "code",
      "source": [
        "# Generate Optuna slice plot\n",
        "fig = optuna.visualization.plot_slice(study)\n",
        "fig.show()"
      ],
      "metadata": {
        "id": "ijbPeIp9Mwyo",
        "colab": {
          "base_uri": "https://localhost:8080/",
          "height": 562
        },
        "outputId": "595469ac-0dab-4412-dd46-79cb8b8fec62"
      },
      "execution_count": 26,
      "outputs": [
        {
          "output_type": "display_data",
          "data": {
            "text/html": [
              "<html>\n",
              "<head><meta charset=\"utf-8\" /></head>\n",
              "<body>\n",
              "    <div>            <script src=\"https://cdnjs.cloudflare.com/ajax/libs/mathjax/2.7.5/MathJax.js?config=TeX-AMS-MML_SVG\"></script><script type=\"text/javascript\">if (window.MathJax && window.MathJax.Hub && window.MathJax.Hub.Config) {window.MathJax.Hub.Config({SVG: {font: \"STIX-Web\"}});}</script>                <script type=\"text/javascript\">window.PlotlyConfig = {MathJaxConfig: 'local'};</script>\n",
              "        <script charset=\"utf-8\" src=\"https://cdn.plot.ly/plotly-2.24.1.min.js\"></script>                <div id=\"82c53747-a188-4528-b658-07c3b10295a6\" class=\"plotly-graph-div\" style=\"height:525px; width:2100px;\"></div>            <script type=\"text/javascript\">                                    window.PLOTLYENV=window.PLOTLYENV || {};                                    if (document.getElementById(\"82c53747-a188-4528-b658-07c3b10295a6\")) {                    Plotly.newPlot(                        \"82c53747-a188-4528-b658-07c3b10295a6\",                        [{\"marker\":{\"color\":[0,1,2,3,4,5,6,7,8,9,10,11,12,13,14,15,16,17,18,19],\"colorbar\":{\"title\":{\"text\":\"Trial\"},\"x\":1.0,\"xpad\":40},\"colorscale\":[[0.0,\"rgb(247,251,255)\"],[0.125,\"rgb(222,235,247)\"],[0.25,\"rgb(198,219,239)\"],[0.375,\"rgb(158,202,225)\"],[0.5,\"rgb(107,174,214)\"],[0.625,\"rgb(66,146,198)\"],[0.75,\"rgb(33,113,181)\"],[0.875,\"rgb(8,81,156)\"],[1.0,\"rgb(8,48,107)\"]],\"line\":{\"color\":\"Grey\",\"width\":0.5},\"showscale\":true},\"mode\":\"markers\",\"name\":\"Feasible Trial\",\"showlegend\":false,\"x\":[16,128,64,32,128,64,64,32,32,128,64,64,64,64,16,64,64,64,16,64],\"y\":[0.0004900686908513308,0.0006379237747751176,0.0018604649230837822,0.0004077852063346654,0.0004003633512184024,0.0003462629101704806,0.001917326240800321,0.0013999699149280787,0.011897306889295578,0.00043575334711931646,0.000357677141437307,0.0006960509927012026,0.02175934985280037,0.0003863316960632801,0.05309110879898071,0.0003457668935880065,0.0017275817226618528,0.0018687066622078419,0.0003653594176284969,0.0003392311045899987],\"type\":\"scatter\",\"xaxis\":\"x\",\"yaxis\":\"y\"},{\"marker\":{\"color\":[0,1,2,3,4,5,6,7,8,9,10,11,12,13,14,15,16,17,18,19],\"colorbar\":{\"title\":{\"text\":\"Trial\"},\"x\":1.0,\"xpad\":40},\"colorscale\":[[0.0,\"rgb(247,251,255)\"],[0.125,\"rgb(222,235,247)\"],[0.25,\"rgb(198,219,239)\"],[0.375,\"rgb(158,202,225)\"],[0.5,\"rgb(107,174,214)\"],[0.625,\"rgb(66,146,198)\"],[0.75,\"rgb(33,113,181)\"],[0.875,\"rgb(8,81,156)\"],[1.0,\"rgb(8,48,107)\"]],\"line\":{\"color\":\"Grey\",\"width\":0.5},\"showscale\":false},\"mode\":\"markers\",\"name\":\"Feasible Trial\",\"showlegend\":false,\"x\":[0.2875301019349842,0.00993710453959945,0.1628019237235208,0.09486264349656731,0.4155898230267578,0.2104918714151926,0.04544839711319476,0.11632600030313711,0.24316175778144677,0.3863479818796548,0.25943159635942503,0.26803441743989903,0.20018995033706233,0.34003098336553894,0.47276287889663565,0.19571995762039077,0.17976087663189044,0.12175384232715264,0.3046128325870945,0.21281066522600117],\"y\":[0.0004900686908513308,0.0006379237747751176,0.0018604649230837822,0.0004077852063346654,0.0004003633512184024,0.0003462629101704806,0.001917326240800321,0.0013999699149280787,0.011897306889295578,0.00043575334711931646,0.000357677141437307,0.0006960509927012026,0.02175934985280037,0.0003863316960632801,0.05309110879898071,0.0003457668935880065,0.0017275817226618528,0.0018687066622078419,0.0003653594176284969,0.0003392311045899987],\"type\":\"scatter\",\"xaxis\":\"x2\",\"yaxis\":\"y2\"},{\"marker\":{\"color\":[2,4,8,10,11,12,13,15,17,18],\"colorbar\":{\"title\":{\"text\":\"Trial\"},\"x\":1.0,\"xpad\":40},\"colorscale\":[[0.0,\"rgb(247,251,255)\"],[0.125,\"rgb(222,235,247)\"],[0.25,\"rgb(198,219,239)\"],[0.375,\"rgb(158,202,225)\"],[0.5,\"rgb(107,174,214)\"],[0.625,\"rgb(66,146,198)\"],[0.75,\"rgb(33,113,181)\"],[0.875,\"rgb(8,81,156)\"],[1.0,\"rgb(8,48,107)\"]],\"line\":{\"color\":\"Grey\",\"width\":0.5},\"showscale\":false},\"mode\":\"markers\",\"name\":\"Feasible Trial\",\"showlegend\":false,\"x\":[0.15416756799147746,0.4567102828590725,0.043490258126136216,0.42235085039083303,0.45493903251784545,0.30292865893217713,0.32545677517739646,0.4933971689573552,0.20219377519920692,0.3452066152190486],\"y\":[0.0018604649230837822,0.0004003633512184024,0.011897306889295578,0.000357677141437307,0.0006960509927012026,0.02175934985280037,0.0003863316960632801,0.0003457668935880065,0.0018687066622078419,0.0003653594176284969],\"type\":\"scatter\",\"xaxis\":\"x3\",\"yaxis\":\"y3\"},{\"marker\":{\"color\":[0,1,2,3,4,5,6,7,8,9,10,11,12,13,14,15,16,17,18,19],\"colorbar\":{\"title\":{\"text\":\"Trial\"},\"x\":1.0,\"xpad\":40},\"colorscale\":[[0.0,\"rgb(247,251,255)\"],[0.125,\"rgb(222,235,247)\"],[0.25,\"rgb(198,219,239)\"],[0.375,\"rgb(158,202,225)\"],[0.5,\"rgb(107,174,214)\"],[0.625,\"rgb(66,146,198)\"],[0.75,\"rgb(33,113,181)\"],[0.875,\"rgb(8,81,156)\"],[1.0,\"rgb(8,48,107)\"]],\"line\":{\"color\":\"Grey\",\"width\":0.5},\"showscale\":false},\"mode\":\"markers\",\"name\":\"Feasible Trial\",\"showlegend\":false,\"x\":[0.0005566915393669472,0.0013355452014481891,0.045280174126394554,0.0003403119654189989,0.002393767021366827,0.006839991950607957,1.6689845572916593e-05,7.199706013057105e-05,0.019737466638097702,0.0034492548165647053,0.009908564384369642,0.011051400856779662,0.07494523085330333,0.00684167037017809,0.021587028296809755,0.0002237722768413509,0.00014701075966252653,3.0738110137750255e-05,0.00023861683942913892,0.0007686009471966071],\"y\":[0.0004900686908513308,0.0006379237747751176,0.0018604649230837822,0.0004077852063346654,0.0004003633512184024,0.0003462629101704806,0.001917326240800321,0.0013999699149280787,0.011897306889295578,0.00043575334711931646,0.000357677141437307,0.0006960509927012026,0.02175934985280037,0.0003863316960632801,0.05309110879898071,0.0003457668935880065,0.0017275817226618528,0.0018687066622078419,0.0003653594176284969,0.0003392311045899987],\"type\":\"scatter\",\"xaxis\":\"x4\",\"yaxis\":\"y4\"},{\"marker\":{\"color\":[0,1,2,3,4,5,6,7,8,9,10,11,12,13,14,15,16,17,18,19],\"colorbar\":{\"title\":{\"text\":\"Trial\"},\"x\":1.0,\"xpad\":40},\"colorscale\":[[0.0,\"rgb(247,251,255)\"],[0.125,\"rgb(222,235,247)\"],[0.25,\"rgb(198,219,239)\"],[0.375,\"rgb(158,202,225)\"],[0.5,\"rgb(107,174,214)\"],[0.625,\"rgb(66,146,198)\"],[0.75,\"rgb(33,113,181)\"],[0.875,\"rgb(8,81,156)\"],[1.0,\"rgb(8,48,107)\"]],\"line\":{\"color\":\"Grey\",\"width\":0.5},\"showscale\":false},\"mode\":\"markers\",\"name\":\"Feasible Trial\",\"showlegend\":false,\"x\":[1,1,2,1,2,1,1,1,2,1,2,2,2,2,1,2,1,2,2,1],\"y\":[0.0004900686908513308,0.0006379237747751176,0.0018604649230837822,0.0004077852063346654,0.0004003633512184024,0.0003462629101704806,0.001917326240800321,0.0013999699149280787,0.011897306889295578,0.00043575334711931646,0.000357677141437307,0.0006960509927012026,0.02175934985280037,0.0003863316960632801,0.05309110879898071,0.0003457668935880065,0.0017275817226618528,0.0018687066622078419,0.0003653594176284969,0.0003392311045899987],\"type\":\"scatter\",\"xaxis\":\"x5\",\"yaxis\":\"y5\"},{\"marker\":{\"color\":[0,1,2,3,4,5,6,7,8,9,10,11,12,13,14,15,16,17,18,19],\"colorbar\":{\"title\":{\"text\":\"Trial\"},\"x\":1.0,\"xpad\":40},\"colorscale\":[[0.0,\"rgb(247,251,255)\"],[0.125,\"rgb(222,235,247)\"],[0.25,\"rgb(198,219,239)\"],[0.375,\"rgb(158,202,225)\"],[0.5,\"rgb(107,174,214)\"],[0.625,\"rgb(66,146,198)\"],[0.75,\"rgb(33,113,181)\"],[0.875,\"rgb(8,81,156)\"],[1.0,\"rgb(8,48,107)\"]],\"line\":{\"color\":\"Grey\",\"width\":0.5},\"showscale\":false},\"mode\":\"markers\",\"name\":\"Feasible Trial\",\"showlegend\":false,\"x\":[164,161,209,183,205,164,213,244,169,165,187,188,184,152,229,195,220,196,175,238],\"y\":[0.0004900686908513308,0.0006379237747751176,0.0018604649230837822,0.0004077852063346654,0.0004003633512184024,0.0003462629101704806,0.001917326240800321,0.0013999699149280787,0.011897306889295578,0.00043575334711931646,0.000357677141437307,0.0006960509927012026,0.02175934985280037,0.0003863316960632801,0.05309110879898071,0.0003457668935880065,0.0017275817226618528,0.0018687066622078419,0.0003653594176284969,0.0003392311045899987],\"type\":\"scatter\",\"xaxis\":\"x6\",\"yaxis\":\"y6\"},{\"marker\":{\"color\":[2,4,8,10,11,12,13,15,17,18],\"colorbar\":{\"title\":{\"text\":\"Trial\"},\"x\":1.0,\"xpad\":40},\"colorscale\":[[0.0,\"rgb(247,251,255)\"],[0.125,\"rgb(222,235,247)\"],[0.25,\"rgb(198,219,239)\"],[0.375,\"rgb(158,202,225)\"],[0.5,\"rgb(107,174,214)\"],[0.625,\"rgb(66,146,198)\"],[0.75,\"rgb(33,113,181)\"],[0.875,\"rgb(8,81,156)\"],[1.0,\"rgb(8,48,107)\"]],\"line\":{\"color\":\"Grey\",\"width\":0.5},\"showscale\":false},\"mode\":\"markers\",\"name\":\"Feasible Trial\",\"showlegend\":false,\"x\":[235,190,218,153,154,154,186,178,185,207],\"y\":[0.0018604649230837822,0.0004003633512184024,0.011897306889295578,0.000357677141437307,0.0006960509927012026,0.02175934985280037,0.0003863316960632801,0.0003457668935880065,0.0018687066622078419,0.0003653594176284969],\"type\":\"scatter\",\"xaxis\":\"x7\",\"yaxis\":\"y7\"}],                        {\"template\":{\"data\":{\"histogram2dcontour\":[{\"type\":\"histogram2dcontour\",\"colorbar\":{\"outlinewidth\":0,\"ticks\":\"\"},\"colorscale\":[[0.0,\"#0d0887\"],[0.1111111111111111,\"#46039f\"],[0.2222222222222222,\"#7201a8\"],[0.3333333333333333,\"#9c179e\"],[0.4444444444444444,\"#bd3786\"],[0.5555555555555556,\"#d8576b\"],[0.6666666666666666,\"#ed7953\"],[0.7777777777777778,\"#fb9f3a\"],[0.8888888888888888,\"#fdca26\"],[1.0,\"#f0f921\"]]}],\"choropleth\":[{\"type\":\"choropleth\",\"colorbar\":{\"outlinewidth\":0,\"ticks\":\"\"}}],\"histogram2d\":[{\"type\":\"histogram2d\",\"colorbar\":{\"outlinewidth\":0,\"ticks\":\"\"},\"colorscale\":[[0.0,\"#0d0887\"],[0.1111111111111111,\"#46039f\"],[0.2222222222222222,\"#7201a8\"],[0.3333333333333333,\"#9c179e\"],[0.4444444444444444,\"#bd3786\"],[0.5555555555555556,\"#d8576b\"],[0.6666666666666666,\"#ed7953\"],[0.7777777777777778,\"#fb9f3a\"],[0.8888888888888888,\"#fdca26\"],[1.0,\"#f0f921\"]]}],\"heatmap\":[{\"type\":\"heatmap\",\"colorbar\":{\"outlinewidth\":0,\"ticks\":\"\"},\"colorscale\":[[0.0,\"#0d0887\"],[0.1111111111111111,\"#46039f\"],[0.2222222222222222,\"#7201a8\"],[0.3333333333333333,\"#9c179e\"],[0.4444444444444444,\"#bd3786\"],[0.5555555555555556,\"#d8576b\"],[0.6666666666666666,\"#ed7953\"],[0.7777777777777778,\"#fb9f3a\"],[0.8888888888888888,\"#fdca26\"],[1.0,\"#f0f921\"]]}],\"heatmapgl\":[{\"type\":\"heatmapgl\",\"colorbar\":{\"outlinewidth\":0,\"ticks\":\"\"},\"colorscale\":[[0.0,\"#0d0887\"],[0.1111111111111111,\"#46039f\"],[0.2222222222222222,\"#7201a8\"],[0.3333333333333333,\"#9c179e\"],[0.4444444444444444,\"#bd3786\"],[0.5555555555555556,\"#d8576b\"],[0.6666666666666666,\"#ed7953\"],[0.7777777777777778,\"#fb9f3a\"],[0.8888888888888888,\"#fdca26\"],[1.0,\"#f0f921\"]]}],\"contourcarpet\":[{\"type\":\"contourcarpet\",\"colorbar\":{\"outlinewidth\":0,\"ticks\":\"\"}}],\"contour\":[{\"type\":\"contour\",\"colorbar\":{\"outlinewidth\":0,\"ticks\":\"\"},\"colorscale\":[[0.0,\"#0d0887\"],[0.1111111111111111,\"#46039f\"],[0.2222222222222222,\"#7201a8\"],[0.3333333333333333,\"#9c179e\"],[0.4444444444444444,\"#bd3786\"],[0.5555555555555556,\"#d8576b\"],[0.6666666666666666,\"#ed7953\"],[0.7777777777777778,\"#fb9f3a\"],[0.8888888888888888,\"#fdca26\"],[1.0,\"#f0f921\"]]}],\"surface\":[{\"type\":\"surface\",\"colorbar\":{\"outlinewidth\":0,\"ticks\":\"\"},\"colorscale\":[[0.0,\"#0d0887\"],[0.1111111111111111,\"#46039f\"],[0.2222222222222222,\"#7201a8\"],[0.3333333333333333,\"#9c179e\"],[0.4444444444444444,\"#bd3786\"],[0.5555555555555556,\"#d8576b\"],[0.6666666666666666,\"#ed7953\"],[0.7777777777777778,\"#fb9f3a\"],[0.8888888888888888,\"#fdca26\"],[1.0,\"#f0f921\"]]}],\"mesh3d\":[{\"type\":\"mesh3d\",\"colorbar\":{\"outlinewidth\":0,\"ticks\":\"\"}}],\"scatter\":[{\"fillpattern\":{\"fillmode\":\"overlay\",\"size\":10,\"solidity\":0.2},\"type\":\"scatter\"}],\"parcoords\":[{\"type\":\"parcoords\",\"line\":{\"colorbar\":{\"outlinewidth\":0,\"ticks\":\"\"}}}],\"scatterpolargl\":[{\"type\":\"scatterpolargl\",\"marker\":{\"colorbar\":{\"outlinewidth\":0,\"ticks\":\"\"}}}],\"bar\":[{\"error_x\":{\"color\":\"#2a3f5f\"},\"error_y\":{\"color\":\"#2a3f5f\"},\"marker\":{\"line\":{\"color\":\"#E5ECF6\",\"width\":0.5},\"pattern\":{\"fillmode\":\"overlay\",\"size\":10,\"solidity\":0.2}},\"type\":\"bar\"}],\"scattergeo\":[{\"type\":\"scattergeo\",\"marker\":{\"colorbar\":{\"outlinewidth\":0,\"ticks\":\"\"}}}],\"scatterpolar\":[{\"type\":\"scatterpolar\",\"marker\":{\"colorbar\":{\"outlinewidth\":0,\"ticks\":\"\"}}}],\"histogram\":[{\"marker\":{\"pattern\":{\"fillmode\":\"overlay\",\"size\":10,\"solidity\":0.2}},\"type\":\"histogram\"}],\"scattergl\":[{\"type\":\"scattergl\",\"marker\":{\"colorbar\":{\"outlinewidth\":0,\"ticks\":\"\"}}}],\"scatter3d\":[{\"type\":\"scatter3d\",\"line\":{\"colorbar\":{\"outlinewidth\":0,\"ticks\":\"\"}},\"marker\":{\"colorbar\":{\"outlinewidth\":0,\"ticks\":\"\"}}}],\"scattermapbox\":[{\"type\":\"scattermapbox\",\"marker\":{\"colorbar\":{\"outlinewidth\":0,\"ticks\":\"\"}}}],\"scatterternary\":[{\"type\":\"scatterternary\",\"marker\":{\"colorbar\":{\"outlinewidth\":0,\"ticks\":\"\"}}}],\"scattercarpet\":[{\"type\":\"scattercarpet\",\"marker\":{\"colorbar\":{\"outlinewidth\":0,\"ticks\":\"\"}}}],\"carpet\":[{\"aaxis\":{\"endlinecolor\":\"#2a3f5f\",\"gridcolor\":\"white\",\"linecolor\":\"white\",\"minorgridcolor\":\"white\",\"startlinecolor\":\"#2a3f5f\"},\"baxis\":{\"endlinecolor\":\"#2a3f5f\",\"gridcolor\":\"white\",\"linecolor\":\"white\",\"minorgridcolor\":\"white\",\"startlinecolor\":\"#2a3f5f\"},\"type\":\"carpet\"}],\"table\":[{\"cells\":{\"fill\":{\"color\":\"#EBF0F8\"},\"line\":{\"color\":\"white\"}},\"header\":{\"fill\":{\"color\":\"#C8D4E3\"},\"line\":{\"color\":\"white\"}},\"type\":\"table\"}],\"barpolar\":[{\"marker\":{\"line\":{\"color\":\"#E5ECF6\",\"width\":0.5},\"pattern\":{\"fillmode\":\"overlay\",\"size\":10,\"solidity\":0.2}},\"type\":\"barpolar\"}],\"pie\":[{\"automargin\":true,\"type\":\"pie\"}]},\"layout\":{\"autotypenumbers\":\"strict\",\"colorway\":[\"#636efa\",\"#EF553B\",\"#00cc96\",\"#ab63fa\",\"#FFA15A\",\"#19d3f3\",\"#FF6692\",\"#B6E880\",\"#FF97FF\",\"#FECB52\"],\"font\":{\"color\":\"#2a3f5f\"},\"hovermode\":\"closest\",\"hoverlabel\":{\"align\":\"left\"},\"paper_bgcolor\":\"white\",\"plot_bgcolor\":\"#E5ECF6\",\"polar\":{\"bgcolor\":\"#E5ECF6\",\"angularaxis\":{\"gridcolor\":\"white\",\"linecolor\":\"white\",\"ticks\":\"\"},\"radialaxis\":{\"gridcolor\":\"white\",\"linecolor\":\"white\",\"ticks\":\"\"}},\"ternary\":{\"bgcolor\":\"#E5ECF6\",\"aaxis\":{\"gridcolor\":\"white\",\"linecolor\":\"white\",\"ticks\":\"\"},\"baxis\":{\"gridcolor\":\"white\",\"linecolor\":\"white\",\"ticks\":\"\"},\"caxis\":{\"gridcolor\":\"white\",\"linecolor\":\"white\",\"ticks\":\"\"}},\"coloraxis\":{\"colorbar\":{\"outlinewidth\":0,\"ticks\":\"\"}},\"colorscale\":{\"sequential\":[[0.0,\"#0d0887\"],[0.1111111111111111,\"#46039f\"],[0.2222222222222222,\"#7201a8\"],[0.3333333333333333,\"#9c179e\"],[0.4444444444444444,\"#bd3786\"],[0.5555555555555556,\"#d8576b\"],[0.6666666666666666,\"#ed7953\"],[0.7777777777777778,\"#fb9f3a\"],[0.8888888888888888,\"#fdca26\"],[1.0,\"#f0f921\"]],\"sequentialminus\":[[0.0,\"#0d0887\"],[0.1111111111111111,\"#46039f\"],[0.2222222222222222,\"#7201a8\"],[0.3333333333333333,\"#9c179e\"],[0.4444444444444444,\"#bd3786\"],[0.5555555555555556,\"#d8576b\"],[0.6666666666666666,\"#ed7953\"],[0.7777777777777778,\"#fb9f3a\"],[0.8888888888888888,\"#fdca26\"],[1.0,\"#f0f921\"]],\"diverging\":[[0,\"#8e0152\"],[0.1,\"#c51b7d\"],[0.2,\"#de77ae\"],[0.3,\"#f1b6da\"],[0.4,\"#fde0ef\"],[0.5,\"#f7f7f7\"],[0.6,\"#e6f5d0\"],[0.7,\"#b8e186\"],[0.8,\"#7fbc41\"],[0.9,\"#4d9221\"],[1,\"#276419\"]]},\"xaxis\":{\"gridcolor\":\"white\",\"linecolor\":\"white\",\"ticks\":\"\",\"title\":{\"standoff\":15},\"zerolinecolor\":\"white\",\"automargin\":true,\"zerolinewidth\":2},\"yaxis\":{\"gridcolor\":\"white\",\"linecolor\":\"white\",\"ticks\":\"\",\"title\":{\"standoff\":15},\"zerolinecolor\":\"white\",\"automargin\":true,\"zerolinewidth\":2},\"scene\":{\"xaxis\":{\"backgroundcolor\":\"#E5ECF6\",\"gridcolor\":\"white\",\"linecolor\":\"white\",\"showbackground\":true,\"ticks\":\"\",\"zerolinecolor\":\"white\",\"gridwidth\":2},\"yaxis\":{\"backgroundcolor\":\"#E5ECF6\",\"gridcolor\":\"white\",\"linecolor\":\"white\",\"showbackground\":true,\"ticks\":\"\",\"zerolinecolor\":\"white\",\"gridwidth\":2},\"zaxis\":{\"backgroundcolor\":\"#E5ECF6\",\"gridcolor\":\"white\",\"linecolor\":\"white\",\"showbackground\":true,\"ticks\":\"\",\"zerolinecolor\":\"white\",\"gridwidth\":2}},\"shapedefaults\":{\"line\":{\"color\":\"#2a3f5f\"}},\"annotationdefaults\":{\"arrowcolor\":\"#2a3f5f\",\"arrowhead\":0,\"arrowwidth\":1},\"geo\":{\"bgcolor\":\"white\",\"landcolor\":\"#E5ECF6\",\"subunitcolor\":\"white\",\"showland\":true,\"showlakes\":true,\"lakecolor\":\"white\"},\"title\":{\"x\":0.05},\"mapbox\":{\"style\":\"light\"}}},\"xaxis\":{\"anchor\":\"y\",\"domain\":[0.0,0.1183673469387755],\"title\":{\"text\":\"batch_size\"},\"type\":\"category\",\"categoryorder\":\"array\",\"categoryarray\":[16,32,64,128]},\"yaxis\":{\"anchor\":\"x\",\"domain\":[0.0,1.0],\"title\":{\"text\":\"Objective Value\"}},\"xaxis2\":{\"anchor\":\"y2\",\"domain\":[0.14693877551020407,0.26530612244897955],\"title\":{\"text\":\"dropout_0\"}},\"yaxis2\":{\"anchor\":\"x2\",\"domain\":[0.0,1.0],\"matches\":\"y\",\"showticklabels\":false},\"xaxis3\":{\"anchor\":\"y3\",\"domain\":[0.29387755102040813,0.4122448979591836],\"title\":{\"text\":\"dropout_1\"}},\"yaxis3\":{\"anchor\":\"x3\",\"domain\":[0.0,1.0],\"matches\":\"y\",\"showticklabels\":false},\"xaxis4\":{\"anchor\":\"y4\",\"domain\":[0.4408163265306122,0.5591836734693877],\"title\":{\"text\":\"learning_rate\"},\"type\":\"log\"},\"yaxis4\":{\"anchor\":\"x4\",\"domain\":[0.0,1.0],\"matches\":\"y\",\"showticklabels\":false},\"xaxis5\":{\"anchor\":\"y5\",\"domain\":[0.5877551020408163,0.7061224489795918],\"title\":{\"text\":\"num_layers\"}},\"yaxis5\":{\"anchor\":\"x5\",\"domain\":[0.0,1.0],\"matches\":\"y\",\"showticklabels\":false},\"xaxis6\":{\"anchor\":\"y6\",\"domain\":[0.7346938775510204,0.8530612244897959],\"title\":{\"text\":\"units_0\"}},\"yaxis6\":{\"anchor\":\"x6\",\"domain\":[0.0,1.0],\"matches\":\"y\",\"showticklabels\":false},\"xaxis7\":{\"anchor\":\"y7\",\"domain\":[0.8816326530612244,0.9999999999999999],\"title\":{\"text\":\"units_1\"}},\"yaxis7\":{\"anchor\":\"x7\",\"domain\":[0.0,1.0],\"matches\":\"y\",\"showticklabels\":false},\"title\":{\"text\":\"Slice Plot\"},\"width\":2100},                        {\"responsive\": true}                    ).then(function(){\n",
              "                            \n",
              "var gd = document.getElementById('82c53747-a188-4528-b658-07c3b10295a6');\n",
              "var x = new MutationObserver(function (mutations, observer) {{\n",
              "        var display = window.getComputedStyle(gd).display;\n",
              "        if (!display || display === 'none') {{\n",
              "            console.log([gd, 'removed!']);\n",
              "            Plotly.purge(gd);\n",
              "            observer.disconnect();\n",
              "        }}\n",
              "}});\n",
              "\n",
              "// Listen for the removal of the full notebook cells\n",
              "var notebookContainer = gd.closest('#notebook-container');\n",
              "if (notebookContainer) {{\n",
              "    x.observe(notebookContainer, {childList: true});\n",
              "}}\n",
              "\n",
              "// Listen for the clearing of the current output cell\n",
              "var outputEl = gd.closest('.output');\n",
              "if (outputEl) {{\n",
              "    x.observe(outputEl, {childList: true});\n",
              "}}\n",
              "\n",
              "                        })                };                            </script>        </div>\n",
              "</body>\n",
              "</html>"
            ]
          },
          "metadata": {}
        }
      ]
    },
    {
      "cell_type": "code",
      "source": [
        "# Generate Optuna parallel coordinate plot\n",
        "fig = optuna.visualization.plot_parallel_coordinate(study)\n",
        "fig.show()"
      ],
      "metadata": {
        "id": "3y-E123BMvOk",
        "colab": {
          "base_uri": "https://localhost:8080/",
          "height": 542
        },
        "outputId": "e3d3c0a8-6d53-4de4-d921-6da98fc39985"
      },
      "execution_count": 27,
      "outputs": [
        {
          "output_type": "display_data",
          "data": {
            "text/html": [
              "<html>\n",
              "<head><meta charset=\"utf-8\" /></head>\n",
              "<body>\n",
              "    <div>            <script src=\"https://cdnjs.cloudflare.com/ajax/libs/mathjax/2.7.5/MathJax.js?config=TeX-AMS-MML_SVG\"></script><script type=\"text/javascript\">if (window.MathJax && window.MathJax.Hub && window.MathJax.Hub.Config) {window.MathJax.Hub.Config({SVG: {font: \"STIX-Web\"}});}</script>                <script type=\"text/javascript\">window.PlotlyConfig = {MathJaxConfig: 'local'};</script>\n",
              "        <script charset=\"utf-8\" src=\"https://cdn.plot.ly/plotly-2.24.1.min.js\"></script>                <div id=\"4f517edf-ff7e-4537-ae2e-ca3e05042313\" class=\"plotly-graph-div\" style=\"height:525px; width:100%;\"></div>            <script type=\"text/javascript\">                                    window.PLOTLYENV=window.PLOTLYENV || {};                                    if (document.getElementById(\"4f517edf-ff7e-4537-ae2e-ca3e05042313\")) {                    Plotly.newPlot(                        \"4f517edf-ff7e-4537-ae2e-ca3e05042313\",                        [{\"dimensions\":[{\"label\":\"Objective Value\",\"range\":[0.0003457668935880065,0.02175934985280037],\"values\":[0.0003653594176284969,0.011897306889295578,0.0018604649230837822,0.000357677141437307,0.0006960509927012026,0.02175934985280037,0.0003863316960632801,0.0003457668935880065,0.0018687066622078419,0.0004003633512184024]},{\"label\":\"batch_size\",\"range\":[0,3],\"ticktext\":[\"16\",\"32\",\"64\",\"128\"],\"tickvals\":[0,1,2,3],\"values\":[0,1,2,2,2,2,2,2,2,3]},{\"label\":\"dropout_0\",\"range\":[0.12175384232715264,0.4155898230267578],\"values\":[0.3046128325870945,0.24316175778144677,0.1628019237235208,0.25943159635942503,0.26803441743989903,0.20018995033706233,0.34003098336553894,0.19571995762039077,0.12175384232715264,0.4155898230267578]},{\"label\":\"dropout_1\",\"range\":[0.043490258126136216,0.4933971689573552],\"values\":[0.3452066152190486,0.043490258126136216,0.15416756799147746,0.42235085039083303,0.45493903251784545,0.30292865893217713,0.32545677517739646,0.4933971689573552,0.20219377519920692,0.4567102828590725]},{\"label\":\"learning_rate\",\"range\":[-4.512322837616276,-1.1252559983059394],\"ticktext\":[\"3.07e-05\",\"0.0001\",\"0.001\",\"0.01\",\"0.0749\"],\"tickvals\":[-4.512322837616276,-4,-3,-2,-1.1252559983059394],\"values\":[-3.622298910987995,-1.7047085910635642,-1.344091911722901,-2.003989264294854,-1.9565826680595193,-1.1252559983059394,-2.1648378538372013,-3.6501937192402445,-4.512322837616276,-2.620918120537159]},{\"label\":\"num_layers\",\"range\":[2,2],\"values\":[2,2,2,2,2,2,2,2,2,2]},{\"label\":\"units_0\",\"range\":[152,209],\"values\":[175,169,209,187,188,184,152,195,196,205]},{\"label\":\"units_1\",\"range\":[153,235],\"values\":[207,218,235,153,154,154,186,178,185,190]}],\"labelangle\":30,\"labelside\":\"bottom\",\"line\":{\"color\":[0.0003653594176284969,0.011897306889295578,0.0018604649230837822,0.000357677141437307,0.0006960509927012026,0.02175934985280037,0.0003863316960632801,0.0003457668935880065,0.0018687066622078419,0.0004003633512184024],\"colorbar\":{\"title\":{\"text\":\"Objective Value\"}},\"colorscale\":[[0.0,\"rgb(247,251,255)\"],[0.125,\"rgb(222,235,247)\"],[0.25,\"rgb(198,219,239)\"],[0.375,\"rgb(158,202,225)\"],[0.5,\"rgb(107,174,214)\"],[0.625,\"rgb(66,146,198)\"],[0.75,\"rgb(33,113,181)\"],[0.875,\"rgb(8,81,156)\"],[1.0,\"rgb(8,48,107)\"]],\"reversescale\":true,\"showscale\":true},\"type\":\"parcoords\"}],                        {\"title\":{\"text\":\"Parallel Coordinate Plot\"},\"template\":{\"data\":{\"histogram2dcontour\":[{\"type\":\"histogram2dcontour\",\"colorbar\":{\"outlinewidth\":0,\"ticks\":\"\"},\"colorscale\":[[0.0,\"#0d0887\"],[0.1111111111111111,\"#46039f\"],[0.2222222222222222,\"#7201a8\"],[0.3333333333333333,\"#9c179e\"],[0.4444444444444444,\"#bd3786\"],[0.5555555555555556,\"#d8576b\"],[0.6666666666666666,\"#ed7953\"],[0.7777777777777778,\"#fb9f3a\"],[0.8888888888888888,\"#fdca26\"],[1.0,\"#f0f921\"]]}],\"choropleth\":[{\"type\":\"choropleth\",\"colorbar\":{\"outlinewidth\":0,\"ticks\":\"\"}}],\"histogram2d\":[{\"type\":\"histogram2d\",\"colorbar\":{\"outlinewidth\":0,\"ticks\":\"\"},\"colorscale\":[[0.0,\"#0d0887\"],[0.1111111111111111,\"#46039f\"],[0.2222222222222222,\"#7201a8\"],[0.3333333333333333,\"#9c179e\"],[0.4444444444444444,\"#bd3786\"],[0.5555555555555556,\"#d8576b\"],[0.6666666666666666,\"#ed7953\"],[0.7777777777777778,\"#fb9f3a\"],[0.8888888888888888,\"#fdca26\"],[1.0,\"#f0f921\"]]}],\"heatmap\":[{\"type\":\"heatmap\",\"colorbar\":{\"outlinewidth\":0,\"ticks\":\"\"},\"colorscale\":[[0.0,\"#0d0887\"],[0.1111111111111111,\"#46039f\"],[0.2222222222222222,\"#7201a8\"],[0.3333333333333333,\"#9c179e\"],[0.4444444444444444,\"#bd3786\"],[0.5555555555555556,\"#d8576b\"],[0.6666666666666666,\"#ed7953\"],[0.7777777777777778,\"#fb9f3a\"],[0.8888888888888888,\"#fdca26\"],[1.0,\"#f0f921\"]]}],\"heatmapgl\":[{\"type\":\"heatmapgl\",\"colorbar\":{\"outlinewidth\":0,\"ticks\":\"\"},\"colorscale\":[[0.0,\"#0d0887\"],[0.1111111111111111,\"#46039f\"],[0.2222222222222222,\"#7201a8\"],[0.3333333333333333,\"#9c179e\"],[0.4444444444444444,\"#bd3786\"],[0.5555555555555556,\"#d8576b\"],[0.6666666666666666,\"#ed7953\"],[0.7777777777777778,\"#fb9f3a\"],[0.8888888888888888,\"#fdca26\"],[1.0,\"#f0f921\"]]}],\"contourcarpet\":[{\"type\":\"contourcarpet\",\"colorbar\":{\"outlinewidth\":0,\"ticks\":\"\"}}],\"contour\":[{\"type\":\"contour\",\"colorbar\":{\"outlinewidth\":0,\"ticks\":\"\"},\"colorscale\":[[0.0,\"#0d0887\"],[0.1111111111111111,\"#46039f\"],[0.2222222222222222,\"#7201a8\"],[0.3333333333333333,\"#9c179e\"],[0.4444444444444444,\"#bd3786\"],[0.5555555555555556,\"#d8576b\"],[0.6666666666666666,\"#ed7953\"],[0.7777777777777778,\"#fb9f3a\"],[0.8888888888888888,\"#fdca26\"],[1.0,\"#f0f921\"]]}],\"surface\":[{\"type\":\"surface\",\"colorbar\":{\"outlinewidth\":0,\"ticks\":\"\"},\"colorscale\":[[0.0,\"#0d0887\"],[0.1111111111111111,\"#46039f\"],[0.2222222222222222,\"#7201a8\"],[0.3333333333333333,\"#9c179e\"],[0.4444444444444444,\"#bd3786\"],[0.5555555555555556,\"#d8576b\"],[0.6666666666666666,\"#ed7953\"],[0.7777777777777778,\"#fb9f3a\"],[0.8888888888888888,\"#fdca26\"],[1.0,\"#f0f921\"]]}],\"mesh3d\":[{\"type\":\"mesh3d\",\"colorbar\":{\"outlinewidth\":0,\"ticks\":\"\"}}],\"scatter\":[{\"fillpattern\":{\"fillmode\":\"overlay\",\"size\":10,\"solidity\":0.2},\"type\":\"scatter\"}],\"parcoords\":[{\"type\":\"parcoords\",\"line\":{\"colorbar\":{\"outlinewidth\":0,\"ticks\":\"\"}}}],\"scatterpolargl\":[{\"type\":\"scatterpolargl\",\"marker\":{\"colorbar\":{\"outlinewidth\":0,\"ticks\":\"\"}}}],\"bar\":[{\"error_x\":{\"color\":\"#2a3f5f\"},\"error_y\":{\"color\":\"#2a3f5f\"},\"marker\":{\"line\":{\"color\":\"#E5ECF6\",\"width\":0.5},\"pattern\":{\"fillmode\":\"overlay\",\"size\":10,\"solidity\":0.2}},\"type\":\"bar\"}],\"scattergeo\":[{\"type\":\"scattergeo\",\"marker\":{\"colorbar\":{\"outlinewidth\":0,\"ticks\":\"\"}}}],\"scatterpolar\":[{\"type\":\"scatterpolar\",\"marker\":{\"colorbar\":{\"outlinewidth\":0,\"ticks\":\"\"}}}],\"histogram\":[{\"marker\":{\"pattern\":{\"fillmode\":\"overlay\",\"size\":10,\"solidity\":0.2}},\"type\":\"histogram\"}],\"scattergl\":[{\"type\":\"scattergl\",\"marker\":{\"colorbar\":{\"outlinewidth\":0,\"ticks\":\"\"}}}],\"scatter3d\":[{\"type\":\"scatter3d\",\"line\":{\"colorbar\":{\"outlinewidth\":0,\"ticks\":\"\"}},\"marker\":{\"colorbar\":{\"outlinewidth\":0,\"ticks\":\"\"}}}],\"scattermapbox\":[{\"type\":\"scattermapbox\",\"marker\":{\"colorbar\":{\"outlinewidth\":0,\"ticks\":\"\"}}}],\"scatterternary\":[{\"type\":\"scatterternary\",\"marker\":{\"colorbar\":{\"outlinewidth\":0,\"ticks\":\"\"}}}],\"scattercarpet\":[{\"type\":\"scattercarpet\",\"marker\":{\"colorbar\":{\"outlinewidth\":0,\"ticks\":\"\"}}}],\"carpet\":[{\"aaxis\":{\"endlinecolor\":\"#2a3f5f\",\"gridcolor\":\"white\",\"linecolor\":\"white\",\"minorgridcolor\":\"white\",\"startlinecolor\":\"#2a3f5f\"},\"baxis\":{\"endlinecolor\":\"#2a3f5f\",\"gridcolor\":\"white\",\"linecolor\":\"white\",\"minorgridcolor\":\"white\",\"startlinecolor\":\"#2a3f5f\"},\"type\":\"carpet\"}],\"table\":[{\"cells\":{\"fill\":{\"color\":\"#EBF0F8\"},\"line\":{\"color\":\"white\"}},\"header\":{\"fill\":{\"color\":\"#C8D4E3\"},\"line\":{\"color\":\"white\"}},\"type\":\"table\"}],\"barpolar\":[{\"marker\":{\"line\":{\"color\":\"#E5ECF6\",\"width\":0.5},\"pattern\":{\"fillmode\":\"overlay\",\"size\":10,\"solidity\":0.2}},\"type\":\"barpolar\"}],\"pie\":[{\"automargin\":true,\"type\":\"pie\"}]},\"layout\":{\"autotypenumbers\":\"strict\",\"colorway\":[\"#636efa\",\"#EF553B\",\"#00cc96\",\"#ab63fa\",\"#FFA15A\",\"#19d3f3\",\"#FF6692\",\"#B6E880\",\"#FF97FF\",\"#FECB52\"],\"font\":{\"color\":\"#2a3f5f\"},\"hovermode\":\"closest\",\"hoverlabel\":{\"align\":\"left\"},\"paper_bgcolor\":\"white\",\"plot_bgcolor\":\"#E5ECF6\",\"polar\":{\"bgcolor\":\"#E5ECF6\",\"angularaxis\":{\"gridcolor\":\"white\",\"linecolor\":\"white\",\"ticks\":\"\"},\"radialaxis\":{\"gridcolor\":\"white\",\"linecolor\":\"white\",\"ticks\":\"\"}},\"ternary\":{\"bgcolor\":\"#E5ECF6\",\"aaxis\":{\"gridcolor\":\"white\",\"linecolor\":\"white\",\"ticks\":\"\"},\"baxis\":{\"gridcolor\":\"white\",\"linecolor\":\"white\",\"ticks\":\"\"},\"caxis\":{\"gridcolor\":\"white\",\"linecolor\":\"white\",\"ticks\":\"\"}},\"coloraxis\":{\"colorbar\":{\"outlinewidth\":0,\"ticks\":\"\"}},\"colorscale\":{\"sequential\":[[0.0,\"#0d0887\"],[0.1111111111111111,\"#46039f\"],[0.2222222222222222,\"#7201a8\"],[0.3333333333333333,\"#9c179e\"],[0.4444444444444444,\"#bd3786\"],[0.5555555555555556,\"#d8576b\"],[0.6666666666666666,\"#ed7953\"],[0.7777777777777778,\"#fb9f3a\"],[0.8888888888888888,\"#fdca26\"],[1.0,\"#f0f921\"]],\"sequentialminus\":[[0.0,\"#0d0887\"],[0.1111111111111111,\"#46039f\"],[0.2222222222222222,\"#7201a8\"],[0.3333333333333333,\"#9c179e\"],[0.4444444444444444,\"#bd3786\"],[0.5555555555555556,\"#d8576b\"],[0.6666666666666666,\"#ed7953\"],[0.7777777777777778,\"#fb9f3a\"],[0.8888888888888888,\"#fdca26\"],[1.0,\"#f0f921\"]],\"diverging\":[[0,\"#8e0152\"],[0.1,\"#c51b7d\"],[0.2,\"#de77ae\"],[0.3,\"#f1b6da\"],[0.4,\"#fde0ef\"],[0.5,\"#f7f7f7\"],[0.6,\"#e6f5d0\"],[0.7,\"#b8e186\"],[0.8,\"#7fbc41\"],[0.9,\"#4d9221\"],[1,\"#276419\"]]},\"xaxis\":{\"gridcolor\":\"white\",\"linecolor\":\"white\",\"ticks\":\"\",\"title\":{\"standoff\":15},\"zerolinecolor\":\"white\",\"automargin\":true,\"zerolinewidth\":2},\"yaxis\":{\"gridcolor\":\"white\",\"linecolor\":\"white\",\"ticks\":\"\",\"title\":{\"standoff\":15},\"zerolinecolor\":\"white\",\"automargin\":true,\"zerolinewidth\":2},\"scene\":{\"xaxis\":{\"backgroundcolor\":\"#E5ECF6\",\"gridcolor\":\"white\",\"linecolor\":\"white\",\"showbackground\":true,\"ticks\":\"\",\"zerolinecolor\":\"white\",\"gridwidth\":2},\"yaxis\":{\"backgroundcolor\":\"#E5ECF6\",\"gridcolor\":\"white\",\"linecolor\":\"white\",\"showbackground\":true,\"ticks\":\"\",\"zerolinecolor\":\"white\",\"gridwidth\":2},\"zaxis\":{\"backgroundcolor\":\"#E5ECF6\",\"gridcolor\":\"white\",\"linecolor\":\"white\",\"showbackground\":true,\"ticks\":\"\",\"zerolinecolor\":\"white\",\"gridwidth\":2}},\"shapedefaults\":{\"line\":{\"color\":\"#2a3f5f\"}},\"annotationdefaults\":{\"arrowcolor\":\"#2a3f5f\",\"arrowhead\":0,\"arrowwidth\":1},\"geo\":{\"bgcolor\":\"white\",\"landcolor\":\"#E5ECF6\",\"subunitcolor\":\"white\",\"showland\":true,\"showlakes\":true,\"lakecolor\":\"white\"},\"title\":{\"x\":0.05},\"mapbox\":{\"style\":\"light\"}}}},                        {\"responsive\": true}                    ).then(function(){\n",
              "                            \n",
              "var gd = document.getElementById('4f517edf-ff7e-4537-ae2e-ca3e05042313');\n",
              "var x = new MutationObserver(function (mutations, observer) {{\n",
              "        var display = window.getComputedStyle(gd).display;\n",
              "        if (!display || display === 'none') {{\n",
              "            console.log([gd, 'removed!']);\n",
              "            Plotly.purge(gd);\n",
              "            observer.disconnect();\n",
              "        }}\n",
              "}});\n",
              "\n",
              "// Listen for the removal of the full notebook cells\n",
              "var notebookContainer = gd.closest('#notebook-container');\n",
              "if (notebookContainer) {{\n",
              "    x.observe(notebookContainer, {childList: true});\n",
              "}}\n",
              "\n",
              "// Listen for the clearing of the current output cell\n",
              "var outputEl = gd.closest('.output');\n",
              "if (outputEl) {{\n",
              "    x.observe(outputEl, {childList: true});\n",
              "}}\n",
              "\n",
              "                        })                };                            </script>        </div>\n",
              "</body>\n",
              "</html>"
            ]
          },
          "metadata": {}
        }
      ]
    },
    {
      "cell_type": "code",
      "source": [
        "# Generate Optuna parameter importance plot\n",
        "fig = optuna.visualization.plot_param_importances(study)\n",
        "fig.show()"
      ],
      "metadata": {
        "id": "RI875AzOgFMF",
        "colab": {
          "base_uri": "https://localhost:8080/",
          "height": 542
        },
        "outputId": "1668c974-f949-457e-b7de-7360b0fac095"
      },
      "execution_count": 28,
      "outputs": [
        {
          "output_type": "display_data",
          "data": {
            "text/html": [
              "<html>\n",
              "<head><meta charset=\"utf-8\" /></head>\n",
              "<body>\n",
              "    <div>            <script src=\"https://cdnjs.cloudflare.com/ajax/libs/mathjax/2.7.5/MathJax.js?config=TeX-AMS-MML_SVG\"></script><script type=\"text/javascript\">if (window.MathJax && window.MathJax.Hub && window.MathJax.Hub.Config) {window.MathJax.Hub.Config({SVG: {font: \"STIX-Web\"}});}</script>                <script type=\"text/javascript\">window.PlotlyConfig = {MathJaxConfig: 'local'};</script>\n",
              "        <script charset=\"utf-8\" src=\"https://cdn.plot.ly/plotly-2.24.1.min.js\"></script>                <div id=\"e3a765bb-49e8-4bcc-b62d-7b7854a268ec\" class=\"plotly-graph-div\" style=\"height:525px; width:100%;\"></div>            <script type=\"text/javascript\">                                    window.PLOTLYENV=window.PLOTLYENV || {};                                    if (document.getElementById(\"e3a765bb-49e8-4bcc-b62d-7b7854a268ec\")) {                    Plotly.newPlot(                        \"e3a765bb-49e8-4bcc-b62d-7b7854a268ec\",                        [{\"cliponaxis\":false,\"hovertemplate\":[\"num_layers (IntDistribution): 0.00029068262413383446\\u003cextra\\u003e\\u003c\\u002fextra\\u003e\",\"batch_size (CategoricalDistribution): 0.033255743222828815\\u003cextra\\u003e\\u003c\\u002fextra\\u003e\",\"units_0 (IntDistribution): 0.11342860421845624\\u003cextra\\u003e\\u003c\\u002fextra\\u003e\",\"learning_rate (FloatDistribution): 0.3903716668336178\\u003cextra\\u003e\\u003c\\u002fextra\\u003e\",\"dropout_0 (FloatDistribution): 0.46265330310096325\\u003cextra\\u003e\\u003c\\u002fextra\\u003e\"],\"name\":\"Objective Value\",\"orientation\":\"h\",\"text\":[\"\\u003c0.01\",\"0.03\",\"0.11\",\"0.39\",\"0.46\"],\"textposition\":\"outside\",\"x\":[0.00029068262413383446,0.033255743222828815,0.11342860421845624,0.3903716668336178,0.46265330310096325],\"y\":[\"num_layers\",\"batch_size\",\"units_0\",\"learning_rate\",\"dropout_0\"],\"type\":\"bar\"}],                        {\"title\":{\"text\":\"Hyperparameter Importances\"},\"xaxis\":{\"title\":{\"text\":\"Hyperparameter Importance\"}},\"yaxis\":{\"title\":{\"text\":\"Hyperparameter\"}},\"template\":{\"data\":{\"histogram2dcontour\":[{\"type\":\"histogram2dcontour\",\"colorbar\":{\"outlinewidth\":0,\"ticks\":\"\"},\"colorscale\":[[0.0,\"#0d0887\"],[0.1111111111111111,\"#46039f\"],[0.2222222222222222,\"#7201a8\"],[0.3333333333333333,\"#9c179e\"],[0.4444444444444444,\"#bd3786\"],[0.5555555555555556,\"#d8576b\"],[0.6666666666666666,\"#ed7953\"],[0.7777777777777778,\"#fb9f3a\"],[0.8888888888888888,\"#fdca26\"],[1.0,\"#f0f921\"]]}],\"choropleth\":[{\"type\":\"choropleth\",\"colorbar\":{\"outlinewidth\":0,\"ticks\":\"\"}}],\"histogram2d\":[{\"type\":\"histogram2d\",\"colorbar\":{\"outlinewidth\":0,\"ticks\":\"\"},\"colorscale\":[[0.0,\"#0d0887\"],[0.1111111111111111,\"#46039f\"],[0.2222222222222222,\"#7201a8\"],[0.3333333333333333,\"#9c179e\"],[0.4444444444444444,\"#bd3786\"],[0.5555555555555556,\"#d8576b\"],[0.6666666666666666,\"#ed7953\"],[0.7777777777777778,\"#fb9f3a\"],[0.8888888888888888,\"#fdca26\"],[1.0,\"#f0f921\"]]}],\"heatmap\":[{\"type\":\"heatmap\",\"colorbar\":{\"outlinewidth\":0,\"ticks\":\"\"},\"colorscale\":[[0.0,\"#0d0887\"],[0.1111111111111111,\"#46039f\"],[0.2222222222222222,\"#7201a8\"],[0.3333333333333333,\"#9c179e\"],[0.4444444444444444,\"#bd3786\"],[0.5555555555555556,\"#d8576b\"],[0.6666666666666666,\"#ed7953\"],[0.7777777777777778,\"#fb9f3a\"],[0.8888888888888888,\"#fdca26\"],[1.0,\"#f0f921\"]]}],\"heatmapgl\":[{\"type\":\"heatmapgl\",\"colorbar\":{\"outlinewidth\":0,\"ticks\":\"\"},\"colorscale\":[[0.0,\"#0d0887\"],[0.1111111111111111,\"#46039f\"],[0.2222222222222222,\"#7201a8\"],[0.3333333333333333,\"#9c179e\"],[0.4444444444444444,\"#bd3786\"],[0.5555555555555556,\"#d8576b\"],[0.6666666666666666,\"#ed7953\"],[0.7777777777777778,\"#fb9f3a\"],[0.8888888888888888,\"#fdca26\"],[1.0,\"#f0f921\"]]}],\"contourcarpet\":[{\"type\":\"contourcarpet\",\"colorbar\":{\"outlinewidth\":0,\"ticks\":\"\"}}],\"contour\":[{\"type\":\"contour\",\"colorbar\":{\"outlinewidth\":0,\"ticks\":\"\"},\"colorscale\":[[0.0,\"#0d0887\"],[0.1111111111111111,\"#46039f\"],[0.2222222222222222,\"#7201a8\"],[0.3333333333333333,\"#9c179e\"],[0.4444444444444444,\"#bd3786\"],[0.5555555555555556,\"#d8576b\"],[0.6666666666666666,\"#ed7953\"],[0.7777777777777778,\"#fb9f3a\"],[0.8888888888888888,\"#fdca26\"],[1.0,\"#f0f921\"]]}],\"surface\":[{\"type\":\"surface\",\"colorbar\":{\"outlinewidth\":0,\"ticks\":\"\"},\"colorscale\":[[0.0,\"#0d0887\"],[0.1111111111111111,\"#46039f\"],[0.2222222222222222,\"#7201a8\"],[0.3333333333333333,\"#9c179e\"],[0.4444444444444444,\"#bd3786\"],[0.5555555555555556,\"#d8576b\"],[0.6666666666666666,\"#ed7953\"],[0.7777777777777778,\"#fb9f3a\"],[0.8888888888888888,\"#fdca26\"],[1.0,\"#f0f921\"]]}],\"mesh3d\":[{\"type\":\"mesh3d\",\"colorbar\":{\"outlinewidth\":0,\"ticks\":\"\"}}],\"scatter\":[{\"fillpattern\":{\"fillmode\":\"overlay\",\"size\":10,\"solidity\":0.2},\"type\":\"scatter\"}],\"parcoords\":[{\"type\":\"parcoords\",\"line\":{\"colorbar\":{\"outlinewidth\":0,\"ticks\":\"\"}}}],\"scatterpolargl\":[{\"type\":\"scatterpolargl\",\"marker\":{\"colorbar\":{\"outlinewidth\":0,\"ticks\":\"\"}}}],\"bar\":[{\"error_x\":{\"color\":\"#2a3f5f\"},\"error_y\":{\"color\":\"#2a3f5f\"},\"marker\":{\"line\":{\"color\":\"#E5ECF6\",\"width\":0.5},\"pattern\":{\"fillmode\":\"overlay\",\"size\":10,\"solidity\":0.2}},\"type\":\"bar\"}],\"scattergeo\":[{\"type\":\"scattergeo\",\"marker\":{\"colorbar\":{\"outlinewidth\":0,\"ticks\":\"\"}}}],\"scatterpolar\":[{\"type\":\"scatterpolar\",\"marker\":{\"colorbar\":{\"outlinewidth\":0,\"ticks\":\"\"}}}],\"histogram\":[{\"marker\":{\"pattern\":{\"fillmode\":\"overlay\",\"size\":10,\"solidity\":0.2}},\"type\":\"histogram\"}],\"scattergl\":[{\"type\":\"scattergl\",\"marker\":{\"colorbar\":{\"outlinewidth\":0,\"ticks\":\"\"}}}],\"scatter3d\":[{\"type\":\"scatter3d\",\"line\":{\"colorbar\":{\"outlinewidth\":0,\"ticks\":\"\"}},\"marker\":{\"colorbar\":{\"outlinewidth\":0,\"ticks\":\"\"}}}],\"scattermapbox\":[{\"type\":\"scattermapbox\",\"marker\":{\"colorbar\":{\"outlinewidth\":0,\"ticks\":\"\"}}}],\"scatterternary\":[{\"type\":\"scatterternary\",\"marker\":{\"colorbar\":{\"outlinewidth\":0,\"ticks\":\"\"}}}],\"scattercarpet\":[{\"type\":\"scattercarpet\",\"marker\":{\"colorbar\":{\"outlinewidth\":0,\"ticks\":\"\"}}}],\"carpet\":[{\"aaxis\":{\"endlinecolor\":\"#2a3f5f\",\"gridcolor\":\"white\",\"linecolor\":\"white\",\"minorgridcolor\":\"white\",\"startlinecolor\":\"#2a3f5f\"},\"baxis\":{\"endlinecolor\":\"#2a3f5f\",\"gridcolor\":\"white\",\"linecolor\":\"white\",\"minorgridcolor\":\"white\",\"startlinecolor\":\"#2a3f5f\"},\"type\":\"carpet\"}],\"table\":[{\"cells\":{\"fill\":{\"color\":\"#EBF0F8\"},\"line\":{\"color\":\"white\"}},\"header\":{\"fill\":{\"color\":\"#C8D4E3\"},\"line\":{\"color\":\"white\"}},\"type\":\"table\"}],\"barpolar\":[{\"marker\":{\"line\":{\"color\":\"#E5ECF6\",\"width\":0.5},\"pattern\":{\"fillmode\":\"overlay\",\"size\":10,\"solidity\":0.2}},\"type\":\"barpolar\"}],\"pie\":[{\"automargin\":true,\"type\":\"pie\"}]},\"layout\":{\"autotypenumbers\":\"strict\",\"colorway\":[\"#636efa\",\"#EF553B\",\"#00cc96\",\"#ab63fa\",\"#FFA15A\",\"#19d3f3\",\"#FF6692\",\"#B6E880\",\"#FF97FF\",\"#FECB52\"],\"font\":{\"color\":\"#2a3f5f\"},\"hovermode\":\"closest\",\"hoverlabel\":{\"align\":\"left\"},\"paper_bgcolor\":\"white\",\"plot_bgcolor\":\"#E5ECF6\",\"polar\":{\"bgcolor\":\"#E5ECF6\",\"angularaxis\":{\"gridcolor\":\"white\",\"linecolor\":\"white\",\"ticks\":\"\"},\"radialaxis\":{\"gridcolor\":\"white\",\"linecolor\":\"white\",\"ticks\":\"\"}},\"ternary\":{\"bgcolor\":\"#E5ECF6\",\"aaxis\":{\"gridcolor\":\"white\",\"linecolor\":\"white\",\"ticks\":\"\"},\"baxis\":{\"gridcolor\":\"white\",\"linecolor\":\"white\",\"ticks\":\"\"},\"caxis\":{\"gridcolor\":\"white\",\"linecolor\":\"white\",\"ticks\":\"\"}},\"coloraxis\":{\"colorbar\":{\"outlinewidth\":0,\"ticks\":\"\"}},\"colorscale\":{\"sequential\":[[0.0,\"#0d0887\"],[0.1111111111111111,\"#46039f\"],[0.2222222222222222,\"#7201a8\"],[0.3333333333333333,\"#9c179e\"],[0.4444444444444444,\"#bd3786\"],[0.5555555555555556,\"#d8576b\"],[0.6666666666666666,\"#ed7953\"],[0.7777777777777778,\"#fb9f3a\"],[0.8888888888888888,\"#fdca26\"],[1.0,\"#f0f921\"]],\"sequentialminus\":[[0.0,\"#0d0887\"],[0.1111111111111111,\"#46039f\"],[0.2222222222222222,\"#7201a8\"],[0.3333333333333333,\"#9c179e\"],[0.4444444444444444,\"#bd3786\"],[0.5555555555555556,\"#d8576b\"],[0.6666666666666666,\"#ed7953\"],[0.7777777777777778,\"#fb9f3a\"],[0.8888888888888888,\"#fdca26\"],[1.0,\"#f0f921\"]],\"diverging\":[[0,\"#8e0152\"],[0.1,\"#c51b7d\"],[0.2,\"#de77ae\"],[0.3,\"#f1b6da\"],[0.4,\"#fde0ef\"],[0.5,\"#f7f7f7\"],[0.6,\"#e6f5d0\"],[0.7,\"#b8e186\"],[0.8,\"#7fbc41\"],[0.9,\"#4d9221\"],[1,\"#276419\"]]},\"xaxis\":{\"gridcolor\":\"white\",\"linecolor\":\"white\",\"ticks\":\"\",\"title\":{\"standoff\":15},\"zerolinecolor\":\"white\",\"automargin\":true,\"zerolinewidth\":2},\"yaxis\":{\"gridcolor\":\"white\",\"linecolor\":\"white\",\"ticks\":\"\",\"title\":{\"standoff\":15},\"zerolinecolor\":\"white\",\"automargin\":true,\"zerolinewidth\":2},\"scene\":{\"xaxis\":{\"backgroundcolor\":\"#E5ECF6\",\"gridcolor\":\"white\",\"linecolor\":\"white\",\"showbackground\":true,\"ticks\":\"\",\"zerolinecolor\":\"white\",\"gridwidth\":2},\"yaxis\":{\"backgroundcolor\":\"#E5ECF6\",\"gridcolor\":\"white\",\"linecolor\":\"white\",\"showbackground\":true,\"ticks\":\"\",\"zerolinecolor\":\"white\",\"gridwidth\":2},\"zaxis\":{\"backgroundcolor\":\"#E5ECF6\",\"gridcolor\":\"white\",\"linecolor\":\"white\",\"showbackground\":true,\"ticks\":\"\",\"zerolinecolor\":\"white\",\"gridwidth\":2}},\"shapedefaults\":{\"line\":{\"color\":\"#2a3f5f\"}},\"annotationdefaults\":{\"arrowcolor\":\"#2a3f5f\",\"arrowhead\":0,\"arrowwidth\":1},\"geo\":{\"bgcolor\":\"white\",\"landcolor\":\"#E5ECF6\",\"subunitcolor\":\"white\",\"showland\":true,\"showlakes\":true,\"lakecolor\":\"white\"},\"title\":{\"x\":0.05},\"mapbox\":{\"style\":\"light\"}}}},                        {\"responsive\": true}                    ).then(function(){\n",
              "                            \n",
              "var gd = document.getElementById('e3a765bb-49e8-4bcc-b62d-7b7854a268ec');\n",
              "var x = new MutationObserver(function (mutations, observer) {{\n",
              "        var display = window.getComputedStyle(gd).display;\n",
              "        if (!display || display === 'none') {{\n",
              "            console.log([gd, 'removed!']);\n",
              "            Plotly.purge(gd);\n",
              "            observer.disconnect();\n",
              "        }}\n",
              "}});\n",
              "\n",
              "// Listen for the removal of the full notebook cells\n",
              "var notebookContainer = gd.closest('#notebook-container');\n",
              "if (notebookContainer) {{\n",
              "    x.observe(notebookContainer, {childList: true});\n",
              "}}\n",
              "\n",
              "// Listen for the clearing of the current output cell\n",
              "var outputEl = gd.closest('.output');\n",
              "if (outputEl) {{\n",
              "    x.observe(outputEl, {childList: true});\n",
              "}}\n",
              "\n",
              "                        })                };                            </script>        </div>\n",
              "</body>\n",
              "</html>"
            ]
          },
          "metadata": {}
        }
      ]
    },
    {
      "cell_type": "code",
      "source": [
        "# Generate Optuna parameter importance plot\n",
        "fig = optuna.visualization.plot_contour(study, ['num_layers', 'units_0'])\n",
        "\n",
        "fig.show()"
      ],
      "metadata": {
        "colab": {
          "base_uri": "https://localhost:8080/",
          "height": 542
        },
        "id": "hVxKdjN37OeC",
        "outputId": "93bacad2-1aca-4665-8f9a-73f57c6df58e"
      },
      "execution_count": 29,
      "outputs": [
        {
          "output_type": "display_data",
          "data": {
            "text/html": [
              "<html>\n",
              "<head><meta charset=\"utf-8\" /></head>\n",
              "<body>\n",
              "    <div>            <script src=\"https://cdnjs.cloudflare.com/ajax/libs/mathjax/2.7.5/MathJax.js?config=TeX-AMS-MML_SVG\"></script><script type=\"text/javascript\">if (window.MathJax && window.MathJax.Hub && window.MathJax.Hub.Config) {window.MathJax.Hub.Config({SVG: {font: \"STIX-Web\"}});}</script>                <script type=\"text/javascript\">window.PlotlyConfig = {MathJaxConfig: 'local'};</script>\n",
              "        <script charset=\"utf-8\" src=\"https://cdn.plot.ly/plotly-2.24.1.min.js\"></script>                <div id=\"ec05a050-3550-4088-b7be-63e892f3914f\" class=\"plotly-graph-div\" style=\"height:525px; width:100%;\"></div>            <script type=\"text/javascript\">                                    window.PLOTLYENV=window.PLOTLYENV || {};                                    if (document.getElementById(\"ec05a050-3550-4088-b7be-63e892f3914f\")) {                    Plotly.newPlot(                        \"ec05a050-3550-4088-b7be-63e892f3914f\",                        [{\"colorbar\":{\"title\":{\"text\":\"Objective Value\"}},\"colorscale\":[[0.0,\"rgb(247,251,255)\"],[0.125,\"rgb(222,235,247)\"],[0.25,\"rgb(198,219,239)\"],[0.375,\"rgb(158,202,225)\"],[0.5,\"rgb(107,174,214)\"],[0.625,\"rgb(66,146,198)\"],[0.75,\"rgb(33,113,181)\"],[0.875,\"rgb(8,81,156)\"],[1.0,\"rgb(8,48,107)\"]],\"connectgaps\":true,\"contours\":{\"coloring\":\"heatmap\"},\"hoverinfo\":\"none\",\"line\":{\"smoothing\":1.3},\"reversescale\":true,\"x\":[0.95,1,2,2.05],\"y\":[147.4,152,161,164,165,169,175,183,184,187,188,195,196,205,209,213,220,229,238,244,248.6],\"z\":[[null,null,null,null],[null,null,0.0003863316960632801,null],[null,0.0006379237747751176,null,null],[null,0.0003462629101704806,null,null],[null,0.00043575334711931646,null,null],[null,null,0.011897306889295578,null],[null,null,0.0003653594176284969,null],[null,0.0004077852063346654,null,null],[null,null,0.02175934985280037,null],[null,null,0.000357677141437307,null],[null,null,0.0006960509927012026,null],[null,null,0.0003457668935880065,null],[null,null,0.0018687066622078419,null],[null,null,0.0004003633512184024,null],[null,null,0.0018604649230837822,null],[null,0.001917326240800321,null,null],[null,0.0017275817226618528,null,null],[null,0.05309110879898071,null,null],[null,0.0003392311045899987,null,null],[null,0.0013999699149280787,null,null],[null,null,null,null]],\"type\":\"contour\"},{\"marker\":{\"color\":\"black\",\"line\":{\"color\":\"Gray\",\"width\":2.0}},\"mode\":\"markers\",\"name\":\"Feasible Trial\",\"showlegend\":false,\"x\":[1,1,2,1,2,1,1,1,2,1,2,2,2,2,1,2,1,2,2,1],\"y\":[164,161,209,183,205,164,213,244,169,165,187,188,184,152,229,195,220,196,175,238],\"type\":\"scatter\"},{\"marker\":{\"color\":\"#cccccc\",\"line\":{\"color\":\"Gray\",\"width\":2.0}},\"mode\":\"markers\",\"name\":\"Infeasible Trial\",\"showlegend\":false,\"x\":[],\"y\":[],\"type\":\"scatter\"}],                        {\"title\":{\"text\":\"Contour Plot\"},\"template\":{\"data\":{\"histogram2dcontour\":[{\"type\":\"histogram2dcontour\",\"colorbar\":{\"outlinewidth\":0,\"ticks\":\"\"},\"colorscale\":[[0.0,\"#0d0887\"],[0.1111111111111111,\"#46039f\"],[0.2222222222222222,\"#7201a8\"],[0.3333333333333333,\"#9c179e\"],[0.4444444444444444,\"#bd3786\"],[0.5555555555555556,\"#d8576b\"],[0.6666666666666666,\"#ed7953\"],[0.7777777777777778,\"#fb9f3a\"],[0.8888888888888888,\"#fdca26\"],[1.0,\"#f0f921\"]]}],\"choropleth\":[{\"type\":\"choropleth\",\"colorbar\":{\"outlinewidth\":0,\"ticks\":\"\"}}],\"histogram2d\":[{\"type\":\"histogram2d\",\"colorbar\":{\"outlinewidth\":0,\"ticks\":\"\"},\"colorscale\":[[0.0,\"#0d0887\"],[0.1111111111111111,\"#46039f\"],[0.2222222222222222,\"#7201a8\"],[0.3333333333333333,\"#9c179e\"],[0.4444444444444444,\"#bd3786\"],[0.5555555555555556,\"#d8576b\"],[0.6666666666666666,\"#ed7953\"],[0.7777777777777778,\"#fb9f3a\"],[0.8888888888888888,\"#fdca26\"],[1.0,\"#f0f921\"]]}],\"heatmap\":[{\"type\":\"heatmap\",\"colorbar\":{\"outlinewidth\":0,\"ticks\":\"\"},\"colorscale\":[[0.0,\"#0d0887\"],[0.1111111111111111,\"#46039f\"],[0.2222222222222222,\"#7201a8\"],[0.3333333333333333,\"#9c179e\"],[0.4444444444444444,\"#bd3786\"],[0.5555555555555556,\"#d8576b\"],[0.6666666666666666,\"#ed7953\"],[0.7777777777777778,\"#fb9f3a\"],[0.8888888888888888,\"#fdca26\"],[1.0,\"#f0f921\"]]}],\"heatmapgl\":[{\"type\":\"heatmapgl\",\"colorbar\":{\"outlinewidth\":0,\"ticks\":\"\"},\"colorscale\":[[0.0,\"#0d0887\"],[0.1111111111111111,\"#46039f\"],[0.2222222222222222,\"#7201a8\"],[0.3333333333333333,\"#9c179e\"],[0.4444444444444444,\"#bd3786\"],[0.5555555555555556,\"#d8576b\"],[0.6666666666666666,\"#ed7953\"],[0.7777777777777778,\"#fb9f3a\"],[0.8888888888888888,\"#fdca26\"],[1.0,\"#f0f921\"]]}],\"contourcarpet\":[{\"type\":\"contourcarpet\",\"colorbar\":{\"outlinewidth\":0,\"ticks\":\"\"}}],\"contour\":[{\"type\":\"contour\",\"colorbar\":{\"outlinewidth\":0,\"ticks\":\"\"},\"colorscale\":[[0.0,\"#0d0887\"],[0.1111111111111111,\"#46039f\"],[0.2222222222222222,\"#7201a8\"],[0.3333333333333333,\"#9c179e\"],[0.4444444444444444,\"#bd3786\"],[0.5555555555555556,\"#d8576b\"],[0.6666666666666666,\"#ed7953\"],[0.7777777777777778,\"#fb9f3a\"],[0.8888888888888888,\"#fdca26\"],[1.0,\"#f0f921\"]]}],\"surface\":[{\"type\":\"surface\",\"colorbar\":{\"outlinewidth\":0,\"ticks\":\"\"},\"colorscale\":[[0.0,\"#0d0887\"],[0.1111111111111111,\"#46039f\"],[0.2222222222222222,\"#7201a8\"],[0.3333333333333333,\"#9c179e\"],[0.4444444444444444,\"#bd3786\"],[0.5555555555555556,\"#d8576b\"],[0.6666666666666666,\"#ed7953\"],[0.7777777777777778,\"#fb9f3a\"],[0.8888888888888888,\"#fdca26\"],[1.0,\"#f0f921\"]]}],\"mesh3d\":[{\"type\":\"mesh3d\",\"colorbar\":{\"outlinewidth\":0,\"ticks\":\"\"}}],\"scatter\":[{\"fillpattern\":{\"fillmode\":\"overlay\",\"size\":10,\"solidity\":0.2},\"type\":\"scatter\"}],\"parcoords\":[{\"type\":\"parcoords\",\"line\":{\"colorbar\":{\"outlinewidth\":0,\"ticks\":\"\"}}}],\"scatterpolargl\":[{\"type\":\"scatterpolargl\",\"marker\":{\"colorbar\":{\"outlinewidth\":0,\"ticks\":\"\"}}}],\"bar\":[{\"error_x\":{\"color\":\"#2a3f5f\"},\"error_y\":{\"color\":\"#2a3f5f\"},\"marker\":{\"line\":{\"color\":\"#E5ECF6\",\"width\":0.5},\"pattern\":{\"fillmode\":\"overlay\",\"size\":10,\"solidity\":0.2}},\"type\":\"bar\"}],\"scattergeo\":[{\"type\":\"scattergeo\",\"marker\":{\"colorbar\":{\"outlinewidth\":0,\"ticks\":\"\"}}}],\"scatterpolar\":[{\"type\":\"scatterpolar\",\"marker\":{\"colorbar\":{\"outlinewidth\":0,\"ticks\":\"\"}}}],\"histogram\":[{\"marker\":{\"pattern\":{\"fillmode\":\"overlay\",\"size\":10,\"solidity\":0.2}},\"type\":\"histogram\"}],\"scattergl\":[{\"type\":\"scattergl\",\"marker\":{\"colorbar\":{\"outlinewidth\":0,\"ticks\":\"\"}}}],\"scatter3d\":[{\"type\":\"scatter3d\",\"line\":{\"colorbar\":{\"outlinewidth\":0,\"ticks\":\"\"}},\"marker\":{\"colorbar\":{\"outlinewidth\":0,\"ticks\":\"\"}}}],\"scattermapbox\":[{\"type\":\"scattermapbox\",\"marker\":{\"colorbar\":{\"outlinewidth\":0,\"ticks\":\"\"}}}],\"scatterternary\":[{\"type\":\"scatterternary\",\"marker\":{\"colorbar\":{\"outlinewidth\":0,\"ticks\":\"\"}}}],\"scattercarpet\":[{\"type\":\"scattercarpet\",\"marker\":{\"colorbar\":{\"outlinewidth\":0,\"ticks\":\"\"}}}],\"carpet\":[{\"aaxis\":{\"endlinecolor\":\"#2a3f5f\",\"gridcolor\":\"white\",\"linecolor\":\"white\",\"minorgridcolor\":\"white\",\"startlinecolor\":\"#2a3f5f\"},\"baxis\":{\"endlinecolor\":\"#2a3f5f\",\"gridcolor\":\"white\",\"linecolor\":\"white\",\"minorgridcolor\":\"white\",\"startlinecolor\":\"#2a3f5f\"},\"type\":\"carpet\"}],\"table\":[{\"cells\":{\"fill\":{\"color\":\"#EBF0F8\"},\"line\":{\"color\":\"white\"}},\"header\":{\"fill\":{\"color\":\"#C8D4E3\"},\"line\":{\"color\":\"white\"}},\"type\":\"table\"}],\"barpolar\":[{\"marker\":{\"line\":{\"color\":\"#E5ECF6\",\"width\":0.5},\"pattern\":{\"fillmode\":\"overlay\",\"size\":10,\"solidity\":0.2}},\"type\":\"barpolar\"}],\"pie\":[{\"automargin\":true,\"type\":\"pie\"}]},\"layout\":{\"autotypenumbers\":\"strict\",\"colorway\":[\"#636efa\",\"#EF553B\",\"#00cc96\",\"#ab63fa\",\"#FFA15A\",\"#19d3f3\",\"#FF6692\",\"#B6E880\",\"#FF97FF\",\"#FECB52\"],\"font\":{\"color\":\"#2a3f5f\"},\"hovermode\":\"closest\",\"hoverlabel\":{\"align\":\"left\"},\"paper_bgcolor\":\"white\",\"plot_bgcolor\":\"#E5ECF6\",\"polar\":{\"bgcolor\":\"#E5ECF6\",\"angularaxis\":{\"gridcolor\":\"white\",\"linecolor\":\"white\",\"ticks\":\"\"},\"radialaxis\":{\"gridcolor\":\"white\",\"linecolor\":\"white\",\"ticks\":\"\"}},\"ternary\":{\"bgcolor\":\"#E5ECF6\",\"aaxis\":{\"gridcolor\":\"white\",\"linecolor\":\"white\",\"ticks\":\"\"},\"baxis\":{\"gridcolor\":\"white\",\"linecolor\":\"white\",\"ticks\":\"\"},\"caxis\":{\"gridcolor\":\"white\",\"linecolor\":\"white\",\"ticks\":\"\"}},\"coloraxis\":{\"colorbar\":{\"outlinewidth\":0,\"ticks\":\"\"}},\"colorscale\":{\"sequential\":[[0.0,\"#0d0887\"],[0.1111111111111111,\"#46039f\"],[0.2222222222222222,\"#7201a8\"],[0.3333333333333333,\"#9c179e\"],[0.4444444444444444,\"#bd3786\"],[0.5555555555555556,\"#d8576b\"],[0.6666666666666666,\"#ed7953\"],[0.7777777777777778,\"#fb9f3a\"],[0.8888888888888888,\"#fdca26\"],[1.0,\"#f0f921\"]],\"sequentialminus\":[[0.0,\"#0d0887\"],[0.1111111111111111,\"#46039f\"],[0.2222222222222222,\"#7201a8\"],[0.3333333333333333,\"#9c179e\"],[0.4444444444444444,\"#bd3786\"],[0.5555555555555556,\"#d8576b\"],[0.6666666666666666,\"#ed7953\"],[0.7777777777777778,\"#fb9f3a\"],[0.8888888888888888,\"#fdca26\"],[1.0,\"#f0f921\"]],\"diverging\":[[0,\"#8e0152\"],[0.1,\"#c51b7d\"],[0.2,\"#de77ae\"],[0.3,\"#f1b6da\"],[0.4,\"#fde0ef\"],[0.5,\"#f7f7f7\"],[0.6,\"#e6f5d0\"],[0.7,\"#b8e186\"],[0.8,\"#7fbc41\"],[0.9,\"#4d9221\"],[1,\"#276419\"]]},\"xaxis\":{\"gridcolor\":\"white\",\"linecolor\":\"white\",\"ticks\":\"\",\"title\":{\"standoff\":15},\"zerolinecolor\":\"white\",\"automargin\":true,\"zerolinewidth\":2},\"yaxis\":{\"gridcolor\":\"white\",\"linecolor\":\"white\",\"ticks\":\"\",\"title\":{\"standoff\":15},\"zerolinecolor\":\"white\",\"automargin\":true,\"zerolinewidth\":2},\"scene\":{\"xaxis\":{\"backgroundcolor\":\"#E5ECF6\",\"gridcolor\":\"white\",\"linecolor\":\"white\",\"showbackground\":true,\"ticks\":\"\",\"zerolinecolor\":\"white\",\"gridwidth\":2},\"yaxis\":{\"backgroundcolor\":\"#E5ECF6\",\"gridcolor\":\"white\",\"linecolor\":\"white\",\"showbackground\":true,\"ticks\":\"\",\"zerolinecolor\":\"white\",\"gridwidth\":2},\"zaxis\":{\"backgroundcolor\":\"#E5ECF6\",\"gridcolor\":\"white\",\"linecolor\":\"white\",\"showbackground\":true,\"ticks\":\"\",\"zerolinecolor\":\"white\",\"gridwidth\":2}},\"shapedefaults\":{\"line\":{\"color\":\"#2a3f5f\"}},\"annotationdefaults\":{\"arrowcolor\":\"#2a3f5f\",\"arrowhead\":0,\"arrowwidth\":1},\"geo\":{\"bgcolor\":\"white\",\"landcolor\":\"#E5ECF6\",\"subunitcolor\":\"white\",\"showland\":true,\"showlakes\":true,\"lakecolor\":\"white\"},\"title\":{\"x\":0.05},\"mapbox\":{\"style\":\"light\"}}},\"xaxis\":{\"title\":{\"text\":\"num_layers\"},\"range\":[0.95,2.05]},\"yaxis\":{\"title\":{\"text\":\"units_0\"},\"range\":[147.4,248.6]}},                        {\"responsive\": true}                    ).then(function(){\n",
              "                            \n",
              "var gd = document.getElementById('ec05a050-3550-4088-b7be-63e892f3914f');\n",
              "var x = new MutationObserver(function (mutations, observer) {{\n",
              "        var display = window.getComputedStyle(gd).display;\n",
              "        if (!display || display === 'none') {{\n",
              "            console.log([gd, 'removed!']);\n",
              "            Plotly.purge(gd);\n",
              "            observer.disconnect();\n",
              "        }}\n",
              "}});\n",
              "\n",
              "// Listen for the removal of the full notebook cells\n",
              "var notebookContainer = gd.closest('#notebook-container');\n",
              "if (notebookContainer) {{\n",
              "    x.observe(notebookContainer, {childList: true});\n",
              "}}\n",
              "\n",
              "// Listen for the clearing of the current output cell\n",
              "var outputEl = gd.closest('.output');\n",
              "if (outputEl) {{\n",
              "    x.observe(outputEl, {childList: true});\n",
              "}}\n",
              "\n",
              "                        })                };                            </script>        </div>\n",
              "</body>\n",
              "</html>"
            ]
          },
          "metadata": {}
        }
      ]
    },
    {
      "cell_type": "code",
      "source": [],
      "metadata": {
        "id": "f7f5i9cVM0Tt"
      },
      "execution_count": 29,
      "outputs": []
    },
    {
      "cell_type": "code",
      "source": [],
      "metadata": {
        "id": "mQGSM-v8M0RF"
      },
      "execution_count": 29,
      "outputs": []
    },
    {
      "cell_type": "code",
      "source": [],
      "metadata": {
        "id": "-aUU4UZNM0OZ"
      },
      "execution_count": 29,
      "outputs": []
    }
  ]
}